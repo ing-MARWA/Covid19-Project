{
  "cells": [
    {
      "cell_type": "code",
      "execution_count": 1,
      "metadata": {
        "id": "9RwV5cXcmwYQ"
      },
      "outputs": [],
      "source": [
        "# importing libraries\n",
        "import numpy as np\n",
        "import pandas as pd\n",
        "import matplotlib.pyplot as plt\n",
        "import seaborn as sns\n",
        "import plotly.express as px"
      ]
    },
    {
      "cell_type": "code",
      "execution_count": 2,
      "metadata": {
        "id": "uU5cVbaQmwYS"
      },
      "outputs": [],
      "source": [
        "# Read The Basic Files into DataFrames and then Start Dealing with Each file\n",
        "country_wise_latest = pd.read_csv('country_wise_latest.csv')\n",
        "day_wise = pd.read_csv('day_wise.csv')\n",
        "covid_19_clean_complete = pd.read_csv('covid_19_clean_complete.csv')\n",
        "full_grouped = pd.read_csv('full_grouped.csv')\n",
        "worldometer_data = pd.read_csv('worldometer_data.csv')"
      ]
    },
    {
      "cell_type": "code",
      "execution_count": 3,
      "metadata": {
        "colab": {
          "base_uri": "https://localhost:8080/",
          "height": 322
        },
        "id": "h5yE_cKMmwYT",
        "outputId": "3e73cc4a-eaa2-4d8d-9f64-20cc420d5297"
      },
      "outputs": [
        {
          "data": {
            "text/html": [
              "<div>\n",
              "<style scoped>\n",
              "    .dataframe tbody tr th:only-of-type {\n",
              "        vertical-align: middle;\n",
              "    }\n",
              "\n",
              "    .dataframe tbody tr th {\n",
              "        vertical-align: top;\n",
              "    }\n",
              "\n",
              "    .dataframe thead th {\n",
              "        text-align: right;\n",
              "    }\n",
              "</style>\n",
              "<table border=\"1\" class=\"dataframe\">\n",
              "  <thead>\n",
              "    <tr style=\"text-align: right;\">\n",
              "      <th></th>\n",
              "      <th>Country/Region</th>\n",
              "      <th>Confirmed</th>\n",
              "      <th>Deaths</th>\n",
              "      <th>Recovered</th>\n",
              "      <th>Active</th>\n",
              "      <th>New cases</th>\n",
              "      <th>New deaths</th>\n",
              "      <th>New recovered</th>\n",
              "      <th>Deaths / 100 Cases</th>\n",
              "      <th>Recovered / 100 Cases</th>\n",
              "      <th>Deaths / 100 Recovered</th>\n",
              "      <th>Confirmed last week</th>\n",
              "      <th>1 week change</th>\n",
              "      <th>1 week % increase</th>\n",
              "      <th>WHO Region</th>\n",
              "    </tr>\n",
              "  </thead>\n",
              "  <tbody>\n",
              "    <tr>\n",
              "      <th>0</th>\n",
              "      <td>Afghanistan</td>\n",
              "      <td>36263</td>\n",
              "      <td>1269</td>\n",
              "      <td>25198</td>\n",
              "      <td>9796</td>\n",
              "      <td>106</td>\n",
              "      <td>10</td>\n",
              "      <td>18</td>\n",
              "      <td>3.50</td>\n",
              "      <td>69.49</td>\n",
              "      <td>5.04</td>\n",
              "      <td>35526</td>\n",
              "      <td>737</td>\n",
              "      <td>2.07</td>\n",
              "      <td>Eastern Mediterranean</td>\n",
              "    </tr>\n",
              "    <tr>\n",
              "      <th>1</th>\n",
              "      <td>Albania</td>\n",
              "      <td>4880</td>\n",
              "      <td>144</td>\n",
              "      <td>2745</td>\n",
              "      <td>1991</td>\n",
              "      <td>117</td>\n",
              "      <td>6</td>\n",
              "      <td>63</td>\n",
              "      <td>2.95</td>\n",
              "      <td>56.25</td>\n",
              "      <td>5.25</td>\n",
              "      <td>4171</td>\n",
              "      <td>709</td>\n",
              "      <td>17.00</td>\n",
              "      <td>Europe</td>\n",
              "    </tr>\n",
              "    <tr>\n",
              "      <th>2</th>\n",
              "      <td>Algeria</td>\n",
              "      <td>27973</td>\n",
              "      <td>1163</td>\n",
              "      <td>18837</td>\n",
              "      <td>7973</td>\n",
              "      <td>616</td>\n",
              "      <td>8</td>\n",
              "      <td>749</td>\n",
              "      <td>4.16</td>\n",
              "      <td>67.34</td>\n",
              "      <td>6.17</td>\n",
              "      <td>23691</td>\n",
              "      <td>4282</td>\n",
              "      <td>18.07</td>\n",
              "      <td>Africa</td>\n",
              "    </tr>\n",
              "    <tr>\n",
              "      <th>3</th>\n",
              "      <td>Andorra</td>\n",
              "      <td>907</td>\n",
              "      <td>52</td>\n",
              "      <td>803</td>\n",
              "      <td>52</td>\n",
              "      <td>10</td>\n",
              "      <td>0</td>\n",
              "      <td>0</td>\n",
              "      <td>5.73</td>\n",
              "      <td>88.53</td>\n",
              "      <td>6.48</td>\n",
              "      <td>884</td>\n",
              "      <td>23</td>\n",
              "      <td>2.60</td>\n",
              "      <td>Europe</td>\n",
              "    </tr>\n",
              "    <tr>\n",
              "      <th>4</th>\n",
              "      <td>Angola</td>\n",
              "      <td>950</td>\n",
              "      <td>41</td>\n",
              "      <td>242</td>\n",
              "      <td>667</td>\n",
              "      <td>18</td>\n",
              "      <td>1</td>\n",
              "      <td>0</td>\n",
              "      <td>4.32</td>\n",
              "      <td>25.47</td>\n",
              "      <td>16.94</td>\n",
              "      <td>749</td>\n",
              "      <td>201</td>\n",
              "      <td>26.84</td>\n",
              "      <td>Africa</td>\n",
              "    </tr>\n",
              "  </tbody>\n",
              "</table>\n",
              "</div>"
            ],
            "text/plain": [
              "  Country/Region  Confirmed  Deaths  Recovered  Active  New cases  New deaths   \n",
              "0    Afghanistan      36263    1269      25198    9796        106          10  \\\n",
              "1        Albania       4880     144       2745    1991        117           6   \n",
              "2        Algeria      27973    1163      18837    7973        616           8   \n",
              "3        Andorra        907      52        803      52         10           0   \n",
              "4         Angola        950      41        242     667         18           1   \n",
              "\n",
              "   New recovered  Deaths / 100 Cases  Recovered / 100 Cases   \n",
              "0             18                3.50                  69.49  \\\n",
              "1             63                2.95                  56.25   \n",
              "2            749                4.16                  67.34   \n",
              "3              0                5.73                  88.53   \n",
              "4              0                4.32                  25.47   \n",
              "\n",
              "   Deaths / 100 Recovered  Confirmed last week  1 week change   \n",
              "0                    5.04                35526            737  \\\n",
              "1                    5.25                 4171            709   \n",
              "2                    6.17                23691           4282   \n",
              "3                    6.48                  884             23   \n",
              "4                   16.94                  749            201   \n",
              "\n",
              "   1 week % increase             WHO Region  \n",
              "0               2.07  Eastern Mediterranean  \n",
              "1              17.00                 Europe  \n",
              "2              18.07                 Africa  \n",
              "3               2.60                 Europe  \n",
              "4              26.84                 Africa  "
            ]
          },
          "execution_count": 3,
          "metadata": {},
          "output_type": "execute_result"
        }
      ],
      "source": [
        "# First File Provide Data withr respect to each country\n",
        "country_wise_latest.head()"
      ]
    },
    {
      "cell_type": "code",
      "execution_count": 4,
      "metadata": {
        "colab": {
          "base_uri": "https://localhost:8080/"
        },
        "id": "iy6u8ppjmwYT",
        "outputId": "2c485bce-1a0b-4e64-b781-05a512fe7789"
      },
      "outputs": [
        {
          "name": "stdout",
          "output_type": "stream",
          "text": [
            "<class 'pandas.core.frame.DataFrame'>\n",
            "RangeIndex: 187 entries, 0 to 186\n",
            "Data columns (total 15 columns):\n",
            " #   Column                  Non-Null Count  Dtype  \n",
            "---  ------                  --------------  -----  \n",
            " 0   Country/Region          187 non-null    object \n",
            " 1   Confirmed               187 non-null    int64  \n",
            " 2   Deaths                  187 non-null    int64  \n",
            " 3   Recovered               187 non-null    int64  \n",
            " 4   Active                  187 non-null    int64  \n",
            " 5   New cases               187 non-null    int64  \n",
            " 6   New deaths              187 non-null    int64  \n",
            " 7   New recovered           187 non-null    int64  \n",
            " 8   Deaths / 100 Cases      187 non-null    float64\n",
            " 9   Recovered / 100 Cases   187 non-null    float64\n",
            " 10  Deaths / 100 Recovered  187 non-null    float64\n",
            " 11  Confirmed last week     187 non-null    int64  \n",
            " 12  1 week change           187 non-null    int64  \n",
            " 13  1 week % increase       187 non-null    float64\n",
            " 14  WHO Region              187 non-null    object \n",
            "dtypes: float64(4), int64(9), object(2)\n",
            "memory usage: 22.0+ KB\n"
          ]
        }
      ],
      "source": [
        "country_wise_latest.info()\n",
        "# seeing that the data has no missing values and are ready for the next step"
      ]
    },
    {
      "cell_type": "code",
      "execution_count": 5,
      "metadata": {
        "colab": {
          "base_uri": "https://localhost:8080/",
          "height": 354
        },
        "id": "hI0ZNYGxmwYU",
        "outputId": "0e11b267-8d19-4b91-c818-3f83bdc35c63"
      },
      "outputs": [
        {
          "data": {
            "text/html": [
              "<div>\n",
              "<style scoped>\n",
              "    .dataframe tbody tr th:only-of-type {\n",
              "        vertical-align: middle;\n",
              "    }\n",
              "\n",
              "    .dataframe tbody tr th {\n",
              "        vertical-align: top;\n",
              "    }\n",
              "\n",
              "    .dataframe thead th {\n",
              "        text-align: right;\n",
              "    }\n",
              "</style>\n",
              "<table border=\"1\" class=\"dataframe\">\n",
              "  <thead>\n",
              "    <tr style=\"text-align: right;\">\n",
              "      <th></th>\n",
              "      <th>Date</th>\n",
              "      <th>Confirmed</th>\n",
              "      <th>Deaths</th>\n",
              "      <th>Recovered</th>\n",
              "      <th>Active</th>\n",
              "      <th>New cases</th>\n",
              "      <th>New deaths</th>\n",
              "      <th>New recovered</th>\n",
              "      <th>Deaths / 100 Cases</th>\n",
              "      <th>Recovered / 100 Cases</th>\n",
              "      <th>Deaths / 100 Recovered</th>\n",
              "      <th>No. of countries</th>\n",
              "    </tr>\n",
              "  </thead>\n",
              "  <tbody>\n",
              "    <tr>\n",
              "      <th>0</th>\n",
              "      <td>2020-01-22</td>\n",
              "      <td>555</td>\n",
              "      <td>17</td>\n",
              "      <td>28</td>\n",
              "      <td>510</td>\n",
              "      <td>0</td>\n",
              "      <td>0</td>\n",
              "      <td>0</td>\n",
              "      <td>3.06</td>\n",
              "      <td>5.05</td>\n",
              "      <td>60.71</td>\n",
              "      <td>6</td>\n",
              "    </tr>\n",
              "    <tr>\n",
              "      <th>1</th>\n",
              "      <td>2020-01-23</td>\n",
              "      <td>654</td>\n",
              "      <td>18</td>\n",
              "      <td>30</td>\n",
              "      <td>606</td>\n",
              "      <td>99</td>\n",
              "      <td>1</td>\n",
              "      <td>2</td>\n",
              "      <td>2.75</td>\n",
              "      <td>4.59</td>\n",
              "      <td>60.00</td>\n",
              "      <td>8</td>\n",
              "    </tr>\n",
              "    <tr>\n",
              "      <th>2</th>\n",
              "      <td>2020-01-24</td>\n",
              "      <td>941</td>\n",
              "      <td>26</td>\n",
              "      <td>36</td>\n",
              "      <td>879</td>\n",
              "      <td>287</td>\n",
              "      <td>8</td>\n",
              "      <td>6</td>\n",
              "      <td>2.76</td>\n",
              "      <td>3.83</td>\n",
              "      <td>72.22</td>\n",
              "      <td>9</td>\n",
              "    </tr>\n",
              "    <tr>\n",
              "      <th>3</th>\n",
              "      <td>2020-01-25</td>\n",
              "      <td>1434</td>\n",
              "      <td>42</td>\n",
              "      <td>39</td>\n",
              "      <td>1353</td>\n",
              "      <td>493</td>\n",
              "      <td>16</td>\n",
              "      <td>3</td>\n",
              "      <td>2.93</td>\n",
              "      <td>2.72</td>\n",
              "      <td>107.69</td>\n",
              "      <td>11</td>\n",
              "    </tr>\n",
              "    <tr>\n",
              "      <th>4</th>\n",
              "      <td>2020-01-26</td>\n",
              "      <td>2118</td>\n",
              "      <td>56</td>\n",
              "      <td>52</td>\n",
              "      <td>2010</td>\n",
              "      <td>684</td>\n",
              "      <td>14</td>\n",
              "      <td>13</td>\n",
              "      <td>2.64</td>\n",
              "      <td>2.46</td>\n",
              "      <td>107.69</td>\n",
              "      <td>13</td>\n",
              "    </tr>\n",
              "  </tbody>\n",
              "</table>\n",
              "</div>"
            ],
            "text/plain": [
              "         Date  Confirmed  Deaths  Recovered  Active  New cases  New deaths   \n",
              "0  2020-01-22        555      17         28     510          0           0  \\\n",
              "1  2020-01-23        654      18         30     606         99           1   \n",
              "2  2020-01-24        941      26         36     879        287           8   \n",
              "3  2020-01-25       1434      42         39    1353        493          16   \n",
              "4  2020-01-26       2118      56         52    2010        684          14   \n",
              "\n",
              "   New recovered  Deaths / 100 Cases  Recovered / 100 Cases   \n",
              "0              0                3.06                   5.05  \\\n",
              "1              2                2.75                   4.59   \n",
              "2              6                2.76                   3.83   \n",
              "3              3                2.93                   2.72   \n",
              "4             13                2.64                   2.46   \n",
              "\n",
              "   Deaths / 100 Recovered  No. of countries  \n",
              "0                   60.71                 6  \n",
              "1                   60.00                 8  \n",
              "2                   72.22                 9  \n",
              "3                  107.69                11  \n",
              "4                  107.69                13  "
            ]
          },
          "execution_count": 5,
          "metadata": {},
          "output_type": "execute_result"
        }
      ],
      "source": [
        "# Second File Provide Data withr respect to each day \n",
        "day_wise.head()"
      ]
    },
    {
      "cell_type": "code",
      "execution_count": 6,
      "metadata": {
        "colab": {
          "base_uri": "https://localhost:8080/"
        },
        "id": "y4EIzYg6mwYU",
        "outputId": "21a5b7df-2342-4147-a3b3-29147b0d4750"
      },
      "outputs": [
        {
          "name": "stdout",
          "output_type": "stream",
          "text": [
            "<class 'pandas.core.frame.DataFrame'>\n",
            "RangeIndex: 188 entries, 0 to 187\n",
            "Data columns (total 12 columns):\n",
            " #   Column                  Non-Null Count  Dtype  \n",
            "---  ------                  --------------  -----  \n",
            " 0   Date                    188 non-null    object \n",
            " 1   Confirmed               188 non-null    int64  \n",
            " 2   Deaths                  188 non-null    int64  \n",
            " 3   Recovered               188 non-null    int64  \n",
            " 4   Active                  188 non-null    int64  \n",
            " 5   New cases               188 non-null    int64  \n",
            " 6   New deaths              188 non-null    int64  \n",
            " 7   New recovered           188 non-null    int64  \n",
            " 8   Deaths / 100 Cases      188 non-null    float64\n",
            " 9   Recovered / 100 Cases   188 non-null    float64\n",
            " 10  Deaths / 100 Recovered  188 non-null    float64\n",
            " 11  No. of countries        188 non-null    int64  \n",
            "dtypes: float64(3), int64(8), object(1)\n",
            "memory usage: 17.8+ KB\n"
          ]
        }
      ],
      "source": [
        "day_wise.info()\n",
        "# Second File also has No Missing Values and is Ready"
      ]
    },
    {
      "cell_type": "code",
      "execution_count": 7,
      "metadata": {
        "colab": {
          "base_uri": "https://localhost:8080/"
        },
        "id": "XbI7vafimwYU",
        "outputId": "6bfb074c-87f5-4fb1-fe39-d12bdec34d25"
      },
      "outputs": [
        {
          "name": "stdout",
          "output_type": "stream",
          "text": [
            "Data Starts from : 2020-01-22 00:00:00\n",
            "Data ends at : 2020-07-27 00:00:00\n",
            "Data Period is  : 187 days 00:00:00\n"
          ]
        }
      ],
      "source": [
        "# Exploring More about the Period of Data\n",
        "day_wise['Date']=pd.to_datetime(day_wise['Date'])\n",
        "start_date = day_wise['Date'].min()\n",
        "end_date = day_wise['Date'].max()\n",
        "Period = end_date - start_date\n",
        "print(f'Data Starts from : {start_date}')\n",
        "print(f'Data ends at : {end_date}')\n",
        "print(f'Data Period is  : {Period}')"
      ]
    },
    {
      "cell_type": "code",
      "execution_count": 8,
      "metadata": {
        "colab": {
          "base_uri": "https://localhost:8080/",
          "height": 206
        },
        "id": "yfbt9wfumwYV",
        "outputId": "55918cb8-a237-4487-d6ed-9c52068859b6"
      },
      "outputs": [
        {
          "data": {
            "text/html": [
              "<div>\n",
              "<style scoped>\n",
              "    .dataframe tbody tr th:only-of-type {\n",
              "        vertical-align: middle;\n",
              "    }\n",
              "\n",
              "    .dataframe tbody tr th {\n",
              "        vertical-align: top;\n",
              "    }\n",
              "\n",
              "    .dataframe thead th {\n",
              "        text-align: right;\n",
              "    }\n",
              "</style>\n",
              "<table border=\"1\" class=\"dataframe\">\n",
              "  <thead>\n",
              "    <tr style=\"text-align: right;\">\n",
              "      <th></th>\n",
              "      <th>Province/State</th>\n",
              "      <th>Country/Region</th>\n",
              "      <th>Lat</th>\n",
              "      <th>Long</th>\n",
              "      <th>Date</th>\n",
              "      <th>Confirmed</th>\n",
              "      <th>Deaths</th>\n",
              "      <th>Recovered</th>\n",
              "      <th>Active</th>\n",
              "      <th>WHO Region</th>\n",
              "    </tr>\n",
              "  </thead>\n",
              "  <tbody>\n",
              "    <tr>\n",
              "      <th>0</th>\n",
              "      <td>NaN</td>\n",
              "      <td>Afghanistan</td>\n",
              "      <td>33.93911</td>\n",
              "      <td>67.709953</td>\n",
              "      <td>2020-01-22</td>\n",
              "      <td>0</td>\n",
              "      <td>0</td>\n",
              "      <td>0</td>\n",
              "      <td>0</td>\n",
              "      <td>Eastern Mediterranean</td>\n",
              "    </tr>\n",
              "    <tr>\n",
              "      <th>1</th>\n",
              "      <td>NaN</td>\n",
              "      <td>Albania</td>\n",
              "      <td>41.15330</td>\n",
              "      <td>20.168300</td>\n",
              "      <td>2020-01-22</td>\n",
              "      <td>0</td>\n",
              "      <td>0</td>\n",
              "      <td>0</td>\n",
              "      <td>0</td>\n",
              "      <td>Europe</td>\n",
              "    </tr>\n",
              "    <tr>\n",
              "      <th>2</th>\n",
              "      <td>NaN</td>\n",
              "      <td>Algeria</td>\n",
              "      <td>28.03390</td>\n",
              "      <td>1.659600</td>\n",
              "      <td>2020-01-22</td>\n",
              "      <td>0</td>\n",
              "      <td>0</td>\n",
              "      <td>0</td>\n",
              "      <td>0</td>\n",
              "      <td>Africa</td>\n",
              "    </tr>\n",
              "    <tr>\n",
              "      <th>3</th>\n",
              "      <td>NaN</td>\n",
              "      <td>Andorra</td>\n",
              "      <td>42.50630</td>\n",
              "      <td>1.521800</td>\n",
              "      <td>2020-01-22</td>\n",
              "      <td>0</td>\n",
              "      <td>0</td>\n",
              "      <td>0</td>\n",
              "      <td>0</td>\n",
              "      <td>Europe</td>\n",
              "    </tr>\n",
              "    <tr>\n",
              "      <th>4</th>\n",
              "      <td>NaN</td>\n",
              "      <td>Angola</td>\n",
              "      <td>-11.20270</td>\n",
              "      <td>17.873900</td>\n",
              "      <td>2020-01-22</td>\n",
              "      <td>0</td>\n",
              "      <td>0</td>\n",
              "      <td>0</td>\n",
              "      <td>0</td>\n",
              "      <td>Africa</td>\n",
              "    </tr>\n",
              "  </tbody>\n",
              "</table>\n",
              "</div>"
            ],
            "text/plain": [
              "  Province/State Country/Region       Lat       Long        Date  Confirmed   \n",
              "0            NaN    Afghanistan  33.93911  67.709953  2020-01-22          0  \\\n",
              "1            NaN        Albania  41.15330  20.168300  2020-01-22          0   \n",
              "2            NaN        Algeria  28.03390   1.659600  2020-01-22          0   \n",
              "3            NaN        Andorra  42.50630   1.521800  2020-01-22          0   \n",
              "4            NaN         Angola -11.20270  17.873900  2020-01-22          0   \n",
              "\n",
              "   Deaths  Recovered  Active             WHO Region  \n",
              "0       0          0       0  Eastern Mediterranean  \n",
              "1       0          0       0                 Europe  \n",
              "2       0          0       0                 Africa  \n",
              "3       0          0       0                 Europe  \n",
              "4       0          0       0                 Africa  "
            ]
          },
          "execution_count": 8,
          "metadata": {},
          "output_type": "execute_result"
        }
      ],
      "source": [
        "#Exploring Third File\n",
        "covid_19_clean_complete.head()"
      ]
    },
    {
      "cell_type": "code",
      "execution_count": 9,
      "metadata": {
        "colab": {
          "base_uri": "https://localhost:8080/"
        },
        "id": "4IbzP3QsmwYV",
        "outputId": "e20662c2-c3e8-4737-c741-bf732173681c"
      },
      "outputs": [
        {
          "name": "stdout",
          "output_type": "stream",
          "text": [
            "<class 'pandas.core.frame.DataFrame'>\n",
            "RangeIndex: 49068 entries, 0 to 49067\n",
            "Data columns (total 10 columns):\n",
            " #   Column          Non-Null Count  Dtype  \n",
            "---  ------          --------------  -----  \n",
            " 0   Province/State  14664 non-null  object \n",
            " 1   Country/Region  49068 non-null  object \n",
            " 2   Lat             49068 non-null  float64\n",
            " 3   Long            49068 non-null  float64\n",
            " 4   Date            49068 non-null  object \n",
            " 5   Confirmed       49068 non-null  int64  \n",
            " 6   Deaths          49068 non-null  int64  \n",
            " 7   Recovered       49068 non-null  int64  \n",
            " 8   Active          49068 non-null  int64  \n",
            " 9   WHO Region      49068 non-null  object \n",
            "dtypes: float64(2), int64(4), object(4)\n",
            "memory usage: 3.7+ MB\n"
          ]
        }
      ],
      "source": [
        "covid_19_clean_complete.info()"
      ]
    },
    {
      "cell_type": "code",
      "execution_count": 10,
      "metadata": {
        "colab": {
          "base_uri": "https://localhost:8080/"
        },
        "id": "PFJDj9G6mwYV",
        "outputId": "be0543d6-c735-476a-c963-fe6a9e1a239d"
      },
      "outputs": [
        {
          "data": {
            "text/plain": [
              "Province/State    70.114943\n",
              "Country/Region     0.000000\n",
              "Lat                0.000000\n",
              "Long               0.000000\n",
              "Date               0.000000\n",
              "Confirmed          0.000000\n",
              "Deaths             0.000000\n",
              "Recovered          0.000000\n",
              "Active             0.000000\n",
              "WHO Region         0.000000\n",
              "dtype: float64"
            ]
          },
          "execution_count": 10,
          "metadata": {},
          "output_type": "execute_result"
        }
      ],
      "source": [
        "#get Nulls Percentage to decide columns to drop\n",
        "covid_19_clean_complete.isnull().sum() *100 / covid_19_clean_complete.shape[0]"
      ]
    },
    {
      "cell_type": "code",
      "execution_count": 11,
      "metadata": {
        "id": "cgisNrI0mwYV"
      },
      "outputs": [],
      "source": [
        "#first Column Has 70% of Null Values , So Drop it\n",
        "covid_19_clean_complete.drop(columns='Province/State',inplace=True)"
      ]
    },
    {
      "cell_type": "code",
      "execution_count": 12,
      "metadata": {
        "colab": {
          "base_uri": "https://localhost:8080/"
        },
        "id": "xpbZdaZsmwYW",
        "outputId": "70b645b1-e7a8-421d-948a-7a981c83bf85"
      },
      "outputs": [
        {
          "name": "stdout",
          "output_type": "stream",
          "text": [
            "<class 'pandas.core.frame.DataFrame'>\n",
            "RangeIndex: 49068 entries, 0 to 49067\n",
            "Data columns (total 9 columns):\n",
            " #   Column          Non-Null Count  Dtype  \n",
            "---  ------          --------------  -----  \n",
            " 0   Country/Region  49068 non-null  object \n",
            " 1   Lat             49068 non-null  float64\n",
            " 2   Long            49068 non-null  float64\n",
            " 3   Date            49068 non-null  object \n",
            " 4   Confirmed       49068 non-null  int64  \n",
            " 5   Deaths          49068 non-null  int64  \n",
            " 6   Recovered       49068 non-null  int64  \n",
            " 7   Active          49068 non-null  int64  \n",
            " 8   WHO Region      49068 non-null  object \n",
            "dtypes: float64(2), int64(4), object(3)\n",
            "memory usage: 3.4+ MB\n"
          ]
        }
      ],
      "source": [
        "# Now the file is Clean and Ready to use\n",
        "covid_19_clean_complete.info()"
      ]
    },
    {
      "cell_type": "code",
      "execution_count": 13,
      "metadata": {
        "colab": {
          "base_uri": "https://localhost:8080/"
        },
        "id": "nIN7QBcBmwYW",
        "outputId": "2382f478-e905-4ba9-8259-eab371564e1e"
      },
      "outputs": [
        {
          "data": {
            "text/plain": [
              "187"
            ]
          },
          "execution_count": 13,
          "metadata": {},
          "output_type": "execute_result"
        }
      ],
      "source": [
        "covid_19_clean_complete['Country/Region'].nunique()\n",
        "#Check no of Countries to see if there is a country with more than one name"
      ]
    },
    {
      "cell_type": "code",
      "execution_count": 14,
      "metadata": {
        "colab": {
          "base_uri": "https://localhost:8080/",
          "height": 206
        },
        "id": "OWr1cufVmwYW",
        "outputId": "f31a4b55-61c7-48a0-ef03-48f97dc1d73b"
      },
      "outputs": [
        {
          "data": {
            "text/html": [
              "<div>\n",
              "<style scoped>\n",
              "    .dataframe tbody tr th:only-of-type {\n",
              "        vertical-align: middle;\n",
              "    }\n",
              "\n",
              "    .dataframe tbody tr th {\n",
              "        vertical-align: top;\n",
              "    }\n",
              "\n",
              "    .dataframe thead th {\n",
              "        text-align: right;\n",
              "    }\n",
              "</style>\n",
              "<table border=\"1\" class=\"dataframe\">\n",
              "  <thead>\n",
              "    <tr style=\"text-align: right;\">\n",
              "      <th></th>\n",
              "      <th>Date</th>\n",
              "      <th>Country/Region</th>\n",
              "      <th>Confirmed</th>\n",
              "      <th>Deaths</th>\n",
              "      <th>Recovered</th>\n",
              "      <th>Active</th>\n",
              "      <th>New cases</th>\n",
              "      <th>New deaths</th>\n",
              "      <th>New recovered</th>\n",
              "      <th>WHO Region</th>\n",
              "    </tr>\n",
              "  </thead>\n",
              "  <tbody>\n",
              "    <tr>\n",
              "      <th>0</th>\n",
              "      <td>2020-01-22</td>\n",
              "      <td>Afghanistan</td>\n",
              "      <td>0</td>\n",
              "      <td>0</td>\n",
              "      <td>0</td>\n",
              "      <td>0</td>\n",
              "      <td>0</td>\n",
              "      <td>0</td>\n",
              "      <td>0</td>\n",
              "      <td>Eastern Mediterranean</td>\n",
              "    </tr>\n",
              "    <tr>\n",
              "      <th>1</th>\n",
              "      <td>2020-01-22</td>\n",
              "      <td>Albania</td>\n",
              "      <td>0</td>\n",
              "      <td>0</td>\n",
              "      <td>0</td>\n",
              "      <td>0</td>\n",
              "      <td>0</td>\n",
              "      <td>0</td>\n",
              "      <td>0</td>\n",
              "      <td>Europe</td>\n",
              "    </tr>\n",
              "    <tr>\n",
              "      <th>2</th>\n",
              "      <td>2020-01-22</td>\n",
              "      <td>Algeria</td>\n",
              "      <td>0</td>\n",
              "      <td>0</td>\n",
              "      <td>0</td>\n",
              "      <td>0</td>\n",
              "      <td>0</td>\n",
              "      <td>0</td>\n",
              "      <td>0</td>\n",
              "      <td>Africa</td>\n",
              "    </tr>\n",
              "    <tr>\n",
              "      <th>3</th>\n",
              "      <td>2020-01-22</td>\n",
              "      <td>Andorra</td>\n",
              "      <td>0</td>\n",
              "      <td>0</td>\n",
              "      <td>0</td>\n",
              "      <td>0</td>\n",
              "      <td>0</td>\n",
              "      <td>0</td>\n",
              "      <td>0</td>\n",
              "      <td>Europe</td>\n",
              "    </tr>\n",
              "    <tr>\n",
              "      <th>4</th>\n",
              "      <td>2020-01-22</td>\n",
              "      <td>Angola</td>\n",
              "      <td>0</td>\n",
              "      <td>0</td>\n",
              "      <td>0</td>\n",
              "      <td>0</td>\n",
              "      <td>0</td>\n",
              "      <td>0</td>\n",
              "      <td>0</td>\n",
              "      <td>Africa</td>\n",
              "    </tr>\n",
              "  </tbody>\n",
              "</table>\n",
              "</div>"
            ],
            "text/plain": [
              "         Date Country/Region  Confirmed  Deaths  Recovered  Active  New cases   \n",
              "0  2020-01-22    Afghanistan          0       0          0       0          0  \\\n",
              "1  2020-01-22        Albania          0       0          0       0          0   \n",
              "2  2020-01-22        Algeria          0       0          0       0          0   \n",
              "3  2020-01-22        Andorra          0       0          0       0          0   \n",
              "4  2020-01-22         Angola          0       0          0       0          0   \n",
              "\n",
              "   New deaths  New recovered             WHO Region  \n",
              "0           0              0  Eastern Mediterranean  \n",
              "1           0              0                 Europe  \n",
              "2           0              0                 Africa  \n",
              "3           0              0                 Europe  \n",
              "4           0              0                 Africa  "
            ]
          },
          "execution_count": 14,
          "metadata": {},
          "output_type": "execute_result"
        }
      ],
      "source": [
        "#Exploring Fourth File\n",
        "full_grouped.head()"
      ]
    },
    {
      "cell_type": "code",
      "execution_count": 15,
      "metadata": {
        "colab": {
          "base_uri": "https://localhost:8080/"
        },
        "id": "lGLzLoZimwYW",
        "outputId": "44bc90df-4b82-48d1-a43d-fddf1038c382"
      },
      "outputs": [
        {
          "name": "stdout",
          "output_type": "stream",
          "text": [
            "<class 'pandas.core.frame.DataFrame'>\n",
            "RangeIndex: 35156 entries, 0 to 35155\n",
            "Data columns (total 10 columns):\n",
            " #   Column          Non-Null Count  Dtype \n",
            "---  ------          --------------  ----- \n",
            " 0   Date            35156 non-null  object\n",
            " 1   Country/Region  35156 non-null  object\n",
            " 2   Confirmed       35156 non-null  int64 \n",
            " 3   Deaths          35156 non-null  int64 \n",
            " 4   Recovered       35156 non-null  int64 \n",
            " 5   Active          35156 non-null  int64 \n",
            " 6   New cases       35156 non-null  int64 \n",
            " 7   New deaths      35156 non-null  int64 \n",
            " 8   New recovered   35156 non-null  int64 \n",
            " 9   WHO Region      35156 non-null  object\n",
            "dtypes: int64(7), object(3)\n",
            "memory usage: 2.7+ MB\n"
          ]
        }
      ],
      "source": [
        "full_grouped.info()\n",
        "#This File is Also Clean and ready to go to next Stage"
      ]
    },
    {
      "cell_type": "code",
      "execution_count": 16,
      "metadata": {
        "colab": {
          "base_uri": "https://localhost:8080/",
          "height": 357
        },
        "id": "A8oemWfamwYX",
        "outputId": "e0ee8f1f-a8ce-4642-9f25-dbb169a3cace"
      },
      "outputs": [
        {
          "data": {
            "text/html": [
              "<div>\n",
              "<style scoped>\n",
              "    .dataframe tbody tr th:only-of-type {\n",
              "        vertical-align: middle;\n",
              "    }\n",
              "\n",
              "    .dataframe tbody tr th {\n",
              "        vertical-align: top;\n",
              "    }\n",
              "\n",
              "    .dataframe thead th {\n",
              "        text-align: right;\n",
              "    }\n",
              "</style>\n",
              "<table border=\"1\" class=\"dataframe\">\n",
              "  <thead>\n",
              "    <tr style=\"text-align: right;\">\n",
              "      <th></th>\n",
              "      <th>Country/Region</th>\n",
              "      <th>Continent</th>\n",
              "      <th>Population</th>\n",
              "      <th>TotalCases</th>\n",
              "      <th>NewCases</th>\n",
              "      <th>TotalDeaths</th>\n",
              "      <th>NewDeaths</th>\n",
              "      <th>TotalRecovered</th>\n",
              "      <th>NewRecovered</th>\n",
              "      <th>ActiveCases</th>\n",
              "      <th>Serious,Critical</th>\n",
              "      <th>Tot Cases/1M pop</th>\n",
              "      <th>Deaths/1M pop</th>\n",
              "      <th>TotalTests</th>\n",
              "      <th>Tests/1M pop</th>\n",
              "      <th>WHO Region</th>\n",
              "    </tr>\n",
              "  </thead>\n",
              "  <tbody>\n",
              "    <tr>\n",
              "      <th>0</th>\n",
              "      <td>USA</td>\n",
              "      <td>North America</td>\n",
              "      <td>3.311981e+08</td>\n",
              "      <td>5032179</td>\n",
              "      <td>NaN</td>\n",
              "      <td>162804.0</td>\n",
              "      <td>NaN</td>\n",
              "      <td>2576668.0</td>\n",
              "      <td>NaN</td>\n",
              "      <td>2292707.0</td>\n",
              "      <td>18296.0</td>\n",
              "      <td>15194.0</td>\n",
              "      <td>492.0</td>\n",
              "      <td>63139605.0</td>\n",
              "      <td>190640.0</td>\n",
              "      <td>Americas</td>\n",
              "    </tr>\n",
              "    <tr>\n",
              "      <th>1</th>\n",
              "      <td>Brazil</td>\n",
              "      <td>South America</td>\n",
              "      <td>2.127107e+08</td>\n",
              "      <td>2917562</td>\n",
              "      <td>NaN</td>\n",
              "      <td>98644.0</td>\n",
              "      <td>NaN</td>\n",
              "      <td>2047660.0</td>\n",
              "      <td>NaN</td>\n",
              "      <td>771258.0</td>\n",
              "      <td>8318.0</td>\n",
              "      <td>13716.0</td>\n",
              "      <td>464.0</td>\n",
              "      <td>13206188.0</td>\n",
              "      <td>62085.0</td>\n",
              "      <td>Americas</td>\n",
              "    </tr>\n",
              "    <tr>\n",
              "      <th>2</th>\n",
              "      <td>India</td>\n",
              "      <td>Asia</td>\n",
              "      <td>1.381345e+09</td>\n",
              "      <td>2025409</td>\n",
              "      <td>NaN</td>\n",
              "      <td>41638.0</td>\n",
              "      <td>NaN</td>\n",
              "      <td>1377384.0</td>\n",
              "      <td>NaN</td>\n",
              "      <td>606387.0</td>\n",
              "      <td>8944.0</td>\n",
              "      <td>1466.0</td>\n",
              "      <td>30.0</td>\n",
              "      <td>22149351.0</td>\n",
              "      <td>16035.0</td>\n",
              "      <td>South-EastAsia</td>\n",
              "    </tr>\n",
              "    <tr>\n",
              "      <th>3</th>\n",
              "      <td>Russia</td>\n",
              "      <td>Europe</td>\n",
              "      <td>1.459409e+08</td>\n",
              "      <td>871894</td>\n",
              "      <td>NaN</td>\n",
              "      <td>14606.0</td>\n",
              "      <td>NaN</td>\n",
              "      <td>676357.0</td>\n",
              "      <td>NaN</td>\n",
              "      <td>180931.0</td>\n",
              "      <td>2300.0</td>\n",
              "      <td>5974.0</td>\n",
              "      <td>100.0</td>\n",
              "      <td>29716907.0</td>\n",
              "      <td>203623.0</td>\n",
              "      <td>Europe</td>\n",
              "    </tr>\n",
              "    <tr>\n",
              "      <th>4</th>\n",
              "      <td>South Africa</td>\n",
              "      <td>Africa</td>\n",
              "      <td>5.938157e+07</td>\n",
              "      <td>538184</td>\n",
              "      <td>NaN</td>\n",
              "      <td>9604.0</td>\n",
              "      <td>NaN</td>\n",
              "      <td>387316.0</td>\n",
              "      <td>NaN</td>\n",
              "      <td>141264.0</td>\n",
              "      <td>539.0</td>\n",
              "      <td>9063.0</td>\n",
              "      <td>162.0</td>\n",
              "      <td>3149807.0</td>\n",
              "      <td>53044.0</td>\n",
              "      <td>Africa</td>\n",
              "    </tr>\n",
              "  </tbody>\n",
              "</table>\n",
              "</div>"
            ],
            "text/plain": [
              "  Country/Region      Continent    Population  TotalCases  NewCases   \n",
              "0            USA  North America  3.311981e+08     5032179       NaN  \\\n",
              "1         Brazil  South America  2.127107e+08     2917562       NaN   \n",
              "2          India           Asia  1.381345e+09     2025409       NaN   \n",
              "3         Russia         Europe  1.459409e+08      871894       NaN   \n",
              "4   South Africa         Africa  5.938157e+07      538184       NaN   \n",
              "\n",
              "   TotalDeaths  NewDeaths  TotalRecovered  NewRecovered  ActiveCases   \n",
              "0     162804.0        NaN       2576668.0           NaN    2292707.0  \\\n",
              "1      98644.0        NaN       2047660.0           NaN     771258.0   \n",
              "2      41638.0        NaN       1377384.0           NaN     606387.0   \n",
              "3      14606.0        NaN        676357.0           NaN     180931.0   \n",
              "4       9604.0        NaN        387316.0           NaN     141264.0   \n",
              "\n",
              "   Serious,Critical  Tot Cases/1M pop  Deaths/1M pop  TotalTests   \n",
              "0           18296.0           15194.0          492.0  63139605.0  \\\n",
              "1            8318.0           13716.0          464.0  13206188.0   \n",
              "2            8944.0            1466.0           30.0  22149351.0   \n",
              "3            2300.0            5974.0          100.0  29716907.0   \n",
              "4             539.0            9063.0          162.0   3149807.0   \n",
              "\n",
              "   Tests/1M pop      WHO Region  \n",
              "0      190640.0        Americas  \n",
              "1       62085.0        Americas  \n",
              "2       16035.0  South-EastAsia  \n",
              "3      203623.0          Europe  \n",
              "4       53044.0          Africa  "
            ]
          },
          "execution_count": 16,
          "metadata": {},
          "output_type": "execute_result"
        }
      ],
      "source": [
        "#Exploring Fifth File\n",
        "worldometer_data.head()\n",
        "# Data is From 'worldometer' web site with respect to Countries , So it will Have Some Work to do"
      ]
    },
    {
      "cell_type": "code",
      "execution_count": 17,
      "metadata": {
        "colab": {
          "base_uri": "https://localhost:8080/"
        },
        "id": "UsQCn7yxmwYX",
        "outputId": "350545eb-264e-47fd-ed0d-0ce4b1e2e4b8"
      },
      "outputs": [
        {
          "name": "stdout",
          "output_type": "stream",
          "text": [
            "<class 'pandas.core.frame.DataFrame'>\n",
            "RangeIndex: 209 entries, 0 to 208\n",
            "Data columns (total 16 columns):\n",
            " #   Column            Non-Null Count  Dtype  \n",
            "---  ------            --------------  -----  \n",
            " 0   Country/Region    209 non-null    object \n",
            " 1   Continent         208 non-null    object \n",
            " 2   Population        208 non-null    float64\n",
            " 3   TotalCases        209 non-null    int64  \n",
            " 4   NewCases          4 non-null      float64\n",
            " 5   TotalDeaths       188 non-null    float64\n",
            " 6   NewDeaths         3 non-null      float64\n",
            " 7   TotalRecovered    205 non-null    float64\n",
            " 8   NewRecovered      3 non-null      float64\n",
            " 9   ActiveCases       205 non-null    float64\n",
            " 10  Serious,Critical  122 non-null    float64\n",
            " 11  Tot Cases/1M pop  208 non-null    float64\n",
            " 12  Deaths/1M pop     187 non-null    float64\n",
            " 13  TotalTests        191 non-null    float64\n",
            " 14  Tests/1M pop      191 non-null    float64\n",
            " 15  WHO Region        184 non-null    object \n",
            "dtypes: float64(12), int64(1), object(3)\n",
            "memory usage: 26.2+ KB\n"
          ]
        }
      ],
      "source": [
        "worldometer_data.info()"
      ]
    },
    {
      "cell_type": "code",
      "execution_count": 18,
      "metadata": {
        "colab": {
          "base_uri": "https://localhost:8080/"
        },
        "id": "SrV3e5yymwYX",
        "outputId": "6c90fbb8-87df-4b50-f851-96bedd30f422"
      },
      "outputs": [
        {
          "data": {
            "text/plain": [
              "Country/Region       0.000000\n",
              "Continent            0.478469\n",
              "Population           0.478469\n",
              "TotalCases           0.000000\n",
              "NewCases            98.086124\n",
              "TotalDeaths         10.047847\n",
              "NewDeaths           98.564593\n",
              "TotalRecovered       1.913876\n",
              "NewRecovered        98.564593\n",
              "ActiveCases          1.913876\n",
              "Serious,Critical    41.626794\n",
              "Tot Cases/1M pop     0.478469\n",
              "Deaths/1M pop       10.526316\n",
              "TotalTests           8.612440\n",
              "Tests/1M pop         8.612440\n",
              "WHO Region          11.961722\n",
              "dtype: float64"
            ]
          },
          "execution_count": 18,
          "metadata": {},
          "output_type": "execute_result"
        }
      ],
      "source": [
        "#get Nulls Percentage to decide columns to drop\n",
        "worldometer_data.isnull().sum() *100 / worldometer_data.shape[0]"
      ]
    },
    {
      "cell_type": "code",
      "execution_count": 19,
      "metadata": {
        "id": "2HnGQfYzmwYX"
      },
      "outputs": [],
      "source": [
        "# Columns with high null values are to be dropped(higher than 70% for Example)\n",
        "dropped_col = ['NewCases','NewDeaths','NewRecovered']\n",
        "worldometer_data.drop(columns=dropped_col,inplace=True)"
      ]
    },
    {
      "cell_type": "code",
      "execution_count": 20,
      "metadata": {
        "colab": {
          "base_uri": "https://localhost:8080/",
          "height": 399
        },
        "id": "wmDURVC9mwYY",
        "outputId": "26cfbf61-d96d-4517-ec36-8fd6f8a29209"
      },
      "outputs": [
        {
          "data": {
            "text/html": [
              "<div>\n",
              "<style scoped>\n",
              "    .dataframe tbody tr th:only-of-type {\n",
              "        vertical-align: middle;\n",
              "    }\n",
              "\n",
              "    .dataframe tbody tr th {\n",
              "        vertical-align: top;\n",
              "    }\n",
              "\n",
              "    .dataframe thead th {\n",
              "        text-align: right;\n",
              "    }\n",
              "</style>\n",
              "<table border=\"1\" class=\"dataframe\">\n",
              "  <thead>\n",
              "    <tr style=\"text-align: right;\">\n",
              "      <th></th>\n",
              "      <th>Population</th>\n",
              "      <th>TotalCases</th>\n",
              "      <th>TotalDeaths</th>\n",
              "      <th>TotalRecovered</th>\n",
              "      <th>ActiveCases</th>\n",
              "      <th>Serious,Critical</th>\n",
              "      <th>Tot Cases/1M pop</th>\n",
              "      <th>Deaths/1M pop</th>\n",
              "      <th>TotalTests</th>\n",
              "      <th>Tests/1M pop</th>\n",
              "    </tr>\n",
              "  </thead>\n",
              "  <tbody>\n",
              "    <tr>\n",
              "      <th>count</th>\n",
              "      <td>2.080000e+02</td>\n",
              "      <td>2.090000e+02</td>\n",
              "      <td>188.000000</td>\n",
              "      <td>2.050000e+02</td>\n",
              "      <td>2.050000e+02</td>\n",
              "      <td>122.000000</td>\n",
              "      <td>208.000000</td>\n",
              "      <td>187.000000</td>\n",
              "      <td>1.910000e+02</td>\n",
              "      <td>191.000000</td>\n",
              "    </tr>\n",
              "    <tr>\n",
              "      <th>mean</th>\n",
              "      <td>3.041549e+07</td>\n",
              "      <td>9.171850e+04</td>\n",
              "      <td>3792.590426</td>\n",
              "      <td>5.887898e+04</td>\n",
              "      <td>2.766433e+04</td>\n",
              "      <td>534.393443</td>\n",
              "      <td>3196.024038</td>\n",
              "      <td>98.681176</td>\n",
              "      <td>1.402405e+06</td>\n",
              "      <td>83959.366492</td>\n",
              "    </tr>\n",
              "    <tr>\n",
              "      <th>std</th>\n",
              "      <td>1.047661e+08</td>\n",
              "      <td>4.325867e+05</td>\n",
              "      <td>15487.184877</td>\n",
              "      <td>2.566984e+05</td>\n",
              "      <td>1.746327e+05</td>\n",
              "      <td>2047.518613</td>\n",
              "      <td>5191.986457</td>\n",
              "      <td>174.956862</td>\n",
              "      <td>5.553367e+06</td>\n",
              "      <td>152730.591240</td>\n",
              "    </tr>\n",
              "    <tr>\n",
              "      <th>min</th>\n",
              "      <td>8.010000e+02</td>\n",
              "      <td>1.000000e+01</td>\n",
              "      <td>1.000000</td>\n",
              "      <td>7.000000e+00</td>\n",
              "      <td>0.000000e+00</td>\n",
              "      <td>1.000000</td>\n",
              "      <td>3.000000</td>\n",
              "      <td>0.080000</td>\n",
              "      <td>6.100000e+01</td>\n",
              "      <td>4.000000</td>\n",
              "    </tr>\n",
              "    <tr>\n",
              "      <th>25%</th>\n",
              "      <td>9.663140e+05</td>\n",
              "      <td>7.120000e+02</td>\n",
              "      <td>22.000000</td>\n",
              "      <td>3.340000e+02</td>\n",
              "      <td>8.600000e+01</td>\n",
              "      <td>3.250000</td>\n",
              "      <td>282.000000</td>\n",
              "      <td>6.000000</td>\n",
              "      <td>2.575200e+04</td>\n",
              "      <td>8956.500000</td>\n",
              "    </tr>\n",
              "    <tr>\n",
              "      <th>50%</th>\n",
              "      <td>7.041972e+06</td>\n",
              "      <td>4.491000e+03</td>\n",
              "      <td>113.000000</td>\n",
              "      <td>2.178000e+03</td>\n",
              "      <td>8.990000e+02</td>\n",
              "      <td>27.500000</td>\n",
              "      <td>1015.000000</td>\n",
              "      <td>29.000000</td>\n",
              "      <td>1.357020e+05</td>\n",
              "      <td>32585.000000</td>\n",
              "    </tr>\n",
              "    <tr>\n",
              "      <th>75%</th>\n",
              "      <td>2.575614e+07</td>\n",
              "      <td>3.689600e+04</td>\n",
              "      <td>786.000000</td>\n",
              "      <td>2.055300e+04</td>\n",
              "      <td>7.124000e+03</td>\n",
              "      <td>160.250000</td>\n",
              "      <td>3841.750000</td>\n",
              "      <td>98.000000</td>\n",
              "      <td>7.576960e+05</td>\n",
              "      <td>92154.500000</td>\n",
              "    </tr>\n",
              "    <tr>\n",
              "      <th>max</th>\n",
              "      <td>1.381345e+09</td>\n",
              "      <td>5.032179e+06</td>\n",
              "      <td>162804.000000</td>\n",
              "      <td>2.576668e+06</td>\n",
              "      <td>2.292707e+06</td>\n",
              "      <td>18296.000000</td>\n",
              "      <td>39922.000000</td>\n",
              "      <td>1238.000000</td>\n",
              "      <td>6.313960e+07</td>\n",
              "      <td>995282.000000</td>\n",
              "    </tr>\n",
              "  </tbody>\n",
              "</table>\n",
              "</div>"
            ],
            "text/plain": [
              "         Population    TotalCases    TotalDeaths  TotalRecovered   \n",
              "count  2.080000e+02  2.090000e+02     188.000000    2.050000e+02  \\\n",
              "mean   3.041549e+07  9.171850e+04    3792.590426    5.887898e+04   \n",
              "std    1.047661e+08  4.325867e+05   15487.184877    2.566984e+05   \n",
              "min    8.010000e+02  1.000000e+01       1.000000    7.000000e+00   \n",
              "25%    9.663140e+05  7.120000e+02      22.000000    3.340000e+02   \n",
              "50%    7.041972e+06  4.491000e+03     113.000000    2.178000e+03   \n",
              "75%    2.575614e+07  3.689600e+04     786.000000    2.055300e+04   \n",
              "max    1.381345e+09  5.032179e+06  162804.000000    2.576668e+06   \n",
              "\n",
              "        ActiveCases  Serious,Critical  Tot Cases/1M pop  Deaths/1M pop   \n",
              "count  2.050000e+02        122.000000        208.000000     187.000000  \\\n",
              "mean   2.766433e+04        534.393443       3196.024038      98.681176   \n",
              "std    1.746327e+05       2047.518613       5191.986457     174.956862   \n",
              "min    0.000000e+00          1.000000          3.000000       0.080000   \n",
              "25%    8.600000e+01          3.250000        282.000000       6.000000   \n",
              "50%    8.990000e+02         27.500000       1015.000000      29.000000   \n",
              "75%    7.124000e+03        160.250000       3841.750000      98.000000   \n",
              "max    2.292707e+06      18296.000000      39922.000000    1238.000000   \n",
              "\n",
              "         TotalTests   Tests/1M pop  \n",
              "count  1.910000e+02     191.000000  \n",
              "mean   1.402405e+06   83959.366492  \n",
              "std    5.553367e+06  152730.591240  \n",
              "min    6.100000e+01       4.000000  \n",
              "25%    2.575200e+04    8956.500000  \n",
              "50%    1.357020e+05   32585.000000  \n",
              "75%    7.576960e+05   92154.500000  \n",
              "max    6.313960e+07  995282.000000  "
            ]
          },
          "execution_count": 20,
          "metadata": {},
          "output_type": "execute_result"
        }
      ],
      "source": [
        "# Now Start Filling Null Values for Other Columns\n",
        "#Get a description For Numerical Columns To get OverView about the numbers\n",
        "worldometer_data.describe()"
      ]
    },
    {
      "cell_type": "code",
      "execution_count": 21,
      "metadata": {
        "colab": {
          "base_uri": "https://localhost:8080/",
          "height": 197
        },
        "id": "GMvCFpxmmwYY",
        "outputId": "4d788b5c-7802-40e9-d3b3-096849fb8e12"
      },
      "outputs": [
        {
          "data": {
            "text/html": [
              "<div>\n",
              "<style scoped>\n",
              "    .dataframe tbody tr th:only-of-type {\n",
              "        vertical-align: middle;\n",
              "    }\n",
              "\n",
              "    .dataframe tbody tr th {\n",
              "        vertical-align: top;\n",
              "    }\n",
              "\n",
              "    .dataframe thead th {\n",
              "        text-align: right;\n",
              "    }\n",
              "</style>\n",
              "<table border=\"1\" class=\"dataframe\">\n",
              "  <thead>\n",
              "    <tr style=\"text-align: right;\">\n",
              "      <th></th>\n",
              "      <th>Country/Region</th>\n",
              "      <th>Continent</th>\n",
              "      <th>Population</th>\n",
              "      <th>TotalCases</th>\n",
              "      <th>TotalDeaths</th>\n",
              "      <th>TotalRecovered</th>\n",
              "      <th>ActiveCases</th>\n",
              "      <th>Serious,Critical</th>\n",
              "      <th>Tot Cases/1M pop</th>\n",
              "      <th>Deaths/1M pop</th>\n",
              "      <th>TotalTests</th>\n",
              "      <th>Tests/1M pop</th>\n",
              "      <th>WHO Region</th>\n",
              "    </tr>\n",
              "  </thead>\n",
              "  <tbody>\n",
              "    <tr>\n",
              "      <th>156</th>\n",
              "      <td>Diamond Princess</td>\n",
              "      <td>NaN</td>\n",
              "      <td>NaN</td>\n",
              "      <td>712</td>\n",
              "      <td>13.0</td>\n",
              "      <td>651.0</td>\n",
              "      <td>48.0</td>\n",
              "      <td>4.0</td>\n",
              "      <td>NaN</td>\n",
              "      <td>NaN</td>\n",
              "      <td>NaN</td>\n",
              "      <td>NaN</td>\n",
              "      <td>NaN</td>\n",
              "    </tr>\n",
              "  </tbody>\n",
              "</table>\n",
              "</div>"
            ],
            "text/plain": [
              "       Country/Region Continent  Population  TotalCases  TotalDeaths   \n",
              "156  Diamond Princess       NaN         NaN         712         13.0  \\\n",
              "\n",
              "     TotalRecovered  ActiveCases  Serious,Critical  Tot Cases/1M pop   \n",
              "156           651.0         48.0               4.0               NaN  \\\n",
              "\n",
              "     Deaths/1M pop  TotalTests  Tests/1M pop WHO Region  \n",
              "156            NaN         NaN           NaN        NaN  "
            ]
          },
          "execution_count": 21,
          "metadata": {},
          "output_type": "execute_result"
        }
      ],
      "source": [
        "worldometer_data.loc[worldometer_data['Population'].isnull(),:]\n",
        "#it is a british cruise ship "
      ]
    },
    {
      "cell_type": "code",
      "execution_count": 22,
      "metadata": {
        "id": "dvwZ6OVimwYY"
      },
      "outputs": [],
      "source": [
        "worldometer_data.drop(156,inplace=True)"
      ]
    },
    {
      "cell_type": "code",
      "execution_count": 23,
      "metadata": {
        "id": "bVKEwYHEmwYY"
      },
      "outputs": [],
      "source": [
        "numerical_columns_with_nulls = ['TotalDeaths','TotalRecovered','ActiveCases','Serious,Critical','TotalTests','Tests/1M pop','Deaths/1M pop']\n",
        "for colmn in numerical_columns_with_nulls:\n",
        "    worldometer_data[colmn] = worldometer_data[colmn].fillna(worldometer_data[colmn].median())"
      ]
    },
    {
      "cell_type": "code",
      "execution_count": 24,
      "metadata": {
        "colab": {
          "base_uri": "https://localhost:8080/"
        },
        "id": "OEPA04xAmwYY",
        "outputId": "b79c299a-06f4-4ee7-d9a8-419f139bf225"
      },
      "outputs": [
        {
          "name": "stdout",
          "output_type": "stream",
          "text": [
            "<class 'pandas.core.frame.DataFrame'>\n",
            "Index: 208 entries, 0 to 208\n",
            "Data columns (total 13 columns):\n",
            " #   Column            Non-Null Count  Dtype  \n",
            "---  ------            --------------  -----  \n",
            " 0   Country/Region    208 non-null    object \n",
            " 1   Continent         208 non-null    object \n",
            " 2   Population        208 non-null    float64\n",
            " 3   TotalCases        208 non-null    int64  \n",
            " 4   TotalDeaths       208 non-null    float64\n",
            " 5   TotalRecovered    208 non-null    float64\n",
            " 6   ActiveCases       208 non-null    float64\n",
            " 7   Serious,Critical  208 non-null    float64\n",
            " 8   Tot Cases/1M pop  208 non-null    float64\n",
            " 9   Deaths/1M pop     208 non-null    float64\n",
            " 10  TotalTests        208 non-null    float64\n",
            " 11  Tests/1M pop      208 non-null    float64\n",
            " 12  WHO Region        184 non-null    object \n",
            "dtypes: float64(9), int64(1), object(3)\n",
            "memory usage: 22.8+ KB\n"
          ]
        }
      ],
      "source": [
        "worldometer_data.info()"
      ]
    },
    {
      "cell_type": "code",
      "execution_count": 25,
      "metadata": {
        "colab": {
          "base_uri": "https://localhost:8080/"
        },
        "id": "Udx-AUU9mwYZ",
        "outputId": "9d588233-4be2-4b09-bb75-5217b1443351"
      },
      "outputs": [
        {
          "data": {
            "text/plain": [
              "array(['Americas', 'South-EastAsia', 'Europe', 'Africa',\n",
              "       'EasternMediterranean', 'WesternPacific', nan], dtype=object)"
            ]
          },
          "execution_count": 25,
          "metadata": {},
          "output_type": "execute_result"
        }
      ],
      "source": [
        "worldometer_data['WHO Region'].unique()"
      ]
    },
    {
      "cell_type": "code",
      "execution_count": 26,
      "metadata": {
        "colab": {
          "base_uri": "https://localhost:8080/",
          "height": 970
        },
        "id": "a_QWoOD9mwYZ",
        "outputId": "6b15a609-0c98-4fd9-deda-fe5e1042d469"
      },
      "outputs": [
        {
          "data": {
            "text/html": [
              "<div>\n",
              "<style scoped>\n",
              "    .dataframe tbody tr th:only-of-type {\n",
              "        vertical-align: middle;\n",
              "    }\n",
              "\n",
              "    .dataframe tbody tr th {\n",
              "        vertical-align: top;\n",
              "    }\n",
              "\n",
              "    .dataframe thead th {\n",
              "        text-align: right;\n",
              "    }\n",
              "</style>\n",
              "<table border=\"1\" class=\"dataframe\">\n",
              "  <thead>\n",
              "    <tr style=\"text-align: right;\">\n",
              "      <th></th>\n",
              "      <th>Country/Region</th>\n",
              "      <th>Continent</th>\n",
              "      <th>Population</th>\n",
              "      <th>TotalCases</th>\n",
              "      <th>TotalDeaths</th>\n",
              "      <th>TotalRecovered</th>\n",
              "      <th>ActiveCases</th>\n",
              "      <th>Serious,Critical</th>\n",
              "      <th>Tot Cases/1M pop</th>\n",
              "      <th>Deaths/1M pop</th>\n",
              "      <th>TotalTests</th>\n",
              "      <th>Tests/1M pop</th>\n",
              "      <th>WHO Region</th>\n",
              "    </tr>\n",
              "  </thead>\n",
              "  <tbody>\n",
              "    <tr>\n",
              "      <th>84</th>\n",
              "      <td>French Guiana</td>\n",
              "      <td>South America</td>\n",
              "      <td>299385.0</td>\n",
              "      <td>8127</td>\n",
              "      <td>47.0</td>\n",
              "      <td>7240.0</td>\n",
              "      <td>840.0</td>\n",
              "      <td>23.0</td>\n",
              "      <td>27146.0</td>\n",
              "      <td>157.0</td>\n",
              "      <td>41412.0</td>\n",
              "      <td>138324.0</td>\n",
              "      <td>NaN</td>\n",
              "    </tr>\n",
              "    <tr>\n",
              "      <th>102</th>\n",
              "      <td>CAR</td>\n",
              "      <td>Africa</td>\n",
              "      <td>4837752.0</td>\n",
              "      <td>4620</td>\n",
              "      <td>59.0</td>\n",
              "      <td>1641.0</td>\n",
              "      <td>2920.0</td>\n",
              "      <td>2.0</td>\n",
              "      <td>955.0</td>\n",
              "      <td>12.0</td>\n",
              "      <td>29589.0</td>\n",
              "      <td>6116.0</td>\n",
              "      <td>NaN</td>\n",
              "    </tr>\n",
              "    <tr>\n",
              "      <th>112</th>\n",
              "      <td>Mayotte</td>\n",
              "      <td>Africa</td>\n",
              "      <td>273419.0</td>\n",
              "      <td>3042</td>\n",
              "      <td>39.0</td>\n",
              "      <td>2738.0</td>\n",
              "      <td>265.0</td>\n",
              "      <td>2.0</td>\n",
              "      <td>11126.0</td>\n",
              "      <td>143.0</td>\n",
              "      <td>13000.0</td>\n",
              "      <td>47546.0</td>\n",
              "      <td>NaN</td>\n",
              "    </tr>\n",
              "    <tr>\n",
              "      <th>158</th>\n",
              "      <td>Réunion</td>\n",
              "      <td>Africa</td>\n",
              "      <td>895952.0</td>\n",
              "      <td>671</td>\n",
              "      <td>5.0</td>\n",
              "      <td>592.0</td>\n",
              "      <td>74.0</td>\n",
              "      <td>3.0</td>\n",
              "      <td>749.0</td>\n",
              "      <td>6.0</td>\n",
              "      <td>35419.0</td>\n",
              "      <td>39532.0</td>\n",
              "      <td>NaN</td>\n",
              "    </tr>\n",
              "    <tr>\n",
              "      <th>159</th>\n",
              "      <td>Channel Islands</td>\n",
              "      <td>Europe</td>\n",
              "      <td>174022.0</td>\n",
              "      <td>597</td>\n",
              "      <td>47.0</td>\n",
              "      <td>533.0</td>\n",
              "      <td>17.0</td>\n",
              "      <td>30.0</td>\n",
              "      <td>3431.0</td>\n",
              "      <td>270.0</td>\n",
              "      <td>30721.0</td>\n",
              "      <td>176535.0</td>\n",
              "      <td>NaN</td>\n",
              "    </tr>\n",
              "    <tr>\n",
              "      <th>167</th>\n",
              "      <td>Isle of Man</td>\n",
              "      <td>Europe</td>\n",
              "      <td>85078.0</td>\n",
              "      <td>336</td>\n",
              "      <td>24.0</td>\n",
              "      <td>312.0</td>\n",
              "      <td>0.0</td>\n",
              "      <td>30.0</td>\n",
              "      <td>3949.0</td>\n",
              "      <td>282.0</td>\n",
              "      <td>8627.0</td>\n",
              "      <td>101401.0</td>\n",
              "      <td>NaN</td>\n",
              "    </tr>\n",
              "    <tr>\n",
              "      <th>170</th>\n",
              "      <td>Guadeloupe</td>\n",
              "      <td>North America</td>\n",
              "      <td>400131.0</td>\n",
              "      <td>279</td>\n",
              "      <td>14.0</td>\n",
              "      <td>179.0</td>\n",
              "      <td>86.0</td>\n",
              "      <td>30.0</td>\n",
              "      <td>697.0</td>\n",
              "      <td>35.0</td>\n",
              "      <td>18476.0</td>\n",
              "      <td>46175.0</td>\n",
              "      <td>NaN</td>\n",
              "    </tr>\n",
              "    <tr>\n",
              "      <th>171</th>\n",
              "      <td>Martinique</td>\n",
              "      <td>North America</td>\n",
              "      <td>375235.0</td>\n",
              "      <td>276</td>\n",
              "      <td>15.0</td>\n",
              "      <td>98.0</td>\n",
              "      <td>163.0</td>\n",
              "      <td>1.0</td>\n",
              "      <td>736.0</td>\n",
              "      <td>40.0</td>\n",
              "      <td>12227.0</td>\n",
              "      <td>32585.0</td>\n",
              "      <td>NaN</td>\n",
              "    </tr>\n",
              "    <tr>\n",
              "      <th>172</th>\n",
              "      <td>Faeroe Islands</td>\n",
              "      <td>Europe</td>\n",
              "      <td>48882.0</td>\n",
              "      <td>266</td>\n",
              "      <td>119.0</td>\n",
              "      <td>192.0</td>\n",
              "      <td>74.0</td>\n",
              "      <td>1.0</td>\n",
              "      <td>5442.0</td>\n",
              "      <td>29.0</td>\n",
              "      <td>43045.0</td>\n",
              "      <td>880590.0</td>\n",
              "      <td>NaN</td>\n",
              "    </tr>\n",
              "    <tr>\n",
              "      <th>173</th>\n",
              "      <td>Aruba</td>\n",
              "      <td>North America</td>\n",
              "      <td>106812.0</td>\n",
              "      <td>263</td>\n",
              "      <td>3.0</td>\n",
              "      <td>114.0</td>\n",
              "      <td>146.0</td>\n",
              "      <td>30.0</td>\n",
              "      <td>2462.0</td>\n",
              "      <td>28.0</td>\n",
              "      <td>14047.0</td>\n",
              "      <td>131511.0</td>\n",
              "      <td>NaN</td>\n",
              "    </tr>\n",
              "    <tr>\n",
              "      <th>176</th>\n",
              "      <td>Cayman Islands</td>\n",
              "      <td>North America</td>\n",
              "      <td>65798.0</td>\n",
              "      <td>203</td>\n",
              "      <td>1.0</td>\n",
              "      <td>202.0</td>\n",
              "      <td>0.0</td>\n",
              "      <td>30.0</td>\n",
              "      <td>3085.0</td>\n",
              "      <td>15.0</td>\n",
              "      <td>31108.0</td>\n",
              "      <td>472780.0</td>\n",
              "      <td>NaN</td>\n",
              "    </tr>\n",
              "    <tr>\n",
              "      <th>177</th>\n",
              "      <td>Gibraltar</td>\n",
              "      <td>Europe</td>\n",
              "      <td>33690.0</td>\n",
              "      <td>190</td>\n",
              "      <td>119.0</td>\n",
              "      <td>184.0</td>\n",
              "      <td>6.0</td>\n",
              "      <td>30.0</td>\n",
              "      <td>5640.0</td>\n",
              "      <td>29.0</td>\n",
              "      <td>23063.0</td>\n",
              "      <td>684565.0</td>\n",
              "      <td>NaN</td>\n",
              "    </tr>\n",
              "    <tr>\n",
              "      <th>179</th>\n",
              "      <td>Sint Maarten</td>\n",
              "      <td>North America</td>\n",
              "      <td>42924.0</td>\n",
              "      <td>160</td>\n",
              "      <td>16.0</td>\n",
              "      <td>64.0</td>\n",
              "      <td>80.0</td>\n",
              "      <td>3.0</td>\n",
              "      <td>3728.0</td>\n",
              "      <td>373.0</td>\n",
              "      <td>1115.0</td>\n",
              "      <td>25976.0</td>\n",
              "      <td>NaN</td>\n",
              "    </tr>\n",
              "    <tr>\n",
              "      <th>181</th>\n",
              "      <td>Brunei</td>\n",
              "      <td>Asia</td>\n",
              "      <td>437893.0</td>\n",
              "      <td>141</td>\n",
              "      <td>3.0</td>\n",
              "      <td>138.0</td>\n",
              "      <td>0.0</td>\n",
              "      <td>30.0</td>\n",
              "      <td>322.0</td>\n",
              "      <td>7.0</td>\n",
              "      <td>41148.0</td>\n",
              "      <td>93968.0</td>\n",
              "      <td>NaN</td>\n",
              "    </tr>\n",
              "    <tr>\n",
              "      <th>183</th>\n",
              "      <td>Turks and Caicos</td>\n",
              "      <td>North America</td>\n",
              "      <td>38768.0</td>\n",
              "      <td>129</td>\n",
              "      <td>2.0</td>\n",
              "      <td>39.0</td>\n",
              "      <td>88.0</td>\n",
              "      <td>3.0</td>\n",
              "      <td>3327.0</td>\n",
              "      <td>52.0</td>\n",
              "      <td>1252.0</td>\n",
              "      <td>32295.0</td>\n",
              "      <td>NaN</td>\n",
              "    </tr>\n",
              "    <tr>\n",
              "      <th>190</th>\n",
              "      <td>French Polynesia</td>\n",
              "      <td>Australia/Oceania</td>\n",
              "      <td>281072.0</td>\n",
              "      <td>64</td>\n",
              "      <td>119.0</td>\n",
              "      <td>62.0</td>\n",
              "      <td>2.0</td>\n",
              "      <td>30.0</td>\n",
              "      <td>228.0</td>\n",
              "      <td>29.0</td>\n",
              "      <td>5849.0</td>\n",
              "      <td>20810.0</td>\n",
              "      <td>NaN</td>\n",
              "    </tr>\n",
              "    <tr>\n",
              "      <th>191</th>\n",
              "      <td>St. Vincent Grenadines</td>\n",
              "      <td>North America</td>\n",
              "      <td>110976.0</td>\n",
              "      <td>56</td>\n",
              "      <td>119.0</td>\n",
              "      <td>46.0</td>\n",
              "      <td>10.0</td>\n",
              "      <td>30.0</td>\n",
              "      <td>505.0</td>\n",
              "      <td>29.0</td>\n",
              "      <td>2447.0</td>\n",
              "      <td>22050.0</td>\n",
              "      <td>NaN</td>\n",
              "    </tr>\n",
              "    <tr>\n",
              "      <th>192</th>\n",
              "      <td>Saint Martin</td>\n",
              "      <td>North America</td>\n",
              "      <td>38729.0</td>\n",
              "      <td>53</td>\n",
              "      <td>3.0</td>\n",
              "      <td>41.0</td>\n",
              "      <td>9.0</td>\n",
              "      <td>1.0</td>\n",
              "      <td>1368.0</td>\n",
              "      <td>77.0</td>\n",
              "      <td>1183.0</td>\n",
              "      <td>30546.0</td>\n",
              "      <td>NaN</td>\n",
              "    </tr>\n",
              "    <tr>\n",
              "      <th>193</th>\n",
              "      <td>Macao</td>\n",
              "      <td>Asia</td>\n",
              "      <td>650193.0</td>\n",
              "      <td>46</td>\n",
              "      <td>119.0</td>\n",
              "      <td>46.0</td>\n",
              "      <td>0.0</td>\n",
              "      <td>30.0</td>\n",
              "      <td>71.0</td>\n",
              "      <td>29.0</td>\n",
              "      <td>4071.0</td>\n",
              "      <td>6261.0</td>\n",
              "      <td>NaN</td>\n",
              "    </tr>\n",
              "    <tr>\n",
              "      <th>194</th>\n",
              "      <td>Curaçao</td>\n",
              "      <td>North America</td>\n",
              "      <td>164161.0</td>\n",
              "      <td>31</td>\n",
              "      <td>1.0</td>\n",
              "      <td>28.0</td>\n",
              "      <td>2.0</td>\n",
              "      <td>30.0</td>\n",
              "      <td>189.0</td>\n",
              "      <td>6.0</td>\n",
              "      <td>1080.0</td>\n",
              "      <td>6579.0</td>\n",
              "      <td>NaN</td>\n",
              "    </tr>\n",
              "    <tr>\n",
              "      <th>199</th>\n",
              "      <td>New Caledonia</td>\n",
              "      <td>Australia/Oceania</td>\n",
              "      <td>285769.0</td>\n",
              "      <td>22</td>\n",
              "      <td>119.0</td>\n",
              "      <td>22.0</td>\n",
              "      <td>0.0</td>\n",
              "      <td>30.0</td>\n",
              "      <td>77.0</td>\n",
              "      <td>29.0</td>\n",
              "      <td>11099.0</td>\n",
              "      <td>38839.0</td>\n",
              "      <td>NaN</td>\n",
              "    </tr>\n",
              "    <tr>\n",
              "      <th>204</th>\n",
              "      <td>Montserrat</td>\n",
              "      <td>North America</td>\n",
              "      <td>4992.0</td>\n",
              "      <td>13</td>\n",
              "      <td>1.0</td>\n",
              "      <td>10.0</td>\n",
              "      <td>2.0</td>\n",
              "      <td>30.0</td>\n",
              "      <td>2604.0</td>\n",
              "      <td>200.0</td>\n",
              "      <td>61.0</td>\n",
              "      <td>12220.0</td>\n",
              "      <td>NaN</td>\n",
              "    </tr>\n",
              "    <tr>\n",
              "      <th>205</th>\n",
              "      <td>Caribbean Netherlands</td>\n",
              "      <td>North America</td>\n",
              "      <td>26247.0</td>\n",
              "      <td>13</td>\n",
              "      <td>119.0</td>\n",
              "      <td>7.0</td>\n",
              "      <td>6.0</td>\n",
              "      <td>30.0</td>\n",
              "      <td>495.0</td>\n",
              "      <td>29.0</td>\n",
              "      <td>424.0</td>\n",
              "      <td>16154.0</td>\n",
              "      <td>NaN</td>\n",
              "    </tr>\n",
              "    <tr>\n",
              "      <th>206</th>\n",
              "      <td>Falkland Islands</td>\n",
              "      <td>South America</td>\n",
              "      <td>3489.0</td>\n",
              "      <td>13</td>\n",
              "      <td>119.0</td>\n",
              "      <td>13.0</td>\n",
              "      <td>0.0</td>\n",
              "      <td>30.0</td>\n",
              "      <td>3726.0</td>\n",
              "      <td>29.0</td>\n",
              "      <td>1816.0</td>\n",
              "      <td>520493.0</td>\n",
              "      <td>NaN</td>\n",
              "    </tr>\n",
              "  </tbody>\n",
              "</table>\n",
              "</div>"
            ],
            "text/plain": [
              "             Country/Region          Continent  Population  TotalCases   \n",
              "84            French Guiana      South America    299385.0        8127  \\\n",
              "102                     CAR             Africa   4837752.0        4620   \n",
              "112                 Mayotte             Africa    273419.0        3042   \n",
              "158                 Réunion             Africa    895952.0         671   \n",
              "159         Channel Islands             Europe    174022.0         597   \n",
              "167             Isle of Man             Europe     85078.0         336   \n",
              "170              Guadeloupe      North America    400131.0         279   \n",
              "171              Martinique      North America    375235.0         276   \n",
              "172          Faeroe Islands             Europe     48882.0         266   \n",
              "173                   Aruba      North America    106812.0         263   \n",
              "176          Cayman Islands      North America     65798.0         203   \n",
              "177               Gibraltar             Europe     33690.0         190   \n",
              "179            Sint Maarten      North America     42924.0         160   \n",
              "181                 Brunei                Asia    437893.0         141   \n",
              "183        Turks and Caicos      North America     38768.0         129   \n",
              "190        French Polynesia  Australia/Oceania    281072.0          64   \n",
              "191  St. Vincent Grenadines      North America    110976.0          56   \n",
              "192            Saint Martin      North America     38729.0          53   \n",
              "193                   Macao               Asia    650193.0          46   \n",
              "194                 Curaçao      North America    164161.0          31   \n",
              "199           New Caledonia  Australia/Oceania    285769.0          22   \n",
              "204              Montserrat      North America      4992.0          13   \n",
              "205   Caribbean Netherlands      North America     26247.0          13   \n",
              "206        Falkland Islands      South America      3489.0          13   \n",
              "\n",
              "     TotalDeaths  TotalRecovered  ActiveCases  Serious,Critical   \n",
              "84          47.0          7240.0        840.0              23.0  \\\n",
              "102         59.0          1641.0       2920.0               2.0   \n",
              "112         39.0          2738.0        265.0               2.0   \n",
              "158          5.0           592.0         74.0               3.0   \n",
              "159         47.0           533.0         17.0              30.0   \n",
              "167         24.0           312.0          0.0              30.0   \n",
              "170         14.0           179.0         86.0              30.0   \n",
              "171         15.0            98.0        163.0               1.0   \n",
              "172        119.0           192.0         74.0               1.0   \n",
              "173          3.0           114.0        146.0              30.0   \n",
              "176          1.0           202.0          0.0              30.0   \n",
              "177        119.0           184.0          6.0              30.0   \n",
              "179         16.0            64.0         80.0               3.0   \n",
              "181          3.0           138.0          0.0              30.0   \n",
              "183          2.0            39.0         88.0               3.0   \n",
              "190        119.0            62.0          2.0              30.0   \n",
              "191        119.0            46.0         10.0              30.0   \n",
              "192          3.0            41.0          9.0               1.0   \n",
              "193        119.0            46.0          0.0              30.0   \n",
              "194          1.0            28.0          2.0              30.0   \n",
              "199        119.0            22.0          0.0              30.0   \n",
              "204          1.0            10.0          2.0              30.0   \n",
              "205        119.0             7.0          6.0              30.0   \n",
              "206        119.0            13.0          0.0              30.0   \n",
              "\n",
              "     Tot Cases/1M pop  Deaths/1M pop  TotalTests  Tests/1M pop WHO Region  \n",
              "84            27146.0          157.0     41412.0      138324.0        NaN  \n",
              "102             955.0           12.0     29589.0        6116.0        NaN  \n",
              "112           11126.0          143.0     13000.0       47546.0        NaN  \n",
              "158             749.0            6.0     35419.0       39532.0        NaN  \n",
              "159            3431.0          270.0     30721.0      176535.0        NaN  \n",
              "167            3949.0          282.0      8627.0      101401.0        NaN  \n",
              "170             697.0           35.0     18476.0       46175.0        NaN  \n",
              "171             736.0           40.0     12227.0       32585.0        NaN  \n",
              "172            5442.0           29.0     43045.0      880590.0        NaN  \n",
              "173            2462.0           28.0     14047.0      131511.0        NaN  \n",
              "176            3085.0           15.0     31108.0      472780.0        NaN  \n",
              "177            5640.0           29.0     23063.0      684565.0        NaN  \n",
              "179            3728.0          373.0      1115.0       25976.0        NaN  \n",
              "181             322.0            7.0     41148.0       93968.0        NaN  \n",
              "183            3327.0           52.0      1252.0       32295.0        NaN  \n",
              "190             228.0           29.0      5849.0       20810.0        NaN  \n",
              "191             505.0           29.0      2447.0       22050.0        NaN  \n",
              "192            1368.0           77.0      1183.0       30546.0        NaN  \n",
              "193              71.0           29.0      4071.0        6261.0        NaN  \n",
              "194             189.0            6.0      1080.0        6579.0        NaN  \n",
              "199              77.0           29.0     11099.0       38839.0        NaN  \n",
              "204            2604.0          200.0        61.0       12220.0        NaN  \n",
              "205             495.0           29.0       424.0       16154.0        NaN  \n",
              "206            3726.0           29.0      1816.0      520493.0        NaN  "
            ]
          },
          "execution_count": 26,
          "metadata": {},
          "output_type": "execute_result"
        }
      ],
      "source": [
        "#Rows with nulls in WHO region\n",
        "worldometer_data.loc[worldometer_data['WHO Region'].isnull(),:]"
      ]
    },
    {
      "cell_type": "code",
      "execution_count": 27,
      "metadata": {
        "id": "uFzLEcVRmwYZ"
      },
      "outputs": [],
      "source": [
        "#Start Filling of WHO Region using Coninent\n",
        "worldometer_data['WHO Region']=worldometer_data['WHO Region'].fillna('0')"
      ]
    },
    {
      "cell_type": "code",
      "execution_count": 28,
      "metadata": {
        "id": "d-2KcdatmwYZ"
      },
      "outputs": [],
      "source": [
        "for index, row in worldometer_data.iterrows():\n",
        "    if(row[12]=='0'):\n",
        "        if(row[1]=='North America' or row[1]=='South America') :\n",
        "            worldometer_data.iloc[index,12]='Americas'\n",
        "        elif(row[1]=='Africa'):\n",
        "            worldometer_data.iloc[index,12]='Africa'\n",
        "        elif(row[1]=='Europe'):\n",
        "            worldometer_data.iloc[index,12]='Europe'\n",
        "        elif(row[1]=='Australia/Oceania'):\n",
        "            worldometer_data.iloc[index,12]='WesternPacific'\n",
        "        elif(row[1]=='Asia'):\n",
        "            worldometer_data.iloc[index,12]='WesternPacific'\n"
      ]
    },
    {
      "cell_type": "code",
      "execution_count": 29,
      "metadata": {
        "colab": {
          "base_uri": "https://localhost:8080/"
        },
        "id": "g8A1XehjmwYZ",
        "outputId": "4fae8df6-d605-41a1-a03f-b1fd767f359a"
      },
      "outputs": [
        {
          "name": "stdout",
          "output_type": "stream",
          "text": [
            "<class 'pandas.core.frame.DataFrame'>\n",
            "Index: 208 entries, 0 to 208\n",
            "Data columns (total 13 columns):\n",
            " #   Column            Non-Null Count  Dtype  \n",
            "---  ------            --------------  -----  \n",
            " 0   Country/Region    208 non-null    object \n",
            " 1   Continent         208 non-null    object \n",
            " 2   Population        208 non-null    float64\n",
            " 3   TotalCases        208 non-null    int64  \n",
            " 4   TotalDeaths       208 non-null    float64\n",
            " 5   TotalRecovered    208 non-null    float64\n",
            " 6   ActiveCases       208 non-null    float64\n",
            " 7   Serious,Critical  208 non-null    float64\n",
            " 8   Tot Cases/1M pop  208 non-null    float64\n",
            " 9   Deaths/1M pop     208 non-null    float64\n",
            " 10  TotalTests        208 non-null    float64\n",
            " 11  Tests/1M pop      208 non-null    float64\n",
            " 12  WHO Region        208 non-null    object \n",
            "dtypes: float64(9), int64(1), object(3)\n",
            "memory usage: 22.8+ KB\n"
          ]
        }
      ],
      "source": [
        "worldometer_data.info()\n",
        "#Finally it is a total clean and ready Data now"
      ]
    },
    {
      "cell_type": "code",
      "execution_count": 30,
      "metadata": {
        "id": "VqwZGKIzmwYZ"
      },
      "outputs": [],
      "source": [
        "usa_county_wise = pd.read_csv('usa_county_wise.csv')"
      ]
    },
    {
      "cell_type": "code",
      "execution_count": 31,
      "metadata": {
        "id": "q5hKg-hmmwYZ"
      },
      "outputs": [
        {
          "data": {
            "text/html": [
              "<div>\n",
              "<style scoped>\n",
              "    .dataframe tbody tr th:only-of-type {\n",
              "        vertical-align: middle;\n",
              "    }\n",
              "\n",
              "    .dataframe tbody tr th {\n",
              "        vertical-align: top;\n",
              "    }\n",
              "\n",
              "    .dataframe thead th {\n",
              "        text-align: right;\n",
              "    }\n",
              "</style>\n",
              "<table border=\"1\" class=\"dataframe\">\n",
              "  <thead>\n",
              "    <tr style=\"text-align: right;\">\n",
              "      <th></th>\n",
              "      <th>UID</th>\n",
              "      <th>iso2</th>\n",
              "      <th>iso3</th>\n",
              "      <th>code3</th>\n",
              "      <th>FIPS</th>\n",
              "      <th>Admin2</th>\n",
              "      <th>Province_State</th>\n",
              "      <th>Country_Region</th>\n",
              "      <th>Lat</th>\n",
              "      <th>Long_</th>\n",
              "      <th>Combined_Key</th>\n",
              "      <th>Date</th>\n",
              "      <th>Confirmed</th>\n",
              "      <th>Deaths</th>\n",
              "    </tr>\n",
              "  </thead>\n",
              "  <tbody>\n",
              "    <tr>\n",
              "      <th>0</th>\n",
              "      <td>16</td>\n",
              "      <td>AS</td>\n",
              "      <td>ASM</td>\n",
              "      <td>16</td>\n",
              "      <td>60.0</td>\n",
              "      <td>NaN</td>\n",
              "      <td>American Samoa</td>\n",
              "      <td>US</td>\n",
              "      <td>-14.271000</td>\n",
              "      <td>-170.132000</td>\n",
              "      <td>American Samoa, US</td>\n",
              "      <td>1/22/20</td>\n",
              "      <td>0</td>\n",
              "      <td>0</td>\n",
              "    </tr>\n",
              "    <tr>\n",
              "      <th>1</th>\n",
              "      <td>316</td>\n",
              "      <td>GU</td>\n",
              "      <td>GUM</td>\n",
              "      <td>316</td>\n",
              "      <td>66.0</td>\n",
              "      <td>NaN</td>\n",
              "      <td>Guam</td>\n",
              "      <td>US</td>\n",
              "      <td>13.444300</td>\n",
              "      <td>144.793700</td>\n",
              "      <td>Guam, US</td>\n",
              "      <td>1/22/20</td>\n",
              "      <td>0</td>\n",
              "      <td>0</td>\n",
              "    </tr>\n",
              "    <tr>\n",
              "      <th>2</th>\n",
              "      <td>580</td>\n",
              "      <td>MP</td>\n",
              "      <td>MNP</td>\n",
              "      <td>580</td>\n",
              "      <td>69.0</td>\n",
              "      <td>NaN</td>\n",
              "      <td>Northern Mariana Islands</td>\n",
              "      <td>US</td>\n",
              "      <td>15.097900</td>\n",
              "      <td>145.673900</td>\n",
              "      <td>Northern Mariana Islands, US</td>\n",
              "      <td>1/22/20</td>\n",
              "      <td>0</td>\n",
              "      <td>0</td>\n",
              "    </tr>\n",
              "    <tr>\n",
              "      <th>3</th>\n",
              "      <td>63072001</td>\n",
              "      <td>PR</td>\n",
              "      <td>PRI</td>\n",
              "      <td>630</td>\n",
              "      <td>72001.0</td>\n",
              "      <td>Adjuntas</td>\n",
              "      <td>Puerto Rico</td>\n",
              "      <td>US</td>\n",
              "      <td>18.180117</td>\n",
              "      <td>-66.754367</td>\n",
              "      <td>Adjuntas, Puerto Rico, US</td>\n",
              "      <td>1/22/20</td>\n",
              "      <td>0</td>\n",
              "      <td>0</td>\n",
              "    </tr>\n",
              "    <tr>\n",
              "      <th>4</th>\n",
              "      <td>63072003</td>\n",
              "      <td>PR</td>\n",
              "      <td>PRI</td>\n",
              "      <td>630</td>\n",
              "      <td>72003.0</td>\n",
              "      <td>Aguada</td>\n",
              "      <td>Puerto Rico</td>\n",
              "      <td>US</td>\n",
              "      <td>18.360255</td>\n",
              "      <td>-67.175131</td>\n",
              "      <td>Aguada, Puerto Rico, US</td>\n",
              "      <td>1/22/20</td>\n",
              "      <td>0</td>\n",
              "      <td>0</td>\n",
              "    </tr>\n",
              "  </tbody>\n",
              "</table>\n",
              "</div>"
            ],
            "text/plain": [
              "        UID iso2 iso3  code3     FIPS    Admin2            Province_State   \n",
              "0        16   AS  ASM     16     60.0       NaN            American Samoa  \\\n",
              "1       316   GU  GUM    316     66.0       NaN                      Guam   \n",
              "2       580   MP  MNP    580     69.0       NaN  Northern Mariana Islands   \n",
              "3  63072001   PR  PRI    630  72001.0  Adjuntas               Puerto Rico   \n",
              "4  63072003   PR  PRI    630  72003.0    Aguada               Puerto Rico   \n",
              "\n",
              "  Country_Region        Lat       Long_                  Combined_Key   \n",
              "0             US -14.271000 -170.132000            American Samoa, US  \\\n",
              "1             US  13.444300  144.793700                      Guam, US   \n",
              "2             US  15.097900  145.673900  Northern Mariana Islands, US   \n",
              "3             US  18.180117  -66.754367     Adjuntas, Puerto Rico, US   \n",
              "4             US  18.360255  -67.175131       Aguada, Puerto Rico, US   \n",
              "\n",
              "      Date  Confirmed  Deaths  \n",
              "0  1/22/20          0       0  \n",
              "1  1/22/20          0       0  \n",
              "2  1/22/20          0       0  \n",
              "3  1/22/20          0       0  \n",
              "4  1/22/20          0       0  "
            ]
          },
          "execution_count": 31,
          "metadata": {},
          "output_type": "execute_result"
        }
      ],
      "source": [
        "usa_county_wise.head()"
      ]
    },
    {
      "cell_type": "code",
      "execution_count": 32,
      "metadata": {
        "id": "fFeCqhetmwYa"
      },
      "outputs": [
        {
          "name": "stdout",
          "output_type": "stream",
          "text": [
            "<class 'pandas.core.frame.DataFrame'>\n",
            "RangeIndex: 627920 entries, 0 to 627919\n",
            "Data columns (total 14 columns):\n",
            " #   Column          Non-Null Count   Dtype  \n",
            "---  ------          --------------   -----  \n",
            " 0   UID             627920 non-null  int64  \n",
            " 1   iso2            627920 non-null  object \n",
            " 2   iso3            627920 non-null  object \n",
            " 3   code3           627920 non-null  int64  \n",
            " 4   FIPS            626040 non-null  float64\n",
            " 5   Admin2          626792 non-null  object \n",
            " 6   Province_State  627920 non-null  object \n",
            " 7   Country_Region  627920 non-null  object \n",
            " 8   Lat             627920 non-null  float64\n",
            " 9   Long_           627920 non-null  float64\n",
            " 10  Combined_Key    627920 non-null  object \n",
            " 11  Date            627920 non-null  object \n",
            " 12  Confirmed       627920 non-null  int64  \n",
            " 13  Deaths          627920 non-null  int64  \n",
            "dtypes: float64(3), int64(4), object(7)\n",
            "memory usage: 67.1+ MB\n"
          ]
        }
      ],
      "source": [
        "usa_county_wise.info()"
      ]
    },
    {
      "cell_type": "code",
      "execution_count": 33,
      "metadata": {
        "id": "R98tBkP4mwYa"
      },
      "outputs": [
        {
          "data": {
            "text/plain": [
              "UID               0.000000\n",
              "iso2              0.000000\n",
              "iso3              0.000000\n",
              "code3             0.000000\n",
              "FIPS              0.299401\n",
              "Admin2            0.179641\n",
              "Province_State    0.000000\n",
              "Country_Region    0.000000\n",
              "Lat               0.000000\n",
              "Long_             0.000000\n",
              "Combined_Key      0.000000\n",
              "Date              0.000000\n",
              "Confirmed         0.000000\n",
              "Deaths            0.000000\n",
              "dtype: float64"
            ]
          },
          "execution_count": 33,
          "metadata": {},
          "output_type": "execute_result"
        }
      ],
      "source": [
        "#Null Percentages\n",
        "usa_county_wise.isnull().sum() * 100 / usa_county_wise.shape[0]"
      ]
    },
    {
      "cell_type": "code",
      "execution_count": 34,
      "metadata": {
        "id": "SsleYdw3mwYa"
      },
      "outputs": [],
      "source": [
        "usa_county_wise.dropna(axis=0,inplace=True)"
      ]
    },
    {
      "cell_type": "code",
      "execution_count": 35,
      "metadata": {
        "id": "ldZsk9fwmwYa"
      },
      "outputs": [
        {
          "data": {
            "text/plain": [
              "UID               0.0\n",
              "iso2              0.0\n",
              "iso3              0.0\n",
              "code3             0.0\n",
              "FIPS              0.0\n",
              "Admin2            0.0\n",
              "Province_State    0.0\n",
              "Country_Region    0.0\n",
              "Lat               0.0\n",
              "Long_             0.0\n",
              "Combined_Key      0.0\n",
              "Date              0.0\n",
              "Confirmed         0.0\n",
              "Deaths            0.0\n",
              "dtype: float64"
            ]
          },
          "execution_count": 35,
          "metadata": {},
          "output_type": "execute_result"
        }
      ],
      "source": [
        "usa_county_wise.isnull().sum() * 100 / usa_county_wise.shape[0]"
      ]
    },
    {
      "cell_type": "markdown",
      "metadata": {
        "id": "5hSX7Fb_mwYa"
      },
      "source": [
        "### Now All data sets in folder are clean and ready for analysis"
      ]
    },
    {
      "cell_type": "markdown",
      "metadata": {
        "id": "xcFgsyfTmwYb"
      },
      "source": [
        "#### Country Wise Data Analysis"
      ]
    },
    {
      "cell_type": "code",
      "execution_count": 36,
      "metadata": {
        "colab": {
          "base_uri": "https://localhost:8080/",
          "height": 322
        },
        "id": "tvvAT6GzmwYb",
        "outputId": "8f1fe868-16ae-453c-c717-ed6615b45249"
      },
      "outputs": [
        {
          "data": {
            "text/html": [
              "<div>\n",
              "<style scoped>\n",
              "    .dataframe tbody tr th:only-of-type {\n",
              "        vertical-align: middle;\n",
              "    }\n",
              "\n",
              "    .dataframe tbody tr th {\n",
              "        vertical-align: top;\n",
              "    }\n",
              "\n",
              "    .dataframe thead th {\n",
              "        text-align: right;\n",
              "    }\n",
              "</style>\n",
              "<table border=\"1\" class=\"dataframe\">\n",
              "  <thead>\n",
              "    <tr style=\"text-align: right;\">\n",
              "      <th></th>\n",
              "      <th>Country</th>\n",
              "      <th>Confirmed</th>\n",
              "      <th>Deaths</th>\n",
              "      <th>Recovered</th>\n",
              "      <th>Active</th>\n",
              "      <th>New cases</th>\n",
              "      <th>New deaths</th>\n",
              "      <th>New recovered</th>\n",
              "      <th>Deaths / 100 Cases</th>\n",
              "      <th>Recovered / 100 Cases</th>\n",
              "      <th>Deaths / 100 Recovered</th>\n",
              "      <th>Confirmed last week</th>\n",
              "      <th>1 week change</th>\n",
              "      <th>1 week % increase</th>\n",
              "      <th>WHO Region</th>\n",
              "    </tr>\n",
              "  </thead>\n",
              "  <tbody>\n",
              "    <tr>\n",
              "      <th>0</th>\n",
              "      <td>Afghanistan</td>\n",
              "      <td>36263</td>\n",
              "      <td>1269</td>\n",
              "      <td>25198</td>\n",
              "      <td>9796</td>\n",
              "      <td>106</td>\n",
              "      <td>10</td>\n",
              "      <td>18</td>\n",
              "      <td>3.50</td>\n",
              "      <td>69.49</td>\n",
              "      <td>5.04</td>\n",
              "      <td>35526</td>\n",
              "      <td>737</td>\n",
              "      <td>2.07</td>\n",
              "      <td>Eastern Mediterranean</td>\n",
              "    </tr>\n",
              "    <tr>\n",
              "      <th>1</th>\n",
              "      <td>Albania</td>\n",
              "      <td>4880</td>\n",
              "      <td>144</td>\n",
              "      <td>2745</td>\n",
              "      <td>1991</td>\n",
              "      <td>117</td>\n",
              "      <td>6</td>\n",
              "      <td>63</td>\n",
              "      <td>2.95</td>\n",
              "      <td>56.25</td>\n",
              "      <td>5.25</td>\n",
              "      <td>4171</td>\n",
              "      <td>709</td>\n",
              "      <td>17.00</td>\n",
              "      <td>Europe</td>\n",
              "    </tr>\n",
              "    <tr>\n",
              "      <th>2</th>\n",
              "      <td>Algeria</td>\n",
              "      <td>27973</td>\n",
              "      <td>1163</td>\n",
              "      <td>18837</td>\n",
              "      <td>7973</td>\n",
              "      <td>616</td>\n",
              "      <td>8</td>\n",
              "      <td>749</td>\n",
              "      <td>4.16</td>\n",
              "      <td>67.34</td>\n",
              "      <td>6.17</td>\n",
              "      <td>23691</td>\n",
              "      <td>4282</td>\n",
              "      <td>18.07</td>\n",
              "      <td>Africa</td>\n",
              "    </tr>\n",
              "    <tr>\n",
              "      <th>3</th>\n",
              "      <td>Andorra</td>\n",
              "      <td>907</td>\n",
              "      <td>52</td>\n",
              "      <td>803</td>\n",
              "      <td>52</td>\n",
              "      <td>10</td>\n",
              "      <td>0</td>\n",
              "      <td>0</td>\n",
              "      <td>5.73</td>\n",
              "      <td>88.53</td>\n",
              "      <td>6.48</td>\n",
              "      <td>884</td>\n",
              "      <td>23</td>\n",
              "      <td>2.60</td>\n",
              "      <td>Europe</td>\n",
              "    </tr>\n",
              "    <tr>\n",
              "      <th>4</th>\n",
              "      <td>Angola</td>\n",
              "      <td>950</td>\n",
              "      <td>41</td>\n",
              "      <td>242</td>\n",
              "      <td>667</td>\n",
              "      <td>18</td>\n",
              "      <td>1</td>\n",
              "      <td>0</td>\n",
              "      <td>4.32</td>\n",
              "      <td>25.47</td>\n",
              "      <td>16.94</td>\n",
              "      <td>749</td>\n",
              "      <td>201</td>\n",
              "      <td>26.84</td>\n",
              "      <td>Africa</td>\n",
              "    </tr>\n",
              "  </tbody>\n",
              "</table>\n",
              "</div>"
            ],
            "text/plain": [
              "       Country  Confirmed  Deaths  Recovered  Active  New cases  New deaths   \n",
              "0  Afghanistan      36263    1269      25198    9796        106          10  \\\n",
              "1      Albania       4880     144       2745    1991        117           6   \n",
              "2      Algeria      27973    1163      18837    7973        616           8   \n",
              "3      Andorra        907      52        803      52         10           0   \n",
              "4       Angola        950      41        242     667         18           1   \n",
              "\n",
              "   New recovered  Deaths / 100 Cases  Recovered / 100 Cases   \n",
              "0             18                3.50                  69.49  \\\n",
              "1             63                2.95                  56.25   \n",
              "2            749                4.16                  67.34   \n",
              "3              0                5.73                  88.53   \n",
              "4              0                4.32                  25.47   \n",
              "\n",
              "   Deaths / 100 Recovered  Confirmed last week  1 week change   \n",
              "0                    5.04                35526            737  \\\n",
              "1                    5.25                 4171            709   \n",
              "2                    6.17                23691           4282   \n",
              "3                    6.48                  884             23   \n",
              "4                   16.94                  749            201   \n",
              "\n",
              "   1 week % increase             WHO Region  \n",
              "0               2.07  Eastern Mediterranean  \n",
              "1              17.00                 Europe  \n",
              "2              18.07                 Africa  \n",
              "3               2.60                 Europe  \n",
              "4              26.84                 Africa  "
            ]
          },
          "execution_count": 36,
          "metadata": {},
          "output_type": "execute_result"
        }
      ],
      "source": [
        "country_wise_latest.rename(columns={'Country/Region':'Country'},inplace=True)\n",
        "country_wise_latest.head()"
      ]
    },
    {
      "cell_type": "code",
      "execution_count": 37,
      "metadata": {
        "id": "rtuCMFUzmwYb"
      },
      "outputs": [],
      "source": [
        "# Get Top 20 Countries which Have Most : Deaths, Recovered, Active, Confirmed\n",
        "country_Deaths = country_wise_latest.loc[:,['Country','Deaths']].sort_values(by='Deaths',ascending=False,ignore_index=True).head(20)\n",
        "country_Recovered = country_wise_latest.loc[:,['Country','Recovered']].sort_values(by='Recovered',ascending=False,ignore_index=True).head(20)\n",
        "country_Active = country_wise_latest.loc[:,['Country','Active']].sort_values(by='Active',ascending=False,ignore_index=True).head(20)\n",
        "country_Confirmed = country_wise_latest.loc[:,['Country','Confirmed']].sort_values(by='Confirmed',ascending=False,ignore_index=True).head(20)"
      ]
    },
    {
      "cell_type": "code",
      "execution_count": null,
      "metadata": {
        "colab": {
          "base_uri": "https://localhost:8080/",
          "height": 542
        },
        "id": "RYkUz_yTmwYc",
        "outputId": "4f0ac698-5932-4db6-8b21-1e8f6aa38790"
      },
      "outputs": [],
      "source": [
        "#Draw Boxplot to look over The outliars\n",
        "cases = ['Confirmed','Deaths','Active','Recovered']\n",
        "px.box(country_wise_latest[cases])"
      ]
    },
    {
      "cell_type": "code",
      "execution_count": null,
      "metadata": {
        "colab": {
          "base_uri": "https://localhost:8080/",
          "height": 452
        },
        "id": "um4A9nltmwYc",
        "outputId": "85b92208-dbc9-43c4-a281-bdb82f62dc5d"
      },
      "outputs": [
        {
          "data": {
            "text/plain": [
              "<Axes: >"
            ]
          },
          "execution_count": 68,
          "metadata": {},
          "output_type": "execute_result"
        },
        {
          "data": {
            "image/png": "[encoded data removed]",
            "text/plain": [
              "<Figure size 640x480 with 2 Axes>"
            ]
          },
          "metadata": {},
          "output_type": "display_data"
        }
      ],
      "source": [
        "#Heat Map To Show Correlation between the columns\n",
        "country_corr = country_wise_latest[cases].corr()\n",
        "sns.heatmap(country_corr,annot=True)"
      ]
    },
    {
      "cell_type": "code",
      "execution_count": 39,
      "metadata": {
        "colab": {
          "base_uri": "https://localhost:8080/",
          "height": 542
        },
        "id": "54IvFKsMmwYc",
        "outputId": "f83f9305-2ef4-4574-f7a5-960478398a60"
      },
      "outputs": [
        {
          "ename": "ValueError",
          "evalue": "Mime type rendering requires nbformat>=4.2.0 but it is not installed",
          "output_type": "error",
          "traceback": [
            "\u001b[1;31m---------------------------------------------------------------------------\u001b[0m",
            "\u001b[1;31mValueError\u001b[0m                                Traceback (most recent call last)",
            "File \u001b[1;32m~\\AppData\\Roaming\\Python\\Python310\\site-packages\\IPython\\core\\formatters.py:922\u001b[0m, in \u001b[0;36mIPythonDisplayFormatter.__call__\u001b[1;34m(self, obj)\u001b[0m\n\u001b[0;32m    920\u001b[0m method \u001b[39m=\u001b[39m get_real_method(obj, \u001b[39mself\u001b[39m\u001b[39m.\u001b[39mprint_method)\n\u001b[0;32m    921\u001b[0m \u001b[39mif\u001b[39;00m method \u001b[39mis\u001b[39;00m \u001b[39mnot\u001b[39;00m \u001b[39mNone\u001b[39;00m:\n\u001b[1;32m--> 922\u001b[0m     method()\n\u001b[0;32m    923\u001b[0m     \u001b[39mreturn\u001b[39;00m \u001b[39mTrue\u001b[39;00m\n",
            "File \u001b[1;32m~\\AppData\\Roaming\\Python\\Python310\\site-packages\\plotly\\basedatatypes.py:834\u001b[0m, in \u001b[0;36mBaseFigure._ipython_display_\u001b[1;34m(self)\u001b[0m\n\u001b[0;32m    831\u001b[0m \u001b[39mimport\u001b[39;00m \u001b[39mplotly\u001b[39;00m\u001b[39m.\u001b[39;00m\u001b[39mio\u001b[39;00m \u001b[39mas\u001b[39;00m \u001b[39mpio\u001b[39;00m\n\u001b[0;32m    833\u001b[0m \u001b[39mif\u001b[39;00m pio\u001b[39m.\u001b[39mrenderers\u001b[39m.\u001b[39mrender_on_display \u001b[39mand\u001b[39;00m pio\u001b[39m.\u001b[39mrenderers\u001b[39m.\u001b[39mdefault:\n\u001b[1;32m--> 834\u001b[0m     pio\u001b[39m.\u001b[39;49mshow(\u001b[39mself\u001b[39;49m)\n\u001b[0;32m    835\u001b[0m \u001b[39melse\u001b[39;00m:\n\u001b[0;32m    836\u001b[0m     \u001b[39mprint\u001b[39m(\u001b[39mrepr\u001b[39m(\u001b[39mself\u001b[39m))\n",
            "File \u001b[1;32m~\\AppData\\Roaming\\Python\\Python310\\site-packages\\plotly\\io\\_renderers.py:396\u001b[0m, in \u001b[0;36mshow\u001b[1;34m(fig, renderer, validate, **kwargs)\u001b[0m\n\u001b[0;32m    391\u001b[0m         \u001b[39mraise\u001b[39;00m \u001b[39mValueError\u001b[39;00m(\n\u001b[0;32m    392\u001b[0m             \u001b[39m\"\u001b[39m\u001b[39mMime type rendering requires ipython but it is not installed\u001b[39m\u001b[39m\"\u001b[39m\n\u001b[0;32m    393\u001b[0m         )\n\u001b[0;32m    395\u001b[0m     \u001b[39mif\u001b[39;00m \u001b[39mnot\u001b[39;00m nbformat \u001b[39mor\u001b[39;00m Version(nbformat\u001b[39m.\u001b[39m__version__) \u001b[39m<\u001b[39m Version(\u001b[39m\"\u001b[39m\u001b[39m4.2.0\u001b[39m\u001b[39m\"\u001b[39m):\n\u001b[1;32m--> 396\u001b[0m         \u001b[39mraise\u001b[39;00m \u001b[39mValueError\u001b[39;00m(\n\u001b[0;32m    397\u001b[0m             \u001b[39m\"\u001b[39m\u001b[39mMime type rendering requires nbformat>=4.2.0 but it is not installed\u001b[39m\u001b[39m\"\u001b[39m\n\u001b[0;32m    398\u001b[0m         )\n\u001b[0;32m    400\u001b[0m     ipython_display\u001b[39m.\u001b[39mdisplay(bundle, raw\u001b[39m=\u001b[39m\u001b[39mTrue\u001b[39;00m)\n\u001b[0;32m    402\u001b[0m \u001b[39m# external renderers\u001b[39;00m\n",
            "\u001b[1;31mValueError\u001b[0m: Mime type rendering requires nbformat>=4.2.0 but it is not installed"
          ]
        },
        {
          "data": {
            "application/vnd.plotly.v1+json": {
              "config": {
                "plotlyServerURL": "https://plot.ly"
              },
              "data": [
                {
                  "alignmentgroup": "True",
                  "hovertemplate": "Country=%{x}<br>Deaths=%{y}<extra></extra>",
                  "legendgroup": "US",
                  "marker": {
                    "color": "#636efa",
                    "pattern": {
                      "shape": ""
                    }
                  },
                  "name": "US",
                  "offsetgroup": "US",
                  "orientation": "v",
                  "showlegend": true,
                  "textposition": "auto",
                  "texttemplate": "%{y:.3s}",
                  "type": "bar",
                  "x": [
                    "US"
                  ],
                  "xaxis": "x",
                  "y": [
                    148011
                  ],
                  "yaxis": "y"
                },
                {
                  "alignmentgroup": "True",
                  "hovertemplate": "Country=%{x}<br>Deaths=%{y}<extra></extra>",
                  "legendgroup": "Brazil",
                  "marker": {
                    "color": "#EF553B",
                    "pattern": {
                      "shape": ""
                    }
                  },
                  "name": "Brazil",
                  "offsetgroup": "Brazil",
                  "orientation": "v",
                  "showlegend": true,
                  "textposition": "auto",
                  "texttemplate": "%{y:.3s}",
                  "type": "bar",
                  "x": [
                    "Brazil"
                  ],
                  "xaxis": "x",
                  "y": [
                    87618
                  ],
                  "yaxis": "y"
                },
                {
                  "alignmentgroup": "True",
                  "hovertemplate": "Country=%{x}<br>Deaths=%{y}<extra></extra>",
                  "legendgroup": "United Kingdom",
                  "marker": {
                    "color": "#00cc96",
                    "pattern": {
                      "shape": ""
                    }
                  },
                  "name": "United Kingdom",
                  "offsetgroup": "United Kingdom",
                  "orientation": "v",
                  "showlegend": true,
                  "textposition": "auto",
                  "texttemplate": "%{y:.3s}",
                  "type": "bar",
                  "x": [
                    "United Kingdom"
                  ],
                  "xaxis": "x",
                  "y": [
                    45844
                  ],
                  "yaxis": "y"
                },
                {
                  "alignmentgroup": "True",
                  "hovertemplate": "Country=%{x}<br>Deaths=%{y}<extra></extra>",
                  "legendgroup": "Mexico",
                  "marker": {
                    "color": "#ab63fa",
                    "pattern": {
                      "shape": ""
                    }
                  },
                  "name": "Mexico",
                  "offsetgroup": "Mexico",
                  "orientation": "v",
                  "showlegend": true,
                  "textposition": "auto",
                  "texttemplate": "%{y:.3s}",
                  "type": "bar",
                  "x": [
                    "Mexico"
                  ],
                  "xaxis": "x",
                  "y": [
                    44022
                  ],
                  "yaxis": "y"
                },
                {
                  "alignmentgroup": "True",
                  "hovertemplate": "Country=%{x}<br>Deaths=%{y}<extra></extra>",
                  "legendgroup": "Italy",
                  "marker": {
                    "color": "#FFA15A",
                    "pattern": {
                      "shape": ""
                    }
                  },
                  "name": "Italy",
                  "offsetgroup": "Italy",
                  "orientation": "v",
                  "showlegend": true,
                  "textposition": "auto",
                  "texttemplate": "%{y:.3s}",
                  "type": "bar",
                  "x": [
                    "Italy"
                  ],
                  "xaxis": "x",
                  "y": [
                    35112
                  ],
                  "yaxis": "y"
                },
                {
                  "alignmentgroup": "True",
                  "hovertemplate": "Country=%{x}<br>Deaths=%{y}<extra></extra>",
                  "legendgroup": "India",
                  "marker": {
                    "color": "#19d3f3",
                    "pattern": {
                      "shape": ""
                    }
                  },
                  "name": "India",
                  "offsetgroup": "India",
                  "orientation": "v",
                  "showlegend": true,
                  "textposition": "auto",
                  "texttemplate": "%{y:.3s}",
                  "type": "bar",
                  "x": [
                    "India"
                  ],
                  "xaxis": "x",
                  "y": [
                    33408
                  ],
                  "yaxis": "y"
                },
                {
                  "alignmentgroup": "True",
                  "hovertemplate": "Country=%{x}<br>Deaths=%{y}<extra></extra>",
                  "legendgroup": "France",
                  "marker": {
                    "color": "#FF6692",
                    "pattern": {
                      "shape": ""
                    }
                  },
                  "name": "France",
                  "offsetgroup": "France",
                  "orientation": "v",
                  "showlegend": true,
                  "textposition": "auto",
                  "texttemplate": "%{y:.3s}",
                  "type": "bar",
                  "x": [
                    "France"
                  ],
                  "xaxis": "x",
                  "y": [
                    30212
                  ],
                  "yaxis": "y"
                },
                {
                  "alignmentgroup": "True",
                  "hovertemplate": "Country=%{x}<br>Deaths=%{y}<extra></extra>",
                  "legendgroup": "Spain",
                  "marker": {
                    "color": "#B6E880",
                    "pattern": {
                      "shape": ""
                    }
                  },
                  "name": "Spain",
                  "offsetgroup": "Spain",
                  "orientation": "v",
                  "showlegend": true,
                  "textposition": "auto",
                  "texttemplate": "%{y:.3s}",
                  "type": "bar",
                  "x": [
                    "Spain"
                  ],
                  "xaxis": "x",
                  "y": [
                    28432
                  ],
                  "yaxis": "y"
                },
                {
                  "alignmentgroup": "True",
                  "hovertemplate": "Country=%{x}<br>Deaths=%{y}<extra></extra>",
                  "legendgroup": "Peru",
                  "marker": {
                    "color": "#FF97FF",
                    "pattern": {
                      "shape": ""
                    }
                  },
                  "name": "Peru",
                  "offsetgroup": "Peru",
                  "orientation": "v",
                  "showlegend": true,
                  "textposition": "auto",
                  "texttemplate": "%{y:.3s}",
                  "type": "bar",
                  "x": [
                    "Peru"
                  ],
                  "xaxis": "x",
                  "y": [
                    18418
                  ],
                  "yaxis": "y"
                },
                {
                  "alignmentgroup": "True",
                  "hovertemplate": "Country=%{x}<br>Deaths=%{y}<extra></extra>",
                  "legendgroup": "Iran",
                  "marker": {
                    "color": "#FECB52",
                    "pattern": {
                      "shape": ""
                    }
                  },
                  "name": "Iran",
                  "offsetgroup": "Iran",
                  "orientation": "v",
                  "showlegend": true,
                  "textposition": "auto",
                  "texttemplate": "%{y:.3s}",
                  "type": "bar",
                  "x": [
                    "Iran"
                  ],
                  "xaxis": "x",
                  "y": [
                    15912
                  ],
                  "yaxis": "y"
                },
                {
                  "alignmentgroup": "True",
                  "hovertemplate": "Country=%{x}<br>Deaths=%{y}<extra></extra>",
                  "legendgroup": "Russia",
                  "marker": {
                    "color": "#636efa",
                    "pattern": {
                      "shape": ""
                    }
                  },
                  "name": "Russia",
                  "offsetgroup": "Russia",
                  "orientation": "v",
                  "showlegend": true,
                  "textposition": "auto",
                  "texttemplate": "%{y:.3s}",
                  "type": "bar",
                  "x": [
                    "Russia"
                  ],
                  "xaxis": "x",
                  "y": [
                    13334
                  ],
                  "yaxis": "y"
                },
                {
                  "alignmentgroup": "True",
                  "hovertemplate": "Country=%{x}<br>Deaths=%{y}<extra></extra>",
                  "legendgroup": "Belgium",
                  "marker": {
                    "color": "#EF553B",
                    "pattern": {
                      "shape": ""
                    }
                  },
                  "name": "Belgium",
                  "offsetgroup": "Belgium",
                  "orientation": "v",
                  "showlegend": true,
                  "textposition": "auto",
                  "texttemplate": "%{y:.3s}",
                  "type": "bar",
                  "x": [
                    "Belgium"
                  ],
                  "xaxis": "x",
                  "y": [
                    9822
                  ],
                  "yaxis": "y"
                },
                {
                  "alignmentgroup": "True",
                  "hovertemplate": "Country=%{x}<br>Deaths=%{y}<extra></extra>",
                  "legendgroup": "Chile",
                  "marker": {
                    "color": "#00cc96",
                    "pattern": {
                      "shape": ""
                    }
                  },
                  "name": "Chile",
                  "offsetgroup": "Chile",
                  "orientation": "v",
                  "showlegend": true,
                  "textposition": "auto",
                  "texttemplate": "%{y:.3s}",
                  "type": "bar",
                  "x": [
                    "Chile"
                  ],
                  "xaxis": "x",
                  "y": [
                    9187
                  ],
                  "yaxis": "y"
                },
                {
                  "alignmentgroup": "True",
                  "hovertemplate": "Country=%{x}<br>Deaths=%{y}<extra></extra>",
                  "legendgroup": "Germany",
                  "marker": {
                    "color": "#ab63fa",
                    "pattern": {
                      "shape": ""
                    }
                  },
                  "name": "Germany",
                  "offsetgroup": "Germany",
                  "orientation": "v",
                  "showlegend": true,
                  "textposition": "auto",
                  "texttemplate": "%{y:.3s}",
                  "type": "bar",
                  "x": [
                    "Germany"
                  ],
                  "xaxis": "x",
                  "y": [
                    9125
                  ],
                  "yaxis": "y"
                },
                {
                  "alignmentgroup": "True",
                  "hovertemplate": "Country=%{x}<br>Deaths=%{y}<extra></extra>",
                  "legendgroup": "Canada",
                  "marker": {
                    "color": "#FFA15A",
                    "pattern": {
                      "shape": ""
                    }
                  },
                  "name": "Canada",
                  "offsetgroup": "Canada",
                  "orientation": "v",
                  "showlegend": true,
                  "textposition": "auto",
                  "texttemplate": "%{y:.3s}",
                  "type": "bar",
                  "x": [
                    "Canada"
                  ],
                  "xaxis": "x",
                  "y": [
                    8944
                  ],
                  "yaxis": "y"
                },
                {
                  "alignmentgroup": "True",
                  "hovertemplate": "Country=%{x}<br>Deaths=%{y}<extra></extra>",
                  "legendgroup": "Colombia",
                  "marker": {
                    "color": "#19d3f3",
                    "pattern": {
                      "shape": ""
                    }
                  },
                  "name": "Colombia",
                  "offsetgroup": "Colombia",
                  "orientation": "v",
                  "showlegend": true,
                  "textposition": "auto",
                  "texttemplate": "%{y:.3s}",
                  "type": "bar",
                  "x": [
                    "Colombia"
                  ],
                  "xaxis": "x",
                  "y": [
                    8777
                  ],
                  "yaxis": "y"
                },
                {
                  "alignmentgroup": "True",
                  "hovertemplate": "Country=%{x}<br>Deaths=%{y}<extra></extra>",
                  "legendgroup": "South Africa",
                  "marker": {
                    "color": "#FF6692",
                    "pattern": {
                      "shape": ""
                    }
                  },
                  "name": "South Africa",
                  "offsetgroup": "South Africa",
                  "orientation": "v",
                  "showlegend": true,
                  "textposition": "auto",
                  "texttemplate": "%{y:.3s}",
                  "type": "bar",
                  "x": [
                    "South Africa"
                  ],
                  "xaxis": "x",
                  "y": [
                    7067
                  ],
                  "yaxis": "y"
                },
                {
                  "alignmentgroup": "True",
                  "hovertemplate": "Country=%{x}<br>Deaths=%{y}<extra></extra>",
                  "legendgroup": "Netherlands",
                  "marker": {
                    "color": "#B6E880",
                    "pattern": {
                      "shape": ""
                    }
                  },
                  "name": "Netherlands",
                  "offsetgroup": "Netherlands",
                  "orientation": "v",
                  "showlegend": true,
                  "textposition": "auto",
                  "texttemplate": "%{y:.3s}",
                  "type": "bar",
                  "x": [
                    "Netherlands"
                  ],
                  "xaxis": "x",
                  "y": [
                    6160
                  ],
                  "yaxis": "y"
                },
                {
                  "alignmentgroup": "True",
                  "hovertemplate": "Country=%{x}<br>Deaths=%{y}<extra></extra>",
                  "legendgroup": "Pakistan",
                  "marker": {
                    "color": "#FF97FF",
                    "pattern": {
                      "shape": ""
                    }
                  },
                  "name": "Pakistan",
                  "offsetgroup": "Pakistan",
                  "orientation": "v",
                  "showlegend": true,
                  "textposition": "auto",
                  "texttemplate": "%{y:.3s}",
                  "type": "bar",
                  "x": [
                    "Pakistan"
                  ],
                  "xaxis": "x",
                  "y": [
                    5842
                  ],
                  "yaxis": "y"
                },
                {
                  "alignmentgroup": "True",
                  "hovertemplate": "Country=%{x}<br>Deaths=%{y}<extra></extra>",
                  "legendgroup": "Sweden",
                  "marker": {
                    "color": "#FECB52",
                    "pattern": {
                      "shape": ""
                    }
                  },
                  "name": "Sweden",
                  "offsetgroup": "Sweden",
                  "orientation": "v",
                  "showlegend": true,
                  "textposition": "auto",
                  "texttemplate": "%{y:.3s}",
                  "type": "bar",
                  "x": [
                    "Sweden"
                  ],
                  "xaxis": "x",
                  "y": [
                    5700
                  ],
                  "yaxis": "y"
                }
              ],
              "layout": {
                "barmode": "relative",
                "legend": {
                  "title": {
                    "text": "Country"
                  },
                  "tracegroupgap": 0
                },
                "template": {
                  "data": {
                    "bar": [
                      {
                        "error_x": {
                          "color": "#f2f5fa"
                        },
                        "error_y": {
                          "color": "#f2f5fa"
                        },
                        "marker": {
                          "line": {
                            "color": "rgb(17,17,17)",
                            "width": 0.5
                          },
                          "pattern": {
                            "fillmode": "overlay",
                            "size": 10,
                            "solidity": 0.2
                          }
                        },
                        "type": "bar"
                      }
                    ],
                    "barpolar": [
                      {
                        "marker": {
                          "line": {
                            "color": "rgb(17,17,17)",
                            "width": 0.5
                          },
                          "pattern": {
                            "fillmode": "overlay",
                            "size": 10,
                            "solidity": 0.2
                          }
                        },
                        "type": "barpolar"
                      }
                    ],
                    "carpet": [
                      {
                        "aaxis": {
                          "endlinecolor": "#A2B1C6",
                          "gridcolor": "#506784",
                          "linecolor": "#506784",
                          "minorgridcolor": "#506784",
                          "startlinecolor": "#A2B1C6"
                        },
                        "baxis": {
                          "endlinecolor": "#A2B1C6",
                          "gridcolor": "#506784",
                          "linecolor": "#506784",
                          "minorgridcolor": "#506784",
                          "startlinecolor": "#A2B1C6"
                        },
                        "type": "carpet"
                      }
                    ],
                    "choropleth": [
                      {
                        "colorbar": {
                          "outlinewidth": 0,
                          "ticks": ""
                        },
                        "type": "choropleth"
                      }
                    ],
                    "contour": [
                      {
                        "colorbar": {
                          "outlinewidth": 0,
                          "ticks": ""
                        },
                        "colorscale": [
                          [
                            0,
                            "#0d0887"
                          ],
                          [
                            0.1111111111111111,
                            "#46039f"
                          ],
                          [
                            0.2222222222222222,
                            "#7201a8"
                          ],
                          [
                            0.3333333333333333,
                            "#9c179e"
                          ],
                          [
                            0.4444444444444444,
                            "#bd3786"
                          ],
                          [
                            0.5555555555555556,
                            "#d8576b"
                          ],
                          [
                            0.6666666666666666,
                            "#ed7953"
                          ],
                          [
                            0.7777777777777778,
                            "#fb9f3a"
                          ],
                          [
                            0.8888888888888888,
                            "#fdca26"
                          ],
                          [
                            1,
                            "#f0f921"
                          ]
                        ],
                        "type": "contour"
                      }
                    ],
                    "contourcarpet": [
                      {
                        "colorbar": {
                          "outlinewidth": 0,
                          "ticks": ""
                        },
                        "type": "contourcarpet"
                      }
                    ],
                    "heatmap": [
                      {
                        "colorbar": {
                          "outlinewidth": 0,
                          "ticks": ""
                        },
                        "colorscale": [
                          [
                            0,
                            "#0d0887"
                          ],
                          [
                            0.1111111111111111,
                            "#46039f"
                          ],
                          [
                            0.2222222222222222,
                            "#7201a8"
                          ],
                          [
                            0.3333333333333333,
                            "#9c179e"
                          ],
                          [
                            0.4444444444444444,
                            "#bd3786"
                          ],
                          [
                            0.5555555555555556,
                            "#d8576b"
                          ],
                          [
                            0.6666666666666666,
                            "#ed7953"
                          ],
                          [
                            0.7777777777777778,
                            "#fb9f3a"
                          ],
                          [
                            0.8888888888888888,
                            "#fdca26"
                          ],
                          [
                            1,
                            "#f0f921"
                          ]
                        ],
                        "type": "heatmap"
                      }
                    ],
                    "heatmapgl": [
                      {
                        "colorbar": {
                          "outlinewidth": 0,
                          "ticks": ""
                        },
                        "colorscale": [
                          [
                            0,
                            "#0d0887"
                          ],
                          [
                            0.1111111111111111,
                            "#46039f"
                          ],
                          [
                            0.2222222222222222,
                            "#7201a8"
                          ],
                          [
                            0.3333333333333333,
                            "#9c179e"
                          ],
                          [
                            0.4444444444444444,
                            "#bd3786"
                          ],
                          [
                            0.5555555555555556,
                            "#d8576b"
                          ],
                          [
                            0.6666666666666666,
                            "#ed7953"
                          ],
                          [
                            0.7777777777777778,
                            "#fb9f3a"
                          ],
                          [
                            0.8888888888888888,
                            "#fdca26"
                          ],
                          [
                            1,
                            "#f0f921"
                          ]
                        ],
                        "type": "heatmapgl"
                      }
                    ],
                    "histogram": [
                      {
                        "marker": {
                          "pattern": {
                            "fillmode": "overlay",
                            "size": 10,
                            "solidity": 0.2
                          }
                        },
                        "type": "histogram"
                      }
                    ],
                    "histogram2d": [
                      {
                        "colorbar": {
                          "outlinewidth": 0,
                          "ticks": ""
                        },
                        "colorscale": [
                          [
                            0,
                            "#0d0887"
                          ],
                          [
                            0.1111111111111111,
                            "#46039f"
                          ],
                          [
                            0.2222222222222222,
                            "#7201a8"
                          ],
                          [
                            0.3333333333333333,
                            "#9c179e"
                          ],
                          [
                            0.4444444444444444,
                            "#bd3786"
                          ],
                          [
                            0.5555555555555556,
                            "#d8576b"
                          ],
                          [
                            0.6666666666666666,
                            "#ed7953"
                          ],
                          [
                            0.7777777777777778,
                            "#fb9f3a"
                          ],
                          [
                            0.8888888888888888,
                            "#fdca26"
                          ],
                          [
                            1,
                            "#f0f921"
                          ]
                        ],
                        "type": "histogram2d"
                      }
                    ],
                    "histogram2dcontour": [
                      {
                        "colorbar": {
                          "outlinewidth": 0,
                          "ticks": ""
                        },
                        "colorscale": [
                          [
                            0,
                            "#0d0887"
                          ],
                          [
                            0.1111111111111111,
                            "#46039f"
                          ],
                          [
                            0.2222222222222222,
                            "#7201a8"
                          ],
                          [
                            0.3333333333333333,
                            "#9c179e"
                          ],
                          [
                            0.4444444444444444,
                            "#bd3786"
                          ],
                          [
                            0.5555555555555556,
                            "#d8576b"
                          ],
                          [
                            0.6666666666666666,
                            "#ed7953"
                          ],
                          [
                            0.7777777777777778,
                            "#fb9f3a"
                          ],
                          [
                            0.8888888888888888,
                            "#fdca26"
                          ],
                          [
                            1,
                            "#f0f921"
                          ]
                        ],
                        "type": "histogram2dcontour"
                      }
                    ],
                    "mesh3d": [
                      {
                        "colorbar": {
                          "outlinewidth": 0,
                          "ticks": ""
                        },
                        "type": "mesh3d"
                      }
                    ],
                    "parcoords": [
                      {
                        "line": {
                          "colorbar": {
                            "outlinewidth": 0,
                            "ticks": ""
                          }
                        },
                        "type": "parcoords"
                      }
                    ],
                    "pie": [
                      {
                        "automargin": true,
                        "type": "pie"
                      }
                    ],
                    "scatter": [
                      {
                        "marker": {
                          "line": {
                            "color": "#283442"
                          }
                        },
                        "type": "scatter"
                      }
                    ],
                    "scatter3d": [
                      {
                        "line": {
                          "colorbar": {
                            "outlinewidth": 0,
                            "ticks": ""
                          }
                        },
                        "marker": {
                          "colorbar": {
                            "outlinewidth": 0,
                            "ticks": ""
                          }
                        },
                        "type": "scatter3d"
                      }
                    ],
                    "scattercarpet": [
                      {
                        "marker": {
                          "colorbar": {
                            "outlinewidth": 0,
                            "ticks": ""
                          }
                        },
                        "type": "scattercarpet"
                      }
                    ],
                    "scattergeo": [
                      {
                        "marker": {
                          "colorbar": {
                            "outlinewidth": 0,
                            "ticks": ""
                          }
                        },
                        "type": "scattergeo"
                      }
                    ],
                    "scattergl": [
                      {
                        "marker": {
                          "line": {
                            "color": "#283442"
                          }
                        },
                        "type": "scattergl"
                      }
                    ],
                    "scattermapbox": [
                      {
                        "marker": {
                          "colorbar": {
                            "outlinewidth": 0,
                            "ticks": ""
                          }
                        },
                        "type": "scattermapbox"
                      }
                    ],
                    "scatterpolar": [
                      {
                        "marker": {
                          "colorbar": {
                            "outlinewidth": 0,
                            "ticks": ""
                          }
                        },
                        "type": "scatterpolar"
                      }
                    ],
                    "scatterpolargl": [
                      {
                        "marker": {
                          "colorbar": {
                            "outlinewidth": 0,
                            "ticks": ""
                          }
                        },
                        "type": "scatterpolargl"
                      }
                    ],
                    "scatterternary": [
                      {
                        "marker": {
                          "colorbar": {
                            "outlinewidth": 0,
                            "ticks": ""
                          }
                        },
                        "type": "scatterternary"
                      }
                    ],
                    "surface": [
                      {
                        "colorbar": {
                          "outlinewidth": 0,
                          "ticks": ""
                        },
                        "colorscale": [
                          [
                            0,
                            "#0d0887"
                          ],
                          [
                            0.1111111111111111,
                            "#46039f"
                          ],
                          [
                            0.2222222222222222,
                            "#7201a8"
                          ],
                          [
                            0.3333333333333333,
                            "#9c179e"
                          ],
                          [
                            0.4444444444444444,
                            "#bd3786"
                          ],
                          [
                            0.5555555555555556,
                            "#d8576b"
                          ],
                          [
                            0.6666666666666666,
                            "#ed7953"
                          ],
                          [
                            0.7777777777777778,
                            "#fb9f3a"
                          ],
                          [
                            0.8888888888888888,
                            "#fdca26"
                          ],
                          [
                            1,
                            "#f0f921"
                          ]
                        ],
                        "type": "surface"
                      }
                    ],
                    "table": [
                      {
                        "cells": {
                          "fill": {
                            "color": "#506784"
                          },
                          "line": {
                            "color": "rgb(17,17,17)"
                          }
                        },
                        "header": {
                          "fill": {
                            "color": "#2a3f5f"
                          },
                          "line": {
                            "color": "rgb(17,17,17)"
                          }
                        },
                        "type": "table"
                      }
                    ]
                  },
                  "layout": {
                    "annotationdefaults": {
                      "arrowcolor": "#f2f5fa",
                      "arrowhead": 0,
                      "arrowwidth": 1
                    },
                    "autotypenumbers": "strict",
                    "coloraxis": {
                      "colorbar": {
                        "outlinewidth": 0,
                        "ticks": ""
                      }
                    },
                    "colorscale": {
                      "diverging": [
                        [
                          0,
                          "#8e0152"
                        ],
                        [
                          0.1,
                          "#c51b7d"
                        ],
                        [
                          0.2,
                          "#de77ae"
                        ],
                        [
                          0.3,
                          "#f1b6da"
                        ],
                        [
                          0.4,
                          "#fde0ef"
                        ],
                        [
                          0.5,
                          "#f7f7f7"
                        ],
                        [
                          0.6,
                          "#e6f5d0"
                        ],
                        [
                          0.7,
                          "#b8e186"
                        ],
                        [
                          0.8,
                          "#7fbc41"
                        ],
                        [
                          0.9,
                          "#4d9221"
                        ],
                        [
                          1,
                          "#276419"
                        ]
                      ],
                      "sequential": [
                        [
                          0,
                          "#0d0887"
                        ],
                        [
                          0.1111111111111111,
                          "#46039f"
                        ],
                        [
                          0.2222222222222222,
                          "#7201a8"
                        ],
                        [
                          0.3333333333333333,
                          "#9c179e"
                        ],
                        [
                          0.4444444444444444,
                          "#bd3786"
                        ],
                        [
                          0.5555555555555556,
                          "#d8576b"
                        ],
                        [
                          0.6666666666666666,
                          "#ed7953"
                        ],
                        [
                          0.7777777777777778,
                          "#fb9f3a"
                        ],
                        [
                          0.8888888888888888,
                          "#fdca26"
                        ],
                        [
                          1,
                          "#f0f921"
                        ]
                      ],
                      "sequentialminus": [
                        [
                          0,
                          "#0d0887"
                        ],
                        [
                          0.1111111111111111,
                          "#46039f"
                        ],
                        [
                          0.2222222222222222,
                          "#7201a8"
                        ],
                        [
                          0.3333333333333333,
                          "#9c179e"
                        ],
                        [
                          0.4444444444444444,
                          "#bd3786"
                        ],
                        [
                          0.5555555555555556,
                          "#d8576b"
                        ],
                        [
                          0.6666666666666666,
                          "#ed7953"
                        ],
                        [
                          0.7777777777777778,
                          "#fb9f3a"
                        ],
                        [
                          0.8888888888888888,
                          "#fdca26"
                        ],
                        [
                          1,
                          "#f0f921"
                        ]
                      ]
                    },
                    "colorway": [
                      "#636efa",
                      "#EF553B",
                      "#00cc96",
                      "#ab63fa",
                      "#FFA15A",
                      "#19d3f3",
                      "#FF6692",
                      "#B6E880",
                      "#FF97FF",
                      "#FECB52"
                    ],
                    "font": {
                      "color": "#f2f5fa"
                    },
                    "geo": {
                      "bgcolor": "rgb(17,17,17)",
                      "lakecolor": "rgb(17,17,17)",
                      "landcolor": "rgb(17,17,17)",
                      "showlakes": true,
                      "showland": true,
                      "subunitcolor": "#506784"
                    },
                    "hoverlabel": {
                      "align": "left"
                    },
                    "hovermode": "closest",
                    "mapbox": {
                      "style": "dark"
                    },
                    "paper_bgcolor": "rgb(17,17,17)",
                    "plot_bgcolor": "rgb(17,17,17)",
                    "polar": {
                      "angularaxis": {
                        "gridcolor": "#506784",
                        "linecolor": "#506784",
                        "ticks": ""
                      },
                      "bgcolor": "rgb(17,17,17)",
                      "radialaxis": {
                        "gridcolor": "#506784",
                        "linecolor": "#506784",
                        "ticks": ""
                      }
                    },
                    "scene": {
                      "xaxis": {
                        "backgroundcolor": "rgb(17,17,17)",
                        "gridcolor": "#506784",
                        "gridwidth": 2,
                        "linecolor": "#506784",
                        "showbackground": true,
                        "ticks": "",
                        "zerolinecolor": "#C8D4E3"
                      },
                      "yaxis": {
                        "backgroundcolor": "rgb(17,17,17)",
                        "gridcolor": "#506784",
                        "gridwidth": 2,
                        "linecolor": "#506784",
                        "showbackground": true,
                        "ticks": "",
                        "zerolinecolor": "#C8D4E3"
                      },
                      "zaxis": {
                        "backgroundcolor": "rgb(17,17,17)",
                        "gridcolor": "#506784",
                        "gridwidth": 2,
                        "linecolor": "#506784",
                        "showbackground": true,
                        "ticks": "",
                        "zerolinecolor": "#C8D4E3"
                      }
                    },
                    "shapedefaults": {
                      "line": {
                        "color": "#f2f5fa"
                      }
                    },
                    "sliderdefaults": {
                      "bgcolor": "#C8D4E3",
                      "bordercolor": "rgb(17,17,17)",
                      "borderwidth": 1,
                      "tickwidth": 0
                    },
                    "ternary": {
                      "aaxis": {
                        "gridcolor": "#506784",
                        "linecolor": "#506784",
                        "ticks": ""
                      },
                      "baxis": {
                        "gridcolor": "#506784",
                        "linecolor": "#506784",
                        "ticks": ""
                      },
                      "bgcolor": "rgb(17,17,17)",
                      "caxis": {
                        "gridcolor": "#506784",
                        "linecolor": "#506784",
                        "ticks": ""
                      }
                    },
                    "title": {
                      "x": 0.05
                    },
                    "updatemenudefaults": {
                      "bgcolor": "#506784",
                      "borderwidth": 0
                    },
                    "xaxis": {
                      "automargin": true,
                      "gridcolor": "#283442",
                      "linecolor": "#506784",
                      "ticks": "",
                      "title": {
                        "standoff": 15
                      },
                      "zerolinecolor": "#283442",
                      "zerolinewidth": 2
                    },
                    "yaxis": {
                      "automargin": true,
                      "gridcolor": "#283442",
                      "linecolor": "#506784",
                      "ticks": "",
                      "title": {
                        "standoff": 15
                      },
                      "zerolinecolor": "#283442",
                      "zerolinewidth": 2
                    }
                  }
                },
                "title": {
                  "text": "Top 20 Country Deaths"
                },
                "xaxis": {
                  "anchor": "y",
                  "categoryarray": [
                    "US",
                    "Brazil",
                    "United Kingdom",
                    "Mexico",
                    "Italy",
                    "India",
                    "France",
                    "Spain",
                    "Peru",
                    "Iran",
                    "Russia",
                    "Belgium",
                    "Chile",
                    "Germany",
                    "Canada",
                    "Colombia",
                    "South Africa",
                    "Netherlands",
                    "Pakistan",
                    "Sweden"
                  ],
                  "categoryorder": "array",
                  "domain": [
                    0,
                    1
                  ],
                  "title": {
                    "text": "Country"
                  }
                },
                "yaxis": {
                  "anchor": "x",
                  "domain": [
                    0,
                    1
                  ],
                  "title": {
                    "text": "Deaths"
                  }
                }
              }
            },
            "text/html": [
              "<div>                        <script type=\"text/javascript\">window.PlotlyConfig = {MathJaxConfig: 'local'};</script>\n",
              "        <script charset=\"utf-8\" src=\"https://cdn.plot.ly/plotly-2.20.0.min.js\"></script>                <div id=\"b71334da-57ca-4179-81cb-aba119ffd328\" class=\"plotly-graph-div\" style=\"height:100%; width:100%;\"></div>            <script type=\"text/javascript\">                                    window.PLOTLYENV=window.PLOTLYENV || {};                                    if (document.getElementById(\"b71334da-57ca-4179-81cb-aba119ffd328\")) {                    Plotly.newPlot(                        \"b71334da-57ca-4179-81cb-aba119ffd328\",                        [{\"alignmentgroup\":\"True\",\"hovertemplate\":\"Country=%{x}<br>Deaths=%{y}<extra></extra>\",\"legendgroup\":\"US\",\"marker\":{\"color\":\"#636efa\",\"pattern\":{\"shape\":\"\"}},\"name\":\"US\",\"offsetgroup\":\"US\",\"orientation\":\"v\",\"showlegend\":true,\"textposition\":\"auto\",\"texttemplate\":\"%{y:.3s}\",\"x\":[\"US\"],\"xaxis\":\"x\",\"y\":[148011],\"yaxis\":\"y\",\"type\":\"bar\"},{\"alignmentgroup\":\"True\",\"hovertemplate\":\"Country=%{x}<br>Deaths=%{y}<extra></extra>\",\"legendgroup\":\"Brazil\",\"marker\":{\"color\":\"#EF553B\",\"pattern\":{\"shape\":\"\"}},\"name\":\"Brazil\",\"offsetgroup\":\"Brazil\",\"orientation\":\"v\",\"showlegend\":true,\"textposition\":\"auto\",\"texttemplate\":\"%{y:.3s}\",\"x\":[\"Brazil\"],\"xaxis\":\"x\",\"y\":[87618],\"yaxis\":\"y\",\"type\":\"bar\"},{\"alignmentgroup\":\"True\",\"hovertemplate\":\"Country=%{x}<br>Deaths=%{y}<extra></extra>\",\"legendgroup\":\"United Kingdom\",\"marker\":{\"color\":\"#00cc96\",\"pattern\":{\"shape\":\"\"}},\"name\":\"United Kingdom\",\"offsetgroup\":\"United Kingdom\",\"orientation\":\"v\",\"showlegend\":true,\"textposition\":\"auto\",\"texttemplate\":\"%{y:.3s}\",\"x\":[\"United Kingdom\"],\"xaxis\":\"x\",\"y\":[45844],\"yaxis\":\"y\",\"type\":\"bar\"},{\"alignmentgroup\":\"True\",\"hovertemplate\":\"Country=%{x}<br>Deaths=%{y}<extra></extra>\",\"legendgroup\":\"Mexico\",\"marker\":{\"color\":\"#ab63fa\",\"pattern\":{\"shape\":\"\"}},\"name\":\"Mexico\",\"offsetgroup\":\"Mexico\",\"orientation\":\"v\",\"showlegend\":true,\"textposition\":\"auto\",\"texttemplate\":\"%{y:.3s}\",\"x\":[\"Mexico\"],\"xaxis\":\"x\",\"y\":[44022],\"yaxis\":\"y\",\"type\":\"bar\"},{\"alignmentgroup\":\"True\",\"hovertemplate\":\"Country=%{x}<br>Deaths=%{y}<extra></extra>\",\"legendgroup\":\"Italy\",\"marker\":{\"color\":\"#FFA15A\",\"pattern\":{\"shape\":\"\"}},\"name\":\"Italy\",\"offsetgroup\":\"Italy\",\"orientation\":\"v\",\"showlegend\":true,\"textposition\":\"auto\",\"texttemplate\":\"%{y:.3s}\",\"x\":[\"Italy\"],\"xaxis\":\"x\",\"y\":[35112],\"yaxis\":\"y\",\"type\":\"bar\"},{\"alignmentgroup\":\"True\",\"hovertemplate\":\"Country=%{x}<br>Deaths=%{y}<extra></extra>\",\"legendgroup\":\"India\",\"marker\":{\"color\":\"#19d3f3\",\"pattern\":{\"shape\":\"\"}},\"name\":\"India\",\"offsetgroup\":\"India\",\"orientation\":\"v\",\"showlegend\":true,\"textposition\":\"auto\",\"texttemplate\":\"%{y:.3s}\",\"x\":[\"India\"],\"xaxis\":\"x\",\"y\":[33408],\"yaxis\":\"y\",\"type\":\"bar\"},{\"alignmentgroup\":\"True\",\"hovertemplate\":\"Country=%{x}<br>Deaths=%{y}<extra></extra>\",\"legendgroup\":\"France\",\"marker\":{\"color\":\"#FF6692\",\"pattern\":{\"shape\":\"\"}},\"name\":\"France\",\"offsetgroup\":\"France\",\"orientation\":\"v\",\"showlegend\":true,\"textposition\":\"auto\",\"texttemplate\":\"%{y:.3s}\",\"x\":[\"France\"],\"xaxis\":\"x\",\"y\":[30212],\"yaxis\":\"y\",\"type\":\"bar\"},{\"alignmentgroup\":\"True\",\"hovertemplate\":\"Country=%{x}<br>Deaths=%{y}<extra></extra>\",\"legendgroup\":\"Spain\",\"marker\":{\"color\":\"#B6E880\",\"pattern\":{\"shape\":\"\"}},\"name\":\"Spain\",\"offsetgroup\":\"Spain\",\"orientation\":\"v\",\"showlegend\":true,\"textposition\":\"auto\",\"texttemplate\":\"%{y:.3s}\",\"x\":[\"Spain\"],\"xaxis\":\"x\",\"y\":[28432],\"yaxis\":\"y\",\"type\":\"bar\"},{\"alignmentgroup\":\"True\",\"hovertemplate\":\"Country=%{x}<br>Deaths=%{y}<extra></extra>\",\"legendgroup\":\"Peru\",\"marker\":{\"color\":\"#FF97FF\",\"pattern\":{\"shape\":\"\"}},\"name\":\"Peru\",\"offsetgroup\":\"Peru\",\"orientation\":\"v\",\"showlegend\":true,\"textposition\":\"auto\",\"texttemplate\":\"%{y:.3s}\",\"x\":[\"Peru\"],\"xaxis\":\"x\",\"y\":[18418],\"yaxis\":\"y\",\"type\":\"bar\"},{\"alignmentgroup\":\"True\",\"hovertemplate\":\"Country=%{x}<br>Deaths=%{y}<extra></extra>\",\"legendgroup\":\"Iran\",\"marker\":{\"color\":\"#FECB52\",\"pattern\":{\"shape\":\"\"}},\"name\":\"Iran\",\"offsetgroup\":\"Iran\",\"orientation\":\"v\",\"showlegend\":true,\"textposition\":\"auto\",\"texttemplate\":\"%{y:.3s}\",\"x\":[\"Iran\"],\"xaxis\":\"x\",\"y\":[15912],\"yaxis\":\"y\",\"type\":\"bar\"},{\"alignmentgroup\":\"True\",\"hovertemplate\":\"Country=%{x}<br>Deaths=%{y}<extra></extra>\",\"legendgroup\":\"Russia\",\"marker\":{\"color\":\"#636efa\",\"pattern\":{\"shape\":\"\"}},\"name\":\"Russia\",\"offsetgroup\":\"Russia\",\"orientation\":\"v\",\"showlegend\":true,\"textposition\":\"auto\",\"texttemplate\":\"%{y:.3s}\",\"x\":[\"Russia\"],\"xaxis\":\"x\",\"y\":[13334],\"yaxis\":\"y\",\"type\":\"bar\"},{\"alignmentgroup\":\"True\",\"hovertemplate\":\"Country=%{x}<br>Deaths=%{y}<extra></extra>\",\"legendgroup\":\"Belgium\",\"marker\":{\"color\":\"#EF553B\",\"pattern\":{\"shape\":\"\"}},\"name\":\"Belgium\",\"offsetgroup\":\"Belgium\",\"orientation\":\"v\",\"showlegend\":true,\"textposition\":\"auto\",\"texttemplate\":\"%{y:.3s}\",\"x\":[\"Belgium\"],\"xaxis\":\"x\",\"y\":[9822],\"yaxis\":\"y\",\"type\":\"bar\"},{\"alignmentgroup\":\"True\",\"hovertemplate\":\"Country=%{x}<br>Deaths=%{y}<extra></extra>\",\"legendgroup\":\"Chile\",\"marker\":{\"color\":\"#00cc96\",\"pattern\":{\"shape\":\"\"}},\"name\":\"Chile\",\"offsetgroup\":\"Chile\",\"orientation\":\"v\",\"showlegend\":true,\"textposition\":\"auto\",\"texttemplate\":\"%{y:.3s}\",\"x\":[\"Chile\"],\"xaxis\":\"x\",\"y\":[9187],\"yaxis\":\"y\",\"type\":\"bar\"},{\"alignmentgroup\":\"True\",\"hovertemplate\":\"Country=%{x}<br>Deaths=%{y}<extra></extra>\",\"legendgroup\":\"Germany\",\"marker\":{\"color\":\"#ab63fa\",\"pattern\":{\"shape\":\"\"}},\"name\":\"Germany\",\"offsetgroup\":\"Germany\",\"orientation\":\"v\",\"showlegend\":true,\"textposition\":\"auto\",\"texttemplate\":\"%{y:.3s}\",\"x\":[\"Germany\"],\"xaxis\":\"x\",\"y\":[9125],\"yaxis\":\"y\",\"type\":\"bar\"},{\"alignmentgroup\":\"True\",\"hovertemplate\":\"Country=%{x}<br>Deaths=%{y}<extra></extra>\",\"legendgroup\":\"Canada\",\"marker\":{\"color\":\"#FFA15A\",\"pattern\":{\"shape\":\"\"}},\"name\":\"Canada\",\"offsetgroup\":\"Canada\",\"orientation\":\"v\",\"showlegend\":true,\"textposition\":\"auto\",\"texttemplate\":\"%{y:.3s}\",\"x\":[\"Canada\"],\"xaxis\":\"x\",\"y\":[8944],\"yaxis\":\"y\",\"type\":\"bar\"},{\"alignmentgroup\":\"True\",\"hovertemplate\":\"Country=%{x}<br>Deaths=%{y}<extra></extra>\",\"legendgroup\":\"Colombia\",\"marker\":{\"color\":\"#19d3f3\",\"pattern\":{\"shape\":\"\"}},\"name\":\"Colombia\",\"offsetgroup\":\"Colombia\",\"orientation\":\"v\",\"showlegend\":true,\"textposition\":\"auto\",\"texttemplate\":\"%{y:.3s}\",\"x\":[\"Colombia\"],\"xaxis\":\"x\",\"y\":[8777],\"yaxis\":\"y\",\"type\":\"bar\"},{\"alignmentgroup\":\"True\",\"hovertemplate\":\"Country=%{x}<br>Deaths=%{y}<extra></extra>\",\"legendgroup\":\"South Africa\",\"marker\":{\"color\":\"#FF6692\",\"pattern\":{\"shape\":\"\"}},\"name\":\"South Africa\",\"offsetgroup\":\"South Africa\",\"orientation\":\"v\",\"showlegend\":true,\"textposition\":\"auto\",\"texttemplate\":\"%{y:.3s}\",\"x\":[\"South Africa\"],\"xaxis\":\"x\",\"y\":[7067],\"yaxis\":\"y\",\"type\":\"bar\"},{\"alignmentgroup\":\"True\",\"hovertemplate\":\"Country=%{x}<br>Deaths=%{y}<extra></extra>\",\"legendgroup\":\"Netherlands\",\"marker\":{\"color\":\"#B6E880\",\"pattern\":{\"shape\":\"\"}},\"name\":\"Netherlands\",\"offsetgroup\":\"Netherlands\",\"orientation\":\"v\",\"showlegend\":true,\"textposition\":\"auto\",\"texttemplate\":\"%{y:.3s}\",\"x\":[\"Netherlands\"],\"xaxis\":\"x\",\"y\":[6160],\"yaxis\":\"y\",\"type\":\"bar\"},{\"alignmentgroup\":\"True\",\"hovertemplate\":\"Country=%{x}<br>Deaths=%{y}<extra></extra>\",\"legendgroup\":\"Pakistan\",\"marker\":{\"color\":\"#FF97FF\",\"pattern\":{\"shape\":\"\"}},\"name\":\"Pakistan\",\"offsetgroup\":\"Pakistan\",\"orientation\":\"v\",\"showlegend\":true,\"textposition\":\"auto\",\"texttemplate\":\"%{y:.3s}\",\"x\":[\"Pakistan\"],\"xaxis\":\"x\",\"y\":[5842],\"yaxis\":\"y\",\"type\":\"bar\"},{\"alignmentgroup\":\"True\",\"hovertemplate\":\"Country=%{x}<br>Deaths=%{y}<extra></extra>\",\"legendgroup\":\"Sweden\",\"marker\":{\"color\":\"#FECB52\",\"pattern\":{\"shape\":\"\"}},\"name\":\"Sweden\",\"offsetgroup\":\"Sweden\",\"orientation\":\"v\",\"showlegend\":true,\"textposition\":\"auto\",\"texttemplate\":\"%{y:.3s}\",\"x\":[\"Sweden\"],\"xaxis\":\"x\",\"y\":[5700],\"yaxis\":\"y\",\"type\":\"bar\"}],                        {\"template\":{\"data\":{\"barpolar\":[{\"marker\":{\"line\":{\"color\":\"rgb(17,17,17)\",\"width\":0.5},\"pattern\":{\"fillmode\":\"overlay\",\"size\":10,\"solidity\":0.2}},\"type\":\"barpolar\"}],\"bar\":[{\"error_x\":{\"color\":\"#f2f5fa\"},\"error_y\":{\"color\":\"#f2f5fa\"},\"marker\":{\"line\":{\"color\":\"rgb(17,17,17)\",\"width\":0.5},\"pattern\":{\"fillmode\":\"overlay\",\"size\":10,\"solidity\":0.2}},\"type\":\"bar\"}],\"carpet\":[{\"aaxis\":{\"endlinecolor\":\"#A2B1C6\",\"gridcolor\":\"#506784\",\"linecolor\":\"#506784\",\"minorgridcolor\":\"#506784\",\"startlinecolor\":\"#A2B1C6\"},\"baxis\":{\"endlinecolor\":\"#A2B1C6\",\"gridcolor\":\"#506784\",\"linecolor\":\"#506784\",\"minorgridcolor\":\"#506784\",\"startlinecolor\":\"#A2B1C6\"},\"type\":\"carpet\"}],\"choropleth\":[{\"colorbar\":{\"outlinewidth\":0,\"ticks\":\"\"},\"type\":\"choropleth\"}],\"contourcarpet\":[{\"colorbar\":{\"outlinewidth\":0,\"ticks\":\"\"},\"type\":\"contourcarpet\"}],\"contour\":[{\"colorbar\":{\"outlinewidth\":0,\"ticks\":\"\"},\"colorscale\":[[0.0,\"#0d0887\"],[0.1111111111111111,\"#46039f\"],[0.2222222222222222,\"#7201a8\"],[0.3333333333333333,\"#9c179e\"],[0.4444444444444444,\"#bd3786\"],[0.5555555555555556,\"#d8576b\"],[0.6666666666666666,\"#ed7953\"],[0.7777777777777778,\"#fb9f3a\"],[0.8888888888888888,\"#fdca26\"],[1.0,\"#f0f921\"]],\"type\":\"contour\"}],\"heatmapgl\":[{\"colorbar\":{\"outlinewidth\":0,\"ticks\":\"\"},\"colorscale\":[[0.0,\"#0d0887\"],[0.1111111111111111,\"#46039f\"],[0.2222222222222222,\"#7201a8\"],[0.3333333333333333,\"#9c179e\"],[0.4444444444444444,\"#bd3786\"],[0.5555555555555556,\"#d8576b\"],[0.6666666666666666,\"#ed7953\"],[0.7777777777777778,\"#fb9f3a\"],[0.8888888888888888,\"#fdca26\"],[1.0,\"#f0f921\"]],\"type\":\"heatmapgl\"}],\"heatmap\":[{\"colorbar\":{\"outlinewidth\":0,\"ticks\":\"\"},\"colorscale\":[[0.0,\"#0d0887\"],[0.1111111111111111,\"#46039f\"],[0.2222222222222222,\"#7201a8\"],[0.3333333333333333,\"#9c179e\"],[0.4444444444444444,\"#bd3786\"],[0.5555555555555556,\"#d8576b\"],[0.6666666666666666,\"#ed7953\"],[0.7777777777777778,\"#fb9f3a\"],[0.8888888888888888,\"#fdca26\"],[1.0,\"#f0f921\"]],\"type\":\"heatmap\"}],\"histogram2dcontour\":[{\"colorbar\":{\"outlinewidth\":0,\"ticks\":\"\"},\"colorscale\":[[0.0,\"#0d0887\"],[0.1111111111111111,\"#46039f\"],[0.2222222222222222,\"#7201a8\"],[0.3333333333333333,\"#9c179e\"],[0.4444444444444444,\"#bd3786\"],[0.5555555555555556,\"#d8576b\"],[0.6666666666666666,\"#ed7953\"],[0.7777777777777778,\"#fb9f3a\"],[0.8888888888888888,\"#fdca26\"],[1.0,\"#f0f921\"]],\"type\":\"histogram2dcontour\"}],\"histogram2d\":[{\"colorbar\":{\"outlinewidth\":0,\"ticks\":\"\"},\"colorscale\":[[0.0,\"#0d0887\"],[0.1111111111111111,\"#46039f\"],[0.2222222222222222,\"#7201a8\"],[0.3333333333333333,\"#9c179e\"],[0.4444444444444444,\"#bd3786\"],[0.5555555555555556,\"#d8576b\"],[0.6666666666666666,\"#ed7953\"],[0.7777777777777778,\"#fb9f3a\"],[0.8888888888888888,\"#fdca26\"],[1.0,\"#f0f921\"]],\"type\":\"histogram2d\"}],\"histogram\":[{\"marker\":{\"pattern\":{\"fillmode\":\"overlay\",\"size\":10,\"solidity\":0.2}},\"type\":\"histogram\"}],\"mesh3d\":[{\"colorbar\":{\"outlinewidth\":0,\"ticks\":\"\"},\"type\":\"mesh3d\"}],\"parcoords\":[{\"line\":{\"colorbar\":{\"outlinewidth\":0,\"ticks\":\"\"}},\"type\":\"parcoords\"}],\"pie\":[{\"automargin\":true,\"type\":\"pie\"}],\"scatter3d\":[{\"line\":{\"colorbar\":{\"outlinewidth\":0,\"ticks\":\"\"}},\"marker\":{\"colorbar\":{\"outlinewidth\":0,\"ticks\":\"\"}},\"type\":\"scatter3d\"}],\"scattercarpet\":[{\"marker\":{\"colorbar\":{\"outlinewidth\":0,\"ticks\":\"\"}},\"type\":\"scattercarpet\"}],\"scattergeo\":[{\"marker\":{\"colorbar\":{\"outlinewidth\":0,\"ticks\":\"\"}},\"type\":\"scattergeo\"}],\"scattergl\":[{\"marker\":{\"line\":{\"color\":\"#283442\"}},\"type\":\"scattergl\"}],\"scattermapbox\":[{\"marker\":{\"colorbar\":{\"outlinewidth\":0,\"ticks\":\"\"}},\"type\":\"scattermapbox\"}],\"scatterpolargl\":[{\"marker\":{\"colorbar\":{\"outlinewidth\":0,\"ticks\":\"\"}},\"type\":\"scatterpolargl\"}],\"scatterpolar\":[{\"marker\":{\"colorbar\":{\"outlinewidth\":0,\"ticks\":\"\"}},\"type\":\"scatterpolar\"}],\"scatter\":[{\"marker\":{\"line\":{\"color\":\"#283442\"}},\"type\":\"scatter\"}],\"scatterternary\":[{\"marker\":{\"colorbar\":{\"outlinewidth\":0,\"ticks\":\"\"}},\"type\":\"scatterternary\"}],\"surface\":[{\"colorbar\":{\"outlinewidth\":0,\"ticks\":\"\"},\"colorscale\":[[0.0,\"#0d0887\"],[0.1111111111111111,\"#46039f\"],[0.2222222222222222,\"#7201a8\"],[0.3333333333333333,\"#9c179e\"],[0.4444444444444444,\"#bd3786\"],[0.5555555555555556,\"#d8576b\"],[0.6666666666666666,\"#ed7953\"],[0.7777777777777778,\"#fb9f3a\"],[0.8888888888888888,\"#fdca26\"],[1.0,\"#f0f921\"]],\"type\":\"surface\"}],\"table\":[{\"cells\":{\"fill\":{\"color\":\"#506784\"},\"line\":{\"color\":\"rgb(17,17,17)\"}},\"header\":{\"fill\":{\"color\":\"#2a3f5f\"},\"line\":{\"color\":\"rgb(17,17,17)\"}},\"type\":\"table\"}]},\"layout\":{\"annotationdefaults\":{\"arrowcolor\":\"#f2f5fa\",\"arrowhead\":0,\"arrowwidth\":1},\"autotypenumbers\":\"strict\",\"coloraxis\":{\"colorbar\":{\"outlinewidth\":0,\"ticks\":\"\"}},\"colorscale\":{\"diverging\":[[0,\"#8e0152\"],[0.1,\"#c51b7d\"],[0.2,\"#de77ae\"],[0.3,\"#f1b6da\"],[0.4,\"#fde0ef\"],[0.5,\"#f7f7f7\"],[0.6,\"#e6f5d0\"],[0.7,\"#b8e186\"],[0.8,\"#7fbc41\"],[0.9,\"#4d9221\"],[1,\"#276419\"]],\"sequential\":[[0.0,\"#0d0887\"],[0.1111111111111111,\"#46039f\"],[0.2222222222222222,\"#7201a8\"],[0.3333333333333333,\"#9c179e\"],[0.4444444444444444,\"#bd3786\"],[0.5555555555555556,\"#d8576b\"],[0.6666666666666666,\"#ed7953\"],[0.7777777777777778,\"#fb9f3a\"],[0.8888888888888888,\"#fdca26\"],[1.0,\"#f0f921\"]],\"sequentialminus\":[[0.0,\"#0d0887\"],[0.1111111111111111,\"#46039f\"],[0.2222222222222222,\"#7201a8\"],[0.3333333333333333,\"#9c179e\"],[0.4444444444444444,\"#bd3786\"],[0.5555555555555556,\"#d8576b\"],[0.6666666666666666,\"#ed7953\"],[0.7777777777777778,\"#fb9f3a\"],[0.8888888888888888,\"#fdca26\"],[1.0,\"#f0f921\"]]},\"colorway\":[\"#636efa\",\"#EF553B\",\"#00cc96\",\"#ab63fa\",\"#FFA15A\",\"#19d3f3\",\"#FF6692\",\"#B6E880\",\"#FF97FF\",\"#FECB52\"],\"font\":{\"color\":\"#f2f5fa\"},\"geo\":{\"bgcolor\":\"rgb(17,17,17)\",\"lakecolor\":\"rgb(17,17,17)\",\"landcolor\":\"rgb(17,17,17)\",\"showlakes\":true,\"showland\":true,\"subunitcolor\":\"#506784\"},\"hoverlabel\":{\"align\":\"left\"},\"hovermode\":\"closest\",\"mapbox\":{\"style\":\"dark\"},\"paper_bgcolor\":\"rgb(17,17,17)\",\"plot_bgcolor\":\"rgb(17,17,17)\",\"polar\":{\"angularaxis\":{\"gridcolor\":\"#506784\",\"linecolor\":\"#506784\",\"ticks\":\"\"},\"bgcolor\":\"rgb(17,17,17)\",\"radialaxis\":{\"gridcolor\":\"#506784\",\"linecolor\":\"#506784\",\"ticks\":\"\"}},\"scene\":{\"xaxis\":{\"backgroundcolor\":\"rgb(17,17,17)\",\"gridcolor\":\"#506784\",\"gridwidth\":2,\"linecolor\":\"#506784\",\"showbackground\":true,\"ticks\":\"\",\"zerolinecolor\":\"#C8D4E3\"},\"yaxis\":{\"backgroundcolor\":\"rgb(17,17,17)\",\"gridcolor\":\"#506784\",\"gridwidth\":2,\"linecolor\":\"#506784\",\"showbackground\":true,\"ticks\":\"\",\"zerolinecolor\":\"#C8D4E3\"},\"zaxis\":{\"backgroundcolor\":\"rgb(17,17,17)\",\"gridcolor\":\"#506784\",\"gridwidth\":2,\"linecolor\":\"#506784\",\"showbackground\":true,\"ticks\":\"\",\"zerolinecolor\":\"#C8D4E3\"}},\"shapedefaults\":{\"line\":{\"color\":\"#f2f5fa\"}},\"sliderdefaults\":{\"bgcolor\":\"#C8D4E3\",\"bordercolor\":\"rgb(17,17,17)\",\"borderwidth\":1,\"tickwidth\":0},\"ternary\":{\"aaxis\":{\"gridcolor\":\"#506784\",\"linecolor\":\"#506784\",\"ticks\":\"\"},\"baxis\":{\"gridcolor\":\"#506784\",\"linecolor\":\"#506784\",\"ticks\":\"\"},\"bgcolor\":\"rgb(17,17,17)\",\"caxis\":{\"gridcolor\":\"#506784\",\"linecolor\":\"#506784\",\"ticks\":\"\"}},\"title\":{\"x\":0.05},\"updatemenudefaults\":{\"bgcolor\":\"#506784\",\"borderwidth\":0},\"xaxis\":{\"automargin\":true,\"gridcolor\":\"#283442\",\"linecolor\":\"#506784\",\"ticks\":\"\",\"title\":{\"standoff\":15},\"zerolinecolor\":\"#283442\",\"zerolinewidth\":2},\"yaxis\":{\"automargin\":true,\"gridcolor\":\"#283442\",\"linecolor\":\"#506784\",\"ticks\":\"\",\"title\":{\"standoff\":15},\"zerolinecolor\":\"#283442\",\"zerolinewidth\":2}}},\"xaxis\":{\"anchor\":\"y\",\"domain\":[0.0,1.0],\"title\":{\"text\":\"Country\"},\"categoryorder\":\"array\",\"categoryarray\":[\"US\",\"Brazil\",\"United Kingdom\",\"Mexico\",\"Italy\",\"India\",\"France\",\"Spain\",\"Peru\",\"Iran\",\"Russia\",\"Belgium\",\"Chile\",\"Germany\",\"Canada\",\"Colombia\",\"South Africa\",\"Netherlands\",\"Pakistan\",\"Sweden\"]},\"yaxis\":{\"anchor\":\"x\",\"domain\":[0.0,1.0],\"title\":{\"text\":\"Deaths\"}},\"legend\":{\"title\":{\"text\":\"Country\"},\"tracegroupgap\":0},\"title\":{\"text\":\"Top 20 Country Deaths\"},\"barmode\":\"relative\"},                        {\"responsive\": true}                    )                };                            </script>        </div>"
            ],
            "text/plain": [
              "Figure({\n",
              "    'data': [{'alignmentgroup': 'True',\n",
              "              'hovertemplate': 'Country=%{x}<br>Deaths=%{y}<extra></extra>',\n",
              "              'legendgroup': 'US',\n",
              "              'marker': {'color': '#636efa', 'pattern': {'shape': ''}},\n",
              "              'name': 'US',\n",
              "              'offsetgroup': 'US',\n",
              "              'orientation': 'v',\n",
              "              'showlegend': True,\n",
              "              'textposition': 'auto',\n",
              "              'texttemplate': '%{y:.3s}',\n",
              "              'type': 'bar',\n",
              "              'x': array(['US'], dtype=object),\n",
              "              'xaxis': 'x',\n",
              "              'y': array([148011], dtype=int64),\n",
              "              'yaxis': 'y'},\n",
              "             {'alignmentgroup': 'True',\n",
              "              'hovertemplate': 'Country=%{x}<br>Deaths=%{y}<extra></extra>',\n",
              "              'legendgroup': 'Brazil',\n",
              "              'marker': {'color': '#EF553B', 'pattern': {'shape': ''}},\n",
              "              'name': 'Brazil',\n",
              "              'offsetgroup': 'Brazil',\n",
              "              'orientation': 'v',\n",
              "              'showlegend': True,\n",
              "              'textposition': 'auto',\n",
              "              'texttemplate': '%{y:.3s}',\n",
              "              'type': 'bar',\n",
              "              'x': array(['Brazil'], dtype=object),\n",
              "              'xaxis': 'x',\n",
              "              'y': array([87618], dtype=int64),\n",
              "              'yaxis': 'y'},\n",
              "             {'alignmentgroup': 'True',\n",
              "              'hovertemplate': 'Country=%{x}<br>Deaths=%{y}<extra></extra>',\n",
              "              'legendgroup': 'United Kingdom',\n",
              "              'marker': {'color': '#00cc96', 'pattern': {'shape': ''}},\n",
              "              'name': 'United Kingdom',\n",
              "              'offsetgroup': 'United Kingdom',\n",
              "              'orientation': 'v',\n",
              "              'showlegend': True,\n",
              "              'textposition': 'auto',\n",
              "              'texttemplate': '%{y:.3s}',\n",
              "              'type': 'bar',\n",
              "              'x': array(['United Kingdom'], dtype=object),\n",
              "              'xaxis': 'x',\n",
              "              'y': array([45844], dtype=int64),\n",
              "              'yaxis': 'y'},\n",
              "             {'alignmentgroup': 'True',\n",
              "              'hovertemplate': 'Country=%{x}<br>Deaths=%{y}<extra></extra>',\n",
              "              'legendgroup': 'Mexico',\n",
              "              'marker': {'color': '#ab63fa', 'pattern': {'shape': ''}},\n",
              "              'name': 'Mexico',\n",
              "              'offsetgroup': 'Mexico',\n",
              "              'orientation': 'v',\n",
              "              'showlegend': True,\n",
              "              'textposition': 'auto',\n",
              "              'texttemplate': '%{y:.3s}',\n",
              "              'type': 'bar',\n",
              "              'x': array(['Mexico'], dtype=object),\n",
              "              'xaxis': 'x',\n",
              "              'y': array([44022], dtype=int64),\n",
              "              'yaxis': 'y'},\n",
              "             {'alignmentgroup': 'True',\n",
              "              'hovertemplate': 'Country=%{x}<br>Deaths=%{y}<extra></extra>',\n",
              "              'legendgroup': 'Italy',\n",
              "              'marker': {'color': '#FFA15A', 'pattern': {'shape': ''}},\n",
              "              'name': 'Italy',\n",
              "              'offsetgroup': 'Italy',\n",
              "              'orientation': 'v',\n",
              "              'showlegend': True,\n",
              "              'textposition': 'auto',\n",
              "              'texttemplate': '%{y:.3s}',\n",
              "              'type': 'bar',\n",
              "              'x': array(['Italy'], dtype=object),\n",
              "              'xaxis': 'x',\n",
              "              'y': array([35112], dtype=int64),\n",
              "              'yaxis': 'y'},\n",
              "             {'alignmentgroup': 'True',\n",
              "              'hovertemplate': 'Country=%{x}<br>Deaths=%{y}<extra></extra>',\n",
              "              'legendgroup': 'India',\n",
              "              'marker': {'color': '#19d3f3', 'pattern': {'shape': ''}},\n",
              "              'name': 'India',\n",
              "              'offsetgroup': 'India',\n",
              "              'orientation': 'v',\n",
              "              'showlegend': True,\n",
              "              'textposition': 'auto',\n",
              "              'texttemplate': '%{y:.3s}',\n",
              "              'type': 'bar',\n",
              "              'x': array(['India'], dtype=object),\n",
              "              'xaxis': 'x',\n",
              "              'y': array([33408], dtype=int64),\n",
              "              'yaxis': 'y'},\n",
              "             {'alignmentgroup': 'True',\n",
              "              'hovertemplate': 'Country=%{x}<br>Deaths=%{y}<extra></extra>',\n",
              "              'legendgroup': 'France',\n",
              "              'marker': {'color': '#FF6692', 'pattern': {'shape': ''}},\n",
              "              'name': 'France',\n",
              "              'offsetgroup': 'France',\n",
              "              'orientation': 'v',\n",
              "              'showlegend': True,\n",
              "              'textposition': 'auto',\n",
              "              'texttemplate': '%{y:.3s}',\n",
              "              'type': 'bar',\n",
              "              'x': array(['France'], dtype=object),\n",
              "              'xaxis': 'x',\n",
              "              'y': array([30212], dtype=int64),\n",
              "              'yaxis': 'y'},\n",
              "             {'alignmentgroup': 'True',\n",
              "              'hovertemplate': 'Country=%{x}<br>Deaths=%{y}<extra></extra>',\n",
              "              'legendgroup': 'Spain',\n",
              "              'marker': {'color': '#B6E880', 'pattern': {'shape': ''}},\n",
              "              'name': 'Spain',\n",
              "              'offsetgroup': 'Spain',\n",
              "              'orientation': 'v',\n",
              "              'showlegend': True,\n",
              "              'textposition': 'auto',\n",
              "              'texttemplate': '%{y:.3s}',\n",
              "              'type': 'bar',\n",
              "              'x': array(['Spain'], dtype=object),\n",
              "              'xaxis': 'x',\n",
              "              'y': array([28432], dtype=int64),\n",
              "              'yaxis': 'y'},\n",
              "             {'alignmentgroup': 'True',\n",
              "              'hovertemplate': 'Country=%{x}<br>Deaths=%{y}<extra></extra>',\n",
              "              'legendgroup': 'Peru',\n",
              "              'marker': {'color': '#FF97FF', 'pattern': {'shape': ''}},\n",
              "              'name': 'Peru',\n",
              "              'offsetgroup': 'Peru',\n",
              "              'orientation': 'v',\n",
              "              'showlegend': True,\n",
              "              'textposition': 'auto',\n",
              "              'texttemplate': '%{y:.3s}',\n",
              "              'type': 'bar',\n",
              "              'x': array(['Peru'], dtype=object),\n",
              "              'xaxis': 'x',\n",
              "              'y': array([18418], dtype=int64),\n",
              "              'yaxis': 'y'},\n",
              "             {'alignmentgroup': 'True',\n",
              "              'hovertemplate': 'Country=%{x}<br>Deaths=%{y}<extra></extra>',\n",
              "              'legendgroup': 'Iran',\n",
              "              'marker': {'color': '#FECB52', 'pattern': {'shape': ''}},\n",
              "              'name': 'Iran',\n",
              "              'offsetgroup': 'Iran',\n",
              "              'orientation': 'v',\n",
              "              'showlegend': True,\n",
              "              'textposition': 'auto',\n",
              "              'texttemplate': '%{y:.3s}',\n",
              "              'type': 'bar',\n",
              "              'x': array(['Iran'], dtype=object),\n",
              "              'xaxis': 'x',\n",
              "              'y': array([15912], dtype=int64),\n",
              "              'yaxis': 'y'},\n",
              "             {'alignmentgroup': 'True',\n",
              "              'hovertemplate': 'Country=%{x}<br>Deaths=%{y}<extra></extra>',\n",
              "              'legendgroup': 'Russia',\n",
              "              'marker': {'color': '#636efa', 'pattern': {'shape': ''}},\n",
              "              'name': 'Russia',\n",
              "              'offsetgroup': 'Russia',\n",
              "              'orientation': 'v',\n",
              "              'showlegend': True,\n",
              "              'textposition': 'auto',\n",
              "              'texttemplate': '%{y:.3s}',\n",
              "              'type': 'bar',\n",
              "              'x': array(['Russia'], dtype=object),\n",
              "              'xaxis': 'x',\n",
              "              'y': array([13334], dtype=int64),\n",
              "              'yaxis': 'y'},\n",
              "             {'alignmentgroup': 'True',\n",
              "              'hovertemplate': 'Country=%{x}<br>Deaths=%{y}<extra></extra>',\n",
              "              'legendgroup': 'Belgium',\n",
              "              'marker': {'color': '#EF553B', 'pattern': {'shape': ''}},\n",
              "              'name': 'Belgium',\n",
              "              'offsetgroup': 'Belgium',\n",
              "              'orientation': 'v',\n",
              "              'showlegend': True,\n",
              "              'textposition': 'auto',\n",
              "              'texttemplate': '%{y:.3s}',\n",
              "              'type': 'bar',\n",
              "              'x': array(['Belgium'], dtype=object),\n",
              "              'xaxis': 'x',\n",
              "              'y': array([9822], dtype=int64),\n",
              "              'yaxis': 'y'},\n",
              "             {'alignmentgroup': 'True',\n",
              "              'hovertemplate': 'Country=%{x}<br>Deaths=%{y}<extra></extra>',\n",
              "              'legendgroup': 'Chile',\n",
              "              'marker': {'color': '#00cc96', 'pattern': {'shape': ''}},\n",
              "              'name': 'Chile',\n",
              "              'offsetgroup': 'Chile',\n",
              "              'orientation': 'v',\n",
              "              'showlegend': True,\n",
              "              'textposition': 'auto',\n",
              "              'texttemplate': '%{y:.3s}',\n",
              "              'type': 'bar',\n",
              "              'x': array(['Chile'], dtype=object),\n",
              "              'xaxis': 'x',\n",
              "              'y': array([9187], dtype=int64),\n",
              "              'yaxis': 'y'},\n",
              "             {'alignmentgroup': 'True',\n",
              "              'hovertemplate': 'Country=%{x}<br>Deaths=%{y}<extra></extra>',\n",
              "              'legendgroup': 'Germany',\n",
              "              'marker': {'color': '#ab63fa', 'pattern': {'shape': ''}},\n",
              "              'name': 'Germany',\n",
              "              'offsetgroup': 'Germany',\n",
              "              'orientation': 'v',\n",
              "              'showlegend': True,\n",
              "              'textposition': 'auto',\n",
              "              'texttemplate': '%{y:.3s}',\n",
              "              'type': 'bar',\n",
              "              'x': array(['Germany'], dtype=object),\n",
              "              'xaxis': 'x',\n",
              "              'y': array([9125], dtype=int64),\n",
              "              'yaxis': 'y'},\n",
              "             {'alignmentgroup': 'True',\n",
              "              'hovertemplate': 'Country=%{x}<br>Deaths=%{y}<extra></extra>',\n",
              "              'legendgroup': 'Canada',\n",
              "              'marker': {'color': '#FFA15A', 'pattern': {'shape': ''}},\n",
              "              'name': 'Canada',\n",
              "              'offsetgroup': 'Canada',\n",
              "              'orientation': 'v',\n",
              "              'showlegend': True,\n",
              "              'textposition': 'auto',\n",
              "              'texttemplate': '%{y:.3s}',\n",
              "              'type': 'bar',\n",
              "              'x': array(['Canada'], dtype=object),\n",
              "              'xaxis': 'x',\n",
              "              'y': array([8944], dtype=int64),\n",
              "              'yaxis': 'y'},\n",
              "             {'alignmentgroup': 'True',\n",
              "              'hovertemplate': 'Country=%{x}<br>Deaths=%{y}<extra></extra>',\n",
              "              'legendgroup': 'Colombia',\n",
              "              'marker': {'color': '#19d3f3', 'pattern': {'shape': ''}},\n",
              "              'name': 'Colombia',\n",
              "              'offsetgroup': 'Colombia',\n",
              "              'orientation': 'v',\n",
              "              'showlegend': True,\n",
              "              'textposition': 'auto',\n",
              "              'texttemplate': '%{y:.3s}',\n",
              "              'type': 'bar',\n",
              "              'x': array(['Colombia'], dtype=object),\n",
              "              'xaxis': 'x',\n",
              "              'y': array([8777], dtype=int64),\n",
              "              'yaxis': 'y'},\n",
              "             {'alignmentgroup': 'True',\n",
              "              'hovertemplate': 'Country=%{x}<br>Deaths=%{y}<extra></extra>',\n",
              "              'legendgroup': 'South Africa',\n",
              "              'marker': {'color': '#FF6692', 'pattern': {'shape': ''}},\n",
              "              'name': 'South Africa',\n",
              "              'offsetgroup': 'South Africa',\n",
              "              'orientation': 'v',\n",
              "              'showlegend': True,\n",
              "              'textposition': 'auto',\n",
              "              'texttemplate': '%{y:.3s}',\n",
              "              'type': 'bar',\n",
              "              'x': array(['South Africa'], dtype=object),\n",
              "              'xaxis': 'x',\n",
              "              'y': array([7067], dtype=int64),\n",
              "              'yaxis': 'y'},\n",
              "             {'alignmentgroup': 'True',\n",
              "              'hovertemplate': 'Country=%{x}<br>Deaths=%{y}<extra></extra>',\n",
              "              'legendgroup': 'Netherlands',\n",
              "              'marker': {'color': '#B6E880', 'pattern': {'shape': ''}},\n",
              "              'name': 'Netherlands',\n",
              "              'offsetgroup': 'Netherlands',\n",
              "              'orientation': 'v',\n",
              "              'showlegend': True,\n",
              "              'textposition': 'auto',\n",
              "              'texttemplate': '%{y:.3s}',\n",
              "              'type': 'bar',\n",
              "              'x': array(['Netherlands'], dtype=object),\n",
              "              'xaxis': 'x',\n",
              "              'y': array([6160], dtype=int64),\n",
              "              'yaxis': 'y'},\n",
              "             {'alignmentgroup': 'True',\n",
              "              'hovertemplate': 'Country=%{x}<br>Deaths=%{y}<extra></extra>',\n",
              "              'legendgroup': 'Pakistan',\n",
              "              'marker': {'color': '#FF97FF', 'pattern': {'shape': ''}},\n",
              "              'name': 'Pakistan',\n",
              "              'offsetgroup': 'Pakistan',\n",
              "              'orientation': 'v',\n",
              "              'showlegend': True,\n",
              "              'textposition': 'auto',\n",
              "              'texttemplate': '%{y:.3s}',\n",
              "              'type': 'bar',\n",
              "              'x': array(['Pakistan'], dtype=object),\n",
              "              'xaxis': 'x',\n",
              "              'y': array([5842], dtype=int64),\n",
              "              'yaxis': 'y'},\n",
              "             {'alignmentgroup': 'True',\n",
              "              'hovertemplate': 'Country=%{x}<br>Deaths=%{y}<extra></extra>',\n",
              "              'legendgroup': 'Sweden',\n",
              "              'marker': {'color': '#FECB52', 'pattern': {'shape': ''}},\n",
              "              'name': 'Sweden',\n",
              "              'offsetgroup': 'Sweden',\n",
              "              'orientation': 'v',\n",
              "              'showlegend': True,\n",
              "              'textposition': 'auto',\n",
              "              'texttemplate': '%{y:.3s}',\n",
              "              'type': 'bar',\n",
              "              'x': array(['Sweden'], dtype=object),\n",
              "              'xaxis': 'x',\n",
              "              'y': array([5700], dtype=int64),\n",
              "              'yaxis': 'y'}],\n",
              "    'layout': {'barmode': 'relative',\n",
              "               'legend': {'title': {'text': 'Country'}, 'tracegroupgap': 0},\n",
              "               'template': '...',\n",
              "               'title': {'text': 'Top 20 Country Deaths'},\n",
              "               'xaxis': {'anchor': 'y',\n",
              "                         'categoryarray': [US, Brazil, United Kingdom, Mexico,\n",
              "                                           Italy, India, France, Spain, Peru, Iran,\n",
              "                                           Russia, Belgium, Chile, Germany, Canada,\n",
              "                                           Colombia, South Africa, Netherlands,\n",
              "                                           Pakistan, Sweden],\n",
              "                         'categoryorder': 'array',\n",
              "                         'domain': [0.0, 1.0],\n",
              "                         'title': {'text': 'Country'}},\n",
              "               'yaxis': {'anchor': 'x', 'domain': [0.0, 1.0], 'title': {'text': 'Deaths'}}}\n",
              "})"
            ]
          },
          "execution_count": 39,
          "metadata": {},
          "output_type": "execute_result"
        }
      ],
      "source": [
        "px.bar(country_Deaths,x='Country',y='Deaths',color='Country',text_auto='.3s',title='Top 20 Country Deaths',template=\"plotly_dark\")"
      ]
    },
    {
      "cell_type": "code",
      "execution_count": 40,
      "metadata": {
        "colab": {
          "base_uri": "https://localhost:8080/",
          "height": 542
        },
        "id": "2_Um_txMmwYc",
        "outputId": "109d446b-9159-420b-9c8b-3f5872f6084e"
      },
      "outputs": [
        {
          "ename": "ValueError",
          "evalue": "Mime type rendering requires nbformat>=4.2.0 but it is not installed",
          "output_type": "error",
          "traceback": [
            "\u001b[1;31m---------------------------------------------------------------------------\u001b[0m",
            "\u001b[1;31mValueError\u001b[0m                                Traceback (most recent call last)",
            "File \u001b[1;32m~\\AppData\\Roaming\\Python\\Python310\\site-packages\\IPython\\core\\formatters.py:922\u001b[0m, in \u001b[0;36mIPythonDisplayFormatter.__call__\u001b[1;34m(self, obj)\u001b[0m\n\u001b[0;32m    920\u001b[0m method \u001b[39m=\u001b[39m get_real_method(obj, \u001b[39mself\u001b[39m\u001b[39m.\u001b[39mprint_method)\n\u001b[0;32m    921\u001b[0m \u001b[39mif\u001b[39;00m method \u001b[39mis\u001b[39;00m \u001b[39mnot\u001b[39;00m \u001b[39mNone\u001b[39;00m:\n\u001b[1;32m--> 922\u001b[0m     method()\n\u001b[0;32m    923\u001b[0m     \u001b[39mreturn\u001b[39;00m \u001b[39mTrue\u001b[39;00m\n",
            "File \u001b[1;32m~\\AppData\\Roaming\\Python\\Python310\\site-packages\\plotly\\basedatatypes.py:834\u001b[0m, in \u001b[0;36mBaseFigure._ipython_display_\u001b[1;34m(self)\u001b[0m\n\u001b[0;32m    831\u001b[0m \u001b[39mimport\u001b[39;00m \u001b[39mplotly\u001b[39;00m\u001b[39m.\u001b[39;00m\u001b[39mio\u001b[39;00m \u001b[39mas\u001b[39;00m \u001b[39mpio\u001b[39;00m\n\u001b[0;32m    833\u001b[0m \u001b[39mif\u001b[39;00m pio\u001b[39m.\u001b[39mrenderers\u001b[39m.\u001b[39mrender_on_display \u001b[39mand\u001b[39;00m pio\u001b[39m.\u001b[39mrenderers\u001b[39m.\u001b[39mdefault:\n\u001b[1;32m--> 834\u001b[0m     pio\u001b[39m.\u001b[39;49mshow(\u001b[39mself\u001b[39;49m)\n\u001b[0;32m    835\u001b[0m \u001b[39melse\u001b[39;00m:\n\u001b[0;32m    836\u001b[0m     \u001b[39mprint\u001b[39m(\u001b[39mrepr\u001b[39m(\u001b[39mself\u001b[39m))\n",
            "File \u001b[1;32m~\\AppData\\Roaming\\Python\\Python310\\site-packages\\plotly\\io\\_renderers.py:396\u001b[0m, in \u001b[0;36mshow\u001b[1;34m(fig, renderer, validate, **kwargs)\u001b[0m\n\u001b[0;32m    391\u001b[0m         \u001b[39mraise\u001b[39;00m \u001b[39mValueError\u001b[39;00m(\n\u001b[0;32m    392\u001b[0m             \u001b[39m\"\u001b[39m\u001b[39mMime type rendering requires ipython but it is not installed\u001b[39m\u001b[39m\"\u001b[39m\n\u001b[0;32m    393\u001b[0m         )\n\u001b[0;32m    395\u001b[0m     \u001b[39mif\u001b[39;00m \u001b[39mnot\u001b[39;00m nbformat \u001b[39mor\u001b[39;00m Version(nbformat\u001b[39m.\u001b[39m__version__) \u001b[39m<\u001b[39m Version(\u001b[39m\"\u001b[39m\u001b[39m4.2.0\u001b[39m\u001b[39m\"\u001b[39m):\n\u001b[1;32m--> 396\u001b[0m         \u001b[39mraise\u001b[39;00m \u001b[39mValueError\u001b[39;00m(\n\u001b[0;32m    397\u001b[0m             \u001b[39m\"\u001b[39m\u001b[39mMime type rendering requires nbformat>=4.2.0 but it is not installed\u001b[39m\u001b[39m\"\u001b[39m\n\u001b[0;32m    398\u001b[0m         )\n\u001b[0;32m    400\u001b[0m     ipython_display\u001b[39m.\u001b[39mdisplay(bundle, raw\u001b[39m=\u001b[39m\u001b[39mTrue\u001b[39;00m)\n\u001b[0;32m    402\u001b[0m \u001b[39m# external renderers\u001b[39;00m\n",
            "\u001b[1;31mValueError\u001b[0m: Mime type rendering requires nbformat>=4.2.0 but it is not installed"
          ]
        },
        {
          "data": {
            "application/vnd.plotly.v1+json": {
              "config": {
                "plotlyServerURL": "https://plot.ly"
              },
              "data": [
                {
                  "alignmentgroup": "True",
                  "hovertemplate": "Country=%{x}<br>Confirmed=%{y}<extra></extra>",
                  "legendgroup": "US",
                  "marker": {
                    "color": "#636efa",
                    "pattern": {
                      "shape": ""
                    }
                  },
                  "name": "US",
                  "offsetgroup": "US",
                  "orientation": "v",
                  "showlegend": true,
                  "textposition": "auto",
                  "texttemplate": "%{y:.3s}",
                  "type": "bar",
                  "x": [
                    "US"
                  ],
                  "xaxis": "x",
                  "y": [
                    4290259
                  ],
                  "yaxis": "y"
                },
                {
                  "alignmentgroup": "True",
                  "hovertemplate": "Country=%{x}<br>Confirmed=%{y}<extra></extra>",
                  "legendgroup": "Brazil",
                  "marker": {
                    "color": "#EF553B",
                    "pattern": {
                      "shape": ""
                    }
                  },
                  "name": "Brazil",
                  "offsetgroup": "Brazil",
                  "orientation": "v",
                  "showlegend": true,
                  "textposition": "auto",
                  "texttemplate": "%{y:.3s}",
                  "type": "bar",
                  "x": [
                    "Brazil"
                  ],
                  "xaxis": "x",
                  "y": [
                    2442375
                  ],
                  "yaxis": "y"
                },
                {
                  "alignmentgroup": "True",
                  "hovertemplate": "Country=%{x}<br>Confirmed=%{y}<extra></extra>",
                  "legendgroup": "India",
                  "marker": {
                    "color": "#00cc96",
                    "pattern": {
                      "shape": ""
                    }
                  },
                  "name": "India",
                  "offsetgroup": "India",
                  "orientation": "v",
                  "showlegend": true,
                  "textposition": "auto",
                  "texttemplate": "%{y:.3s}",
                  "type": "bar",
                  "x": [
                    "India"
                  ],
                  "xaxis": "x",
                  "y": [
                    1480073
                  ],
                  "yaxis": "y"
                },
                {
                  "alignmentgroup": "True",
                  "hovertemplate": "Country=%{x}<br>Confirmed=%{y}<extra></extra>",
                  "legendgroup": "Russia",
                  "marker": {
                    "color": "#ab63fa",
                    "pattern": {
                      "shape": ""
                    }
                  },
                  "name": "Russia",
                  "offsetgroup": "Russia",
                  "orientation": "v",
                  "showlegend": true,
                  "textposition": "auto",
                  "texttemplate": "%{y:.3s}",
                  "type": "bar",
                  "x": [
                    "Russia"
                  ],
                  "xaxis": "x",
                  "y": [
                    816680
                  ],
                  "yaxis": "y"
                },
                {
                  "alignmentgroup": "True",
                  "hovertemplate": "Country=%{x}<br>Confirmed=%{y}<extra></extra>",
                  "legendgroup": "South Africa",
                  "marker": {
                    "color": "#FFA15A",
                    "pattern": {
                      "shape": ""
                    }
                  },
                  "name": "South Africa",
                  "offsetgroup": "South Africa",
                  "orientation": "v",
                  "showlegend": true,
                  "textposition": "auto",
                  "texttemplate": "%{y:.3s}",
                  "type": "bar",
                  "x": [
                    "South Africa"
                  ],
                  "xaxis": "x",
                  "y": [
                    452529
                  ],
                  "yaxis": "y"
                },
                {
                  "alignmentgroup": "True",
                  "hovertemplate": "Country=%{x}<br>Confirmed=%{y}<extra></extra>",
                  "legendgroup": "Mexico",
                  "marker": {
                    "color": "#19d3f3",
                    "pattern": {
                      "shape": ""
                    }
                  },
                  "name": "Mexico",
                  "offsetgroup": "Mexico",
                  "orientation": "v",
                  "showlegend": true,
                  "textposition": "auto",
                  "texttemplate": "%{y:.3s}",
                  "type": "bar",
                  "x": [
                    "Mexico"
                  ],
                  "xaxis": "x",
                  "y": [
                    395489
                  ],
                  "yaxis": "y"
                },
                {
                  "alignmentgroup": "True",
                  "hovertemplate": "Country=%{x}<br>Confirmed=%{y}<extra></extra>",
                  "legendgroup": "Peru",
                  "marker": {
                    "color": "#FF6692",
                    "pattern": {
                      "shape": ""
                    }
                  },
                  "name": "Peru",
                  "offsetgroup": "Peru",
                  "orientation": "v",
                  "showlegend": true,
                  "textposition": "auto",
                  "texttemplate": "%{y:.3s}",
                  "type": "bar",
                  "x": [
                    "Peru"
                  ],
                  "xaxis": "x",
                  "y": [
                    389717
                  ],
                  "yaxis": "y"
                },
                {
                  "alignmentgroup": "True",
                  "hovertemplate": "Country=%{x}<br>Confirmed=%{y}<extra></extra>",
                  "legendgroup": "Chile",
                  "marker": {
                    "color": "#B6E880",
                    "pattern": {
                      "shape": ""
                    }
                  },
                  "name": "Chile",
                  "offsetgroup": "Chile",
                  "orientation": "v",
                  "showlegend": true,
                  "textposition": "auto",
                  "texttemplate": "%{y:.3s}",
                  "type": "bar",
                  "x": [
                    "Chile"
                  ],
                  "xaxis": "x",
                  "y": [
                    347923
                  ],
                  "yaxis": "y"
                },
                {
                  "alignmentgroup": "True",
                  "hovertemplate": "Country=%{x}<br>Confirmed=%{y}<extra></extra>",
                  "legendgroup": "United Kingdom",
                  "marker": {
                    "color": "#FF97FF",
                    "pattern": {
                      "shape": ""
                    }
                  },
                  "name": "United Kingdom",
                  "offsetgroup": "United Kingdom",
                  "orientation": "v",
                  "showlegend": true,
                  "textposition": "auto",
                  "texttemplate": "%{y:.3s}",
                  "type": "bar",
                  "x": [
                    "United Kingdom"
                  ],
                  "xaxis": "x",
                  "y": [
                    301708
                  ],
                  "yaxis": "y"
                },
                {
                  "alignmentgroup": "True",
                  "hovertemplate": "Country=%{x}<br>Confirmed=%{y}<extra></extra>",
                  "legendgroup": "Iran",
                  "marker": {
                    "color": "#FECB52",
                    "pattern": {
                      "shape": ""
                    }
                  },
                  "name": "Iran",
                  "offsetgroup": "Iran",
                  "orientation": "v",
                  "showlegend": true,
                  "textposition": "auto",
                  "texttemplate": "%{y:.3s}",
                  "type": "bar",
                  "x": [
                    "Iran"
                  ],
                  "xaxis": "x",
                  "y": [
                    293606
                  ],
                  "yaxis": "y"
                },
                {
                  "alignmentgroup": "True",
                  "hovertemplate": "Country=%{x}<br>Confirmed=%{y}<extra></extra>",
                  "legendgroup": "Pakistan",
                  "marker": {
                    "color": "#636efa",
                    "pattern": {
                      "shape": ""
                    }
                  },
                  "name": "Pakistan",
                  "offsetgroup": "Pakistan",
                  "orientation": "v",
                  "showlegend": true,
                  "textposition": "auto",
                  "texttemplate": "%{y:.3s}",
                  "type": "bar",
                  "x": [
                    "Pakistan"
                  ],
                  "xaxis": "x",
                  "y": [
                    274289
                  ],
                  "yaxis": "y"
                },
                {
                  "alignmentgroup": "True",
                  "hovertemplate": "Country=%{x}<br>Confirmed=%{y}<extra></extra>",
                  "legendgroup": "Spain",
                  "marker": {
                    "color": "#EF553B",
                    "pattern": {
                      "shape": ""
                    }
                  },
                  "name": "Spain",
                  "offsetgroup": "Spain",
                  "orientation": "v",
                  "showlegend": true,
                  "textposition": "auto",
                  "texttemplate": "%{y:.3s}",
                  "type": "bar",
                  "x": [
                    "Spain"
                  ],
                  "xaxis": "x",
                  "y": [
                    272421
                  ],
                  "yaxis": "y"
                },
                {
                  "alignmentgroup": "True",
                  "hovertemplate": "Country=%{x}<br>Confirmed=%{y}<extra></extra>",
                  "legendgroup": "Saudi Arabia",
                  "marker": {
                    "color": "#00cc96",
                    "pattern": {
                      "shape": ""
                    }
                  },
                  "name": "Saudi Arabia",
                  "offsetgroup": "Saudi Arabia",
                  "orientation": "v",
                  "showlegend": true,
                  "textposition": "auto",
                  "texttemplate": "%{y:.3s}",
                  "type": "bar",
                  "x": [
                    "Saudi Arabia"
                  ],
                  "xaxis": "x",
                  "y": [
                    268934
                  ],
                  "yaxis": "y"
                },
                {
                  "alignmentgroup": "True",
                  "hovertemplate": "Country=%{x}<br>Confirmed=%{y}<extra></extra>",
                  "legendgroup": "Colombia",
                  "marker": {
                    "color": "#ab63fa",
                    "pattern": {
                      "shape": ""
                    }
                  },
                  "name": "Colombia",
                  "offsetgroup": "Colombia",
                  "orientation": "v",
                  "showlegend": true,
                  "textposition": "auto",
                  "texttemplate": "%{y:.3s}",
                  "type": "bar",
                  "x": [
                    "Colombia"
                  ],
                  "xaxis": "x",
                  "y": [
                    257101
                  ],
                  "yaxis": "y"
                },
                {
                  "alignmentgroup": "True",
                  "hovertemplate": "Country=%{x}<br>Confirmed=%{y}<extra></extra>",
                  "legendgroup": "Italy",
                  "marker": {
                    "color": "#FFA15A",
                    "pattern": {
                      "shape": ""
                    }
                  },
                  "name": "Italy",
                  "offsetgroup": "Italy",
                  "orientation": "v",
                  "showlegend": true,
                  "textposition": "auto",
                  "texttemplate": "%{y:.3s}",
                  "type": "bar",
                  "x": [
                    "Italy"
                  ],
                  "xaxis": "x",
                  "y": [
                    246286
                  ],
                  "yaxis": "y"
                },
                {
                  "alignmentgroup": "True",
                  "hovertemplate": "Country=%{x}<br>Confirmed=%{y}<extra></extra>",
                  "legendgroup": "Turkey",
                  "marker": {
                    "color": "#19d3f3",
                    "pattern": {
                      "shape": ""
                    }
                  },
                  "name": "Turkey",
                  "offsetgroup": "Turkey",
                  "orientation": "v",
                  "showlegend": true,
                  "textposition": "auto",
                  "texttemplate": "%{y:.3s}",
                  "type": "bar",
                  "x": [
                    "Turkey"
                  ],
                  "xaxis": "x",
                  "y": [
                    227019
                  ],
                  "yaxis": "y"
                },
                {
                  "alignmentgroup": "True",
                  "hovertemplate": "Country=%{x}<br>Confirmed=%{y}<extra></extra>",
                  "legendgroup": "Bangladesh",
                  "marker": {
                    "color": "#FF6692",
                    "pattern": {
                      "shape": ""
                    }
                  },
                  "name": "Bangladesh",
                  "offsetgroup": "Bangladesh",
                  "orientation": "v",
                  "showlegend": true,
                  "textposition": "auto",
                  "texttemplate": "%{y:.3s}",
                  "type": "bar",
                  "x": [
                    "Bangladesh"
                  ],
                  "xaxis": "x",
                  "y": [
                    226225
                  ],
                  "yaxis": "y"
                },
                {
                  "alignmentgroup": "True",
                  "hovertemplate": "Country=%{x}<br>Confirmed=%{y}<extra></extra>",
                  "legendgroup": "France",
                  "marker": {
                    "color": "#B6E880",
                    "pattern": {
                      "shape": ""
                    }
                  },
                  "name": "France",
                  "offsetgroup": "France",
                  "orientation": "v",
                  "showlegend": true,
                  "textposition": "auto",
                  "texttemplate": "%{y:.3s}",
                  "type": "bar",
                  "x": [
                    "France"
                  ],
                  "xaxis": "x",
                  "y": [
                    220352
                  ],
                  "yaxis": "y"
                },
                {
                  "alignmentgroup": "True",
                  "hovertemplate": "Country=%{x}<br>Confirmed=%{y}<extra></extra>",
                  "legendgroup": "Germany",
                  "marker": {
                    "color": "#FF97FF",
                    "pattern": {
                      "shape": ""
                    }
                  },
                  "name": "Germany",
                  "offsetgroup": "Germany",
                  "orientation": "v",
                  "showlegend": true,
                  "textposition": "auto",
                  "texttemplate": "%{y:.3s}",
                  "type": "bar",
                  "x": [
                    "Germany"
                  ],
                  "xaxis": "x",
                  "y": [
                    207112
                  ],
                  "yaxis": "y"
                },
                {
                  "alignmentgroup": "True",
                  "hovertemplate": "Country=%{x}<br>Confirmed=%{y}<extra></extra>",
                  "legendgroup": "Argentina",
                  "marker": {
                    "color": "#FECB52",
                    "pattern": {
                      "shape": ""
                    }
                  },
                  "name": "Argentina",
                  "offsetgroup": "Argentina",
                  "orientation": "v",
                  "showlegend": true,
                  "textposition": "auto",
                  "texttemplate": "%{y:.3s}",
                  "type": "bar",
                  "x": [
                    "Argentina"
                  ],
                  "xaxis": "x",
                  "y": [
                    167416
                  ],
                  "yaxis": "y"
                }
              ],
              "layout": {
                "barmode": "relative",
                "legend": {
                  "title": {
                    "text": "Country"
                  },
                  "tracegroupgap": 0
                },
                "template": {
                  "data": {
                    "bar": [
                      {
                        "error_x": {
                          "color": "#f2f5fa"
                        },
                        "error_y": {
                          "color": "#f2f5fa"
                        },
                        "marker": {
                          "line": {
                            "color": "rgb(17,17,17)",
                            "width": 0.5
                          },
                          "pattern": {
                            "fillmode": "overlay",
                            "size": 10,
                            "solidity": 0.2
                          }
                        },
                        "type": "bar"
                      }
                    ],
                    "barpolar": [
                      {
                        "marker": {
                          "line": {
                            "color": "rgb(17,17,17)",
                            "width": 0.5
                          },
                          "pattern": {
                            "fillmode": "overlay",
                            "size": 10,
                            "solidity": 0.2
                          }
                        },
                        "type": "barpolar"
                      }
                    ],
                    "carpet": [
                      {
                        "aaxis": {
                          "endlinecolor": "#A2B1C6",
                          "gridcolor": "#506784",
                          "linecolor": "#506784",
                          "minorgridcolor": "#506784",
                          "startlinecolor": "#A2B1C6"
                        },
                        "baxis": {
                          "endlinecolor": "#A2B1C6",
                          "gridcolor": "#506784",
                          "linecolor": "#506784",
                          "minorgridcolor": "#506784",
                          "startlinecolor": "#A2B1C6"
                        },
                        "type": "carpet"
                      }
                    ],
                    "choropleth": [
                      {
                        "colorbar": {
                          "outlinewidth": 0,
                          "ticks": ""
                        },
                        "type": "choropleth"
                      }
                    ],
                    "contour": [
                      {
                        "colorbar": {
                          "outlinewidth": 0,
                          "ticks": ""
                        },
                        "colorscale": [
                          [
                            0,
                            "#0d0887"
                          ],
                          [
                            0.1111111111111111,
                            "#46039f"
                          ],
                          [
                            0.2222222222222222,
                            "#7201a8"
                          ],
                          [
                            0.3333333333333333,
                            "#9c179e"
                          ],
                          [
                            0.4444444444444444,
                            "#bd3786"
                          ],
                          [
                            0.5555555555555556,
                            "#d8576b"
                          ],
                          [
                            0.6666666666666666,
                            "#ed7953"
                          ],
                          [
                            0.7777777777777778,
                            "#fb9f3a"
                          ],
                          [
                            0.8888888888888888,
                            "#fdca26"
                          ],
                          [
                            1,
                            "#f0f921"
                          ]
                        ],
                        "type": "contour"
                      }
                    ],
                    "contourcarpet": [
                      {
                        "colorbar": {
                          "outlinewidth": 0,
                          "ticks": ""
                        },
                        "type": "contourcarpet"
                      }
                    ],
                    "heatmap": [
                      {
                        "colorbar": {
                          "outlinewidth": 0,
                          "ticks": ""
                        },
                        "colorscale": [
                          [
                            0,
                            "#0d0887"
                          ],
                          [
                            0.1111111111111111,
                            "#46039f"
                          ],
                          [
                            0.2222222222222222,
                            "#7201a8"
                          ],
                          [
                            0.3333333333333333,
                            "#9c179e"
                          ],
                          [
                            0.4444444444444444,
                            "#bd3786"
                          ],
                          [
                            0.5555555555555556,
                            "#d8576b"
                          ],
                          [
                            0.6666666666666666,
                            "#ed7953"
                          ],
                          [
                            0.7777777777777778,
                            "#fb9f3a"
                          ],
                          [
                            0.8888888888888888,
                            "#fdca26"
                          ],
                          [
                            1,
                            "#f0f921"
                          ]
                        ],
                        "type": "heatmap"
                      }
                    ],
                    "heatmapgl": [
                      {
                        "colorbar": {
                          "outlinewidth": 0,
                          "ticks": ""
                        },
                        "colorscale": [
                          [
                            0,
                            "#0d0887"
                          ],
                          [
                            0.1111111111111111,
                            "#46039f"
                          ],
                          [
                            0.2222222222222222,
                            "#7201a8"
                          ],
                          [
                            0.3333333333333333,
                            "#9c179e"
                          ],
                          [
                            0.4444444444444444,
                            "#bd3786"
                          ],
                          [
                            0.5555555555555556,
                            "#d8576b"
                          ],
                          [
                            0.6666666666666666,
                            "#ed7953"
                          ],
                          [
                            0.7777777777777778,
                            "#fb9f3a"
                          ],
                          [
                            0.8888888888888888,
                            "#fdca26"
                          ],
                          [
                            1,
                            "#f0f921"
                          ]
                        ],
                        "type": "heatmapgl"
                      }
                    ],
                    "histogram": [
                      {
                        "marker": {
                          "pattern": {
                            "fillmode": "overlay",
                            "size": 10,
                            "solidity": 0.2
                          }
                        },
                        "type": "histogram"
                      }
                    ],
                    "histogram2d": [
                      {
                        "colorbar": {
                          "outlinewidth": 0,
                          "ticks": ""
                        },
                        "colorscale": [
                          [
                            0,
                            "#0d0887"
                          ],
                          [
                            0.1111111111111111,
                            "#46039f"
                          ],
                          [
                            0.2222222222222222,
                            "#7201a8"
                          ],
                          [
                            0.3333333333333333,
                            "#9c179e"
                          ],
                          [
                            0.4444444444444444,
                            "#bd3786"
                          ],
                          [
                            0.5555555555555556,
                            "#d8576b"
                          ],
                          [
                            0.6666666666666666,
                            "#ed7953"
                          ],
                          [
                            0.7777777777777778,
                            "#fb9f3a"
                          ],
                          [
                            0.8888888888888888,
                            "#fdca26"
                          ],
                          [
                            1,
                            "#f0f921"
                          ]
                        ],
                        "type": "histogram2d"
                      }
                    ],
                    "histogram2dcontour": [
                      {
                        "colorbar": {
                          "outlinewidth": 0,
                          "ticks": ""
                        },
                        "colorscale": [
                          [
                            0,
                            "#0d0887"
                          ],
                          [
                            0.1111111111111111,
                            "#46039f"
                          ],
                          [
                            0.2222222222222222,
                            "#7201a8"
                          ],
                          [
                            0.3333333333333333,
                            "#9c179e"
                          ],
                          [
                            0.4444444444444444,
                            "#bd3786"
                          ],
                          [
                            0.5555555555555556,
                            "#d8576b"
                          ],
                          [
                            0.6666666666666666,
                            "#ed7953"
                          ],
                          [
                            0.7777777777777778,
                            "#fb9f3a"
                          ],
                          [
                            0.8888888888888888,
                            "#fdca26"
                          ],
                          [
                            1,
                            "#f0f921"
                          ]
                        ],
                        "type": "histogram2dcontour"
                      }
                    ],
                    "mesh3d": [
                      {
                        "colorbar": {
                          "outlinewidth": 0,
                          "ticks": ""
                        },
                        "type": "mesh3d"
                      }
                    ],
                    "parcoords": [
                      {
                        "line": {
                          "colorbar": {
                            "outlinewidth": 0,
                            "ticks": ""
                          }
                        },
                        "type": "parcoords"
                      }
                    ],
                    "pie": [
                      {
                        "automargin": true,
                        "type": "pie"
                      }
                    ],
                    "scatter": [
                      {
                        "marker": {
                          "line": {
                            "color": "#283442"
                          }
                        },
                        "type": "scatter"
                      }
                    ],
                    "scatter3d": [
                      {
                        "line": {
                          "colorbar": {
                            "outlinewidth": 0,
                            "ticks": ""
                          }
                        },
                        "marker": {
                          "colorbar": {
                            "outlinewidth": 0,
                            "ticks": ""
                          }
                        },
                        "type": "scatter3d"
                      }
                    ],
                    "scattercarpet": [
                      {
                        "marker": {
                          "colorbar": {
                            "outlinewidth": 0,
                            "ticks": ""
                          }
                        },
                        "type": "scattercarpet"
                      }
                    ],
                    "scattergeo": [
                      {
                        "marker": {
                          "colorbar": {
                            "outlinewidth": 0,
                            "ticks": ""
                          }
                        },
                        "type": "scattergeo"
                      }
                    ],
                    "scattergl": [
                      {
                        "marker": {
                          "line": {
                            "color": "#283442"
                          }
                        },
                        "type": "scattergl"
                      }
                    ],
                    "scattermapbox": [
                      {
                        "marker": {
                          "colorbar": {
                            "outlinewidth": 0,
                            "ticks": ""
                          }
                        },
                        "type": "scattermapbox"
                      }
                    ],
                    "scatterpolar": [
                      {
                        "marker": {
                          "colorbar": {
                            "outlinewidth": 0,
                            "ticks": ""
                          }
                        },
                        "type": "scatterpolar"
                      }
                    ],
                    "scatterpolargl": [
                      {
                        "marker": {
                          "colorbar": {
                            "outlinewidth": 0,
                            "ticks": ""
                          }
                        },
                        "type": "scatterpolargl"
                      }
                    ],
                    "scatterternary": [
                      {
                        "marker": {
                          "colorbar": {
                            "outlinewidth": 0,
                            "ticks": ""
                          }
                        },
                        "type": "scatterternary"
                      }
                    ],
                    "surface": [
                      {
                        "colorbar": {
                          "outlinewidth": 0,
                          "ticks": ""
                        },
                        "colorscale": [
                          [
                            0,
                            "#0d0887"
                          ],
                          [
                            0.1111111111111111,
                            "#46039f"
                          ],
                          [
                            0.2222222222222222,
                            "#7201a8"
                          ],
                          [
                            0.3333333333333333,
                            "#9c179e"
                          ],
                          [
                            0.4444444444444444,
                            "#bd3786"
                          ],
                          [
                            0.5555555555555556,
                            "#d8576b"
                          ],
                          [
                            0.6666666666666666,
                            "#ed7953"
                          ],
                          [
                            0.7777777777777778,
                            "#fb9f3a"
                          ],
                          [
                            0.8888888888888888,
                            "#fdca26"
                          ],
                          [
                            1,
                            "#f0f921"
                          ]
                        ],
                        "type": "surface"
                      }
                    ],
                    "table": [
                      {
                        "cells": {
                          "fill": {
                            "color": "#506784"
                          },
                          "line": {
                            "color": "rgb(17,17,17)"
                          }
                        },
                        "header": {
                          "fill": {
                            "color": "#2a3f5f"
                          },
                          "line": {
                            "color": "rgb(17,17,17)"
                          }
                        },
                        "type": "table"
                      }
                    ]
                  },
                  "layout": {
                    "annotationdefaults": {
                      "arrowcolor": "#f2f5fa",
                      "arrowhead": 0,
                      "arrowwidth": 1
                    },
                    "autotypenumbers": "strict",
                    "coloraxis": {
                      "colorbar": {
                        "outlinewidth": 0,
                        "ticks": ""
                      }
                    },
                    "colorscale": {
                      "diverging": [
                        [
                          0,
                          "#8e0152"
                        ],
                        [
                          0.1,
                          "#c51b7d"
                        ],
                        [
                          0.2,
                          "#de77ae"
                        ],
                        [
                          0.3,
                          "#f1b6da"
                        ],
                        [
                          0.4,
                          "#fde0ef"
                        ],
                        [
                          0.5,
                          "#f7f7f7"
                        ],
                        [
                          0.6,
                          "#e6f5d0"
                        ],
                        [
                          0.7,
                          "#b8e186"
                        ],
                        [
                          0.8,
                          "#7fbc41"
                        ],
                        [
                          0.9,
                          "#4d9221"
                        ],
                        [
                          1,
                          "#276419"
                        ]
                      ],
                      "sequential": [
                        [
                          0,
                          "#0d0887"
                        ],
                        [
                          0.1111111111111111,
                          "#46039f"
                        ],
                        [
                          0.2222222222222222,
                          "#7201a8"
                        ],
                        [
                          0.3333333333333333,
                          "#9c179e"
                        ],
                        [
                          0.4444444444444444,
                          "#bd3786"
                        ],
                        [
                          0.5555555555555556,
                          "#d8576b"
                        ],
                        [
                          0.6666666666666666,
                          "#ed7953"
                        ],
                        [
                          0.7777777777777778,
                          "#fb9f3a"
                        ],
                        [
                          0.8888888888888888,
                          "#fdca26"
                        ],
                        [
                          1,
                          "#f0f921"
                        ]
                      ],
                      "sequentialminus": [
                        [
                          0,
                          "#0d0887"
                        ],
                        [
                          0.1111111111111111,
                          "#46039f"
                        ],
                        [
                          0.2222222222222222,
                          "#7201a8"
                        ],
                        [
                          0.3333333333333333,
                          "#9c179e"
                        ],
                        [
                          0.4444444444444444,
                          "#bd3786"
                        ],
                        [
                          0.5555555555555556,
                          "#d8576b"
                        ],
                        [
                          0.6666666666666666,
                          "#ed7953"
                        ],
                        [
                          0.7777777777777778,
                          "#fb9f3a"
                        ],
                        [
                          0.8888888888888888,
                          "#fdca26"
                        ],
                        [
                          1,
                          "#f0f921"
                        ]
                      ]
                    },
                    "colorway": [
                      "#636efa",
                      "#EF553B",
                      "#00cc96",
                      "#ab63fa",
                      "#FFA15A",
                      "#19d3f3",
                      "#FF6692",
                      "#B6E880",
                      "#FF97FF",
                      "#FECB52"
                    ],
                    "font": {
                      "color": "#f2f5fa"
                    },
                    "geo": {
                      "bgcolor": "rgb(17,17,17)",
                      "lakecolor": "rgb(17,17,17)",
                      "landcolor": "rgb(17,17,17)",
                      "showlakes": true,
                      "showland": true,
                      "subunitcolor": "#506784"
                    },
                    "hoverlabel": {
                      "align": "left"
                    },
                    "hovermode": "closest",
                    "mapbox": {
                      "style": "dark"
                    },
                    "paper_bgcolor": "rgb(17,17,17)",
                    "plot_bgcolor": "rgb(17,17,17)",
                    "polar": {
                      "angularaxis": {
                        "gridcolor": "#506784",
                        "linecolor": "#506784",
                        "ticks": ""
                      },
                      "bgcolor": "rgb(17,17,17)",
                      "radialaxis": {
                        "gridcolor": "#506784",
                        "linecolor": "#506784",
                        "ticks": ""
                      }
                    },
                    "scene": {
                      "xaxis": {
                        "backgroundcolor": "rgb(17,17,17)",
                        "gridcolor": "#506784",
                        "gridwidth": 2,
                        "linecolor": "#506784",
                        "showbackground": true,
                        "ticks": "",
                        "zerolinecolor": "#C8D4E3"
                      },
                      "yaxis": {
                        "backgroundcolor": "rgb(17,17,17)",
                        "gridcolor": "#506784",
                        "gridwidth": 2,
                        "linecolor": "#506784",
                        "showbackground": true,
                        "ticks": "",
                        "zerolinecolor": "#C8D4E3"
                      },
                      "zaxis": {
                        "backgroundcolor": "rgb(17,17,17)",
                        "gridcolor": "#506784",
                        "gridwidth": 2,
                        "linecolor": "#506784",
                        "showbackground": true,
                        "ticks": "",
                        "zerolinecolor": "#C8D4E3"
                      }
                    },
                    "shapedefaults": {
                      "line": {
                        "color": "#f2f5fa"
                      }
                    },
                    "sliderdefaults": {
                      "bgcolor": "#C8D4E3",
                      "bordercolor": "rgb(17,17,17)",
                      "borderwidth": 1,
                      "tickwidth": 0
                    },
                    "ternary": {
                      "aaxis": {
                        "gridcolor": "#506784",
                        "linecolor": "#506784",
                        "ticks": ""
                      },
                      "baxis": {
                        "gridcolor": "#506784",
                        "linecolor": "#506784",
                        "ticks": ""
                      },
                      "bgcolor": "rgb(17,17,17)",
                      "caxis": {
                        "gridcolor": "#506784",
                        "linecolor": "#506784",
                        "ticks": ""
                      }
                    },
                    "title": {
                      "x": 0.05
                    },
                    "updatemenudefaults": {
                      "bgcolor": "#506784",
                      "borderwidth": 0
                    },
                    "xaxis": {
                      "automargin": true,
                      "gridcolor": "#283442",
                      "linecolor": "#506784",
                      "ticks": "",
                      "title": {
                        "standoff": 15
                      },
                      "zerolinecolor": "#283442",
                      "zerolinewidth": 2
                    },
                    "yaxis": {
                      "automargin": true,
                      "gridcolor": "#283442",
                      "linecolor": "#506784",
                      "ticks": "",
                      "title": {
                        "standoff": 15
                      },
                      "zerolinecolor": "#283442",
                      "zerolinewidth": 2
                    }
                  }
                },
                "title": {
                  "text": "Top 20 Country Confirmed Cases"
                },
                "xaxis": {
                  "anchor": "y",
                  "categoryarray": [
                    "US",
                    "Brazil",
                    "India",
                    "Russia",
                    "South Africa",
                    "Mexico",
                    "Peru",
                    "Chile",
                    "United Kingdom",
                    "Iran",
                    "Pakistan",
                    "Spain",
                    "Saudi Arabia",
                    "Colombia",
                    "Italy",
                    "Turkey",
                    "Bangladesh",
                    "France",
                    "Germany",
                    "Argentina"
                  ],
                  "categoryorder": "array",
                  "domain": [
                    0,
                    1
                  ],
                  "title": {
                    "text": "Country"
                  }
                },
                "yaxis": {
                  "anchor": "x",
                  "domain": [
                    0,
                    1
                  ],
                  "title": {
                    "text": "Confirmed"
                  }
                }
              }
            },
            "text/html": [
              "<div>                        <script type=\"text/javascript\">window.PlotlyConfig = {MathJaxConfig: 'local'};</script>\n",
              "        <script charset=\"utf-8\" src=\"https://cdn.plot.ly/plotly-2.20.0.min.js\"></script>                <div id=\"03197d1e-5ec8-4a88-a8a9-ce3ab1f2b420\" class=\"plotly-graph-div\" style=\"height:100%; width:100%;\"></div>            <script type=\"text/javascript\">                                    window.PLOTLYENV=window.PLOTLYENV || {};                                    if (document.getElementById(\"03197d1e-5ec8-4a88-a8a9-ce3ab1f2b420\")) {                    Plotly.newPlot(                        \"03197d1e-5ec8-4a88-a8a9-ce3ab1f2b420\",                        [{\"alignmentgroup\":\"True\",\"hovertemplate\":\"Country=%{x}<br>Confirmed=%{y}<extra></extra>\",\"legendgroup\":\"US\",\"marker\":{\"color\":\"#636efa\",\"pattern\":{\"shape\":\"\"}},\"name\":\"US\",\"offsetgroup\":\"US\",\"orientation\":\"v\",\"showlegend\":true,\"textposition\":\"auto\",\"texttemplate\":\"%{y:.3s}\",\"x\":[\"US\"],\"xaxis\":\"x\",\"y\":[4290259],\"yaxis\":\"y\",\"type\":\"bar\"},{\"alignmentgroup\":\"True\",\"hovertemplate\":\"Country=%{x}<br>Confirmed=%{y}<extra></extra>\",\"legendgroup\":\"Brazil\",\"marker\":{\"color\":\"#EF553B\",\"pattern\":{\"shape\":\"\"}},\"name\":\"Brazil\",\"offsetgroup\":\"Brazil\",\"orientation\":\"v\",\"showlegend\":true,\"textposition\":\"auto\",\"texttemplate\":\"%{y:.3s}\",\"x\":[\"Brazil\"],\"xaxis\":\"x\",\"y\":[2442375],\"yaxis\":\"y\",\"type\":\"bar\"},{\"alignmentgroup\":\"True\",\"hovertemplate\":\"Country=%{x}<br>Confirmed=%{y}<extra></extra>\",\"legendgroup\":\"India\",\"marker\":{\"color\":\"#00cc96\",\"pattern\":{\"shape\":\"\"}},\"name\":\"India\",\"offsetgroup\":\"India\",\"orientation\":\"v\",\"showlegend\":true,\"textposition\":\"auto\",\"texttemplate\":\"%{y:.3s}\",\"x\":[\"India\"],\"xaxis\":\"x\",\"y\":[1480073],\"yaxis\":\"y\",\"type\":\"bar\"},{\"alignmentgroup\":\"True\",\"hovertemplate\":\"Country=%{x}<br>Confirmed=%{y}<extra></extra>\",\"legendgroup\":\"Russia\",\"marker\":{\"color\":\"#ab63fa\",\"pattern\":{\"shape\":\"\"}},\"name\":\"Russia\",\"offsetgroup\":\"Russia\",\"orientation\":\"v\",\"showlegend\":true,\"textposition\":\"auto\",\"texttemplate\":\"%{y:.3s}\",\"x\":[\"Russia\"],\"xaxis\":\"x\",\"y\":[816680],\"yaxis\":\"y\",\"type\":\"bar\"},{\"alignmentgroup\":\"True\",\"hovertemplate\":\"Country=%{x}<br>Confirmed=%{y}<extra></extra>\",\"legendgroup\":\"South Africa\",\"marker\":{\"color\":\"#FFA15A\",\"pattern\":{\"shape\":\"\"}},\"name\":\"South Africa\",\"offsetgroup\":\"South Africa\",\"orientation\":\"v\",\"showlegend\":true,\"textposition\":\"auto\",\"texttemplate\":\"%{y:.3s}\",\"x\":[\"South Africa\"],\"xaxis\":\"x\",\"y\":[452529],\"yaxis\":\"y\",\"type\":\"bar\"},{\"alignmentgroup\":\"True\",\"hovertemplate\":\"Country=%{x}<br>Confirmed=%{y}<extra></extra>\",\"legendgroup\":\"Mexico\",\"marker\":{\"color\":\"#19d3f3\",\"pattern\":{\"shape\":\"\"}},\"name\":\"Mexico\",\"offsetgroup\":\"Mexico\",\"orientation\":\"v\",\"showlegend\":true,\"textposition\":\"auto\",\"texttemplate\":\"%{y:.3s}\",\"x\":[\"Mexico\"],\"xaxis\":\"x\",\"y\":[395489],\"yaxis\":\"y\",\"type\":\"bar\"},{\"alignmentgroup\":\"True\",\"hovertemplate\":\"Country=%{x}<br>Confirmed=%{y}<extra></extra>\",\"legendgroup\":\"Peru\",\"marker\":{\"color\":\"#FF6692\",\"pattern\":{\"shape\":\"\"}},\"name\":\"Peru\",\"offsetgroup\":\"Peru\",\"orientation\":\"v\",\"showlegend\":true,\"textposition\":\"auto\",\"texttemplate\":\"%{y:.3s}\",\"x\":[\"Peru\"],\"xaxis\":\"x\",\"y\":[389717],\"yaxis\":\"y\",\"type\":\"bar\"},{\"alignmentgroup\":\"True\",\"hovertemplate\":\"Country=%{x}<br>Confirmed=%{y}<extra></extra>\",\"legendgroup\":\"Chile\",\"marker\":{\"color\":\"#B6E880\",\"pattern\":{\"shape\":\"\"}},\"name\":\"Chile\",\"offsetgroup\":\"Chile\",\"orientation\":\"v\",\"showlegend\":true,\"textposition\":\"auto\",\"texttemplate\":\"%{y:.3s}\",\"x\":[\"Chile\"],\"xaxis\":\"x\",\"y\":[347923],\"yaxis\":\"y\",\"type\":\"bar\"},{\"alignmentgroup\":\"True\",\"hovertemplate\":\"Country=%{x}<br>Confirmed=%{y}<extra></extra>\",\"legendgroup\":\"United Kingdom\",\"marker\":{\"color\":\"#FF97FF\",\"pattern\":{\"shape\":\"\"}},\"name\":\"United Kingdom\",\"offsetgroup\":\"United Kingdom\",\"orientation\":\"v\",\"showlegend\":true,\"textposition\":\"auto\",\"texttemplate\":\"%{y:.3s}\",\"x\":[\"United Kingdom\"],\"xaxis\":\"x\",\"y\":[301708],\"yaxis\":\"y\",\"type\":\"bar\"},{\"alignmentgroup\":\"True\",\"hovertemplate\":\"Country=%{x}<br>Confirmed=%{y}<extra></extra>\",\"legendgroup\":\"Iran\",\"marker\":{\"color\":\"#FECB52\",\"pattern\":{\"shape\":\"\"}},\"name\":\"Iran\",\"offsetgroup\":\"Iran\",\"orientation\":\"v\",\"showlegend\":true,\"textposition\":\"auto\",\"texttemplate\":\"%{y:.3s}\",\"x\":[\"Iran\"],\"xaxis\":\"x\",\"y\":[293606],\"yaxis\":\"y\",\"type\":\"bar\"},{\"alignmentgroup\":\"True\",\"hovertemplate\":\"Country=%{x}<br>Confirmed=%{y}<extra></extra>\",\"legendgroup\":\"Pakistan\",\"marker\":{\"color\":\"#636efa\",\"pattern\":{\"shape\":\"\"}},\"name\":\"Pakistan\",\"offsetgroup\":\"Pakistan\",\"orientation\":\"v\",\"showlegend\":true,\"textposition\":\"auto\",\"texttemplate\":\"%{y:.3s}\",\"x\":[\"Pakistan\"],\"xaxis\":\"x\",\"y\":[274289],\"yaxis\":\"y\",\"type\":\"bar\"},{\"alignmentgroup\":\"True\",\"hovertemplate\":\"Country=%{x}<br>Confirmed=%{y}<extra></extra>\",\"legendgroup\":\"Spain\",\"marker\":{\"color\":\"#EF553B\",\"pattern\":{\"shape\":\"\"}},\"name\":\"Spain\",\"offsetgroup\":\"Spain\",\"orientation\":\"v\",\"showlegend\":true,\"textposition\":\"auto\",\"texttemplate\":\"%{y:.3s}\",\"x\":[\"Spain\"],\"xaxis\":\"x\",\"y\":[272421],\"yaxis\":\"y\",\"type\":\"bar\"},{\"alignmentgroup\":\"True\",\"hovertemplate\":\"Country=%{x}<br>Confirmed=%{y}<extra></extra>\",\"legendgroup\":\"Saudi Arabia\",\"marker\":{\"color\":\"#00cc96\",\"pattern\":{\"shape\":\"\"}},\"name\":\"Saudi Arabia\",\"offsetgroup\":\"Saudi Arabia\",\"orientation\":\"v\",\"showlegend\":true,\"textposition\":\"auto\",\"texttemplate\":\"%{y:.3s}\",\"x\":[\"Saudi Arabia\"],\"xaxis\":\"x\",\"y\":[268934],\"yaxis\":\"y\",\"type\":\"bar\"},{\"alignmentgroup\":\"True\",\"hovertemplate\":\"Country=%{x}<br>Confirmed=%{y}<extra></extra>\",\"legendgroup\":\"Colombia\",\"marker\":{\"color\":\"#ab63fa\",\"pattern\":{\"shape\":\"\"}},\"name\":\"Colombia\",\"offsetgroup\":\"Colombia\",\"orientation\":\"v\",\"showlegend\":true,\"textposition\":\"auto\",\"texttemplate\":\"%{y:.3s}\",\"x\":[\"Colombia\"],\"xaxis\":\"x\",\"y\":[257101],\"yaxis\":\"y\",\"type\":\"bar\"},{\"alignmentgroup\":\"True\",\"hovertemplate\":\"Country=%{x}<br>Confirmed=%{y}<extra></extra>\",\"legendgroup\":\"Italy\",\"marker\":{\"color\":\"#FFA15A\",\"pattern\":{\"shape\":\"\"}},\"name\":\"Italy\",\"offsetgroup\":\"Italy\",\"orientation\":\"v\",\"showlegend\":true,\"textposition\":\"auto\",\"texttemplate\":\"%{y:.3s}\",\"x\":[\"Italy\"],\"xaxis\":\"x\",\"y\":[246286],\"yaxis\":\"y\",\"type\":\"bar\"},{\"alignmentgroup\":\"True\",\"hovertemplate\":\"Country=%{x}<br>Confirmed=%{y}<extra></extra>\",\"legendgroup\":\"Turkey\",\"marker\":{\"color\":\"#19d3f3\",\"pattern\":{\"shape\":\"\"}},\"name\":\"Turkey\",\"offsetgroup\":\"Turkey\",\"orientation\":\"v\",\"showlegend\":true,\"textposition\":\"auto\",\"texttemplate\":\"%{y:.3s}\",\"x\":[\"Turkey\"],\"xaxis\":\"x\",\"y\":[227019],\"yaxis\":\"y\",\"type\":\"bar\"},{\"alignmentgroup\":\"True\",\"hovertemplate\":\"Country=%{x}<br>Confirmed=%{y}<extra></extra>\",\"legendgroup\":\"Bangladesh\",\"marker\":{\"color\":\"#FF6692\",\"pattern\":{\"shape\":\"\"}},\"name\":\"Bangladesh\",\"offsetgroup\":\"Bangladesh\",\"orientation\":\"v\",\"showlegend\":true,\"textposition\":\"auto\",\"texttemplate\":\"%{y:.3s}\",\"x\":[\"Bangladesh\"],\"xaxis\":\"x\",\"y\":[226225],\"yaxis\":\"y\",\"type\":\"bar\"},{\"alignmentgroup\":\"True\",\"hovertemplate\":\"Country=%{x}<br>Confirmed=%{y}<extra></extra>\",\"legendgroup\":\"France\",\"marker\":{\"color\":\"#B6E880\",\"pattern\":{\"shape\":\"\"}},\"name\":\"France\",\"offsetgroup\":\"France\",\"orientation\":\"v\",\"showlegend\":true,\"textposition\":\"auto\",\"texttemplate\":\"%{y:.3s}\",\"x\":[\"France\"],\"xaxis\":\"x\",\"y\":[220352],\"yaxis\":\"y\",\"type\":\"bar\"},{\"alignmentgroup\":\"True\",\"hovertemplate\":\"Country=%{x}<br>Confirmed=%{y}<extra></extra>\",\"legendgroup\":\"Germany\",\"marker\":{\"color\":\"#FF97FF\",\"pattern\":{\"shape\":\"\"}},\"name\":\"Germany\",\"offsetgroup\":\"Germany\",\"orientation\":\"v\",\"showlegend\":true,\"textposition\":\"auto\",\"texttemplate\":\"%{y:.3s}\",\"x\":[\"Germany\"],\"xaxis\":\"x\",\"y\":[207112],\"yaxis\":\"y\",\"type\":\"bar\"},{\"alignmentgroup\":\"True\",\"hovertemplate\":\"Country=%{x}<br>Confirmed=%{y}<extra></extra>\",\"legendgroup\":\"Argentina\",\"marker\":{\"color\":\"#FECB52\",\"pattern\":{\"shape\":\"\"}},\"name\":\"Argentina\",\"offsetgroup\":\"Argentina\",\"orientation\":\"v\",\"showlegend\":true,\"textposition\":\"auto\",\"texttemplate\":\"%{y:.3s}\",\"x\":[\"Argentina\"],\"xaxis\":\"x\",\"y\":[167416],\"yaxis\":\"y\",\"type\":\"bar\"}],                        {\"template\":{\"data\":{\"barpolar\":[{\"marker\":{\"line\":{\"color\":\"rgb(17,17,17)\",\"width\":0.5},\"pattern\":{\"fillmode\":\"overlay\",\"size\":10,\"solidity\":0.2}},\"type\":\"barpolar\"}],\"bar\":[{\"error_x\":{\"color\":\"#f2f5fa\"},\"error_y\":{\"color\":\"#f2f5fa\"},\"marker\":{\"line\":{\"color\":\"rgb(17,17,17)\",\"width\":0.5},\"pattern\":{\"fillmode\":\"overlay\",\"size\":10,\"solidity\":0.2}},\"type\":\"bar\"}],\"carpet\":[{\"aaxis\":{\"endlinecolor\":\"#A2B1C6\",\"gridcolor\":\"#506784\",\"linecolor\":\"#506784\",\"minorgridcolor\":\"#506784\",\"startlinecolor\":\"#A2B1C6\"},\"baxis\":{\"endlinecolor\":\"#A2B1C6\",\"gridcolor\":\"#506784\",\"linecolor\":\"#506784\",\"minorgridcolor\":\"#506784\",\"startlinecolor\":\"#A2B1C6\"},\"type\":\"carpet\"}],\"choropleth\":[{\"colorbar\":{\"outlinewidth\":0,\"ticks\":\"\"},\"type\":\"choropleth\"}],\"contourcarpet\":[{\"colorbar\":{\"outlinewidth\":0,\"ticks\":\"\"},\"type\":\"contourcarpet\"}],\"contour\":[{\"colorbar\":{\"outlinewidth\":0,\"ticks\":\"\"},\"colorscale\":[[0.0,\"#0d0887\"],[0.1111111111111111,\"#46039f\"],[0.2222222222222222,\"#7201a8\"],[0.3333333333333333,\"#9c179e\"],[0.4444444444444444,\"#bd3786\"],[0.5555555555555556,\"#d8576b\"],[0.6666666666666666,\"#ed7953\"],[0.7777777777777778,\"#fb9f3a\"],[0.8888888888888888,\"#fdca26\"],[1.0,\"#f0f921\"]],\"type\":\"contour\"}],\"heatmapgl\":[{\"colorbar\":{\"outlinewidth\":0,\"ticks\":\"\"},\"colorscale\":[[0.0,\"#0d0887\"],[0.1111111111111111,\"#46039f\"],[0.2222222222222222,\"#7201a8\"],[0.3333333333333333,\"#9c179e\"],[0.4444444444444444,\"#bd3786\"],[0.5555555555555556,\"#d8576b\"],[0.6666666666666666,\"#ed7953\"],[0.7777777777777778,\"#fb9f3a\"],[0.8888888888888888,\"#fdca26\"],[1.0,\"#f0f921\"]],\"type\":\"heatmapgl\"}],\"heatmap\":[{\"colorbar\":{\"outlinewidth\":0,\"ticks\":\"\"},\"colorscale\":[[0.0,\"#0d0887\"],[0.1111111111111111,\"#46039f\"],[0.2222222222222222,\"#7201a8\"],[0.3333333333333333,\"#9c179e\"],[0.4444444444444444,\"#bd3786\"],[0.5555555555555556,\"#d8576b\"],[0.6666666666666666,\"#ed7953\"],[0.7777777777777778,\"#fb9f3a\"],[0.8888888888888888,\"#fdca26\"],[1.0,\"#f0f921\"]],\"type\":\"heatmap\"}],\"histogram2dcontour\":[{\"colorbar\":{\"outlinewidth\":0,\"ticks\":\"\"},\"colorscale\":[[0.0,\"#0d0887\"],[0.1111111111111111,\"#46039f\"],[0.2222222222222222,\"#7201a8\"],[0.3333333333333333,\"#9c179e\"],[0.4444444444444444,\"#bd3786\"],[0.5555555555555556,\"#d8576b\"],[0.6666666666666666,\"#ed7953\"],[0.7777777777777778,\"#fb9f3a\"],[0.8888888888888888,\"#fdca26\"],[1.0,\"#f0f921\"]],\"type\":\"histogram2dcontour\"}],\"histogram2d\":[{\"colorbar\":{\"outlinewidth\":0,\"ticks\":\"\"},\"colorscale\":[[0.0,\"#0d0887\"],[0.1111111111111111,\"#46039f\"],[0.2222222222222222,\"#7201a8\"],[0.3333333333333333,\"#9c179e\"],[0.4444444444444444,\"#bd3786\"],[0.5555555555555556,\"#d8576b\"],[0.6666666666666666,\"#ed7953\"],[0.7777777777777778,\"#fb9f3a\"],[0.8888888888888888,\"#fdca26\"],[1.0,\"#f0f921\"]],\"type\":\"histogram2d\"}],\"histogram\":[{\"marker\":{\"pattern\":{\"fillmode\":\"overlay\",\"size\":10,\"solidity\":0.2}},\"type\":\"histogram\"}],\"mesh3d\":[{\"colorbar\":{\"outlinewidth\":0,\"ticks\":\"\"},\"type\":\"mesh3d\"}],\"parcoords\":[{\"line\":{\"colorbar\":{\"outlinewidth\":0,\"ticks\":\"\"}},\"type\":\"parcoords\"}],\"pie\":[{\"automargin\":true,\"type\":\"pie\"}],\"scatter3d\":[{\"line\":{\"colorbar\":{\"outlinewidth\":0,\"ticks\":\"\"}},\"marker\":{\"colorbar\":{\"outlinewidth\":0,\"ticks\":\"\"}},\"type\":\"scatter3d\"}],\"scattercarpet\":[{\"marker\":{\"colorbar\":{\"outlinewidth\":0,\"ticks\":\"\"}},\"type\":\"scattercarpet\"}],\"scattergeo\":[{\"marker\":{\"colorbar\":{\"outlinewidth\":0,\"ticks\":\"\"}},\"type\":\"scattergeo\"}],\"scattergl\":[{\"marker\":{\"line\":{\"color\":\"#283442\"}},\"type\":\"scattergl\"}],\"scattermapbox\":[{\"marker\":{\"colorbar\":{\"outlinewidth\":0,\"ticks\":\"\"}},\"type\":\"scattermapbox\"}],\"scatterpolargl\":[{\"marker\":{\"colorbar\":{\"outlinewidth\":0,\"ticks\":\"\"}},\"type\":\"scatterpolargl\"}],\"scatterpolar\":[{\"marker\":{\"colorbar\":{\"outlinewidth\":0,\"ticks\":\"\"}},\"type\":\"scatterpolar\"}],\"scatter\":[{\"marker\":{\"line\":{\"color\":\"#283442\"}},\"type\":\"scatter\"}],\"scatterternary\":[{\"marker\":{\"colorbar\":{\"outlinewidth\":0,\"ticks\":\"\"}},\"type\":\"scatterternary\"}],\"surface\":[{\"colorbar\":{\"outlinewidth\":0,\"ticks\":\"\"},\"colorscale\":[[0.0,\"#0d0887\"],[0.1111111111111111,\"#46039f\"],[0.2222222222222222,\"#7201a8\"],[0.3333333333333333,\"#9c179e\"],[0.4444444444444444,\"#bd3786\"],[0.5555555555555556,\"#d8576b\"],[0.6666666666666666,\"#ed7953\"],[0.7777777777777778,\"#fb9f3a\"],[0.8888888888888888,\"#fdca26\"],[1.0,\"#f0f921\"]],\"type\":\"surface\"}],\"table\":[{\"cells\":{\"fill\":{\"color\":\"#506784\"},\"line\":{\"color\":\"rgb(17,17,17)\"}},\"header\":{\"fill\":{\"color\":\"#2a3f5f\"},\"line\":{\"color\":\"rgb(17,17,17)\"}},\"type\":\"table\"}]},\"layout\":{\"annotationdefaults\":{\"arrowcolor\":\"#f2f5fa\",\"arrowhead\":0,\"arrowwidth\":1},\"autotypenumbers\":\"strict\",\"coloraxis\":{\"colorbar\":{\"outlinewidth\":0,\"ticks\":\"\"}},\"colorscale\":{\"diverging\":[[0,\"#8e0152\"],[0.1,\"#c51b7d\"],[0.2,\"#de77ae\"],[0.3,\"#f1b6da\"],[0.4,\"#fde0ef\"],[0.5,\"#f7f7f7\"],[0.6,\"#e6f5d0\"],[0.7,\"#b8e186\"],[0.8,\"#7fbc41\"],[0.9,\"#4d9221\"],[1,\"#276419\"]],\"sequential\":[[0.0,\"#0d0887\"],[0.1111111111111111,\"#46039f\"],[0.2222222222222222,\"#7201a8\"],[0.3333333333333333,\"#9c179e\"],[0.4444444444444444,\"#bd3786\"],[0.5555555555555556,\"#d8576b\"],[0.6666666666666666,\"#ed7953\"],[0.7777777777777778,\"#fb9f3a\"],[0.8888888888888888,\"#fdca26\"],[1.0,\"#f0f921\"]],\"sequentialminus\":[[0.0,\"#0d0887\"],[0.1111111111111111,\"#46039f\"],[0.2222222222222222,\"#7201a8\"],[0.3333333333333333,\"#9c179e\"],[0.4444444444444444,\"#bd3786\"],[0.5555555555555556,\"#d8576b\"],[0.6666666666666666,\"#ed7953\"],[0.7777777777777778,\"#fb9f3a\"],[0.8888888888888888,\"#fdca26\"],[1.0,\"#f0f921\"]]},\"colorway\":[\"#636efa\",\"#EF553B\",\"#00cc96\",\"#ab63fa\",\"#FFA15A\",\"#19d3f3\",\"#FF6692\",\"#B6E880\",\"#FF97FF\",\"#FECB52\"],\"font\":{\"color\":\"#f2f5fa\"},\"geo\":{\"bgcolor\":\"rgb(17,17,17)\",\"lakecolor\":\"rgb(17,17,17)\",\"landcolor\":\"rgb(17,17,17)\",\"showlakes\":true,\"showland\":true,\"subunitcolor\":\"#506784\"},\"hoverlabel\":{\"align\":\"left\"},\"hovermode\":\"closest\",\"mapbox\":{\"style\":\"dark\"},\"paper_bgcolor\":\"rgb(17,17,17)\",\"plot_bgcolor\":\"rgb(17,17,17)\",\"polar\":{\"angularaxis\":{\"gridcolor\":\"#506784\",\"linecolor\":\"#506784\",\"ticks\":\"\"},\"bgcolor\":\"rgb(17,17,17)\",\"radialaxis\":{\"gridcolor\":\"#506784\",\"linecolor\":\"#506784\",\"ticks\":\"\"}},\"scene\":{\"xaxis\":{\"backgroundcolor\":\"rgb(17,17,17)\",\"gridcolor\":\"#506784\",\"gridwidth\":2,\"linecolor\":\"#506784\",\"showbackground\":true,\"ticks\":\"\",\"zerolinecolor\":\"#C8D4E3\"},\"yaxis\":{\"backgroundcolor\":\"rgb(17,17,17)\",\"gridcolor\":\"#506784\",\"gridwidth\":2,\"linecolor\":\"#506784\",\"showbackground\":true,\"ticks\":\"\",\"zerolinecolor\":\"#C8D4E3\"},\"zaxis\":{\"backgroundcolor\":\"rgb(17,17,17)\",\"gridcolor\":\"#506784\",\"gridwidth\":2,\"linecolor\":\"#506784\",\"showbackground\":true,\"ticks\":\"\",\"zerolinecolor\":\"#C8D4E3\"}},\"shapedefaults\":{\"line\":{\"color\":\"#f2f5fa\"}},\"sliderdefaults\":{\"bgcolor\":\"#C8D4E3\",\"bordercolor\":\"rgb(17,17,17)\",\"borderwidth\":1,\"tickwidth\":0},\"ternary\":{\"aaxis\":{\"gridcolor\":\"#506784\",\"linecolor\":\"#506784\",\"ticks\":\"\"},\"baxis\":{\"gridcolor\":\"#506784\",\"linecolor\":\"#506784\",\"ticks\":\"\"},\"bgcolor\":\"rgb(17,17,17)\",\"caxis\":{\"gridcolor\":\"#506784\",\"linecolor\":\"#506784\",\"ticks\":\"\"}},\"title\":{\"x\":0.05},\"updatemenudefaults\":{\"bgcolor\":\"#506784\",\"borderwidth\":0},\"xaxis\":{\"automargin\":true,\"gridcolor\":\"#283442\",\"linecolor\":\"#506784\",\"ticks\":\"\",\"title\":{\"standoff\":15},\"zerolinecolor\":\"#283442\",\"zerolinewidth\":2},\"yaxis\":{\"automargin\":true,\"gridcolor\":\"#283442\",\"linecolor\":\"#506784\",\"ticks\":\"\",\"title\":{\"standoff\":15},\"zerolinecolor\":\"#283442\",\"zerolinewidth\":2}}},\"xaxis\":{\"anchor\":\"y\",\"domain\":[0.0,1.0],\"title\":{\"text\":\"Country\"},\"categoryorder\":\"array\",\"categoryarray\":[\"US\",\"Brazil\",\"India\",\"Russia\",\"South Africa\",\"Mexico\",\"Peru\",\"Chile\",\"United Kingdom\",\"Iran\",\"Pakistan\",\"Spain\",\"Saudi Arabia\",\"Colombia\",\"Italy\",\"Turkey\",\"Bangladesh\",\"France\",\"Germany\",\"Argentina\"]},\"yaxis\":{\"anchor\":\"x\",\"domain\":[0.0,1.0],\"title\":{\"text\":\"Confirmed\"}},\"legend\":{\"title\":{\"text\":\"Country\"},\"tracegroupgap\":0},\"title\":{\"text\":\"Top 20 Country Confirmed Cases\"},\"barmode\":\"relative\"},                        {\"responsive\": true}                    )                };                            </script>        </div>"
            ],
            "text/plain": [
              "Figure({\n",
              "    'data': [{'alignmentgroup': 'True',\n",
              "              'hovertemplate': 'Country=%{x}<br>Confirmed=%{y}<extra></extra>',\n",
              "              'legendgroup': 'US',\n",
              "              'marker': {'color': '#636efa', 'pattern': {'shape': ''}},\n",
              "              'name': 'US',\n",
              "              'offsetgroup': 'US',\n",
              "              'orientation': 'v',\n",
              "              'showlegend': True,\n",
              "              'textposition': 'auto',\n",
              "              'texttemplate': '%{y:.3s}',\n",
              "              'type': 'bar',\n",
              "              'x': array(['US'], dtype=object),\n",
              "              'xaxis': 'x',\n",
              "              'y': array([4290259], dtype=int64),\n",
              "              'yaxis': 'y'},\n",
              "             {'alignmentgroup': 'True',\n",
              "              'hovertemplate': 'Country=%{x}<br>Confirmed=%{y}<extra></extra>',\n",
              "              'legendgroup': 'Brazil',\n",
              "              'marker': {'color': '#EF553B', 'pattern': {'shape': ''}},\n",
              "              'name': 'Brazil',\n",
              "              'offsetgroup': 'Brazil',\n",
              "              'orientation': 'v',\n",
              "              'showlegend': True,\n",
              "              'textposition': 'auto',\n",
              "              'texttemplate': '%{y:.3s}',\n",
              "              'type': 'bar',\n",
              "              'x': array(['Brazil'], dtype=object),\n",
              "              'xaxis': 'x',\n",
              "              'y': array([2442375], dtype=int64),\n",
              "              'yaxis': 'y'},\n",
              "             {'alignmentgroup': 'True',\n",
              "              'hovertemplate': 'Country=%{x}<br>Confirmed=%{y}<extra></extra>',\n",
              "              'legendgroup': 'India',\n",
              "              'marker': {'color': '#00cc96', 'pattern': {'shape': ''}},\n",
              "              'name': 'India',\n",
              "              'offsetgroup': 'India',\n",
              "              'orientation': 'v',\n",
              "              'showlegend': True,\n",
              "              'textposition': 'auto',\n",
              "              'texttemplate': '%{y:.3s}',\n",
              "              'type': 'bar',\n",
              "              'x': array(['India'], dtype=object),\n",
              "              'xaxis': 'x',\n",
              "              'y': array([1480073], dtype=int64),\n",
              "              'yaxis': 'y'},\n",
              "             {'alignmentgroup': 'True',\n",
              "              'hovertemplate': 'Country=%{x}<br>Confirmed=%{y}<extra></extra>',\n",
              "              'legendgroup': 'Russia',\n",
              "              'marker': {'color': '#ab63fa', 'pattern': {'shape': ''}},\n",
              "              'name': 'Russia',\n",
              "              'offsetgroup': 'Russia',\n",
              "              'orientation': 'v',\n",
              "              'showlegend': True,\n",
              "              'textposition': 'auto',\n",
              "              'texttemplate': '%{y:.3s}',\n",
              "              'type': 'bar',\n",
              "              'x': array(['Russia'], dtype=object),\n",
              "              'xaxis': 'x',\n",
              "              'y': array([816680], dtype=int64),\n",
              "              'yaxis': 'y'},\n",
              "             {'alignmentgroup': 'True',\n",
              "              'hovertemplate': 'Country=%{x}<br>Confirmed=%{y}<extra></extra>',\n",
              "              'legendgroup': 'South Africa',\n",
              "              'marker': {'color': '#FFA15A', 'pattern': {'shape': ''}},\n",
              "              'name': 'South Africa',\n",
              "              'offsetgroup': 'South Africa',\n",
              "              'orientation': 'v',\n",
              "              'showlegend': True,\n",
              "              'textposition': 'auto',\n",
              "              'texttemplate': '%{y:.3s}',\n",
              "              'type': 'bar',\n",
              "              'x': array(['South Africa'], dtype=object),\n",
              "              'xaxis': 'x',\n",
              "              'y': array([452529], dtype=int64),\n",
              "              'yaxis': 'y'},\n",
              "             {'alignmentgroup': 'True',\n",
              "              'hovertemplate': 'Country=%{x}<br>Confirmed=%{y}<extra></extra>',\n",
              "              'legendgroup': 'Mexico',\n",
              "              'marker': {'color': '#19d3f3', 'pattern': {'shape': ''}},\n",
              "              'name': 'Mexico',\n",
              "              'offsetgroup': 'Mexico',\n",
              "              'orientation': 'v',\n",
              "              'showlegend': True,\n",
              "              'textposition': 'auto',\n",
              "              'texttemplate': '%{y:.3s}',\n",
              "              'type': 'bar',\n",
              "              'x': array(['Mexico'], dtype=object),\n",
              "              'xaxis': 'x',\n",
              "              'y': array([395489], dtype=int64),\n",
              "              'yaxis': 'y'},\n",
              "             {'alignmentgroup': 'True',\n",
              "              'hovertemplate': 'Country=%{x}<br>Confirmed=%{y}<extra></extra>',\n",
              "              'legendgroup': 'Peru',\n",
              "              'marker': {'color': '#FF6692', 'pattern': {'shape': ''}},\n",
              "              'name': 'Peru',\n",
              "              'offsetgroup': 'Peru',\n",
              "              'orientation': 'v',\n",
              "              'showlegend': True,\n",
              "              'textposition': 'auto',\n",
              "              'texttemplate': '%{y:.3s}',\n",
              "              'type': 'bar',\n",
              "              'x': array(['Peru'], dtype=object),\n",
              "              'xaxis': 'x',\n",
              "              'y': array([389717], dtype=int64),\n",
              "              'yaxis': 'y'},\n",
              "             {'alignmentgroup': 'True',\n",
              "              'hovertemplate': 'Country=%{x}<br>Confirmed=%{y}<extra></extra>',\n",
              "              'legendgroup': 'Chile',\n",
              "              'marker': {'color': '#B6E880', 'pattern': {'shape': ''}},\n",
              "              'name': 'Chile',\n",
              "              'offsetgroup': 'Chile',\n",
              "              'orientation': 'v',\n",
              "              'showlegend': True,\n",
              "              'textposition': 'auto',\n",
              "              'texttemplate': '%{y:.3s}',\n",
              "              'type': 'bar',\n",
              "              'x': array(['Chile'], dtype=object),\n",
              "              'xaxis': 'x',\n",
              "              'y': array([347923], dtype=int64),\n",
              "              'yaxis': 'y'},\n",
              "             {'alignmentgroup': 'True',\n",
              "              'hovertemplate': 'Country=%{x}<br>Confirmed=%{y}<extra></extra>',\n",
              "              'legendgroup': 'United Kingdom',\n",
              "              'marker': {'color': '#FF97FF', 'pattern': {'shape': ''}},\n",
              "              'name': 'United Kingdom',\n",
              "              'offsetgroup': 'United Kingdom',\n",
              "              'orientation': 'v',\n",
              "              'showlegend': True,\n",
              "              'textposition': 'auto',\n",
              "              'texttemplate': '%{y:.3s}',\n",
              "              'type': 'bar',\n",
              "              'x': array(['United Kingdom'], dtype=object),\n",
              "              'xaxis': 'x',\n",
              "              'y': array([301708], dtype=int64),\n",
              "              'yaxis': 'y'},\n",
              "             {'alignmentgroup': 'True',\n",
              "              'hovertemplate': 'Country=%{x}<br>Confirmed=%{y}<extra></extra>',\n",
              "              'legendgroup': 'Iran',\n",
              "              'marker': {'color': '#FECB52', 'pattern': {'shape': ''}},\n",
              "              'name': 'Iran',\n",
              "              'offsetgroup': 'Iran',\n",
              "              'orientation': 'v',\n",
              "              'showlegend': True,\n",
              "              'textposition': 'auto',\n",
              "              'texttemplate': '%{y:.3s}',\n",
              "              'type': 'bar',\n",
              "              'x': array(['Iran'], dtype=object),\n",
              "              'xaxis': 'x',\n",
              "              'y': array([293606], dtype=int64),\n",
              "              'yaxis': 'y'},\n",
              "             {'alignmentgroup': 'True',\n",
              "              'hovertemplate': 'Country=%{x}<br>Confirmed=%{y}<extra></extra>',\n",
              "              'legendgroup': 'Pakistan',\n",
              "              'marker': {'color': '#636efa', 'pattern': {'shape': ''}},\n",
              "              'name': 'Pakistan',\n",
              "              'offsetgroup': 'Pakistan',\n",
              "              'orientation': 'v',\n",
              "              'showlegend': True,\n",
              "              'textposition': 'auto',\n",
              "              'texttemplate': '%{y:.3s}',\n",
              "              'type': 'bar',\n",
              "              'x': array(['Pakistan'], dtype=object),\n",
              "              'xaxis': 'x',\n",
              "              'y': array([274289], dtype=int64),\n",
              "              'yaxis': 'y'},\n",
              "             {'alignmentgroup': 'True',\n",
              "              'hovertemplate': 'Country=%{x}<br>Confirmed=%{y}<extra></extra>',\n",
              "              'legendgroup': 'Spain',\n",
              "              'marker': {'color': '#EF553B', 'pattern': {'shape': ''}},\n",
              "              'name': 'Spain',\n",
              "              'offsetgroup': 'Spain',\n",
              "              'orientation': 'v',\n",
              "              'showlegend': True,\n",
              "              'textposition': 'auto',\n",
              "              'texttemplate': '%{y:.3s}',\n",
              "              'type': 'bar',\n",
              "              'x': array(['Spain'], dtype=object),\n",
              "              'xaxis': 'x',\n",
              "              'y': array([272421], dtype=int64),\n",
              "              'yaxis': 'y'},\n",
              "             {'alignmentgroup': 'True',\n",
              "              'hovertemplate': 'Country=%{x}<br>Confirmed=%{y}<extra></extra>',\n",
              "              'legendgroup': 'Saudi Arabia',\n",
              "              'marker': {'color': '#00cc96', 'pattern': {'shape': ''}},\n",
              "              'name': 'Saudi Arabia',\n",
              "              'offsetgroup': 'Saudi Arabia',\n",
              "              'orientation': 'v',\n",
              "              'showlegend': True,\n",
              "              'textposition': 'auto',\n",
              "              'texttemplate': '%{y:.3s}',\n",
              "              'type': 'bar',\n",
              "              'x': array(['Saudi Arabia'], dtype=object),\n",
              "              'xaxis': 'x',\n",
              "              'y': array([268934], dtype=int64),\n",
              "              'yaxis': 'y'},\n",
              "             {'alignmentgroup': 'True',\n",
              "              'hovertemplate': 'Country=%{x}<br>Confirmed=%{y}<extra></extra>',\n",
              "              'legendgroup': 'Colombia',\n",
              "              'marker': {'color': '#ab63fa', 'pattern': {'shape': ''}},\n",
              "              'name': 'Colombia',\n",
              "              'offsetgroup': 'Colombia',\n",
              "              'orientation': 'v',\n",
              "              'showlegend': True,\n",
              "              'textposition': 'auto',\n",
              "              'texttemplate': '%{y:.3s}',\n",
              "              'type': 'bar',\n",
              "              'x': array(['Colombia'], dtype=object),\n",
              "              'xaxis': 'x',\n",
              "              'y': array([257101], dtype=int64),\n",
              "              'yaxis': 'y'},\n",
              "             {'alignmentgroup': 'True',\n",
              "              'hovertemplate': 'Country=%{x}<br>Confirmed=%{y}<extra></extra>',\n",
              "              'legendgroup': 'Italy',\n",
              "              'marker': {'color': '#FFA15A', 'pattern': {'shape': ''}},\n",
              "              'name': 'Italy',\n",
              "              'offsetgroup': 'Italy',\n",
              "              'orientation': 'v',\n",
              "              'showlegend': True,\n",
              "              'textposition': 'auto',\n",
              "              'texttemplate': '%{y:.3s}',\n",
              "              'type': 'bar',\n",
              "              'x': array(['Italy'], dtype=object),\n",
              "              'xaxis': 'x',\n",
              "              'y': array([246286], dtype=int64),\n",
              "              'yaxis': 'y'},\n",
              "             {'alignmentgroup': 'True',\n",
              "              'hovertemplate': 'Country=%{x}<br>Confirmed=%{y}<extra></extra>',\n",
              "              'legendgroup': 'Turkey',\n",
              "              'marker': {'color': '#19d3f3', 'pattern': {'shape': ''}},\n",
              "              'name': 'Turkey',\n",
              "              'offsetgroup': 'Turkey',\n",
              "              'orientation': 'v',\n",
              "              'showlegend': True,\n",
              "              'textposition': 'auto',\n",
              "              'texttemplate': '%{y:.3s}',\n",
              "              'type': 'bar',\n",
              "              'x': array(['Turkey'], dtype=object),\n",
              "              'xaxis': 'x',\n",
              "              'y': array([227019], dtype=int64),\n",
              "              'yaxis': 'y'},\n",
              "             {'alignmentgroup': 'True',\n",
              "              'hovertemplate': 'Country=%{x}<br>Confirmed=%{y}<extra></extra>',\n",
              "              'legendgroup': 'Bangladesh',\n",
              "              'marker': {'color': '#FF6692', 'pattern': {'shape': ''}},\n",
              "              'name': 'Bangladesh',\n",
              "              'offsetgroup': 'Bangladesh',\n",
              "              'orientation': 'v',\n",
              "              'showlegend': True,\n",
              "              'textposition': 'auto',\n",
              "              'texttemplate': '%{y:.3s}',\n",
              "              'type': 'bar',\n",
              "              'x': array(['Bangladesh'], dtype=object),\n",
              "              'xaxis': 'x',\n",
              "              'y': array([226225], dtype=int64),\n",
              "              'yaxis': 'y'},\n",
              "             {'alignmentgroup': 'True',\n",
              "              'hovertemplate': 'Country=%{x}<br>Confirmed=%{y}<extra></extra>',\n",
              "              'legendgroup': 'France',\n",
              "              'marker': {'color': '#B6E880', 'pattern': {'shape': ''}},\n",
              "              'name': 'France',\n",
              "              'offsetgroup': 'France',\n",
              "              'orientation': 'v',\n",
              "              'showlegend': True,\n",
              "              'textposition': 'auto',\n",
              "              'texttemplate': '%{y:.3s}',\n",
              "              'type': 'bar',\n",
              "              'x': array(['France'], dtype=object),\n",
              "              'xaxis': 'x',\n",
              "              'y': array([220352], dtype=int64),\n",
              "              'yaxis': 'y'},\n",
              "             {'alignmentgroup': 'True',\n",
              "              'hovertemplate': 'Country=%{x}<br>Confirmed=%{y}<extra></extra>',\n",
              "              'legendgroup': 'Germany',\n",
              "              'marker': {'color': '#FF97FF', 'pattern': {'shape': ''}},\n",
              "              'name': 'Germany',\n",
              "              'offsetgroup': 'Germany',\n",
              "              'orientation': 'v',\n",
              "              'showlegend': True,\n",
              "              'textposition': 'auto',\n",
              "              'texttemplate': '%{y:.3s}',\n",
              "              'type': 'bar',\n",
              "              'x': array(['Germany'], dtype=object),\n",
              "              'xaxis': 'x',\n",
              "              'y': array([207112], dtype=int64),\n",
              "              'yaxis': 'y'},\n",
              "             {'alignmentgroup': 'True',\n",
              "              'hovertemplate': 'Country=%{x}<br>Confirmed=%{y}<extra></extra>',\n",
              "              'legendgroup': 'Argentina',\n",
              "              'marker': {'color': '#FECB52', 'pattern': {'shape': ''}},\n",
              "              'name': 'Argentina',\n",
              "              'offsetgroup': 'Argentina',\n",
              "              'orientation': 'v',\n",
              "              'showlegend': True,\n",
              "              'textposition': 'auto',\n",
              "              'texttemplate': '%{y:.3s}',\n",
              "              'type': 'bar',\n",
              "              'x': array(['Argentina'], dtype=object),\n",
              "              'xaxis': 'x',\n",
              "              'y': array([167416], dtype=int64),\n",
              "              'yaxis': 'y'}],\n",
              "    'layout': {'barmode': 'relative',\n",
              "               'legend': {'title': {'text': 'Country'}, 'tracegroupgap': 0},\n",
              "               'template': '...',\n",
              "               'title': {'text': 'Top 20 Country Confirmed Cases'},\n",
              "               'xaxis': {'anchor': 'y',\n",
              "                         'categoryarray': [US, Brazil, India, Russia, South\n",
              "                                           Africa, Mexico, Peru, Chile, United\n",
              "                                           Kingdom, Iran, Pakistan, Spain, Saudi\n",
              "                                           Arabia, Colombia, Italy, Turkey,\n",
              "                                           Bangladesh, France, Germany, Argentina],\n",
              "                         'categoryorder': 'array',\n",
              "                         'domain': [0.0, 1.0],\n",
              "                         'title': {'text': 'Country'}},\n",
              "               'yaxis': {'anchor': 'x', 'domain': [0.0, 1.0], 'title': {'text': 'Confirmed'}}}\n",
              "})"
            ]
          },
          "execution_count": 40,
          "metadata": {},
          "output_type": "execute_result"
        }
      ],
      "source": [
        "px.bar(country_Confirmed,x='Country',y='Confirmed',color='Country',text_auto='.3s',title='Top 20 Country Confirmed Cases',template=\"plotly_dark\")"
      ]
    },
    {
      "cell_type": "code",
      "execution_count": 41,
      "metadata": {
        "colab": {
          "base_uri": "https://localhost:8080/",
          "height": 542
        },
        "id": "RJlERLQXmwYc",
        "outputId": "c4dce31c-705d-4733-a866-fc58c527507a"
      },
      "outputs": [
        {
          "ename": "ValueError",
          "evalue": "Mime type rendering requires nbformat>=4.2.0 but it is not installed",
          "output_type": "error",
          "traceback": [
            "\u001b[1;31m---------------------------------------------------------------------------\u001b[0m",
            "\u001b[1;31mValueError\u001b[0m                                Traceback (most recent call last)",
            "File \u001b[1;32m~\\AppData\\Roaming\\Python\\Python310\\site-packages\\IPython\\core\\formatters.py:922\u001b[0m, in \u001b[0;36mIPythonDisplayFormatter.__call__\u001b[1;34m(self, obj)\u001b[0m\n\u001b[0;32m    920\u001b[0m method \u001b[39m=\u001b[39m get_real_method(obj, \u001b[39mself\u001b[39m\u001b[39m.\u001b[39mprint_method)\n\u001b[0;32m    921\u001b[0m \u001b[39mif\u001b[39;00m method \u001b[39mis\u001b[39;00m \u001b[39mnot\u001b[39;00m \u001b[39mNone\u001b[39;00m:\n\u001b[1;32m--> 922\u001b[0m     method()\n\u001b[0;32m    923\u001b[0m     \u001b[39mreturn\u001b[39;00m \u001b[39mTrue\u001b[39;00m\n",
            "File \u001b[1;32m~\\AppData\\Roaming\\Python\\Python310\\site-packages\\plotly\\basedatatypes.py:834\u001b[0m, in \u001b[0;36mBaseFigure._ipython_display_\u001b[1;34m(self)\u001b[0m\n\u001b[0;32m    831\u001b[0m \u001b[39mimport\u001b[39;00m \u001b[39mplotly\u001b[39;00m\u001b[39m.\u001b[39;00m\u001b[39mio\u001b[39;00m \u001b[39mas\u001b[39;00m \u001b[39mpio\u001b[39;00m\n\u001b[0;32m    833\u001b[0m \u001b[39mif\u001b[39;00m pio\u001b[39m.\u001b[39mrenderers\u001b[39m.\u001b[39mrender_on_display \u001b[39mand\u001b[39;00m pio\u001b[39m.\u001b[39mrenderers\u001b[39m.\u001b[39mdefault:\n\u001b[1;32m--> 834\u001b[0m     pio\u001b[39m.\u001b[39;49mshow(\u001b[39mself\u001b[39;49m)\n\u001b[0;32m    835\u001b[0m \u001b[39melse\u001b[39;00m:\n\u001b[0;32m    836\u001b[0m     \u001b[39mprint\u001b[39m(\u001b[39mrepr\u001b[39m(\u001b[39mself\u001b[39m))\n",
            "File \u001b[1;32m~\\AppData\\Roaming\\Python\\Python310\\site-packages\\plotly\\io\\_renderers.py:396\u001b[0m, in \u001b[0;36mshow\u001b[1;34m(fig, renderer, validate, **kwargs)\u001b[0m\n\u001b[0;32m    391\u001b[0m         \u001b[39mraise\u001b[39;00m \u001b[39mValueError\u001b[39;00m(\n\u001b[0;32m    392\u001b[0m             \u001b[39m\"\u001b[39m\u001b[39mMime type rendering requires ipython but it is not installed\u001b[39m\u001b[39m\"\u001b[39m\n\u001b[0;32m    393\u001b[0m         )\n\u001b[0;32m    395\u001b[0m     \u001b[39mif\u001b[39;00m \u001b[39mnot\u001b[39;00m nbformat \u001b[39mor\u001b[39;00m Version(nbformat\u001b[39m.\u001b[39m__version__) \u001b[39m<\u001b[39m Version(\u001b[39m\"\u001b[39m\u001b[39m4.2.0\u001b[39m\u001b[39m\"\u001b[39m):\n\u001b[1;32m--> 396\u001b[0m         \u001b[39mraise\u001b[39;00m \u001b[39mValueError\u001b[39;00m(\n\u001b[0;32m    397\u001b[0m             \u001b[39m\"\u001b[39m\u001b[39mMime type rendering requires nbformat>=4.2.0 but it is not installed\u001b[39m\u001b[39m\"\u001b[39m\n\u001b[0;32m    398\u001b[0m         )\n\u001b[0;32m    400\u001b[0m     ipython_display\u001b[39m.\u001b[39mdisplay(bundle, raw\u001b[39m=\u001b[39m\u001b[39mTrue\u001b[39;00m)\n\u001b[0;32m    402\u001b[0m \u001b[39m# external renderers\u001b[39;00m\n",
            "\u001b[1;31mValueError\u001b[0m: Mime type rendering requires nbformat>=4.2.0 but it is not installed"
          ]
        },
        {
          "data": {
            "application/vnd.plotly.v1+json": {
              "config": {
                "plotlyServerURL": "https://plot.ly"
              },
              "data": [
                {
                  "alignmentgroup": "True",
                  "hovertemplate": "Country=%{x}<br>Recovered=%{y}<extra></extra>",
                  "legendgroup": "Brazil",
                  "marker": {
                    "color": "#636efa",
                    "pattern": {
                      "shape": ""
                    }
                  },
                  "name": "Brazil",
                  "offsetgroup": "Brazil",
                  "orientation": "v",
                  "showlegend": true,
                  "textposition": "auto",
                  "texttemplate": "%{y:.3s}",
                  "type": "bar",
                  "x": [
                    "Brazil"
                  ],
                  "xaxis": "x",
                  "y": [
                    1846641
                  ],
                  "yaxis": "y"
                },
                {
                  "alignmentgroup": "True",
                  "hovertemplate": "Country=%{x}<br>Recovered=%{y}<extra></extra>",
                  "legendgroup": "US",
                  "marker": {
                    "color": "#EF553B",
                    "pattern": {
                      "shape": ""
                    }
                  },
                  "name": "US",
                  "offsetgroup": "US",
                  "orientation": "v",
                  "showlegend": true,
                  "textposition": "auto",
                  "texttemplate": "%{y:.3s}",
                  "type": "bar",
                  "x": [
                    "US"
                  ],
                  "xaxis": "x",
                  "y": [
                    1325804
                  ],
                  "yaxis": "y"
                },
                {
                  "alignmentgroup": "True",
                  "hovertemplate": "Country=%{x}<br>Recovered=%{y}<extra></extra>",
                  "legendgroup": "India",
                  "marker": {
                    "color": "#00cc96",
                    "pattern": {
                      "shape": ""
                    }
                  },
                  "name": "India",
                  "offsetgroup": "India",
                  "orientation": "v",
                  "showlegend": true,
                  "textposition": "auto",
                  "texttemplate": "%{y:.3s}",
                  "type": "bar",
                  "x": [
                    "India"
                  ],
                  "xaxis": "x",
                  "y": [
                    951166
                  ],
                  "yaxis": "y"
                },
                {
                  "alignmentgroup": "True",
                  "hovertemplate": "Country=%{x}<br>Recovered=%{y}<extra></extra>",
                  "legendgroup": "Russia",
                  "marker": {
                    "color": "#ab63fa",
                    "pattern": {
                      "shape": ""
                    }
                  },
                  "name": "Russia",
                  "offsetgroup": "Russia",
                  "orientation": "v",
                  "showlegend": true,
                  "textposition": "auto",
                  "texttemplate": "%{y:.3s}",
                  "type": "bar",
                  "x": [
                    "Russia"
                  ],
                  "xaxis": "x",
                  "y": [
                    602249
                  ],
                  "yaxis": "y"
                },
                {
                  "alignmentgroup": "True",
                  "hovertemplate": "Country=%{x}<br>Recovered=%{y}<extra></extra>",
                  "legendgroup": "Chile",
                  "marker": {
                    "color": "#FFA15A",
                    "pattern": {
                      "shape": ""
                    }
                  },
                  "name": "Chile",
                  "offsetgroup": "Chile",
                  "orientation": "v",
                  "showlegend": true,
                  "textposition": "auto",
                  "texttemplate": "%{y:.3s}",
                  "type": "bar",
                  "x": [
                    "Chile"
                  ],
                  "xaxis": "x",
                  "y": [
                    319954
                  ],
                  "yaxis": "y"
                },
                {
                  "alignmentgroup": "True",
                  "hovertemplate": "Country=%{x}<br>Recovered=%{y}<extra></extra>",
                  "legendgroup": "Mexico",
                  "marker": {
                    "color": "#19d3f3",
                    "pattern": {
                      "shape": ""
                    }
                  },
                  "name": "Mexico",
                  "offsetgroup": "Mexico",
                  "orientation": "v",
                  "showlegend": true,
                  "textposition": "auto",
                  "texttemplate": "%{y:.3s}",
                  "type": "bar",
                  "x": [
                    "Mexico"
                  ],
                  "xaxis": "x",
                  "y": [
                    303810
                  ],
                  "yaxis": "y"
                },
                {
                  "alignmentgroup": "True",
                  "hovertemplate": "Country=%{x}<br>Recovered=%{y}<extra></extra>",
                  "legendgroup": "South Africa",
                  "marker": {
                    "color": "#FF6692",
                    "pattern": {
                      "shape": ""
                    }
                  },
                  "name": "South Africa",
                  "offsetgroup": "South Africa",
                  "orientation": "v",
                  "showlegend": true,
                  "textposition": "auto",
                  "texttemplate": "%{y:.3s}",
                  "type": "bar",
                  "x": [
                    "South Africa"
                  ],
                  "xaxis": "x",
                  "y": [
                    274925
                  ],
                  "yaxis": "y"
                },
                {
                  "alignmentgroup": "True",
                  "hovertemplate": "Country=%{x}<br>Recovered=%{y}<extra></extra>",
                  "legendgroup": "Peru",
                  "marker": {
                    "color": "#B6E880",
                    "pattern": {
                      "shape": ""
                    }
                  },
                  "name": "Peru",
                  "offsetgroup": "Peru",
                  "orientation": "v",
                  "showlegend": true,
                  "textposition": "auto",
                  "texttemplate": "%{y:.3s}",
                  "type": "bar",
                  "x": [
                    "Peru"
                  ],
                  "xaxis": "x",
                  "y": [
                    272547
                  ],
                  "yaxis": "y"
                },
                {
                  "alignmentgroup": "True",
                  "hovertemplate": "Country=%{x}<br>Recovered=%{y}<extra></extra>",
                  "legendgroup": "Iran",
                  "marker": {
                    "color": "#FF97FF",
                    "pattern": {
                      "shape": ""
                    }
                  },
                  "name": "Iran",
                  "offsetgroup": "Iran",
                  "orientation": "v",
                  "showlegend": true,
                  "textposition": "auto",
                  "texttemplate": "%{y:.3s}",
                  "type": "bar",
                  "x": [
                    "Iran"
                  ],
                  "xaxis": "x",
                  "y": [
                    255144
                  ],
                  "yaxis": "y"
                },
                {
                  "alignmentgroup": "True",
                  "hovertemplate": "Country=%{x}<br>Recovered=%{y}<extra></extra>",
                  "legendgroup": "Pakistan",
                  "marker": {
                    "color": "#FECB52",
                    "pattern": {
                      "shape": ""
                    }
                  },
                  "name": "Pakistan",
                  "offsetgroup": "Pakistan",
                  "orientation": "v",
                  "showlegend": true,
                  "textposition": "auto",
                  "texttemplate": "%{y:.3s}",
                  "type": "bar",
                  "x": [
                    "Pakistan"
                  ],
                  "xaxis": "x",
                  "y": [
                    241026
                  ],
                  "yaxis": "y"
                },
                {
                  "alignmentgroup": "True",
                  "hovertemplate": "Country=%{x}<br>Recovered=%{y}<extra></extra>",
                  "legendgroup": "Saudi Arabia",
                  "marker": {
                    "color": "#636efa",
                    "pattern": {
                      "shape": ""
                    }
                  },
                  "name": "Saudi Arabia",
                  "offsetgroup": "Saudi Arabia",
                  "orientation": "v",
                  "showlegend": true,
                  "textposition": "auto",
                  "texttemplate": "%{y:.3s}",
                  "type": "bar",
                  "x": [
                    "Saudi Arabia"
                  ],
                  "xaxis": "x",
                  "y": [
                    222936
                  ],
                  "yaxis": "y"
                },
                {
                  "alignmentgroup": "True",
                  "hovertemplate": "Country=%{x}<br>Recovered=%{y}<extra></extra>",
                  "legendgroup": "Turkey",
                  "marker": {
                    "color": "#EF553B",
                    "pattern": {
                      "shape": ""
                    }
                  },
                  "name": "Turkey",
                  "offsetgroup": "Turkey",
                  "orientation": "v",
                  "showlegend": true,
                  "textposition": "auto",
                  "texttemplate": "%{y:.3s}",
                  "type": "bar",
                  "x": [
                    "Turkey"
                  ],
                  "xaxis": "x",
                  "y": [
                    210469
                  ],
                  "yaxis": "y"
                },
                {
                  "alignmentgroup": "True",
                  "hovertemplate": "Country=%{x}<br>Recovered=%{y}<extra></extra>",
                  "legendgroup": "Italy",
                  "marker": {
                    "color": "#00cc96",
                    "pattern": {
                      "shape": ""
                    }
                  },
                  "name": "Italy",
                  "offsetgroup": "Italy",
                  "orientation": "v",
                  "showlegend": true,
                  "textposition": "auto",
                  "texttemplate": "%{y:.3s}",
                  "type": "bar",
                  "x": [
                    "Italy"
                  ],
                  "xaxis": "x",
                  "y": [
                    198593
                  ],
                  "yaxis": "y"
                },
                {
                  "alignmentgroup": "True",
                  "hovertemplate": "Country=%{x}<br>Recovered=%{y}<extra></extra>",
                  "legendgroup": "Germany",
                  "marker": {
                    "color": "#ab63fa",
                    "pattern": {
                      "shape": ""
                    }
                  },
                  "name": "Germany",
                  "offsetgroup": "Germany",
                  "orientation": "v",
                  "showlegend": true,
                  "textposition": "auto",
                  "texttemplate": "%{y:.3s}",
                  "type": "bar",
                  "x": [
                    "Germany"
                  ],
                  "xaxis": "x",
                  "y": [
                    190314
                  ],
                  "yaxis": "y"
                },
                {
                  "alignmentgroup": "True",
                  "hovertemplate": "Country=%{x}<br>Recovered=%{y}<extra></extra>",
                  "legendgroup": "Spain",
                  "marker": {
                    "color": "#FFA15A",
                    "pattern": {
                      "shape": ""
                    }
                  },
                  "name": "Spain",
                  "offsetgroup": "Spain",
                  "orientation": "v",
                  "showlegend": true,
                  "textposition": "auto",
                  "texttemplate": "%{y:.3s}",
                  "type": "bar",
                  "x": [
                    "Spain"
                  ],
                  "xaxis": "x",
                  "y": [
                    150376
                  ],
                  "yaxis": "y"
                },
                {
                  "alignmentgroup": "True",
                  "hovertemplate": "Country=%{x}<br>Recovered=%{y}<extra></extra>",
                  "legendgroup": "Colombia",
                  "marker": {
                    "color": "#19d3f3",
                    "pattern": {
                      "shape": ""
                    }
                  },
                  "name": "Colombia",
                  "offsetgroup": "Colombia",
                  "orientation": "v",
                  "showlegend": true,
                  "textposition": "auto",
                  "texttemplate": "%{y:.3s}",
                  "type": "bar",
                  "x": [
                    "Colombia"
                  ],
                  "xaxis": "x",
                  "y": [
                    131161
                  ],
                  "yaxis": "y"
                },
                {
                  "alignmentgroup": "True",
                  "hovertemplate": "Country=%{x}<br>Recovered=%{y}<extra></extra>",
                  "legendgroup": "Bangladesh",
                  "marker": {
                    "color": "#FF6692",
                    "pattern": {
                      "shape": ""
                    }
                  },
                  "name": "Bangladesh",
                  "offsetgroup": "Bangladesh",
                  "orientation": "v",
                  "showlegend": true,
                  "textposition": "auto",
                  "texttemplate": "%{y:.3s}",
                  "type": "bar",
                  "x": [
                    "Bangladesh"
                  ],
                  "xaxis": "x",
                  "y": [
                    125683
                  ],
                  "yaxis": "y"
                },
                {
                  "alignmentgroup": "True",
                  "hovertemplate": "Country=%{x}<br>Recovered=%{y}<extra></extra>",
                  "legendgroup": "Qatar",
                  "marker": {
                    "color": "#B6E880",
                    "pattern": {
                      "shape": ""
                    }
                  },
                  "name": "Qatar",
                  "offsetgroup": "Qatar",
                  "orientation": "v",
                  "showlegend": true,
                  "textposition": "auto",
                  "texttemplate": "%{y:.3s}",
                  "type": "bar",
                  "x": [
                    "Qatar"
                  ],
                  "xaxis": "x",
                  "y": [
                    106328
                  ],
                  "yaxis": "y"
                },
                {
                  "alignmentgroup": "True",
                  "hovertemplate": "Country=%{x}<br>Recovered=%{y}<extra></extra>",
                  "legendgroup": "France",
                  "marker": {
                    "color": "#FF97FF",
                    "pattern": {
                      "shape": ""
                    }
                  },
                  "name": "France",
                  "offsetgroup": "France",
                  "orientation": "v",
                  "showlegend": true,
                  "textposition": "auto",
                  "texttemplate": "%{y:.3s}",
                  "type": "bar",
                  "x": [
                    "France"
                  ],
                  "xaxis": "x",
                  "y": [
                    81212
                  ],
                  "yaxis": "y"
                },
                {
                  "alignmentgroup": "True",
                  "hovertemplate": "Country=%{x}<br>Recovered=%{y}<extra></extra>",
                  "legendgroup": "China",
                  "marker": {
                    "color": "#FECB52",
                    "pattern": {
                      "shape": ""
                    }
                  },
                  "name": "China",
                  "offsetgroup": "China",
                  "orientation": "v",
                  "showlegend": true,
                  "textposition": "auto",
                  "texttemplate": "%{y:.3s}",
                  "type": "bar",
                  "x": [
                    "China"
                  ],
                  "xaxis": "x",
                  "y": [
                    78869
                  ],
                  "yaxis": "y"
                }
              ],
              "layout": {
                "barmode": "relative",
                "legend": {
                  "title": {
                    "text": "Country"
                  },
                  "tracegroupgap": 0
                },
                "template": {
                  "data": {
                    "bar": [
                      {
                        "error_x": {
                          "color": "#f2f5fa"
                        },
                        "error_y": {
                          "color": "#f2f5fa"
                        },
                        "marker": {
                          "line": {
                            "color": "rgb(17,17,17)",
                            "width": 0.5
                          },
                          "pattern": {
                            "fillmode": "overlay",
                            "size": 10,
                            "solidity": 0.2
                          }
                        },
                        "type": "bar"
                      }
                    ],
                    "barpolar": [
                      {
                        "marker": {
                          "line": {
                            "color": "rgb(17,17,17)",
                            "width": 0.5
                          },
                          "pattern": {
                            "fillmode": "overlay",
                            "size": 10,
                            "solidity": 0.2
                          }
                        },
                        "type": "barpolar"
                      }
                    ],
                    "carpet": [
                      {
                        "aaxis": {
                          "endlinecolor": "#A2B1C6",
                          "gridcolor": "#506784",
                          "linecolor": "#506784",
                          "minorgridcolor": "#506784",
                          "startlinecolor": "#A2B1C6"
                        },
                        "baxis": {
                          "endlinecolor": "#A2B1C6",
                          "gridcolor": "#506784",
                          "linecolor": "#506784",
                          "minorgridcolor": "#506784",
                          "startlinecolor": "#A2B1C6"
                        },
                        "type": "carpet"
                      }
                    ],
                    "choropleth": [
                      {
                        "colorbar": {
                          "outlinewidth": 0,
                          "ticks": ""
                        },
                        "type": "choropleth"
                      }
                    ],
                    "contour": [
                      {
                        "colorbar": {
                          "outlinewidth": 0,
                          "ticks": ""
                        },
                        "colorscale": [
                          [
                            0,
                            "#0d0887"
                          ],
                          [
                            0.1111111111111111,
                            "#46039f"
                          ],
                          [
                            0.2222222222222222,
                            "#7201a8"
                          ],
                          [
                            0.3333333333333333,
                            "#9c179e"
                          ],
                          [
                            0.4444444444444444,
                            "#bd3786"
                          ],
                          [
                            0.5555555555555556,
                            "#d8576b"
                          ],
                          [
                            0.6666666666666666,
                            "#ed7953"
                          ],
                          [
                            0.7777777777777778,
                            "#fb9f3a"
                          ],
                          [
                            0.8888888888888888,
                            "#fdca26"
                          ],
                          [
                            1,
                            "#f0f921"
                          ]
                        ],
                        "type": "contour"
                      }
                    ],
                    "contourcarpet": [
                      {
                        "colorbar": {
                          "outlinewidth": 0,
                          "ticks": ""
                        },
                        "type": "contourcarpet"
                      }
                    ],
                    "heatmap": [
                      {
                        "colorbar": {
                          "outlinewidth": 0,
                          "ticks": ""
                        },
                        "colorscale": [
                          [
                            0,
                            "#0d0887"
                          ],
                          [
                            0.1111111111111111,
                            "#46039f"
                          ],
                          [
                            0.2222222222222222,
                            "#7201a8"
                          ],
                          [
                            0.3333333333333333,
                            "#9c179e"
                          ],
                          [
                            0.4444444444444444,
                            "#bd3786"
                          ],
                          [
                            0.5555555555555556,
                            "#d8576b"
                          ],
                          [
                            0.6666666666666666,
                            "#ed7953"
                          ],
                          [
                            0.7777777777777778,
                            "#fb9f3a"
                          ],
                          [
                            0.8888888888888888,
                            "#fdca26"
                          ],
                          [
                            1,
                            "#f0f921"
                          ]
                        ],
                        "type": "heatmap"
                      }
                    ],
                    "heatmapgl": [
                      {
                        "colorbar": {
                          "outlinewidth": 0,
                          "ticks": ""
                        },
                        "colorscale": [
                          [
                            0,
                            "#0d0887"
                          ],
                          [
                            0.1111111111111111,
                            "#46039f"
                          ],
                          [
                            0.2222222222222222,
                            "#7201a8"
                          ],
                          [
                            0.3333333333333333,
                            "#9c179e"
                          ],
                          [
                            0.4444444444444444,
                            "#bd3786"
                          ],
                          [
                            0.5555555555555556,
                            "#d8576b"
                          ],
                          [
                            0.6666666666666666,
                            "#ed7953"
                          ],
                          [
                            0.7777777777777778,
                            "#fb9f3a"
                          ],
                          [
                            0.8888888888888888,
                            "#fdca26"
                          ],
                          [
                            1,
                            "#f0f921"
                          ]
                        ],
                        "type": "heatmapgl"
                      }
                    ],
                    "histogram": [
                      {
                        "marker": {
                          "pattern": {
                            "fillmode": "overlay",
                            "size": 10,
                            "solidity": 0.2
                          }
                        },
                        "type": "histogram"
                      }
                    ],
                    "histogram2d": [
                      {
                        "colorbar": {
                          "outlinewidth": 0,
                          "ticks": ""
                        },
                        "colorscale": [
                          [
                            0,
                            "#0d0887"
                          ],
                          [
                            0.1111111111111111,
                            "#46039f"
                          ],
                          [
                            0.2222222222222222,
                            "#7201a8"
                          ],
                          [
                            0.3333333333333333,
                            "#9c179e"
                          ],
                          [
                            0.4444444444444444,
                            "#bd3786"
                          ],
                          [
                            0.5555555555555556,
                            "#d8576b"
                          ],
                          [
                            0.6666666666666666,
                            "#ed7953"
                          ],
                          [
                            0.7777777777777778,
                            "#fb9f3a"
                          ],
                          [
                            0.8888888888888888,
                            "#fdca26"
                          ],
                          [
                            1,
                            "#f0f921"
                          ]
                        ],
                        "type": "histogram2d"
                      }
                    ],
                    "histogram2dcontour": [
                      {
                        "colorbar": {
                          "outlinewidth": 0,
                          "ticks": ""
                        },
                        "colorscale": [
                          [
                            0,
                            "#0d0887"
                          ],
                          [
                            0.1111111111111111,
                            "#46039f"
                          ],
                          [
                            0.2222222222222222,
                            "#7201a8"
                          ],
                          [
                            0.3333333333333333,
                            "#9c179e"
                          ],
                          [
                            0.4444444444444444,
                            "#bd3786"
                          ],
                          [
                            0.5555555555555556,
                            "#d8576b"
                          ],
                          [
                            0.6666666666666666,
                            "#ed7953"
                          ],
                          [
                            0.7777777777777778,
                            "#fb9f3a"
                          ],
                          [
                            0.8888888888888888,
                            "#fdca26"
                          ],
                          [
                            1,
                            "#f0f921"
                          ]
                        ],
                        "type": "histogram2dcontour"
                      }
                    ],
                    "mesh3d": [
                      {
                        "colorbar": {
                          "outlinewidth": 0,
                          "ticks": ""
                        },
                        "type": "mesh3d"
                      }
                    ],
                    "parcoords": [
                      {
                        "line": {
                          "colorbar": {
                            "outlinewidth": 0,
                            "ticks": ""
                          }
                        },
                        "type": "parcoords"
                      }
                    ],
                    "pie": [
                      {
                        "automargin": true,
                        "type": "pie"
                      }
                    ],
                    "scatter": [
                      {
                        "marker": {
                          "line": {
                            "color": "#283442"
                          }
                        },
                        "type": "scatter"
                      }
                    ],
                    "scatter3d": [
                      {
                        "line": {
                          "colorbar": {
                            "outlinewidth": 0,
                            "ticks": ""
                          }
                        },
                        "marker": {
                          "colorbar": {
                            "outlinewidth": 0,
                            "ticks": ""
                          }
                        },
                        "type": "scatter3d"
                      }
                    ],
                    "scattercarpet": [
                      {
                        "marker": {
                          "colorbar": {
                            "outlinewidth": 0,
                            "ticks": ""
                          }
                        },
                        "type": "scattercarpet"
                      }
                    ],
                    "scattergeo": [
                      {
                        "marker": {
                          "colorbar": {
                            "outlinewidth": 0,
                            "ticks": ""
                          }
                        },
                        "type": "scattergeo"
                      }
                    ],
                    "scattergl": [
                      {
                        "marker": {
                          "line": {
                            "color": "#283442"
                          }
                        },
                        "type": "scattergl"
                      }
                    ],
                    "scattermapbox": [
                      {
                        "marker": {
                          "colorbar": {
                            "outlinewidth": 0,
                            "ticks": ""
                          }
                        },
                        "type": "scattermapbox"
                      }
                    ],
                    "scatterpolar": [
                      {
                        "marker": {
                          "colorbar": {
                            "outlinewidth": 0,
                            "ticks": ""
                          }
                        },
                        "type": "scatterpolar"
                      }
                    ],
                    "scatterpolargl": [
                      {
                        "marker": {
                          "colorbar": {
                            "outlinewidth": 0,
                            "ticks": ""
                          }
                        },
                        "type": "scatterpolargl"
                      }
                    ],
                    "scatterternary": [
                      {
                        "marker": {
                          "colorbar": {
                            "outlinewidth": 0,
                            "ticks": ""
                          }
                        },
                        "type": "scatterternary"
                      }
                    ],
                    "surface": [
                      {
                        "colorbar": {
                          "outlinewidth": 0,
                          "ticks": ""
                        },
                        "colorscale": [
                          [
                            0,
                            "#0d0887"
                          ],
                          [
                            0.1111111111111111,
                            "#46039f"
                          ],
                          [
                            0.2222222222222222,
                            "#7201a8"
                          ],
                          [
                            0.3333333333333333,
                            "#9c179e"
                          ],
                          [
                            0.4444444444444444,
                            "#bd3786"
                          ],
                          [
                            0.5555555555555556,
                            "#d8576b"
                          ],
                          [
                            0.6666666666666666,
                            "#ed7953"
                          ],
                          [
                            0.7777777777777778,
                            "#fb9f3a"
                          ],
                          [
                            0.8888888888888888,
                            "#fdca26"
                          ],
                          [
                            1,
                            "#f0f921"
                          ]
                        ],
                        "type": "surface"
                      }
                    ],
                    "table": [
                      {
                        "cells": {
                          "fill": {
                            "color": "#506784"
                          },
                          "line": {
                            "color": "rgb(17,17,17)"
                          }
                        },
                        "header": {
                          "fill": {
                            "color": "#2a3f5f"
                          },
                          "line": {
                            "color": "rgb(17,17,17)"
                          }
                        },
                        "type": "table"
                      }
                    ]
                  },
                  "layout": {
                    "annotationdefaults": {
                      "arrowcolor": "#f2f5fa",
                      "arrowhead": 0,
                      "arrowwidth": 1
                    },
                    "autotypenumbers": "strict",
                    "coloraxis": {
                      "colorbar": {
                        "outlinewidth": 0,
                        "ticks": ""
                      }
                    },
                    "colorscale": {
                      "diverging": [
                        [
                          0,
                          "#8e0152"
                        ],
                        [
                          0.1,
                          "#c51b7d"
                        ],
                        [
                          0.2,
                          "#de77ae"
                        ],
                        [
                          0.3,
                          "#f1b6da"
                        ],
                        [
                          0.4,
                          "#fde0ef"
                        ],
                        [
                          0.5,
                          "#f7f7f7"
                        ],
                        [
                          0.6,
                          "#e6f5d0"
                        ],
                        [
                          0.7,
                          "#b8e186"
                        ],
                        [
                          0.8,
                          "#7fbc41"
                        ],
                        [
                          0.9,
                          "#4d9221"
                        ],
                        [
                          1,
                          "#276419"
                        ]
                      ],
                      "sequential": [
                        [
                          0,
                          "#0d0887"
                        ],
                        [
                          0.1111111111111111,
                          "#46039f"
                        ],
                        [
                          0.2222222222222222,
                          "#7201a8"
                        ],
                        [
                          0.3333333333333333,
                          "#9c179e"
                        ],
                        [
                          0.4444444444444444,
                          "#bd3786"
                        ],
                        [
                          0.5555555555555556,
                          "#d8576b"
                        ],
                        [
                          0.6666666666666666,
                          "#ed7953"
                        ],
                        [
                          0.7777777777777778,
                          "#fb9f3a"
                        ],
                        [
                          0.8888888888888888,
                          "#fdca26"
                        ],
                        [
                          1,
                          "#f0f921"
                        ]
                      ],
                      "sequentialminus": [
                        [
                          0,
                          "#0d0887"
                        ],
                        [
                          0.1111111111111111,
                          "#46039f"
                        ],
                        [
                          0.2222222222222222,
                          "#7201a8"
                        ],
                        [
                          0.3333333333333333,
                          "#9c179e"
                        ],
                        [
                          0.4444444444444444,
                          "#bd3786"
                        ],
                        [
                          0.5555555555555556,
                          "#d8576b"
                        ],
                        [
                          0.6666666666666666,
                          "#ed7953"
                        ],
                        [
                          0.7777777777777778,
                          "#fb9f3a"
                        ],
                        [
                          0.8888888888888888,
                          "#fdca26"
                        ],
                        [
                          1,
                          "#f0f921"
                        ]
                      ]
                    },
                    "colorway": [
                      "#636efa",
                      "#EF553B",
                      "#00cc96",
                      "#ab63fa",
                      "#FFA15A",
                      "#19d3f3",
                      "#FF6692",
                      "#B6E880",
                      "#FF97FF",
                      "#FECB52"
                    ],
                    "font": {
                      "color": "#f2f5fa"
                    },
                    "geo": {
                      "bgcolor": "rgb(17,17,17)",
                      "lakecolor": "rgb(17,17,17)",
                      "landcolor": "rgb(17,17,17)",
                      "showlakes": true,
                      "showland": true,
                      "subunitcolor": "#506784"
                    },
                    "hoverlabel": {
                      "align": "left"
                    },
                    "hovermode": "closest",
                    "mapbox": {
                      "style": "dark"
                    },
                    "paper_bgcolor": "rgb(17,17,17)",
                    "plot_bgcolor": "rgb(17,17,17)",
                    "polar": {
                      "angularaxis": {
                        "gridcolor": "#506784",
                        "linecolor": "#506784",
                        "ticks": ""
                      },
                      "bgcolor": "rgb(17,17,17)",
                      "radialaxis": {
                        "gridcolor": "#506784",
                        "linecolor": "#506784",
                        "ticks": ""
                      }
                    },
                    "scene": {
                      "xaxis": {
                        "backgroundcolor": "rgb(17,17,17)",
                        "gridcolor": "#506784",
                        "gridwidth": 2,
                        "linecolor": "#506784",
                        "showbackground": true,
                        "ticks": "",
                        "zerolinecolor": "#C8D4E3"
                      },
                      "yaxis": {
                        "backgroundcolor": "rgb(17,17,17)",
                        "gridcolor": "#506784",
                        "gridwidth": 2,
                        "linecolor": "#506784",
                        "showbackground": true,
                        "ticks": "",
                        "zerolinecolor": "#C8D4E3"
                      },
                      "zaxis": {
                        "backgroundcolor": "rgb(17,17,17)",
                        "gridcolor": "#506784",
                        "gridwidth": 2,
                        "linecolor": "#506784",
                        "showbackground": true,
                        "ticks": "",
                        "zerolinecolor": "#C8D4E3"
                      }
                    },
                    "shapedefaults": {
                      "line": {
                        "color": "#f2f5fa"
                      }
                    },
                    "sliderdefaults": {
                      "bgcolor": "#C8D4E3",
                      "bordercolor": "rgb(17,17,17)",
                      "borderwidth": 1,
                      "tickwidth": 0
                    },
                    "ternary": {
                      "aaxis": {
                        "gridcolor": "#506784",
                        "linecolor": "#506784",
                        "ticks": ""
                      },
                      "baxis": {
                        "gridcolor": "#506784",
                        "linecolor": "#506784",
                        "ticks": ""
                      },
                      "bgcolor": "rgb(17,17,17)",
                      "caxis": {
                        "gridcolor": "#506784",
                        "linecolor": "#506784",
                        "ticks": ""
                      }
                    },
                    "title": {
                      "x": 0.05
                    },
                    "updatemenudefaults": {
                      "bgcolor": "#506784",
                      "borderwidth": 0
                    },
                    "xaxis": {
                      "automargin": true,
                      "gridcolor": "#283442",
                      "linecolor": "#506784",
                      "ticks": "",
                      "title": {
                        "standoff": 15
                      },
                      "zerolinecolor": "#283442",
                      "zerolinewidth": 2
                    },
                    "yaxis": {
                      "automargin": true,
                      "gridcolor": "#283442",
                      "linecolor": "#506784",
                      "ticks": "",
                      "title": {
                        "standoff": 15
                      },
                      "zerolinecolor": "#283442",
                      "zerolinewidth": 2
                    }
                  }
                },
                "title": {
                  "text": "Top 20 Country Recovered Cases"
                },
                "xaxis": {
                  "anchor": "y",
                  "categoryarray": [
                    "Brazil",
                    "US",
                    "India",
                    "Russia",
                    "Chile",
                    "Mexico",
                    "South Africa",
                    "Peru",
                    "Iran",
                    "Pakistan",
                    "Saudi Arabia",
                    "Turkey",
                    "Italy",
                    "Germany",
                    "Spain",
                    "Colombia",
                    "Bangladesh",
                    "Qatar",
                    "France",
                    "China"
                  ],
                  "categoryorder": "array",
                  "domain": [
                    0,
                    1
                  ],
                  "title": {
                    "text": "Country"
                  }
                },
                "yaxis": {
                  "anchor": "x",
                  "domain": [
                    0,
                    1
                  ],
                  "title": {
                    "text": "Recovered"
                  }
                }
              }
            },
            "text/html": [
              "<div>                        <script type=\"text/javascript\">window.PlotlyConfig = {MathJaxConfig: 'local'};</script>\n",
              "        <script charset=\"utf-8\" src=\"https://cdn.plot.ly/plotly-2.20.0.min.js\"></script>                <div id=\"eba90a47-6f51-43f8-b4ea-21372327ae27\" class=\"plotly-graph-div\" style=\"height:100%; width:100%;\"></div>            <script type=\"text/javascript\">                                    window.PLOTLYENV=window.PLOTLYENV || {};                                    if (document.getElementById(\"eba90a47-6f51-43f8-b4ea-21372327ae27\")) {                    Plotly.newPlot(                        \"eba90a47-6f51-43f8-b4ea-21372327ae27\",                        [{\"alignmentgroup\":\"True\",\"hovertemplate\":\"Country=%{x}<br>Recovered=%{y}<extra></extra>\",\"legendgroup\":\"Brazil\",\"marker\":{\"color\":\"#636efa\",\"pattern\":{\"shape\":\"\"}},\"name\":\"Brazil\",\"offsetgroup\":\"Brazil\",\"orientation\":\"v\",\"showlegend\":true,\"textposition\":\"auto\",\"texttemplate\":\"%{y:.3s}\",\"x\":[\"Brazil\"],\"xaxis\":\"x\",\"y\":[1846641],\"yaxis\":\"y\",\"type\":\"bar\"},{\"alignmentgroup\":\"True\",\"hovertemplate\":\"Country=%{x}<br>Recovered=%{y}<extra></extra>\",\"legendgroup\":\"US\",\"marker\":{\"color\":\"#EF553B\",\"pattern\":{\"shape\":\"\"}},\"name\":\"US\",\"offsetgroup\":\"US\",\"orientation\":\"v\",\"showlegend\":true,\"textposition\":\"auto\",\"texttemplate\":\"%{y:.3s}\",\"x\":[\"US\"],\"xaxis\":\"x\",\"y\":[1325804],\"yaxis\":\"y\",\"type\":\"bar\"},{\"alignmentgroup\":\"True\",\"hovertemplate\":\"Country=%{x}<br>Recovered=%{y}<extra></extra>\",\"legendgroup\":\"India\",\"marker\":{\"color\":\"#00cc96\",\"pattern\":{\"shape\":\"\"}},\"name\":\"India\",\"offsetgroup\":\"India\",\"orientation\":\"v\",\"showlegend\":true,\"textposition\":\"auto\",\"texttemplate\":\"%{y:.3s}\",\"x\":[\"India\"],\"xaxis\":\"x\",\"y\":[951166],\"yaxis\":\"y\",\"type\":\"bar\"},{\"alignmentgroup\":\"True\",\"hovertemplate\":\"Country=%{x}<br>Recovered=%{y}<extra></extra>\",\"legendgroup\":\"Russia\",\"marker\":{\"color\":\"#ab63fa\",\"pattern\":{\"shape\":\"\"}},\"name\":\"Russia\",\"offsetgroup\":\"Russia\",\"orientation\":\"v\",\"showlegend\":true,\"textposition\":\"auto\",\"texttemplate\":\"%{y:.3s}\",\"x\":[\"Russia\"],\"xaxis\":\"x\",\"y\":[602249],\"yaxis\":\"y\",\"type\":\"bar\"},{\"alignmentgroup\":\"True\",\"hovertemplate\":\"Country=%{x}<br>Recovered=%{y}<extra></extra>\",\"legendgroup\":\"Chile\",\"marker\":{\"color\":\"#FFA15A\",\"pattern\":{\"shape\":\"\"}},\"name\":\"Chile\",\"offsetgroup\":\"Chile\",\"orientation\":\"v\",\"showlegend\":true,\"textposition\":\"auto\",\"texttemplate\":\"%{y:.3s}\",\"x\":[\"Chile\"],\"xaxis\":\"x\",\"y\":[319954],\"yaxis\":\"y\",\"type\":\"bar\"},{\"alignmentgroup\":\"True\",\"hovertemplate\":\"Country=%{x}<br>Recovered=%{y}<extra></extra>\",\"legendgroup\":\"Mexico\",\"marker\":{\"color\":\"#19d3f3\",\"pattern\":{\"shape\":\"\"}},\"name\":\"Mexico\",\"offsetgroup\":\"Mexico\",\"orientation\":\"v\",\"showlegend\":true,\"textposition\":\"auto\",\"texttemplate\":\"%{y:.3s}\",\"x\":[\"Mexico\"],\"xaxis\":\"x\",\"y\":[303810],\"yaxis\":\"y\",\"type\":\"bar\"},{\"alignmentgroup\":\"True\",\"hovertemplate\":\"Country=%{x}<br>Recovered=%{y}<extra></extra>\",\"legendgroup\":\"South Africa\",\"marker\":{\"color\":\"#FF6692\",\"pattern\":{\"shape\":\"\"}},\"name\":\"South Africa\",\"offsetgroup\":\"South Africa\",\"orientation\":\"v\",\"showlegend\":true,\"textposition\":\"auto\",\"texttemplate\":\"%{y:.3s}\",\"x\":[\"South Africa\"],\"xaxis\":\"x\",\"y\":[274925],\"yaxis\":\"y\",\"type\":\"bar\"},{\"alignmentgroup\":\"True\",\"hovertemplate\":\"Country=%{x}<br>Recovered=%{y}<extra></extra>\",\"legendgroup\":\"Peru\",\"marker\":{\"color\":\"#B6E880\",\"pattern\":{\"shape\":\"\"}},\"name\":\"Peru\",\"offsetgroup\":\"Peru\",\"orientation\":\"v\",\"showlegend\":true,\"textposition\":\"auto\",\"texttemplate\":\"%{y:.3s}\",\"x\":[\"Peru\"],\"xaxis\":\"x\",\"y\":[272547],\"yaxis\":\"y\",\"type\":\"bar\"},{\"alignmentgroup\":\"True\",\"hovertemplate\":\"Country=%{x}<br>Recovered=%{y}<extra></extra>\",\"legendgroup\":\"Iran\",\"marker\":{\"color\":\"#FF97FF\",\"pattern\":{\"shape\":\"\"}},\"name\":\"Iran\",\"offsetgroup\":\"Iran\",\"orientation\":\"v\",\"showlegend\":true,\"textposition\":\"auto\",\"texttemplate\":\"%{y:.3s}\",\"x\":[\"Iran\"],\"xaxis\":\"x\",\"y\":[255144],\"yaxis\":\"y\",\"type\":\"bar\"},{\"alignmentgroup\":\"True\",\"hovertemplate\":\"Country=%{x}<br>Recovered=%{y}<extra></extra>\",\"legendgroup\":\"Pakistan\",\"marker\":{\"color\":\"#FECB52\",\"pattern\":{\"shape\":\"\"}},\"name\":\"Pakistan\",\"offsetgroup\":\"Pakistan\",\"orientation\":\"v\",\"showlegend\":true,\"textposition\":\"auto\",\"texttemplate\":\"%{y:.3s}\",\"x\":[\"Pakistan\"],\"xaxis\":\"x\",\"y\":[241026],\"yaxis\":\"y\",\"type\":\"bar\"},{\"alignmentgroup\":\"True\",\"hovertemplate\":\"Country=%{x}<br>Recovered=%{y}<extra></extra>\",\"legendgroup\":\"Saudi Arabia\",\"marker\":{\"color\":\"#636efa\",\"pattern\":{\"shape\":\"\"}},\"name\":\"Saudi Arabia\",\"offsetgroup\":\"Saudi Arabia\",\"orientation\":\"v\",\"showlegend\":true,\"textposition\":\"auto\",\"texttemplate\":\"%{y:.3s}\",\"x\":[\"Saudi Arabia\"],\"xaxis\":\"x\",\"y\":[222936],\"yaxis\":\"y\",\"type\":\"bar\"},{\"alignmentgroup\":\"True\",\"hovertemplate\":\"Country=%{x}<br>Recovered=%{y}<extra></extra>\",\"legendgroup\":\"Turkey\",\"marker\":{\"color\":\"#EF553B\",\"pattern\":{\"shape\":\"\"}},\"name\":\"Turkey\",\"offsetgroup\":\"Turkey\",\"orientation\":\"v\",\"showlegend\":true,\"textposition\":\"auto\",\"texttemplate\":\"%{y:.3s}\",\"x\":[\"Turkey\"],\"xaxis\":\"x\",\"y\":[210469],\"yaxis\":\"y\",\"type\":\"bar\"},{\"alignmentgroup\":\"True\",\"hovertemplate\":\"Country=%{x}<br>Recovered=%{y}<extra></extra>\",\"legendgroup\":\"Italy\",\"marker\":{\"color\":\"#00cc96\",\"pattern\":{\"shape\":\"\"}},\"name\":\"Italy\",\"offsetgroup\":\"Italy\",\"orientation\":\"v\",\"showlegend\":true,\"textposition\":\"auto\",\"texttemplate\":\"%{y:.3s}\",\"x\":[\"Italy\"],\"xaxis\":\"x\",\"y\":[198593],\"yaxis\":\"y\",\"type\":\"bar\"},{\"alignmentgroup\":\"True\",\"hovertemplate\":\"Country=%{x}<br>Recovered=%{y}<extra></extra>\",\"legendgroup\":\"Germany\",\"marker\":{\"color\":\"#ab63fa\",\"pattern\":{\"shape\":\"\"}},\"name\":\"Germany\",\"offsetgroup\":\"Germany\",\"orientation\":\"v\",\"showlegend\":true,\"textposition\":\"auto\",\"texttemplate\":\"%{y:.3s}\",\"x\":[\"Germany\"],\"xaxis\":\"x\",\"y\":[190314],\"yaxis\":\"y\",\"type\":\"bar\"},{\"alignmentgroup\":\"True\",\"hovertemplate\":\"Country=%{x}<br>Recovered=%{y}<extra></extra>\",\"legendgroup\":\"Spain\",\"marker\":{\"color\":\"#FFA15A\",\"pattern\":{\"shape\":\"\"}},\"name\":\"Spain\",\"offsetgroup\":\"Spain\",\"orientation\":\"v\",\"showlegend\":true,\"textposition\":\"auto\",\"texttemplate\":\"%{y:.3s}\",\"x\":[\"Spain\"],\"xaxis\":\"x\",\"y\":[150376],\"yaxis\":\"y\",\"type\":\"bar\"},{\"alignmentgroup\":\"True\",\"hovertemplate\":\"Country=%{x}<br>Recovered=%{y}<extra></extra>\",\"legendgroup\":\"Colombia\",\"marker\":{\"color\":\"#19d3f3\",\"pattern\":{\"shape\":\"\"}},\"name\":\"Colombia\",\"offsetgroup\":\"Colombia\",\"orientation\":\"v\",\"showlegend\":true,\"textposition\":\"auto\",\"texttemplate\":\"%{y:.3s}\",\"x\":[\"Colombia\"],\"xaxis\":\"x\",\"y\":[131161],\"yaxis\":\"y\",\"type\":\"bar\"},{\"alignmentgroup\":\"True\",\"hovertemplate\":\"Country=%{x}<br>Recovered=%{y}<extra></extra>\",\"legendgroup\":\"Bangladesh\",\"marker\":{\"color\":\"#FF6692\",\"pattern\":{\"shape\":\"\"}},\"name\":\"Bangladesh\",\"offsetgroup\":\"Bangladesh\",\"orientation\":\"v\",\"showlegend\":true,\"textposition\":\"auto\",\"texttemplate\":\"%{y:.3s}\",\"x\":[\"Bangladesh\"],\"xaxis\":\"x\",\"y\":[125683],\"yaxis\":\"y\",\"type\":\"bar\"},{\"alignmentgroup\":\"True\",\"hovertemplate\":\"Country=%{x}<br>Recovered=%{y}<extra></extra>\",\"legendgroup\":\"Qatar\",\"marker\":{\"color\":\"#B6E880\",\"pattern\":{\"shape\":\"\"}},\"name\":\"Qatar\",\"offsetgroup\":\"Qatar\",\"orientation\":\"v\",\"showlegend\":true,\"textposition\":\"auto\",\"texttemplate\":\"%{y:.3s}\",\"x\":[\"Qatar\"],\"xaxis\":\"x\",\"y\":[106328],\"yaxis\":\"y\",\"type\":\"bar\"},{\"alignmentgroup\":\"True\",\"hovertemplate\":\"Country=%{x}<br>Recovered=%{y}<extra></extra>\",\"legendgroup\":\"France\",\"marker\":{\"color\":\"#FF97FF\",\"pattern\":{\"shape\":\"\"}},\"name\":\"France\",\"offsetgroup\":\"France\",\"orientation\":\"v\",\"showlegend\":true,\"textposition\":\"auto\",\"texttemplate\":\"%{y:.3s}\",\"x\":[\"France\"],\"xaxis\":\"x\",\"y\":[81212],\"yaxis\":\"y\",\"type\":\"bar\"},{\"alignmentgroup\":\"True\",\"hovertemplate\":\"Country=%{x}<br>Recovered=%{y}<extra></extra>\",\"legendgroup\":\"China\",\"marker\":{\"color\":\"#FECB52\",\"pattern\":{\"shape\":\"\"}},\"name\":\"China\",\"offsetgroup\":\"China\",\"orientation\":\"v\",\"showlegend\":true,\"textposition\":\"auto\",\"texttemplate\":\"%{y:.3s}\",\"x\":[\"China\"],\"xaxis\":\"x\",\"y\":[78869],\"yaxis\":\"y\",\"type\":\"bar\"}],                        {\"template\":{\"data\":{\"barpolar\":[{\"marker\":{\"line\":{\"color\":\"rgb(17,17,17)\",\"width\":0.5},\"pattern\":{\"fillmode\":\"overlay\",\"size\":10,\"solidity\":0.2}},\"type\":\"barpolar\"}],\"bar\":[{\"error_x\":{\"color\":\"#f2f5fa\"},\"error_y\":{\"color\":\"#f2f5fa\"},\"marker\":{\"line\":{\"color\":\"rgb(17,17,17)\",\"width\":0.5},\"pattern\":{\"fillmode\":\"overlay\",\"size\":10,\"solidity\":0.2}},\"type\":\"bar\"}],\"carpet\":[{\"aaxis\":{\"endlinecolor\":\"#A2B1C6\",\"gridcolor\":\"#506784\",\"linecolor\":\"#506784\",\"minorgridcolor\":\"#506784\",\"startlinecolor\":\"#A2B1C6\"},\"baxis\":{\"endlinecolor\":\"#A2B1C6\",\"gridcolor\":\"#506784\",\"linecolor\":\"#506784\",\"minorgridcolor\":\"#506784\",\"startlinecolor\":\"#A2B1C6\"},\"type\":\"carpet\"}],\"choropleth\":[{\"colorbar\":{\"outlinewidth\":0,\"ticks\":\"\"},\"type\":\"choropleth\"}],\"contourcarpet\":[{\"colorbar\":{\"outlinewidth\":0,\"ticks\":\"\"},\"type\":\"contourcarpet\"}],\"contour\":[{\"colorbar\":{\"outlinewidth\":0,\"ticks\":\"\"},\"colorscale\":[[0.0,\"#0d0887\"],[0.1111111111111111,\"#46039f\"],[0.2222222222222222,\"#7201a8\"],[0.3333333333333333,\"#9c179e\"],[0.4444444444444444,\"#bd3786\"],[0.5555555555555556,\"#d8576b\"],[0.6666666666666666,\"#ed7953\"],[0.7777777777777778,\"#fb9f3a\"],[0.8888888888888888,\"#fdca26\"],[1.0,\"#f0f921\"]],\"type\":\"contour\"}],\"heatmapgl\":[{\"colorbar\":{\"outlinewidth\":0,\"ticks\":\"\"},\"colorscale\":[[0.0,\"#0d0887\"],[0.1111111111111111,\"#46039f\"],[0.2222222222222222,\"#7201a8\"],[0.3333333333333333,\"#9c179e\"],[0.4444444444444444,\"#bd3786\"],[0.5555555555555556,\"#d8576b\"],[0.6666666666666666,\"#ed7953\"],[0.7777777777777778,\"#fb9f3a\"],[0.8888888888888888,\"#fdca26\"],[1.0,\"#f0f921\"]],\"type\":\"heatmapgl\"}],\"heatmap\":[{\"colorbar\":{\"outlinewidth\":0,\"ticks\":\"\"},\"colorscale\":[[0.0,\"#0d0887\"],[0.1111111111111111,\"#46039f\"],[0.2222222222222222,\"#7201a8\"],[0.3333333333333333,\"#9c179e\"],[0.4444444444444444,\"#bd3786\"],[0.5555555555555556,\"#d8576b\"],[0.6666666666666666,\"#ed7953\"],[0.7777777777777778,\"#fb9f3a\"],[0.8888888888888888,\"#fdca26\"],[1.0,\"#f0f921\"]],\"type\":\"heatmap\"}],\"histogram2dcontour\":[{\"colorbar\":{\"outlinewidth\":0,\"ticks\":\"\"},\"colorscale\":[[0.0,\"#0d0887\"],[0.1111111111111111,\"#46039f\"],[0.2222222222222222,\"#7201a8\"],[0.3333333333333333,\"#9c179e\"],[0.4444444444444444,\"#bd3786\"],[0.5555555555555556,\"#d8576b\"],[0.6666666666666666,\"#ed7953\"],[0.7777777777777778,\"#fb9f3a\"],[0.8888888888888888,\"#fdca26\"],[1.0,\"#f0f921\"]],\"type\":\"histogram2dcontour\"}],\"histogram2d\":[{\"colorbar\":{\"outlinewidth\":0,\"ticks\":\"\"},\"colorscale\":[[0.0,\"#0d0887\"],[0.1111111111111111,\"#46039f\"],[0.2222222222222222,\"#7201a8\"],[0.3333333333333333,\"#9c179e\"],[0.4444444444444444,\"#bd3786\"],[0.5555555555555556,\"#d8576b\"],[0.6666666666666666,\"#ed7953\"],[0.7777777777777778,\"#fb9f3a\"],[0.8888888888888888,\"#fdca26\"],[1.0,\"#f0f921\"]],\"type\":\"histogram2d\"}],\"histogram\":[{\"marker\":{\"pattern\":{\"fillmode\":\"overlay\",\"size\":10,\"solidity\":0.2}},\"type\":\"histogram\"}],\"mesh3d\":[{\"colorbar\":{\"outlinewidth\":0,\"ticks\":\"\"},\"type\":\"mesh3d\"}],\"parcoords\":[{\"line\":{\"colorbar\":{\"outlinewidth\":0,\"ticks\":\"\"}},\"type\":\"parcoords\"}],\"pie\":[{\"automargin\":true,\"type\":\"pie\"}],\"scatter3d\":[{\"line\":{\"colorbar\":{\"outlinewidth\":0,\"ticks\":\"\"}},\"marker\":{\"colorbar\":{\"outlinewidth\":0,\"ticks\":\"\"}},\"type\":\"scatter3d\"}],\"scattercarpet\":[{\"marker\":{\"colorbar\":{\"outlinewidth\":0,\"ticks\":\"\"}},\"type\":\"scattercarpet\"}],\"scattergeo\":[{\"marker\":{\"colorbar\":{\"outlinewidth\":0,\"ticks\":\"\"}},\"type\":\"scattergeo\"}],\"scattergl\":[{\"marker\":{\"line\":{\"color\":\"#283442\"}},\"type\":\"scattergl\"}],\"scattermapbox\":[{\"marker\":{\"colorbar\":{\"outlinewidth\":0,\"ticks\":\"\"}},\"type\":\"scattermapbox\"}],\"scatterpolargl\":[{\"marker\":{\"colorbar\":{\"outlinewidth\":0,\"ticks\":\"\"}},\"type\":\"scatterpolargl\"}],\"scatterpolar\":[{\"marker\":{\"colorbar\":{\"outlinewidth\":0,\"ticks\":\"\"}},\"type\":\"scatterpolar\"}],\"scatter\":[{\"marker\":{\"line\":{\"color\":\"#283442\"}},\"type\":\"scatter\"}],\"scatterternary\":[{\"marker\":{\"colorbar\":{\"outlinewidth\":0,\"ticks\":\"\"}},\"type\":\"scatterternary\"}],\"surface\":[{\"colorbar\":{\"outlinewidth\":0,\"ticks\":\"\"},\"colorscale\":[[0.0,\"#0d0887\"],[0.1111111111111111,\"#46039f\"],[0.2222222222222222,\"#7201a8\"],[0.3333333333333333,\"#9c179e\"],[0.4444444444444444,\"#bd3786\"],[0.5555555555555556,\"#d8576b\"],[0.6666666666666666,\"#ed7953\"],[0.7777777777777778,\"#fb9f3a\"],[0.8888888888888888,\"#fdca26\"],[1.0,\"#f0f921\"]],\"type\":\"surface\"}],\"table\":[{\"cells\":{\"fill\":{\"color\":\"#506784\"},\"line\":{\"color\":\"rgb(17,17,17)\"}},\"header\":{\"fill\":{\"color\":\"#2a3f5f\"},\"line\":{\"color\":\"rgb(17,17,17)\"}},\"type\":\"table\"}]},\"layout\":{\"annotationdefaults\":{\"arrowcolor\":\"#f2f5fa\",\"arrowhead\":0,\"arrowwidth\":1},\"autotypenumbers\":\"strict\",\"coloraxis\":{\"colorbar\":{\"outlinewidth\":0,\"ticks\":\"\"}},\"colorscale\":{\"diverging\":[[0,\"#8e0152\"],[0.1,\"#c51b7d\"],[0.2,\"#de77ae\"],[0.3,\"#f1b6da\"],[0.4,\"#fde0ef\"],[0.5,\"#f7f7f7\"],[0.6,\"#e6f5d0\"],[0.7,\"#b8e186\"],[0.8,\"#7fbc41\"],[0.9,\"#4d9221\"],[1,\"#276419\"]],\"sequential\":[[0.0,\"#0d0887\"],[0.1111111111111111,\"#46039f\"],[0.2222222222222222,\"#7201a8\"],[0.3333333333333333,\"#9c179e\"],[0.4444444444444444,\"#bd3786\"],[0.5555555555555556,\"#d8576b\"],[0.6666666666666666,\"#ed7953\"],[0.7777777777777778,\"#fb9f3a\"],[0.8888888888888888,\"#fdca26\"],[1.0,\"#f0f921\"]],\"sequentialminus\":[[0.0,\"#0d0887\"],[0.1111111111111111,\"#46039f\"],[0.2222222222222222,\"#7201a8\"],[0.3333333333333333,\"#9c179e\"],[0.4444444444444444,\"#bd3786\"],[0.5555555555555556,\"#d8576b\"],[0.6666666666666666,\"#ed7953\"],[0.7777777777777778,\"#fb9f3a\"],[0.8888888888888888,\"#fdca26\"],[1.0,\"#f0f921\"]]},\"colorway\":[\"#636efa\",\"#EF553B\",\"#00cc96\",\"#ab63fa\",\"#FFA15A\",\"#19d3f3\",\"#FF6692\",\"#B6E880\",\"#FF97FF\",\"#FECB52\"],\"font\":{\"color\":\"#f2f5fa\"},\"geo\":{\"bgcolor\":\"rgb(17,17,17)\",\"lakecolor\":\"rgb(17,17,17)\",\"landcolor\":\"rgb(17,17,17)\",\"showlakes\":true,\"showland\":true,\"subunitcolor\":\"#506784\"},\"hoverlabel\":{\"align\":\"left\"},\"hovermode\":\"closest\",\"mapbox\":{\"style\":\"dark\"},\"paper_bgcolor\":\"rgb(17,17,17)\",\"plot_bgcolor\":\"rgb(17,17,17)\",\"polar\":{\"angularaxis\":{\"gridcolor\":\"#506784\",\"linecolor\":\"#506784\",\"ticks\":\"\"},\"bgcolor\":\"rgb(17,17,17)\",\"radialaxis\":{\"gridcolor\":\"#506784\",\"linecolor\":\"#506784\",\"ticks\":\"\"}},\"scene\":{\"xaxis\":{\"backgroundcolor\":\"rgb(17,17,17)\",\"gridcolor\":\"#506784\",\"gridwidth\":2,\"linecolor\":\"#506784\",\"showbackground\":true,\"ticks\":\"\",\"zerolinecolor\":\"#C8D4E3\"},\"yaxis\":{\"backgroundcolor\":\"rgb(17,17,17)\",\"gridcolor\":\"#506784\",\"gridwidth\":2,\"linecolor\":\"#506784\",\"showbackground\":true,\"ticks\":\"\",\"zerolinecolor\":\"#C8D4E3\"},\"zaxis\":{\"backgroundcolor\":\"rgb(17,17,17)\",\"gridcolor\":\"#506784\",\"gridwidth\":2,\"linecolor\":\"#506784\",\"showbackground\":true,\"ticks\":\"\",\"zerolinecolor\":\"#C8D4E3\"}},\"shapedefaults\":{\"line\":{\"color\":\"#f2f5fa\"}},\"sliderdefaults\":{\"bgcolor\":\"#C8D4E3\",\"bordercolor\":\"rgb(17,17,17)\",\"borderwidth\":1,\"tickwidth\":0},\"ternary\":{\"aaxis\":{\"gridcolor\":\"#506784\",\"linecolor\":\"#506784\",\"ticks\":\"\"},\"baxis\":{\"gridcolor\":\"#506784\",\"linecolor\":\"#506784\",\"ticks\":\"\"},\"bgcolor\":\"rgb(17,17,17)\",\"caxis\":{\"gridcolor\":\"#506784\",\"linecolor\":\"#506784\",\"ticks\":\"\"}},\"title\":{\"x\":0.05},\"updatemenudefaults\":{\"bgcolor\":\"#506784\",\"borderwidth\":0},\"xaxis\":{\"automargin\":true,\"gridcolor\":\"#283442\",\"linecolor\":\"#506784\",\"ticks\":\"\",\"title\":{\"standoff\":15},\"zerolinecolor\":\"#283442\",\"zerolinewidth\":2},\"yaxis\":{\"automargin\":true,\"gridcolor\":\"#283442\",\"linecolor\":\"#506784\",\"ticks\":\"\",\"title\":{\"standoff\":15},\"zerolinecolor\":\"#283442\",\"zerolinewidth\":2}}},\"xaxis\":{\"anchor\":\"y\",\"domain\":[0.0,1.0],\"title\":{\"text\":\"Country\"},\"categoryorder\":\"array\",\"categoryarray\":[\"Brazil\",\"US\",\"India\",\"Russia\",\"Chile\",\"Mexico\",\"South Africa\",\"Peru\",\"Iran\",\"Pakistan\",\"Saudi Arabia\",\"Turkey\",\"Italy\",\"Germany\",\"Spain\",\"Colombia\",\"Bangladesh\",\"Qatar\",\"France\",\"China\"]},\"yaxis\":{\"anchor\":\"x\",\"domain\":[0.0,1.0],\"title\":{\"text\":\"Recovered\"}},\"legend\":{\"title\":{\"text\":\"Country\"},\"tracegroupgap\":0},\"title\":{\"text\":\"Top 20 Country Recovered Cases\"},\"barmode\":\"relative\"},                        {\"responsive\": true}                    )                };                            </script>        </div>"
            ],
            "text/plain": [
              "Figure({\n",
              "    'data': [{'alignmentgroup': 'True',\n",
              "              'hovertemplate': 'Country=%{x}<br>Recovered=%{y}<extra></extra>',\n",
              "              'legendgroup': 'Brazil',\n",
              "              'marker': {'color': '#636efa', 'pattern': {'shape': ''}},\n",
              "              'name': 'Brazil',\n",
              "              'offsetgroup': 'Brazil',\n",
              "              'orientation': 'v',\n",
              "              'showlegend': True,\n",
              "              'textposition': 'auto',\n",
              "              'texttemplate': '%{y:.3s}',\n",
              "              'type': 'bar',\n",
              "              'x': array(['Brazil'], dtype=object),\n",
              "              'xaxis': 'x',\n",
              "              'y': array([1846641], dtype=int64),\n",
              "              'yaxis': 'y'},\n",
              "             {'alignmentgroup': 'True',\n",
              "              'hovertemplate': 'Country=%{x}<br>Recovered=%{y}<extra></extra>',\n",
              "              'legendgroup': 'US',\n",
              "              'marker': {'color': '#EF553B', 'pattern': {'shape': ''}},\n",
              "              'name': 'US',\n",
              "              'offsetgroup': 'US',\n",
              "              'orientation': 'v',\n",
              "              'showlegend': True,\n",
              "              'textposition': 'auto',\n",
              "              'texttemplate': '%{y:.3s}',\n",
              "              'type': 'bar',\n",
              "              'x': array(['US'], dtype=object),\n",
              "              'xaxis': 'x',\n",
              "              'y': array([1325804], dtype=int64),\n",
              "              'yaxis': 'y'},\n",
              "             {'alignmentgroup': 'True',\n",
              "              'hovertemplate': 'Country=%{x}<br>Recovered=%{y}<extra></extra>',\n",
              "              'legendgroup': 'India',\n",
              "              'marker': {'color': '#00cc96', 'pattern': {'shape': ''}},\n",
              "              'name': 'India',\n",
              "              'offsetgroup': 'India',\n",
              "              'orientation': 'v',\n",
              "              'showlegend': True,\n",
              "              'textposition': 'auto',\n",
              "              'texttemplate': '%{y:.3s}',\n",
              "              'type': 'bar',\n",
              "              'x': array(['India'], dtype=object),\n",
              "              'xaxis': 'x',\n",
              "              'y': array([951166], dtype=int64),\n",
              "              'yaxis': 'y'},\n",
              "             {'alignmentgroup': 'True',\n",
              "              'hovertemplate': 'Country=%{x}<br>Recovered=%{y}<extra></extra>',\n",
              "              'legendgroup': 'Russia',\n",
              "              'marker': {'color': '#ab63fa', 'pattern': {'shape': ''}},\n",
              "              'name': 'Russia',\n",
              "              'offsetgroup': 'Russia',\n",
              "              'orientation': 'v',\n",
              "              'showlegend': True,\n",
              "              'textposition': 'auto',\n",
              "              'texttemplate': '%{y:.3s}',\n",
              "              'type': 'bar',\n",
              "              'x': array(['Russia'], dtype=object),\n",
              "              'xaxis': 'x',\n",
              "              'y': array([602249], dtype=int64),\n",
              "              'yaxis': 'y'},\n",
              "             {'alignmentgroup': 'True',\n",
              "              'hovertemplate': 'Country=%{x}<br>Recovered=%{y}<extra></extra>',\n",
              "              'legendgroup': 'Chile',\n",
              "              'marker': {'color': '#FFA15A', 'pattern': {'shape': ''}},\n",
              "              'name': 'Chile',\n",
              "              'offsetgroup': 'Chile',\n",
              "              'orientation': 'v',\n",
              "              'showlegend': True,\n",
              "              'textposition': 'auto',\n",
              "              'texttemplate': '%{y:.3s}',\n",
              "              'type': 'bar',\n",
              "              'x': array(['Chile'], dtype=object),\n",
              "              'xaxis': 'x',\n",
              "              'y': array([319954], dtype=int64),\n",
              "              'yaxis': 'y'},\n",
              "             {'alignmentgroup': 'True',\n",
              "              'hovertemplate': 'Country=%{x}<br>Recovered=%{y}<extra></extra>',\n",
              "              'legendgroup': 'Mexico',\n",
              "              'marker': {'color': '#19d3f3', 'pattern': {'shape': ''}},\n",
              "              'name': 'Mexico',\n",
              "              'offsetgroup': 'Mexico',\n",
              "              'orientation': 'v',\n",
              "              'showlegend': True,\n",
              "              'textposition': 'auto',\n",
              "              'texttemplate': '%{y:.3s}',\n",
              "              'type': 'bar',\n",
              "              'x': array(['Mexico'], dtype=object),\n",
              "              'xaxis': 'x',\n",
              "              'y': array([303810], dtype=int64),\n",
              "              'yaxis': 'y'},\n",
              "             {'alignmentgroup': 'True',\n",
              "              'hovertemplate': 'Country=%{x}<br>Recovered=%{y}<extra></extra>',\n",
              "              'legendgroup': 'South Africa',\n",
              "              'marker': {'color': '#FF6692', 'pattern': {'shape': ''}},\n",
              "              'name': 'South Africa',\n",
              "              'offsetgroup': 'South Africa',\n",
              "              'orientation': 'v',\n",
              "              'showlegend': True,\n",
              "              'textposition': 'auto',\n",
              "              'texttemplate': '%{y:.3s}',\n",
              "              'type': 'bar',\n",
              "              'x': array(['South Africa'], dtype=object),\n",
              "              'xaxis': 'x',\n",
              "              'y': array([274925], dtype=int64),\n",
              "              'yaxis': 'y'},\n",
              "             {'alignmentgroup': 'True',\n",
              "              'hovertemplate': 'Country=%{x}<br>Recovered=%{y}<extra></extra>',\n",
              "              'legendgroup': 'Peru',\n",
              "              'marker': {'color': '#B6E880', 'pattern': {'shape': ''}},\n",
              "              'name': 'Peru',\n",
              "              'offsetgroup': 'Peru',\n",
              "              'orientation': 'v',\n",
              "              'showlegend': True,\n",
              "              'textposition': 'auto',\n",
              "              'texttemplate': '%{y:.3s}',\n",
              "              'type': 'bar',\n",
              "              'x': array(['Peru'], dtype=object),\n",
              "              'xaxis': 'x',\n",
              "              'y': array([272547], dtype=int64),\n",
              "              'yaxis': 'y'},\n",
              "             {'alignmentgroup': 'True',\n",
              "              'hovertemplate': 'Country=%{x}<br>Recovered=%{y}<extra></extra>',\n",
              "              'legendgroup': 'Iran',\n",
              "              'marker': {'color': '#FF97FF', 'pattern': {'shape': ''}},\n",
              "              'name': 'Iran',\n",
              "              'offsetgroup': 'Iran',\n",
              "              'orientation': 'v',\n",
              "              'showlegend': True,\n",
              "              'textposition': 'auto',\n",
              "              'texttemplate': '%{y:.3s}',\n",
              "              'type': 'bar',\n",
              "              'x': array(['Iran'], dtype=object),\n",
              "              'xaxis': 'x',\n",
              "              'y': array([255144], dtype=int64),\n",
              "              'yaxis': 'y'},\n",
              "             {'alignmentgroup': 'True',\n",
              "              'hovertemplate': 'Country=%{x}<br>Recovered=%{y}<extra></extra>',\n",
              "              'legendgroup': 'Pakistan',\n",
              "              'marker': {'color': '#FECB52', 'pattern': {'shape': ''}},\n",
              "              'name': 'Pakistan',\n",
              "              'offsetgroup': 'Pakistan',\n",
              "              'orientation': 'v',\n",
              "              'showlegend': True,\n",
              "              'textposition': 'auto',\n",
              "              'texttemplate': '%{y:.3s}',\n",
              "              'type': 'bar',\n",
              "              'x': array(['Pakistan'], dtype=object),\n",
              "              'xaxis': 'x',\n",
              "              'y': array([241026], dtype=int64),\n",
              "              'yaxis': 'y'},\n",
              "             {'alignmentgroup': 'True',\n",
              "              'hovertemplate': 'Country=%{x}<br>Recovered=%{y}<extra></extra>',\n",
              "              'legendgroup': 'Saudi Arabia',\n",
              "              'marker': {'color': '#636efa', 'pattern': {'shape': ''}},\n",
              "              'name': 'Saudi Arabia',\n",
              "              'offsetgroup': 'Saudi Arabia',\n",
              "              'orientation': 'v',\n",
              "              'showlegend': True,\n",
              "              'textposition': 'auto',\n",
              "              'texttemplate': '%{y:.3s}',\n",
              "              'type': 'bar',\n",
              "              'x': array(['Saudi Arabia'], dtype=object),\n",
              "              'xaxis': 'x',\n",
              "              'y': array([222936], dtype=int64),\n",
              "              'yaxis': 'y'},\n",
              "             {'alignmentgroup': 'True',\n",
              "              'hovertemplate': 'Country=%{x}<br>Recovered=%{y}<extra></extra>',\n",
              "              'legendgroup': 'Turkey',\n",
              "              'marker': {'color': '#EF553B', 'pattern': {'shape': ''}},\n",
              "              'name': 'Turkey',\n",
              "              'offsetgroup': 'Turkey',\n",
              "              'orientation': 'v',\n",
              "              'showlegend': True,\n",
              "              'textposition': 'auto',\n",
              "              'texttemplate': '%{y:.3s}',\n",
              "              'type': 'bar',\n",
              "              'x': array(['Turkey'], dtype=object),\n",
              "              'xaxis': 'x',\n",
              "              'y': array([210469], dtype=int64),\n",
              "              'yaxis': 'y'},\n",
              "             {'alignmentgroup': 'True',\n",
              "              'hovertemplate': 'Country=%{x}<br>Recovered=%{y}<extra></extra>',\n",
              "              'legendgroup': 'Italy',\n",
              "              'marker': {'color': '#00cc96', 'pattern': {'shape': ''}},\n",
              "              'name': 'Italy',\n",
              "              'offsetgroup': 'Italy',\n",
              "              'orientation': 'v',\n",
              "              'showlegend': True,\n",
              "              'textposition': 'auto',\n",
              "              'texttemplate': '%{y:.3s}',\n",
              "              'type': 'bar',\n",
              "              'x': array(['Italy'], dtype=object),\n",
              "              'xaxis': 'x',\n",
              "              'y': array([198593], dtype=int64),\n",
              "              'yaxis': 'y'},\n",
              "             {'alignmentgroup': 'True',\n",
              "              'hovertemplate': 'Country=%{x}<br>Recovered=%{y}<extra></extra>',\n",
              "              'legendgroup': 'Germany',\n",
              "              'marker': {'color': '#ab63fa', 'pattern': {'shape': ''}},\n",
              "              'name': 'Germany',\n",
              "              'offsetgroup': 'Germany',\n",
              "              'orientation': 'v',\n",
              "              'showlegend': True,\n",
              "              'textposition': 'auto',\n",
              "              'texttemplate': '%{y:.3s}',\n",
              "              'type': 'bar',\n",
              "              'x': array(['Germany'], dtype=object),\n",
              "              'xaxis': 'x',\n",
              "              'y': array([190314], dtype=int64),\n",
              "              'yaxis': 'y'},\n",
              "             {'alignmentgroup': 'True',\n",
              "              'hovertemplate': 'Country=%{x}<br>Recovered=%{y}<extra></extra>',\n",
              "              'legendgroup': 'Spain',\n",
              "              'marker': {'color': '#FFA15A', 'pattern': {'shape': ''}},\n",
              "              'name': 'Spain',\n",
              "              'offsetgroup': 'Spain',\n",
              "              'orientation': 'v',\n",
              "              'showlegend': True,\n",
              "              'textposition': 'auto',\n",
              "              'texttemplate': '%{y:.3s}',\n",
              "              'type': 'bar',\n",
              "              'x': array(['Spain'], dtype=object),\n",
              "              'xaxis': 'x',\n",
              "              'y': array([150376], dtype=int64),\n",
              "              'yaxis': 'y'},\n",
              "             {'alignmentgroup': 'True',\n",
              "              'hovertemplate': 'Country=%{x}<br>Recovered=%{y}<extra></extra>',\n",
              "              'legendgroup': 'Colombia',\n",
              "              'marker': {'color': '#19d3f3', 'pattern': {'shape': ''}},\n",
              "              'name': 'Colombia',\n",
              "              'offsetgroup': 'Colombia',\n",
              "              'orientation': 'v',\n",
              "              'showlegend': True,\n",
              "              'textposition': 'auto',\n",
              "              'texttemplate': '%{y:.3s}',\n",
              "              'type': 'bar',\n",
              "              'x': array(['Colombia'], dtype=object),\n",
              "              'xaxis': 'x',\n",
              "              'y': array([131161], dtype=int64),\n",
              "              'yaxis': 'y'},\n",
              "             {'alignmentgroup': 'True',\n",
              "              'hovertemplate': 'Country=%{x}<br>Recovered=%{y}<extra></extra>',\n",
              "              'legendgroup': 'Bangladesh',\n",
              "              'marker': {'color': '#FF6692', 'pattern': {'shape': ''}},\n",
              "              'name': 'Bangladesh',\n",
              "              'offsetgroup': 'Bangladesh',\n",
              "              'orientation': 'v',\n",
              "              'showlegend': True,\n",
              "              'textposition': 'auto',\n",
              "              'texttemplate': '%{y:.3s}',\n",
              "              'type': 'bar',\n",
              "              'x': array(['Bangladesh'], dtype=object),\n",
              "              'xaxis': 'x',\n",
              "              'y': array([125683], dtype=int64),\n",
              "              'yaxis': 'y'},\n",
              "             {'alignmentgroup': 'True',\n",
              "              'hovertemplate': 'Country=%{x}<br>Recovered=%{y}<extra></extra>',\n",
              "              'legendgroup': 'Qatar',\n",
              "              'marker': {'color': '#B6E880', 'pattern': {'shape': ''}},\n",
              "              'name': 'Qatar',\n",
              "              'offsetgroup': 'Qatar',\n",
              "              'orientation': 'v',\n",
              "              'showlegend': True,\n",
              "              'textposition': 'auto',\n",
              "              'texttemplate': '%{y:.3s}',\n",
              "              'type': 'bar',\n",
              "              'x': array(['Qatar'], dtype=object),\n",
              "              'xaxis': 'x',\n",
              "              'y': array([106328], dtype=int64),\n",
              "              'yaxis': 'y'},\n",
              "             {'alignmentgroup': 'True',\n",
              "              'hovertemplate': 'Country=%{x}<br>Recovered=%{y}<extra></extra>',\n",
              "              'legendgroup': 'France',\n",
              "              'marker': {'color': '#FF97FF', 'pattern': {'shape': ''}},\n",
              "              'name': 'France',\n",
              "              'offsetgroup': 'France',\n",
              "              'orientation': 'v',\n",
              "              'showlegend': True,\n",
              "              'textposition': 'auto',\n",
              "              'texttemplate': '%{y:.3s}',\n",
              "              'type': 'bar',\n",
              "              'x': array(['France'], dtype=object),\n",
              "              'xaxis': 'x',\n",
              "              'y': array([81212], dtype=int64),\n",
              "              'yaxis': 'y'},\n",
              "             {'alignmentgroup': 'True',\n",
              "              'hovertemplate': 'Country=%{x}<br>Recovered=%{y}<extra></extra>',\n",
              "              'legendgroup': 'China',\n",
              "              'marker': {'color': '#FECB52', 'pattern': {'shape': ''}},\n",
              "              'name': 'China',\n",
              "              'offsetgroup': 'China',\n",
              "              'orientation': 'v',\n",
              "              'showlegend': True,\n",
              "              'textposition': 'auto',\n",
              "              'texttemplate': '%{y:.3s}',\n",
              "              'type': 'bar',\n",
              "              'x': array(['China'], dtype=object),\n",
              "              'xaxis': 'x',\n",
              "              'y': array([78869], dtype=int64),\n",
              "              'yaxis': 'y'}],\n",
              "    'layout': {'barmode': 'relative',\n",
              "               'legend': {'title': {'text': 'Country'}, 'tracegroupgap': 0},\n",
              "               'template': '...',\n",
              "               'title': {'text': 'Top 20 Country Recovered Cases'},\n",
              "               'xaxis': {'anchor': 'y',\n",
              "                         'categoryarray': [Brazil, US, India, Russia, Chile,\n",
              "                                           Mexico, South Africa, Peru, Iran,\n",
              "                                           Pakistan, Saudi Arabia, Turkey, Italy,\n",
              "                                           Germany, Spain, Colombia, Bangladesh,\n",
              "                                           Qatar, France, China],\n",
              "                         'categoryorder': 'array',\n",
              "                         'domain': [0.0, 1.0],\n",
              "                         'title': {'text': 'Country'}},\n",
              "               'yaxis': {'anchor': 'x', 'domain': [0.0, 1.0], 'title': {'text': 'Recovered'}}}\n",
              "})"
            ]
          },
          "execution_count": 41,
          "metadata": {},
          "output_type": "execute_result"
        }
      ],
      "source": [
        "px.bar(country_Recovered,x='Country',y='Recovered',color='Country',text_auto='.3s',title='Top 20 Country Recovered Cases',template=\"plotly_dark\")"
      ]
    },
    {
      "cell_type": "code",
      "execution_count": 42,
      "metadata": {
        "colab": {
          "base_uri": "https://localhost:8080/",
          "height": 542
        },
        "id": "OrcJmHu9mwYc",
        "outputId": "363b0757-a60c-4f6f-d877-181790296d86"
      },
      "outputs": [
        {
          "ename": "ValueError",
          "evalue": "Mime type rendering requires nbformat>=4.2.0 but it is not installed",
          "output_type": "error",
          "traceback": [
            "\u001b[1;31m---------------------------------------------------------------------------\u001b[0m",
            "\u001b[1;31mValueError\u001b[0m                                Traceback (most recent call last)",
            "File \u001b[1;32m~\\AppData\\Roaming\\Python\\Python310\\site-packages\\IPython\\core\\formatters.py:922\u001b[0m, in \u001b[0;36mIPythonDisplayFormatter.__call__\u001b[1;34m(self, obj)\u001b[0m\n\u001b[0;32m    920\u001b[0m method \u001b[39m=\u001b[39m get_real_method(obj, \u001b[39mself\u001b[39m\u001b[39m.\u001b[39mprint_method)\n\u001b[0;32m    921\u001b[0m \u001b[39mif\u001b[39;00m method \u001b[39mis\u001b[39;00m \u001b[39mnot\u001b[39;00m \u001b[39mNone\u001b[39;00m:\n\u001b[1;32m--> 922\u001b[0m     method()\n\u001b[0;32m    923\u001b[0m     \u001b[39mreturn\u001b[39;00m \u001b[39mTrue\u001b[39;00m\n",
            "File \u001b[1;32m~\\AppData\\Roaming\\Python\\Python310\\site-packages\\plotly\\basedatatypes.py:834\u001b[0m, in \u001b[0;36mBaseFigure._ipython_display_\u001b[1;34m(self)\u001b[0m\n\u001b[0;32m    831\u001b[0m \u001b[39mimport\u001b[39;00m \u001b[39mplotly\u001b[39;00m\u001b[39m.\u001b[39;00m\u001b[39mio\u001b[39;00m \u001b[39mas\u001b[39;00m \u001b[39mpio\u001b[39;00m\n\u001b[0;32m    833\u001b[0m \u001b[39mif\u001b[39;00m pio\u001b[39m.\u001b[39mrenderers\u001b[39m.\u001b[39mrender_on_display \u001b[39mand\u001b[39;00m pio\u001b[39m.\u001b[39mrenderers\u001b[39m.\u001b[39mdefault:\n\u001b[1;32m--> 834\u001b[0m     pio\u001b[39m.\u001b[39;49mshow(\u001b[39mself\u001b[39;49m)\n\u001b[0;32m    835\u001b[0m \u001b[39melse\u001b[39;00m:\n\u001b[0;32m    836\u001b[0m     \u001b[39mprint\u001b[39m(\u001b[39mrepr\u001b[39m(\u001b[39mself\u001b[39m))\n",
            "File \u001b[1;32m~\\AppData\\Roaming\\Python\\Python310\\site-packages\\plotly\\io\\_renderers.py:396\u001b[0m, in \u001b[0;36mshow\u001b[1;34m(fig, renderer, validate, **kwargs)\u001b[0m\n\u001b[0;32m    391\u001b[0m         \u001b[39mraise\u001b[39;00m \u001b[39mValueError\u001b[39;00m(\n\u001b[0;32m    392\u001b[0m             \u001b[39m\"\u001b[39m\u001b[39mMime type rendering requires ipython but it is not installed\u001b[39m\u001b[39m\"\u001b[39m\n\u001b[0;32m    393\u001b[0m         )\n\u001b[0;32m    395\u001b[0m     \u001b[39mif\u001b[39;00m \u001b[39mnot\u001b[39;00m nbformat \u001b[39mor\u001b[39;00m Version(nbformat\u001b[39m.\u001b[39m__version__) \u001b[39m<\u001b[39m Version(\u001b[39m\"\u001b[39m\u001b[39m4.2.0\u001b[39m\u001b[39m\"\u001b[39m):\n\u001b[1;32m--> 396\u001b[0m         \u001b[39mraise\u001b[39;00m \u001b[39mValueError\u001b[39;00m(\n\u001b[0;32m    397\u001b[0m             \u001b[39m\"\u001b[39m\u001b[39mMime type rendering requires nbformat>=4.2.0 but it is not installed\u001b[39m\u001b[39m\"\u001b[39m\n\u001b[0;32m    398\u001b[0m         )\n\u001b[0;32m    400\u001b[0m     ipython_display\u001b[39m.\u001b[39mdisplay(bundle, raw\u001b[39m=\u001b[39m\u001b[39mTrue\u001b[39;00m)\n\u001b[0;32m    402\u001b[0m \u001b[39m# external renderers\u001b[39;00m\n",
            "\u001b[1;31mValueError\u001b[0m: Mime type rendering requires nbformat>=4.2.0 but it is not installed"
          ]
        },
        {
          "data": {
            "application/vnd.plotly.v1+json": {
              "config": {
                "plotlyServerURL": "https://plot.ly"
              },
              "data": [
                {
                  "alignmentgroup": "True",
                  "hovertemplate": "Country=%{x}<br>Active=%{y}<extra></extra>",
                  "legendgroup": "US",
                  "marker": {
                    "color": "#636efa",
                    "pattern": {
                      "shape": ""
                    }
                  },
                  "name": "US",
                  "offsetgroup": "US",
                  "orientation": "v",
                  "showlegend": true,
                  "textposition": "auto",
                  "texttemplate": "%{y:.3s}",
                  "type": "bar",
                  "x": [
                    "US"
                  ],
                  "xaxis": "x",
                  "y": [
                    2816444
                  ],
                  "yaxis": "y"
                },
                {
                  "alignmentgroup": "True",
                  "hovertemplate": "Country=%{x}<br>Active=%{y}<extra></extra>",
                  "legendgroup": "Brazil",
                  "marker": {
                    "color": "#EF553B",
                    "pattern": {
                      "shape": ""
                    }
                  },
                  "name": "Brazil",
                  "offsetgroup": "Brazil",
                  "orientation": "v",
                  "showlegend": true,
                  "textposition": "auto",
                  "texttemplate": "%{y:.3s}",
                  "type": "bar",
                  "x": [
                    "Brazil"
                  ],
                  "xaxis": "x",
                  "y": [
                    508116
                  ],
                  "yaxis": "y"
                },
                {
                  "alignmentgroup": "True",
                  "hovertemplate": "Country=%{x}<br>Active=%{y}<extra></extra>",
                  "legendgroup": "India",
                  "marker": {
                    "color": "#00cc96",
                    "pattern": {
                      "shape": ""
                    }
                  },
                  "name": "India",
                  "offsetgroup": "India",
                  "orientation": "v",
                  "showlegend": true,
                  "textposition": "auto",
                  "texttemplate": "%{y:.3s}",
                  "type": "bar",
                  "x": [
                    "India"
                  ],
                  "xaxis": "x",
                  "y": [
                    495499
                  ],
                  "yaxis": "y"
                },
                {
                  "alignmentgroup": "True",
                  "hovertemplate": "Country=%{x}<br>Active=%{y}<extra></extra>",
                  "legendgroup": "United Kingdom",
                  "marker": {
                    "color": "#ab63fa",
                    "pattern": {
                      "shape": ""
                    }
                  },
                  "name": "United Kingdom",
                  "offsetgroup": "United Kingdom",
                  "orientation": "v",
                  "showlegend": true,
                  "textposition": "auto",
                  "texttemplate": "%{y:.3s}",
                  "type": "bar",
                  "x": [
                    "United Kingdom"
                  ],
                  "xaxis": "x",
                  "y": [
                    254427
                  ],
                  "yaxis": "y"
                },
                {
                  "alignmentgroup": "True",
                  "hovertemplate": "Country=%{x}<br>Active=%{y}<extra></extra>",
                  "legendgroup": "Russia",
                  "marker": {
                    "color": "#FFA15A",
                    "pattern": {
                      "shape": ""
                    }
                  },
                  "name": "Russia",
                  "offsetgroup": "Russia",
                  "orientation": "v",
                  "showlegend": true,
                  "textposition": "auto",
                  "texttemplate": "%{y:.3s}",
                  "type": "bar",
                  "x": [
                    "Russia"
                  ],
                  "xaxis": "x",
                  "y": [
                    201097
                  ],
                  "yaxis": "y"
                },
                {
                  "alignmentgroup": "True",
                  "hovertemplate": "Country=%{x}<br>Active=%{y}<extra></extra>",
                  "legendgroup": "South Africa",
                  "marker": {
                    "color": "#19d3f3",
                    "pattern": {
                      "shape": ""
                    }
                  },
                  "name": "South Africa",
                  "offsetgroup": "South Africa",
                  "orientation": "v",
                  "showlegend": true,
                  "textposition": "auto",
                  "texttemplate": "%{y:.3s}",
                  "type": "bar",
                  "x": [
                    "South Africa"
                  ],
                  "xaxis": "x",
                  "y": [
                    170537
                  ],
                  "yaxis": "y"
                },
                {
                  "alignmentgroup": "True",
                  "hovertemplate": "Country=%{x}<br>Active=%{y}<extra></extra>",
                  "legendgroup": "Colombia",
                  "marker": {
                    "color": "#FF6692",
                    "pattern": {
                      "shape": ""
                    }
                  },
                  "name": "Colombia",
                  "offsetgroup": "Colombia",
                  "orientation": "v",
                  "showlegend": true,
                  "textposition": "auto",
                  "texttemplate": "%{y:.3s}",
                  "type": "bar",
                  "x": [
                    "Colombia"
                  ],
                  "xaxis": "x",
                  "y": [
                    117163
                  ],
                  "yaxis": "y"
                },
                {
                  "alignmentgroup": "True",
                  "hovertemplate": "Country=%{x}<br>Active=%{y}<extra></extra>",
                  "legendgroup": "France",
                  "marker": {
                    "color": "#B6E880",
                    "pattern": {
                      "shape": ""
                    }
                  },
                  "name": "France",
                  "offsetgroup": "France",
                  "orientation": "v",
                  "showlegend": true,
                  "textposition": "auto",
                  "texttemplate": "%{y:.3s}",
                  "type": "bar",
                  "x": [
                    "France"
                  ],
                  "xaxis": "x",
                  "y": [
                    108928
                  ],
                  "yaxis": "y"
                },
                {
                  "alignmentgroup": "True",
                  "hovertemplate": "Country=%{x}<br>Active=%{y}<extra></extra>",
                  "legendgroup": "Canada",
                  "marker": {
                    "color": "#FF97FF",
                    "pattern": {
                      "shape": ""
                    }
                  },
                  "name": "Canada",
                  "offsetgroup": "Canada",
                  "orientation": "v",
                  "showlegend": true,
                  "textposition": "auto",
                  "texttemplate": "%{y:.3s}",
                  "type": "bar",
                  "x": [
                    "Canada"
                  ],
                  "xaxis": "x",
                  "y": [
                    107514
                  ],
                  "yaxis": "y"
                },
                {
                  "alignmentgroup": "True",
                  "hovertemplate": "Country=%{x}<br>Active=%{y}<extra></extra>",
                  "legendgroup": "Peru",
                  "marker": {
                    "color": "#FECB52",
                    "pattern": {
                      "shape": ""
                    }
                  },
                  "name": "Peru",
                  "offsetgroup": "Peru",
                  "orientation": "v",
                  "showlegend": true,
                  "textposition": "auto",
                  "texttemplate": "%{y:.3s}",
                  "type": "bar",
                  "x": [
                    "Peru"
                  ],
                  "xaxis": "x",
                  "y": [
                    98752
                  ],
                  "yaxis": "y"
                },
                {
                  "alignmentgroup": "True",
                  "hovertemplate": "Country=%{x}<br>Active=%{y}<extra></extra>",
                  "legendgroup": "Bangladesh",
                  "marker": {
                    "color": "#636efa",
                    "pattern": {
                      "shape": ""
                    }
                  },
                  "name": "Bangladesh",
                  "offsetgroup": "Bangladesh",
                  "orientation": "v",
                  "showlegend": true,
                  "textposition": "auto",
                  "texttemplate": "%{y:.3s}",
                  "type": "bar",
                  "x": [
                    "Bangladesh"
                  ],
                  "xaxis": "x",
                  "y": [
                    97577
                  ],
                  "yaxis": "y"
                },
                {
                  "alignmentgroup": "True",
                  "hovertemplate": "Country=%{x}<br>Active=%{y}<extra></extra>",
                  "legendgroup": "Spain",
                  "marker": {
                    "color": "#EF553B",
                    "pattern": {
                      "shape": ""
                    }
                  },
                  "name": "Spain",
                  "offsetgroup": "Spain",
                  "orientation": "v",
                  "showlegend": true,
                  "textposition": "auto",
                  "texttemplate": "%{y:.3s}",
                  "type": "bar",
                  "x": [
                    "Spain"
                  ],
                  "xaxis": "x",
                  "y": [
                    93613
                  ],
                  "yaxis": "y"
                },
                {
                  "alignmentgroup": "True",
                  "hovertemplate": "Country=%{x}<br>Active=%{y}<extra></extra>",
                  "legendgroup": "Argentina",
                  "marker": {
                    "color": "#00cc96",
                    "pattern": {
                      "shape": ""
                    }
                  },
                  "name": "Argentina",
                  "offsetgroup": "Argentina",
                  "orientation": "v",
                  "showlegend": true,
                  "textposition": "auto",
                  "texttemplate": "%{y:.3s}",
                  "type": "bar",
                  "x": [
                    "Argentina"
                  ],
                  "xaxis": "x",
                  "y": [
                    91782
                  ],
                  "yaxis": "y"
                },
                {
                  "alignmentgroup": "True",
                  "hovertemplate": "Country=%{x}<br>Active=%{y}<extra></extra>",
                  "legendgroup": "Sweden",
                  "marker": {
                    "color": "#ab63fa",
                    "pattern": {
                      "shape": ""
                    }
                  },
                  "name": "Sweden",
                  "offsetgroup": "Sweden",
                  "orientation": "v",
                  "showlegend": true,
                  "textposition": "auto",
                  "texttemplate": "%{y:.3s}",
                  "type": "bar",
                  "x": [
                    "Sweden"
                  ],
                  "xaxis": "x",
                  "y": [
                    73695
                  ],
                  "yaxis": "y"
                },
                {
                  "alignmentgroup": "True",
                  "hovertemplate": "Country=%{x}<br>Active=%{y}<extra></extra>",
                  "legendgroup": "Philippines",
                  "marker": {
                    "color": "#FFA15A",
                    "pattern": {
                      "shape": ""
                    }
                  },
                  "name": "Philippines",
                  "offsetgroup": "Philippines",
                  "orientation": "v",
                  "showlegend": true,
                  "textposition": "auto",
                  "texttemplate": "%{y:.3s}",
                  "type": "bar",
                  "x": [
                    "Philippines"
                  ],
                  "xaxis": "x",
                  "y": [
                    53649
                  ],
                  "yaxis": "y"
                },
                {
                  "alignmentgroup": "True",
                  "hovertemplate": "Country=%{x}<br>Active=%{y}<extra></extra>",
                  "legendgroup": "Egypt",
                  "marker": {
                    "color": "#19d3f3",
                    "pattern": {
                      "shape": ""
                    }
                  },
                  "name": "Egypt",
                  "offsetgroup": "Egypt",
                  "orientation": "v",
                  "showlegend": true,
                  "textposition": "auto",
                  "texttemplate": "%{y:.3s}",
                  "type": "bar",
                  "x": [
                    "Egypt"
                  ],
                  "xaxis": "x",
                  "y": [
                    52992
                  ],
                  "yaxis": "y"
                },
                {
                  "alignmentgroup": "True",
                  "hovertemplate": "Country=%{x}<br>Active=%{y}<extra></extra>",
                  "legendgroup": "Mexico",
                  "marker": {
                    "color": "#FF6692",
                    "pattern": {
                      "shape": ""
                    }
                  },
                  "name": "Mexico",
                  "offsetgroup": "Mexico",
                  "orientation": "v",
                  "showlegend": true,
                  "textposition": "auto",
                  "texttemplate": "%{y:.3s}",
                  "type": "bar",
                  "x": [
                    "Mexico"
                  ],
                  "xaxis": "x",
                  "y": [
                    47657
                  ],
                  "yaxis": "y"
                },
                {
                  "alignmentgroup": "True",
                  "hovertemplate": "Country=%{x}<br>Active=%{y}<extra></extra>",
                  "legendgroup": "Netherlands",
                  "marker": {
                    "color": "#B6E880",
                    "pattern": {
                      "shape": ""
                    }
                  },
                  "name": "Netherlands",
                  "offsetgroup": "Netherlands",
                  "orientation": "v",
                  "showlegend": true,
                  "textposition": "auto",
                  "texttemplate": "%{y:.3s}",
                  "type": "bar",
                  "x": [
                    "Netherlands"
                  ],
                  "xaxis": "x",
                  "y": [
                    47064
                  ],
                  "yaxis": "y"
                },
                {
                  "alignmentgroup": "True",
                  "hovertemplate": "Country=%{x}<br>Active=%{y}<extra></extra>",
                  "legendgroup": "Bolivia",
                  "marker": {
                    "color": "#FF97FF",
                    "pattern": {
                      "shape": ""
                    }
                  },
                  "name": "Bolivia",
                  "offsetgroup": "Bolivia",
                  "orientation": "v",
                  "showlegend": true,
                  "textposition": "auto",
                  "texttemplate": "%{y:.3s}",
                  "type": "bar",
                  "x": [
                    "Bolivia"
                  ],
                  "xaxis": "x",
                  "y": [
                    47056
                  ],
                  "yaxis": "y"
                },
                {
                  "alignmentgroup": "True",
                  "hovertemplate": "Country=%{x}<br>Active=%{y}<extra></extra>",
                  "legendgroup": "Saudi Arabia",
                  "marker": {
                    "color": "#FECB52",
                    "pattern": {
                      "shape": ""
                    }
                  },
                  "name": "Saudi Arabia",
                  "offsetgroup": "Saudi Arabia",
                  "orientation": "v",
                  "showlegend": true,
                  "textposition": "auto",
                  "texttemplate": "%{y:.3s}",
                  "type": "bar",
                  "x": [
                    "Saudi Arabia"
                  ],
                  "xaxis": "x",
                  "y": [
                    43238
                  ],
                  "yaxis": "y"
                }
              ],
              "layout": {
                "barmode": "relative",
                "legend": {
                  "title": {
                    "text": "Country"
                  },
                  "tracegroupgap": 0
                },
                "template": {
                  "data": {
                    "bar": [
                      {
                        "error_x": {
                          "color": "#f2f5fa"
                        },
                        "error_y": {
                          "color": "#f2f5fa"
                        },
                        "marker": {
                          "line": {
                            "color": "rgb(17,17,17)",
                            "width": 0.5
                          },
                          "pattern": {
                            "fillmode": "overlay",
                            "size": 10,
                            "solidity": 0.2
                          }
                        },
                        "type": "bar"
                      }
                    ],
                    "barpolar": [
                      {
                        "marker": {
                          "line": {
                            "color": "rgb(17,17,17)",
                            "width": 0.5
                          },
                          "pattern": {
                            "fillmode": "overlay",
                            "size": 10,
                            "solidity": 0.2
                          }
                        },
                        "type": "barpolar"
                      }
                    ],
                    "carpet": [
                      {
                        "aaxis": {
                          "endlinecolor": "#A2B1C6",
                          "gridcolor": "#506784",
                          "linecolor": "#506784",
                          "minorgridcolor": "#506784",
                          "startlinecolor": "#A2B1C6"
                        },
                        "baxis": {
                          "endlinecolor": "#A2B1C6",
                          "gridcolor": "#506784",
                          "linecolor": "#506784",
                          "minorgridcolor": "#506784",
                          "startlinecolor": "#A2B1C6"
                        },
                        "type": "carpet"
                      }
                    ],
                    "choropleth": [
                      {
                        "colorbar": {
                          "outlinewidth": 0,
                          "ticks": ""
                        },
                        "type": "choropleth"
                      }
                    ],
                    "contour": [
                      {
                        "colorbar": {
                          "outlinewidth": 0,
                          "ticks": ""
                        },
                        "colorscale": [
                          [
                            0,
                            "#0d0887"
                          ],
                          [
                            0.1111111111111111,
                            "#46039f"
                          ],
                          [
                            0.2222222222222222,
                            "#7201a8"
                          ],
                          [
                            0.3333333333333333,
                            "#9c179e"
                          ],
                          [
                            0.4444444444444444,
                            "#bd3786"
                          ],
                          [
                            0.5555555555555556,
                            "#d8576b"
                          ],
                          [
                            0.6666666666666666,
                            "#ed7953"
                          ],
                          [
                            0.7777777777777778,
                            "#fb9f3a"
                          ],
                          [
                            0.8888888888888888,
                            "#fdca26"
                          ],
                          [
                            1,
                            "#f0f921"
                          ]
                        ],
                        "type": "contour"
                      }
                    ],
                    "contourcarpet": [
                      {
                        "colorbar": {
                          "outlinewidth": 0,
                          "ticks": ""
                        },
                        "type": "contourcarpet"
                      }
                    ],
                    "heatmap": [
                      {
                        "colorbar": {
                          "outlinewidth": 0,
                          "ticks": ""
                        },
                        "colorscale": [
                          [
                            0,
                            "#0d0887"
                          ],
                          [
                            0.1111111111111111,
                            "#46039f"
                          ],
                          [
                            0.2222222222222222,
                            "#7201a8"
                          ],
                          [
                            0.3333333333333333,
                            "#9c179e"
                          ],
                          [
                            0.4444444444444444,
                            "#bd3786"
                          ],
                          [
                            0.5555555555555556,
                            "#d8576b"
                          ],
                          [
                            0.6666666666666666,
                            "#ed7953"
                          ],
                          [
                            0.7777777777777778,
                            "#fb9f3a"
                          ],
                          [
                            0.8888888888888888,
                            "#fdca26"
                          ],
                          [
                            1,
                            "#f0f921"
                          ]
                        ],
                        "type": "heatmap"
                      }
                    ],
                    "heatmapgl": [
                      {
                        "colorbar": {
                          "outlinewidth": 0,
                          "ticks": ""
                        },
                        "colorscale": [
                          [
                            0,
                            "#0d0887"
                          ],
                          [
                            0.1111111111111111,
                            "#46039f"
                          ],
                          [
                            0.2222222222222222,
                            "#7201a8"
                          ],
                          [
                            0.3333333333333333,
                            "#9c179e"
                          ],
                          [
                            0.4444444444444444,
                            "#bd3786"
                          ],
                          [
                            0.5555555555555556,
                            "#d8576b"
                          ],
                          [
                            0.6666666666666666,
                            "#ed7953"
                          ],
                          [
                            0.7777777777777778,
                            "#fb9f3a"
                          ],
                          [
                            0.8888888888888888,
                            "#fdca26"
                          ],
                          [
                            1,
                            "#f0f921"
                          ]
                        ],
                        "type": "heatmapgl"
                      }
                    ],
                    "histogram": [
                      {
                        "marker": {
                          "pattern": {
                            "fillmode": "overlay",
                            "size": 10,
                            "solidity": 0.2
                          }
                        },
                        "type": "histogram"
                      }
                    ],
                    "histogram2d": [
                      {
                        "colorbar": {
                          "outlinewidth": 0,
                          "ticks": ""
                        },
                        "colorscale": [
                          [
                            0,
                            "#0d0887"
                          ],
                          [
                            0.1111111111111111,
                            "#46039f"
                          ],
                          [
                            0.2222222222222222,
                            "#7201a8"
                          ],
                          [
                            0.3333333333333333,
                            "#9c179e"
                          ],
                          [
                            0.4444444444444444,
                            "#bd3786"
                          ],
                          [
                            0.5555555555555556,
                            "#d8576b"
                          ],
                          [
                            0.6666666666666666,
                            "#ed7953"
                          ],
                          [
                            0.7777777777777778,
                            "#fb9f3a"
                          ],
                          [
                            0.8888888888888888,
                            "#fdca26"
                          ],
                          [
                            1,
                            "#f0f921"
                          ]
                        ],
                        "type": "histogram2d"
                      }
                    ],
                    "histogram2dcontour": [
                      {
                        "colorbar": {
                          "outlinewidth": 0,
                          "ticks": ""
                        },
                        "colorscale": [
                          [
                            0,
                            "#0d0887"
                          ],
                          [
                            0.1111111111111111,
                            "#46039f"
                          ],
                          [
                            0.2222222222222222,
                            "#7201a8"
                          ],
                          [
                            0.3333333333333333,
                            "#9c179e"
                          ],
                          [
                            0.4444444444444444,
                            "#bd3786"
                          ],
                          [
                            0.5555555555555556,
                            "#d8576b"
                          ],
                          [
                            0.6666666666666666,
                            "#ed7953"
                          ],
                          [
                            0.7777777777777778,
                            "#fb9f3a"
                          ],
                          [
                            0.8888888888888888,
                            "#fdca26"
                          ],
                          [
                            1,
                            "#f0f921"
                          ]
                        ],
                        "type": "histogram2dcontour"
                      }
                    ],
                    "mesh3d": [
                      {
                        "colorbar": {
                          "outlinewidth": 0,
                          "ticks": ""
                        },
                        "type": "mesh3d"
                      }
                    ],
                    "parcoords": [
                      {
                        "line": {
                          "colorbar": {
                            "outlinewidth": 0,
                            "ticks": ""
                          }
                        },
                        "type": "parcoords"
                      }
                    ],
                    "pie": [
                      {
                        "automargin": true,
                        "type": "pie"
                      }
                    ],
                    "scatter": [
                      {
                        "marker": {
                          "line": {
                            "color": "#283442"
                          }
                        },
                        "type": "scatter"
                      }
                    ],
                    "scatter3d": [
                      {
                        "line": {
                          "colorbar": {
                            "outlinewidth": 0,
                            "ticks": ""
                          }
                        },
                        "marker": {
                          "colorbar": {
                            "outlinewidth": 0,
                            "ticks": ""
                          }
                        },
                        "type": "scatter3d"
                      }
                    ],
                    "scattercarpet": [
                      {
                        "marker": {
                          "colorbar": {
                            "outlinewidth": 0,
                            "ticks": ""
                          }
                        },
                        "type": "scattercarpet"
                      }
                    ],
                    "scattergeo": [
                      {
                        "marker": {
                          "colorbar": {
                            "outlinewidth": 0,
                            "ticks": ""
                          }
                        },
                        "type": "scattergeo"
                      }
                    ],
                    "scattergl": [
                      {
                        "marker": {
                          "line": {
                            "color": "#283442"
                          }
                        },
                        "type": "scattergl"
                      }
                    ],
                    "scattermapbox": [
                      {
                        "marker": {
                          "colorbar": {
                            "outlinewidth": 0,
                            "ticks": ""
                          }
                        },
                        "type": "scattermapbox"
                      }
                    ],
                    "scatterpolar": [
                      {
                        "marker": {
                          "colorbar": {
                            "outlinewidth": 0,
                            "ticks": ""
                          }
                        },
                        "type": "scatterpolar"
                      }
                    ],
                    "scatterpolargl": [
                      {
                        "marker": {
                          "colorbar": {
                            "outlinewidth": 0,
                            "ticks": ""
                          }
                        },
                        "type": "scatterpolargl"
                      }
                    ],
                    "scatterternary": [
                      {
                        "marker": {
                          "colorbar": {
                            "outlinewidth": 0,
                            "ticks": ""
                          }
                        },
                        "type": "scatterternary"
                      }
                    ],
                    "surface": [
                      {
                        "colorbar": {
                          "outlinewidth": 0,
                          "ticks": ""
                        },
                        "colorscale": [
                          [
                            0,
                            "#0d0887"
                          ],
                          [
                            0.1111111111111111,
                            "#46039f"
                          ],
                          [
                            0.2222222222222222,
                            "#7201a8"
                          ],
                          [
                            0.3333333333333333,
                            "#9c179e"
                          ],
                          [
                            0.4444444444444444,
                            "#bd3786"
                          ],
                          [
                            0.5555555555555556,
                            "#d8576b"
                          ],
                          [
                            0.6666666666666666,
                            "#ed7953"
                          ],
                          [
                            0.7777777777777778,
                            "#fb9f3a"
                          ],
                          [
                            0.8888888888888888,
                            "#fdca26"
                          ],
                          [
                            1,
                            "#f0f921"
                          ]
                        ],
                        "type": "surface"
                      }
                    ],
                    "table": [
                      {
                        "cells": {
                          "fill": {
                            "color": "#506784"
                          },
                          "line": {
                            "color": "rgb(17,17,17)"
                          }
                        },
                        "header": {
                          "fill": {
                            "color": "#2a3f5f"
                          },
                          "line": {
                            "color": "rgb(17,17,17)"
                          }
                        },
                        "type": "table"
                      }
                    ]
                  },
                  "layout": {
                    "annotationdefaults": {
                      "arrowcolor": "#f2f5fa",
                      "arrowhead": 0,
                      "arrowwidth": 1
                    },
                    "autotypenumbers": "strict",
                    "coloraxis": {
                      "colorbar": {
                        "outlinewidth": 0,
                        "ticks": ""
                      }
                    },
                    "colorscale": {
                      "diverging": [
                        [
                          0,
                          "#8e0152"
                        ],
                        [
                          0.1,
                          "#c51b7d"
                        ],
                        [
                          0.2,
                          "#de77ae"
                        ],
                        [
                          0.3,
                          "#f1b6da"
                        ],
                        [
                          0.4,
                          "#fde0ef"
                        ],
                        [
                          0.5,
                          "#f7f7f7"
                        ],
                        [
                          0.6,
                          "#e6f5d0"
                        ],
                        [
                          0.7,
                          "#b8e186"
                        ],
                        [
                          0.8,
                          "#7fbc41"
                        ],
                        [
                          0.9,
                          "#4d9221"
                        ],
                        [
                          1,
                          "#276419"
                        ]
                      ],
                      "sequential": [
                        [
                          0,
                          "#0d0887"
                        ],
                        [
                          0.1111111111111111,
                          "#46039f"
                        ],
                        [
                          0.2222222222222222,
                          "#7201a8"
                        ],
                        [
                          0.3333333333333333,
                          "#9c179e"
                        ],
                        [
                          0.4444444444444444,
                          "#bd3786"
                        ],
                        [
                          0.5555555555555556,
                          "#d8576b"
                        ],
                        [
                          0.6666666666666666,
                          "#ed7953"
                        ],
                        [
                          0.7777777777777778,
                          "#fb9f3a"
                        ],
                        [
                          0.8888888888888888,
                          "#fdca26"
                        ],
                        [
                          1,
                          "#f0f921"
                        ]
                      ],
                      "sequentialminus": [
                        [
                          0,
                          "#0d0887"
                        ],
                        [
                          0.1111111111111111,
                          "#46039f"
                        ],
                        [
                          0.2222222222222222,
                          "#7201a8"
                        ],
                        [
                          0.3333333333333333,
                          "#9c179e"
                        ],
                        [
                          0.4444444444444444,
                          "#bd3786"
                        ],
                        [
                          0.5555555555555556,
                          "#d8576b"
                        ],
                        [
                          0.6666666666666666,
                          "#ed7953"
                        ],
                        [
                          0.7777777777777778,
                          "#fb9f3a"
                        ],
                        [
                          0.8888888888888888,
                          "#fdca26"
                        ],
                        [
                          1,
                          "#f0f921"
                        ]
                      ]
                    },
                    "colorway": [
                      "#636efa",
                      "#EF553B",
                      "#00cc96",
                      "#ab63fa",
                      "#FFA15A",
                      "#19d3f3",
                      "#FF6692",
                      "#B6E880",
                      "#FF97FF",
                      "#FECB52"
                    ],
                    "font": {
                      "color": "#f2f5fa"
                    },
                    "geo": {
                      "bgcolor": "rgb(17,17,17)",
                      "lakecolor": "rgb(17,17,17)",
                      "landcolor": "rgb(17,17,17)",
                      "showlakes": true,
                      "showland": true,
                      "subunitcolor": "#506784"
                    },
                    "hoverlabel": {
                      "align": "left"
                    },
                    "hovermode": "closest",
                    "mapbox": {
                      "style": "dark"
                    },
                    "paper_bgcolor": "rgb(17,17,17)",
                    "plot_bgcolor": "rgb(17,17,17)",
                    "polar": {
                      "angularaxis": {
                        "gridcolor": "#506784",
                        "linecolor": "#506784",
                        "ticks": ""
                      },
                      "bgcolor": "rgb(17,17,17)",
                      "radialaxis": {
                        "gridcolor": "#506784",
                        "linecolor": "#506784",
                        "ticks": ""
                      }
                    },
                    "scene": {
                      "xaxis": {
                        "backgroundcolor": "rgb(17,17,17)",
                        "gridcolor": "#506784",
                        "gridwidth": 2,
                        "linecolor": "#506784",
                        "showbackground": true,
                        "ticks": "",
                        "zerolinecolor": "#C8D4E3"
                      },
                      "yaxis": {
                        "backgroundcolor": "rgb(17,17,17)",
                        "gridcolor": "#506784",
                        "gridwidth": 2,
                        "linecolor": "#506784",
                        "showbackground": true,
                        "ticks": "",
                        "zerolinecolor": "#C8D4E3"
                      },
                      "zaxis": {
                        "backgroundcolor": "rgb(17,17,17)",
                        "gridcolor": "#506784",
                        "gridwidth": 2,
                        "linecolor": "#506784",
                        "showbackground": true,
                        "ticks": "",
                        "zerolinecolor": "#C8D4E3"
                      }
                    },
                    "shapedefaults": {
                      "line": {
                        "color": "#f2f5fa"
                      }
                    },
                    "sliderdefaults": {
                      "bgcolor": "#C8D4E3",
                      "bordercolor": "rgb(17,17,17)",
                      "borderwidth": 1,
                      "tickwidth": 0
                    },
                    "ternary": {
                      "aaxis": {
                        "gridcolor": "#506784",
                        "linecolor": "#506784",
                        "ticks": ""
                      },
                      "baxis": {
                        "gridcolor": "#506784",
                        "linecolor": "#506784",
                        "ticks": ""
                      },
                      "bgcolor": "rgb(17,17,17)",
                      "caxis": {
                        "gridcolor": "#506784",
                        "linecolor": "#506784",
                        "ticks": ""
                      }
                    },
                    "title": {
                      "x": 0.05
                    },
                    "updatemenudefaults": {
                      "bgcolor": "#506784",
                      "borderwidth": 0
                    },
                    "xaxis": {
                      "automargin": true,
                      "gridcolor": "#283442",
                      "linecolor": "#506784",
                      "ticks": "",
                      "title": {
                        "standoff": 15
                      },
                      "zerolinecolor": "#283442",
                      "zerolinewidth": 2
                    },
                    "yaxis": {
                      "automargin": true,
                      "gridcolor": "#283442",
                      "linecolor": "#506784",
                      "ticks": "",
                      "title": {
                        "standoff": 15
                      },
                      "zerolinecolor": "#283442",
                      "zerolinewidth": 2
                    }
                  }
                },
                "title": {
                  "text": "Top 20 Country Active Cases"
                },
                "xaxis": {
                  "anchor": "y",
                  "categoryarray": [
                    "US",
                    "Brazil",
                    "India",
                    "United Kingdom",
                    "Russia",
                    "South Africa",
                    "Colombia",
                    "France",
                    "Canada",
                    "Peru",
                    "Bangladesh",
                    "Spain",
                    "Argentina",
                    "Sweden",
                    "Philippines",
                    "Egypt",
                    "Mexico",
                    "Netherlands",
                    "Bolivia",
                    "Saudi Arabia"
                  ],
                  "categoryorder": "array",
                  "domain": [
                    0,
                    1
                  ],
                  "title": {
                    "text": "Country"
                  }
                },
                "yaxis": {
                  "anchor": "x",
                  "domain": [
                    0,
                    1
                  ],
                  "title": {
                    "text": "Active"
                  }
                }
              }
            },
            "text/html": [
              "<div>                        <script type=\"text/javascript\">window.PlotlyConfig = {MathJaxConfig: 'local'};</script>\n",
              "        <script charset=\"utf-8\" src=\"https://cdn.plot.ly/plotly-2.20.0.min.js\"></script>                <div id=\"64db61da-3f6c-4ec2-af39-88f638627b85\" class=\"plotly-graph-div\" style=\"height:100%; width:100%;\"></div>            <script type=\"text/javascript\">                                    window.PLOTLYENV=window.PLOTLYENV || {};                                    if (document.getElementById(\"64db61da-3f6c-4ec2-af39-88f638627b85\")) {                    Plotly.newPlot(                        \"64db61da-3f6c-4ec2-af39-88f638627b85\",                        [{\"alignmentgroup\":\"True\",\"hovertemplate\":\"Country=%{x}<br>Active=%{y}<extra></extra>\",\"legendgroup\":\"US\",\"marker\":{\"color\":\"#636efa\",\"pattern\":{\"shape\":\"\"}},\"name\":\"US\",\"offsetgroup\":\"US\",\"orientation\":\"v\",\"showlegend\":true,\"textposition\":\"auto\",\"texttemplate\":\"%{y:.3s}\",\"x\":[\"US\"],\"xaxis\":\"x\",\"y\":[2816444],\"yaxis\":\"y\",\"type\":\"bar\"},{\"alignmentgroup\":\"True\",\"hovertemplate\":\"Country=%{x}<br>Active=%{y}<extra></extra>\",\"legendgroup\":\"Brazil\",\"marker\":{\"color\":\"#EF553B\",\"pattern\":{\"shape\":\"\"}},\"name\":\"Brazil\",\"offsetgroup\":\"Brazil\",\"orientation\":\"v\",\"showlegend\":true,\"textposition\":\"auto\",\"texttemplate\":\"%{y:.3s}\",\"x\":[\"Brazil\"],\"xaxis\":\"x\",\"y\":[508116],\"yaxis\":\"y\",\"type\":\"bar\"},{\"alignmentgroup\":\"True\",\"hovertemplate\":\"Country=%{x}<br>Active=%{y}<extra></extra>\",\"legendgroup\":\"India\",\"marker\":{\"color\":\"#00cc96\",\"pattern\":{\"shape\":\"\"}},\"name\":\"India\",\"offsetgroup\":\"India\",\"orientation\":\"v\",\"showlegend\":true,\"textposition\":\"auto\",\"texttemplate\":\"%{y:.3s}\",\"x\":[\"India\"],\"xaxis\":\"x\",\"y\":[495499],\"yaxis\":\"y\",\"type\":\"bar\"},{\"alignmentgroup\":\"True\",\"hovertemplate\":\"Country=%{x}<br>Active=%{y}<extra></extra>\",\"legendgroup\":\"United Kingdom\",\"marker\":{\"color\":\"#ab63fa\",\"pattern\":{\"shape\":\"\"}},\"name\":\"United Kingdom\",\"offsetgroup\":\"United Kingdom\",\"orientation\":\"v\",\"showlegend\":true,\"textposition\":\"auto\",\"texttemplate\":\"%{y:.3s}\",\"x\":[\"United Kingdom\"],\"xaxis\":\"x\",\"y\":[254427],\"yaxis\":\"y\",\"type\":\"bar\"},{\"alignmentgroup\":\"True\",\"hovertemplate\":\"Country=%{x}<br>Active=%{y}<extra></extra>\",\"legendgroup\":\"Russia\",\"marker\":{\"color\":\"#FFA15A\",\"pattern\":{\"shape\":\"\"}},\"name\":\"Russia\",\"offsetgroup\":\"Russia\",\"orientation\":\"v\",\"showlegend\":true,\"textposition\":\"auto\",\"texttemplate\":\"%{y:.3s}\",\"x\":[\"Russia\"],\"xaxis\":\"x\",\"y\":[201097],\"yaxis\":\"y\",\"type\":\"bar\"},{\"alignmentgroup\":\"True\",\"hovertemplate\":\"Country=%{x}<br>Active=%{y}<extra></extra>\",\"legendgroup\":\"South Africa\",\"marker\":{\"color\":\"#19d3f3\",\"pattern\":{\"shape\":\"\"}},\"name\":\"South Africa\",\"offsetgroup\":\"South Africa\",\"orientation\":\"v\",\"showlegend\":true,\"textposition\":\"auto\",\"texttemplate\":\"%{y:.3s}\",\"x\":[\"South Africa\"],\"xaxis\":\"x\",\"y\":[170537],\"yaxis\":\"y\",\"type\":\"bar\"},{\"alignmentgroup\":\"True\",\"hovertemplate\":\"Country=%{x}<br>Active=%{y}<extra></extra>\",\"legendgroup\":\"Colombia\",\"marker\":{\"color\":\"#FF6692\",\"pattern\":{\"shape\":\"\"}},\"name\":\"Colombia\",\"offsetgroup\":\"Colombia\",\"orientation\":\"v\",\"showlegend\":true,\"textposition\":\"auto\",\"texttemplate\":\"%{y:.3s}\",\"x\":[\"Colombia\"],\"xaxis\":\"x\",\"y\":[117163],\"yaxis\":\"y\",\"type\":\"bar\"},{\"alignmentgroup\":\"True\",\"hovertemplate\":\"Country=%{x}<br>Active=%{y}<extra></extra>\",\"legendgroup\":\"France\",\"marker\":{\"color\":\"#B6E880\",\"pattern\":{\"shape\":\"\"}},\"name\":\"France\",\"offsetgroup\":\"France\",\"orientation\":\"v\",\"showlegend\":true,\"textposition\":\"auto\",\"texttemplate\":\"%{y:.3s}\",\"x\":[\"France\"],\"xaxis\":\"x\",\"y\":[108928],\"yaxis\":\"y\",\"type\":\"bar\"},{\"alignmentgroup\":\"True\",\"hovertemplate\":\"Country=%{x}<br>Active=%{y}<extra></extra>\",\"legendgroup\":\"Canada\",\"marker\":{\"color\":\"#FF97FF\",\"pattern\":{\"shape\":\"\"}},\"name\":\"Canada\",\"offsetgroup\":\"Canada\",\"orientation\":\"v\",\"showlegend\":true,\"textposition\":\"auto\",\"texttemplate\":\"%{y:.3s}\",\"x\":[\"Canada\"],\"xaxis\":\"x\",\"y\":[107514],\"yaxis\":\"y\",\"type\":\"bar\"},{\"alignmentgroup\":\"True\",\"hovertemplate\":\"Country=%{x}<br>Active=%{y}<extra></extra>\",\"legendgroup\":\"Peru\",\"marker\":{\"color\":\"#FECB52\",\"pattern\":{\"shape\":\"\"}},\"name\":\"Peru\",\"offsetgroup\":\"Peru\",\"orientation\":\"v\",\"showlegend\":true,\"textposition\":\"auto\",\"texttemplate\":\"%{y:.3s}\",\"x\":[\"Peru\"],\"xaxis\":\"x\",\"y\":[98752],\"yaxis\":\"y\",\"type\":\"bar\"},{\"alignmentgroup\":\"True\",\"hovertemplate\":\"Country=%{x}<br>Active=%{y}<extra></extra>\",\"legendgroup\":\"Bangladesh\",\"marker\":{\"color\":\"#636efa\",\"pattern\":{\"shape\":\"\"}},\"name\":\"Bangladesh\",\"offsetgroup\":\"Bangladesh\",\"orientation\":\"v\",\"showlegend\":true,\"textposition\":\"auto\",\"texttemplate\":\"%{y:.3s}\",\"x\":[\"Bangladesh\"],\"xaxis\":\"x\",\"y\":[97577],\"yaxis\":\"y\",\"type\":\"bar\"},{\"alignmentgroup\":\"True\",\"hovertemplate\":\"Country=%{x}<br>Active=%{y}<extra></extra>\",\"legendgroup\":\"Spain\",\"marker\":{\"color\":\"#EF553B\",\"pattern\":{\"shape\":\"\"}},\"name\":\"Spain\",\"offsetgroup\":\"Spain\",\"orientation\":\"v\",\"showlegend\":true,\"textposition\":\"auto\",\"texttemplate\":\"%{y:.3s}\",\"x\":[\"Spain\"],\"xaxis\":\"x\",\"y\":[93613],\"yaxis\":\"y\",\"type\":\"bar\"},{\"alignmentgroup\":\"True\",\"hovertemplate\":\"Country=%{x}<br>Active=%{y}<extra></extra>\",\"legendgroup\":\"Argentina\",\"marker\":{\"color\":\"#00cc96\",\"pattern\":{\"shape\":\"\"}},\"name\":\"Argentina\",\"offsetgroup\":\"Argentina\",\"orientation\":\"v\",\"showlegend\":true,\"textposition\":\"auto\",\"texttemplate\":\"%{y:.3s}\",\"x\":[\"Argentina\"],\"xaxis\":\"x\",\"y\":[91782],\"yaxis\":\"y\",\"type\":\"bar\"},{\"alignmentgroup\":\"True\",\"hovertemplate\":\"Country=%{x}<br>Active=%{y}<extra></extra>\",\"legendgroup\":\"Sweden\",\"marker\":{\"color\":\"#ab63fa\",\"pattern\":{\"shape\":\"\"}},\"name\":\"Sweden\",\"offsetgroup\":\"Sweden\",\"orientation\":\"v\",\"showlegend\":true,\"textposition\":\"auto\",\"texttemplate\":\"%{y:.3s}\",\"x\":[\"Sweden\"],\"xaxis\":\"x\",\"y\":[73695],\"yaxis\":\"y\",\"type\":\"bar\"},{\"alignmentgroup\":\"True\",\"hovertemplate\":\"Country=%{x}<br>Active=%{y}<extra></extra>\",\"legendgroup\":\"Philippines\",\"marker\":{\"color\":\"#FFA15A\",\"pattern\":{\"shape\":\"\"}},\"name\":\"Philippines\",\"offsetgroup\":\"Philippines\",\"orientation\":\"v\",\"showlegend\":true,\"textposition\":\"auto\",\"texttemplate\":\"%{y:.3s}\",\"x\":[\"Philippines\"],\"xaxis\":\"x\",\"y\":[53649],\"yaxis\":\"y\",\"type\":\"bar\"},{\"alignmentgroup\":\"True\",\"hovertemplate\":\"Country=%{x}<br>Active=%{y}<extra></extra>\",\"legendgroup\":\"Egypt\",\"marker\":{\"color\":\"#19d3f3\",\"pattern\":{\"shape\":\"\"}},\"name\":\"Egypt\",\"offsetgroup\":\"Egypt\",\"orientation\":\"v\",\"showlegend\":true,\"textposition\":\"auto\",\"texttemplate\":\"%{y:.3s}\",\"x\":[\"Egypt\"],\"xaxis\":\"x\",\"y\":[52992],\"yaxis\":\"y\",\"type\":\"bar\"},{\"alignmentgroup\":\"True\",\"hovertemplate\":\"Country=%{x}<br>Active=%{y}<extra></extra>\",\"legendgroup\":\"Mexico\",\"marker\":{\"color\":\"#FF6692\",\"pattern\":{\"shape\":\"\"}},\"name\":\"Mexico\",\"offsetgroup\":\"Mexico\",\"orientation\":\"v\",\"showlegend\":true,\"textposition\":\"auto\",\"texttemplate\":\"%{y:.3s}\",\"x\":[\"Mexico\"],\"xaxis\":\"x\",\"y\":[47657],\"yaxis\":\"y\",\"type\":\"bar\"},{\"alignmentgroup\":\"True\",\"hovertemplate\":\"Country=%{x}<br>Active=%{y}<extra></extra>\",\"legendgroup\":\"Netherlands\",\"marker\":{\"color\":\"#B6E880\",\"pattern\":{\"shape\":\"\"}},\"name\":\"Netherlands\",\"offsetgroup\":\"Netherlands\",\"orientation\":\"v\",\"showlegend\":true,\"textposition\":\"auto\",\"texttemplate\":\"%{y:.3s}\",\"x\":[\"Netherlands\"],\"xaxis\":\"x\",\"y\":[47064],\"yaxis\":\"y\",\"type\":\"bar\"},{\"alignmentgroup\":\"True\",\"hovertemplate\":\"Country=%{x}<br>Active=%{y}<extra></extra>\",\"legendgroup\":\"Bolivia\",\"marker\":{\"color\":\"#FF97FF\",\"pattern\":{\"shape\":\"\"}},\"name\":\"Bolivia\",\"offsetgroup\":\"Bolivia\",\"orientation\":\"v\",\"showlegend\":true,\"textposition\":\"auto\",\"texttemplate\":\"%{y:.3s}\",\"x\":[\"Bolivia\"],\"xaxis\":\"x\",\"y\":[47056],\"yaxis\":\"y\",\"type\":\"bar\"},{\"alignmentgroup\":\"True\",\"hovertemplate\":\"Country=%{x}<br>Active=%{y}<extra></extra>\",\"legendgroup\":\"Saudi Arabia\",\"marker\":{\"color\":\"#FECB52\",\"pattern\":{\"shape\":\"\"}},\"name\":\"Saudi Arabia\",\"offsetgroup\":\"Saudi Arabia\",\"orientation\":\"v\",\"showlegend\":true,\"textposition\":\"auto\",\"texttemplate\":\"%{y:.3s}\",\"x\":[\"Saudi Arabia\"],\"xaxis\":\"x\",\"y\":[43238],\"yaxis\":\"y\",\"type\":\"bar\"}],                        {\"template\":{\"data\":{\"barpolar\":[{\"marker\":{\"line\":{\"color\":\"rgb(17,17,17)\",\"width\":0.5},\"pattern\":{\"fillmode\":\"overlay\",\"size\":10,\"solidity\":0.2}},\"type\":\"barpolar\"}],\"bar\":[{\"error_x\":{\"color\":\"#f2f5fa\"},\"error_y\":{\"color\":\"#f2f5fa\"},\"marker\":{\"line\":{\"color\":\"rgb(17,17,17)\",\"width\":0.5},\"pattern\":{\"fillmode\":\"overlay\",\"size\":10,\"solidity\":0.2}},\"type\":\"bar\"}],\"carpet\":[{\"aaxis\":{\"endlinecolor\":\"#A2B1C6\",\"gridcolor\":\"#506784\",\"linecolor\":\"#506784\",\"minorgridcolor\":\"#506784\",\"startlinecolor\":\"#A2B1C6\"},\"baxis\":{\"endlinecolor\":\"#A2B1C6\",\"gridcolor\":\"#506784\",\"linecolor\":\"#506784\",\"minorgridcolor\":\"#506784\",\"startlinecolor\":\"#A2B1C6\"},\"type\":\"carpet\"}],\"choropleth\":[{\"colorbar\":{\"outlinewidth\":0,\"ticks\":\"\"},\"type\":\"choropleth\"}],\"contourcarpet\":[{\"colorbar\":{\"outlinewidth\":0,\"ticks\":\"\"},\"type\":\"contourcarpet\"}],\"contour\":[{\"colorbar\":{\"outlinewidth\":0,\"ticks\":\"\"},\"colorscale\":[[0.0,\"#0d0887\"],[0.1111111111111111,\"#46039f\"],[0.2222222222222222,\"#7201a8\"],[0.3333333333333333,\"#9c179e\"],[0.4444444444444444,\"#bd3786\"],[0.5555555555555556,\"#d8576b\"],[0.6666666666666666,\"#ed7953\"],[0.7777777777777778,\"#fb9f3a\"],[0.8888888888888888,\"#fdca26\"],[1.0,\"#f0f921\"]],\"type\":\"contour\"}],\"heatmapgl\":[{\"colorbar\":{\"outlinewidth\":0,\"ticks\":\"\"},\"colorscale\":[[0.0,\"#0d0887\"],[0.1111111111111111,\"#46039f\"],[0.2222222222222222,\"#7201a8\"],[0.3333333333333333,\"#9c179e\"],[0.4444444444444444,\"#bd3786\"],[0.5555555555555556,\"#d8576b\"],[0.6666666666666666,\"#ed7953\"],[0.7777777777777778,\"#fb9f3a\"],[0.8888888888888888,\"#fdca26\"],[1.0,\"#f0f921\"]],\"type\":\"heatmapgl\"}],\"heatmap\":[{\"colorbar\":{\"outlinewidth\":0,\"ticks\":\"\"},\"colorscale\":[[0.0,\"#0d0887\"],[0.1111111111111111,\"#46039f\"],[0.2222222222222222,\"#7201a8\"],[0.3333333333333333,\"#9c179e\"],[0.4444444444444444,\"#bd3786\"],[0.5555555555555556,\"#d8576b\"],[0.6666666666666666,\"#ed7953\"],[0.7777777777777778,\"#fb9f3a\"],[0.8888888888888888,\"#fdca26\"],[1.0,\"#f0f921\"]],\"type\":\"heatmap\"}],\"histogram2dcontour\":[{\"colorbar\":{\"outlinewidth\":0,\"ticks\":\"\"},\"colorscale\":[[0.0,\"#0d0887\"],[0.1111111111111111,\"#46039f\"],[0.2222222222222222,\"#7201a8\"],[0.3333333333333333,\"#9c179e\"],[0.4444444444444444,\"#bd3786\"],[0.5555555555555556,\"#d8576b\"],[0.6666666666666666,\"#ed7953\"],[0.7777777777777778,\"#fb9f3a\"],[0.8888888888888888,\"#fdca26\"],[1.0,\"#f0f921\"]],\"type\":\"histogram2dcontour\"}],\"histogram2d\":[{\"colorbar\":{\"outlinewidth\":0,\"ticks\":\"\"},\"colorscale\":[[0.0,\"#0d0887\"],[0.1111111111111111,\"#46039f\"],[0.2222222222222222,\"#7201a8\"],[0.3333333333333333,\"#9c179e\"],[0.4444444444444444,\"#bd3786\"],[0.5555555555555556,\"#d8576b\"],[0.6666666666666666,\"#ed7953\"],[0.7777777777777778,\"#fb9f3a\"],[0.8888888888888888,\"#fdca26\"],[1.0,\"#f0f921\"]],\"type\":\"histogram2d\"}],\"histogram\":[{\"marker\":{\"pattern\":{\"fillmode\":\"overlay\",\"size\":10,\"solidity\":0.2}},\"type\":\"histogram\"}],\"mesh3d\":[{\"colorbar\":{\"outlinewidth\":0,\"ticks\":\"\"},\"type\":\"mesh3d\"}],\"parcoords\":[{\"line\":{\"colorbar\":{\"outlinewidth\":0,\"ticks\":\"\"}},\"type\":\"parcoords\"}],\"pie\":[{\"automargin\":true,\"type\":\"pie\"}],\"scatter3d\":[{\"line\":{\"colorbar\":{\"outlinewidth\":0,\"ticks\":\"\"}},\"marker\":{\"colorbar\":{\"outlinewidth\":0,\"ticks\":\"\"}},\"type\":\"scatter3d\"}],\"scattercarpet\":[{\"marker\":{\"colorbar\":{\"outlinewidth\":0,\"ticks\":\"\"}},\"type\":\"scattercarpet\"}],\"scattergeo\":[{\"marker\":{\"colorbar\":{\"outlinewidth\":0,\"ticks\":\"\"}},\"type\":\"scattergeo\"}],\"scattergl\":[{\"marker\":{\"line\":{\"color\":\"#283442\"}},\"type\":\"scattergl\"}],\"scattermapbox\":[{\"marker\":{\"colorbar\":{\"outlinewidth\":0,\"ticks\":\"\"}},\"type\":\"scattermapbox\"}],\"scatterpolargl\":[{\"marker\":{\"colorbar\":{\"outlinewidth\":0,\"ticks\":\"\"}},\"type\":\"scatterpolargl\"}],\"scatterpolar\":[{\"marker\":{\"colorbar\":{\"outlinewidth\":0,\"ticks\":\"\"}},\"type\":\"scatterpolar\"}],\"scatter\":[{\"marker\":{\"line\":{\"color\":\"#283442\"}},\"type\":\"scatter\"}],\"scatterternary\":[{\"marker\":{\"colorbar\":{\"outlinewidth\":0,\"ticks\":\"\"}},\"type\":\"scatterternary\"}],\"surface\":[{\"colorbar\":{\"outlinewidth\":0,\"ticks\":\"\"},\"colorscale\":[[0.0,\"#0d0887\"],[0.1111111111111111,\"#46039f\"],[0.2222222222222222,\"#7201a8\"],[0.3333333333333333,\"#9c179e\"],[0.4444444444444444,\"#bd3786\"],[0.5555555555555556,\"#d8576b\"],[0.6666666666666666,\"#ed7953\"],[0.7777777777777778,\"#fb9f3a\"],[0.8888888888888888,\"#fdca26\"],[1.0,\"#f0f921\"]],\"type\":\"surface\"}],\"table\":[{\"cells\":{\"fill\":{\"color\":\"#506784\"},\"line\":{\"color\":\"rgb(17,17,17)\"}},\"header\":{\"fill\":{\"color\":\"#2a3f5f\"},\"line\":{\"color\":\"rgb(17,17,17)\"}},\"type\":\"table\"}]},\"layout\":{\"annotationdefaults\":{\"arrowcolor\":\"#f2f5fa\",\"arrowhead\":0,\"arrowwidth\":1},\"autotypenumbers\":\"strict\",\"coloraxis\":{\"colorbar\":{\"outlinewidth\":0,\"ticks\":\"\"}},\"colorscale\":{\"diverging\":[[0,\"#8e0152\"],[0.1,\"#c51b7d\"],[0.2,\"#de77ae\"],[0.3,\"#f1b6da\"],[0.4,\"#fde0ef\"],[0.5,\"#f7f7f7\"],[0.6,\"#e6f5d0\"],[0.7,\"#b8e186\"],[0.8,\"#7fbc41\"],[0.9,\"#4d9221\"],[1,\"#276419\"]],\"sequential\":[[0.0,\"#0d0887\"],[0.1111111111111111,\"#46039f\"],[0.2222222222222222,\"#7201a8\"],[0.3333333333333333,\"#9c179e\"],[0.4444444444444444,\"#bd3786\"],[0.5555555555555556,\"#d8576b\"],[0.6666666666666666,\"#ed7953\"],[0.7777777777777778,\"#fb9f3a\"],[0.8888888888888888,\"#fdca26\"],[1.0,\"#f0f921\"]],\"sequentialminus\":[[0.0,\"#0d0887\"],[0.1111111111111111,\"#46039f\"],[0.2222222222222222,\"#7201a8\"],[0.3333333333333333,\"#9c179e\"],[0.4444444444444444,\"#bd3786\"],[0.5555555555555556,\"#d8576b\"],[0.6666666666666666,\"#ed7953\"],[0.7777777777777778,\"#fb9f3a\"],[0.8888888888888888,\"#fdca26\"],[1.0,\"#f0f921\"]]},\"colorway\":[\"#636efa\",\"#EF553B\",\"#00cc96\",\"#ab63fa\",\"#FFA15A\",\"#19d3f3\",\"#FF6692\",\"#B6E880\",\"#FF97FF\",\"#FECB52\"],\"font\":{\"color\":\"#f2f5fa\"},\"geo\":{\"bgcolor\":\"rgb(17,17,17)\",\"lakecolor\":\"rgb(17,17,17)\",\"landcolor\":\"rgb(17,17,17)\",\"showlakes\":true,\"showland\":true,\"subunitcolor\":\"#506784\"},\"hoverlabel\":{\"align\":\"left\"},\"hovermode\":\"closest\",\"mapbox\":{\"style\":\"dark\"},\"paper_bgcolor\":\"rgb(17,17,17)\",\"plot_bgcolor\":\"rgb(17,17,17)\",\"polar\":{\"angularaxis\":{\"gridcolor\":\"#506784\",\"linecolor\":\"#506784\",\"ticks\":\"\"},\"bgcolor\":\"rgb(17,17,17)\",\"radialaxis\":{\"gridcolor\":\"#506784\",\"linecolor\":\"#506784\",\"ticks\":\"\"}},\"scene\":{\"xaxis\":{\"backgroundcolor\":\"rgb(17,17,17)\",\"gridcolor\":\"#506784\",\"gridwidth\":2,\"linecolor\":\"#506784\",\"showbackground\":true,\"ticks\":\"\",\"zerolinecolor\":\"#C8D4E3\"},\"yaxis\":{\"backgroundcolor\":\"rgb(17,17,17)\",\"gridcolor\":\"#506784\",\"gridwidth\":2,\"linecolor\":\"#506784\",\"showbackground\":true,\"ticks\":\"\",\"zerolinecolor\":\"#C8D4E3\"},\"zaxis\":{\"backgroundcolor\":\"rgb(17,17,17)\",\"gridcolor\":\"#506784\",\"gridwidth\":2,\"linecolor\":\"#506784\",\"showbackground\":true,\"ticks\":\"\",\"zerolinecolor\":\"#C8D4E3\"}},\"shapedefaults\":{\"line\":{\"color\":\"#f2f5fa\"}},\"sliderdefaults\":{\"bgcolor\":\"#C8D4E3\",\"bordercolor\":\"rgb(17,17,17)\",\"borderwidth\":1,\"tickwidth\":0},\"ternary\":{\"aaxis\":{\"gridcolor\":\"#506784\",\"linecolor\":\"#506784\",\"ticks\":\"\"},\"baxis\":{\"gridcolor\":\"#506784\",\"linecolor\":\"#506784\",\"ticks\":\"\"},\"bgcolor\":\"rgb(17,17,17)\",\"caxis\":{\"gridcolor\":\"#506784\",\"linecolor\":\"#506784\",\"ticks\":\"\"}},\"title\":{\"x\":0.05},\"updatemenudefaults\":{\"bgcolor\":\"#506784\",\"borderwidth\":0},\"xaxis\":{\"automargin\":true,\"gridcolor\":\"#283442\",\"linecolor\":\"#506784\",\"ticks\":\"\",\"title\":{\"standoff\":15},\"zerolinecolor\":\"#283442\",\"zerolinewidth\":2},\"yaxis\":{\"automargin\":true,\"gridcolor\":\"#283442\",\"linecolor\":\"#506784\",\"ticks\":\"\",\"title\":{\"standoff\":15},\"zerolinecolor\":\"#283442\",\"zerolinewidth\":2}}},\"xaxis\":{\"anchor\":\"y\",\"domain\":[0.0,1.0],\"title\":{\"text\":\"Country\"},\"categoryorder\":\"array\",\"categoryarray\":[\"US\",\"Brazil\",\"India\",\"United Kingdom\",\"Russia\",\"South Africa\",\"Colombia\",\"France\",\"Canada\",\"Peru\",\"Bangladesh\",\"Spain\",\"Argentina\",\"Sweden\",\"Philippines\",\"Egypt\",\"Mexico\",\"Netherlands\",\"Bolivia\",\"Saudi Arabia\"]},\"yaxis\":{\"anchor\":\"x\",\"domain\":[0.0,1.0],\"title\":{\"text\":\"Active\"}},\"legend\":{\"title\":{\"text\":\"Country\"},\"tracegroupgap\":0},\"title\":{\"text\":\"Top 20 Country Active Cases\"},\"barmode\":\"relative\"},                        {\"responsive\": true}                    )                };                            </script>        </div>"
            ],
            "text/plain": [
              "Figure({\n",
              "    'data': [{'alignmentgroup': 'True',\n",
              "              'hovertemplate': 'Country=%{x}<br>Active=%{y}<extra></extra>',\n",
              "              'legendgroup': 'US',\n",
              "              'marker': {'color': '#636efa', 'pattern': {'shape': ''}},\n",
              "              'name': 'US',\n",
              "              'offsetgroup': 'US',\n",
              "              'orientation': 'v',\n",
              "              'showlegend': True,\n",
              "              'textposition': 'auto',\n",
              "              'texttemplate': '%{y:.3s}',\n",
              "              'type': 'bar',\n",
              "              'x': array(['US'], dtype=object),\n",
              "              'xaxis': 'x',\n",
              "              'y': array([2816444], dtype=int64),\n",
              "              'yaxis': 'y'},\n",
              "             {'alignmentgroup': 'True',\n",
              "              'hovertemplate': 'Country=%{x}<br>Active=%{y}<extra></extra>',\n",
              "              'legendgroup': 'Brazil',\n",
              "              'marker': {'color': '#EF553B', 'pattern': {'shape': ''}},\n",
              "              'name': 'Brazil',\n",
              "              'offsetgroup': 'Brazil',\n",
              "              'orientation': 'v',\n",
              "              'showlegend': True,\n",
              "              'textposition': 'auto',\n",
              "              'texttemplate': '%{y:.3s}',\n",
              "              'type': 'bar',\n",
              "              'x': array(['Brazil'], dtype=object),\n",
              "              'xaxis': 'x',\n",
              "              'y': array([508116], dtype=int64),\n",
              "              'yaxis': 'y'},\n",
              "             {'alignmentgroup': 'True',\n",
              "              'hovertemplate': 'Country=%{x}<br>Active=%{y}<extra></extra>',\n",
              "              'legendgroup': 'India',\n",
              "              'marker': {'color': '#00cc96', 'pattern': {'shape': ''}},\n",
              "              'name': 'India',\n",
              "              'offsetgroup': 'India',\n",
              "              'orientation': 'v',\n",
              "              'showlegend': True,\n",
              "              'textposition': 'auto',\n",
              "              'texttemplate': '%{y:.3s}',\n",
              "              'type': 'bar',\n",
              "              'x': array(['India'], dtype=object),\n",
              "              'xaxis': 'x',\n",
              "              'y': array([495499], dtype=int64),\n",
              "              'yaxis': 'y'},\n",
              "             {'alignmentgroup': 'True',\n",
              "              'hovertemplate': 'Country=%{x}<br>Active=%{y}<extra></extra>',\n",
              "              'legendgroup': 'United Kingdom',\n",
              "              'marker': {'color': '#ab63fa', 'pattern': {'shape': ''}},\n",
              "              'name': 'United Kingdom',\n",
              "              'offsetgroup': 'United Kingdom',\n",
              "              'orientation': 'v',\n",
              "              'showlegend': True,\n",
              "              'textposition': 'auto',\n",
              "              'texttemplate': '%{y:.3s}',\n",
              "              'type': 'bar',\n",
              "              'x': array(['United Kingdom'], dtype=object),\n",
              "              'xaxis': 'x',\n",
              "              'y': array([254427], dtype=int64),\n",
              "              'yaxis': 'y'},\n",
              "             {'alignmentgroup': 'True',\n",
              "              'hovertemplate': 'Country=%{x}<br>Active=%{y}<extra></extra>',\n",
              "              'legendgroup': 'Russia',\n",
              "              'marker': {'color': '#FFA15A', 'pattern': {'shape': ''}},\n",
              "              'name': 'Russia',\n",
              "              'offsetgroup': 'Russia',\n",
              "              'orientation': 'v',\n",
              "              'showlegend': True,\n",
              "              'textposition': 'auto',\n",
              "              'texttemplate': '%{y:.3s}',\n",
              "              'type': 'bar',\n",
              "              'x': array(['Russia'], dtype=object),\n",
              "              'xaxis': 'x',\n",
              "              'y': array([201097], dtype=int64),\n",
              "              'yaxis': 'y'},\n",
              "             {'alignmentgroup': 'True',\n",
              "              'hovertemplate': 'Country=%{x}<br>Active=%{y}<extra></extra>',\n",
              "              'legendgroup': 'South Africa',\n",
              "              'marker': {'color': '#19d3f3', 'pattern': {'shape': ''}},\n",
              "              'name': 'South Africa',\n",
              "              'offsetgroup': 'South Africa',\n",
              "              'orientation': 'v',\n",
              "              'showlegend': True,\n",
              "              'textposition': 'auto',\n",
              "              'texttemplate': '%{y:.3s}',\n",
              "              'type': 'bar',\n",
              "              'x': array(['South Africa'], dtype=object),\n",
              "              'xaxis': 'x',\n",
              "              'y': array([170537], dtype=int64),\n",
              "              'yaxis': 'y'},\n",
              "             {'alignmentgroup': 'True',\n",
              "              'hovertemplate': 'Country=%{x}<br>Active=%{y}<extra></extra>',\n",
              "              'legendgroup': 'Colombia',\n",
              "              'marker': {'color': '#FF6692', 'pattern': {'shape': ''}},\n",
              "              'name': 'Colombia',\n",
              "              'offsetgroup': 'Colombia',\n",
              "              'orientation': 'v',\n",
              "              'showlegend': True,\n",
              "              'textposition': 'auto',\n",
              "              'texttemplate': '%{y:.3s}',\n",
              "              'type': 'bar',\n",
              "              'x': array(['Colombia'], dtype=object),\n",
              "              'xaxis': 'x',\n",
              "              'y': array([117163], dtype=int64),\n",
              "              'yaxis': 'y'},\n",
              "             {'alignmentgroup': 'True',\n",
              "              'hovertemplate': 'Country=%{x}<br>Active=%{y}<extra></extra>',\n",
              "              'legendgroup': 'France',\n",
              "              'marker': {'color': '#B6E880', 'pattern': {'shape': ''}},\n",
              "              'name': 'France',\n",
              "              'offsetgroup': 'France',\n",
              "              'orientation': 'v',\n",
              "              'showlegend': True,\n",
              "              'textposition': 'auto',\n",
              "              'texttemplate': '%{y:.3s}',\n",
              "              'type': 'bar',\n",
              "              'x': array(['France'], dtype=object),\n",
              "              'xaxis': 'x',\n",
              "              'y': array([108928], dtype=int64),\n",
              "              'yaxis': 'y'},\n",
              "             {'alignmentgroup': 'True',\n",
              "              'hovertemplate': 'Country=%{x}<br>Active=%{y}<extra></extra>',\n",
              "              'legendgroup': 'Canada',\n",
              "              'marker': {'color': '#FF97FF', 'pattern': {'shape': ''}},\n",
              "              'name': 'Canada',\n",
              "              'offsetgroup': 'Canada',\n",
              "              'orientation': 'v',\n",
              "              'showlegend': True,\n",
              "              'textposition': 'auto',\n",
              "              'texttemplate': '%{y:.3s}',\n",
              "              'type': 'bar',\n",
              "              'x': array(['Canada'], dtype=object),\n",
              "              'xaxis': 'x',\n",
              "              'y': array([107514], dtype=int64),\n",
              "              'yaxis': 'y'},\n",
              "             {'alignmentgroup': 'True',\n",
              "              'hovertemplate': 'Country=%{x}<br>Active=%{y}<extra></extra>',\n",
              "              'legendgroup': 'Peru',\n",
              "              'marker': {'color': '#FECB52', 'pattern': {'shape': ''}},\n",
              "              'name': 'Peru',\n",
              "              'offsetgroup': 'Peru',\n",
              "              'orientation': 'v',\n",
              "              'showlegend': True,\n",
              "              'textposition': 'auto',\n",
              "              'texttemplate': '%{y:.3s}',\n",
              "              'type': 'bar',\n",
              "              'x': array(['Peru'], dtype=object),\n",
              "              'xaxis': 'x',\n",
              "              'y': array([98752], dtype=int64),\n",
              "              'yaxis': 'y'},\n",
              "             {'alignmentgroup': 'True',\n",
              "              'hovertemplate': 'Country=%{x}<br>Active=%{y}<extra></extra>',\n",
              "              'legendgroup': 'Bangladesh',\n",
              "              'marker': {'color': '#636efa', 'pattern': {'shape': ''}},\n",
              "              'name': 'Bangladesh',\n",
              "              'offsetgroup': 'Bangladesh',\n",
              "              'orientation': 'v',\n",
              "              'showlegend': True,\n",
              "              'textposition': 'auto',\n",
              "              'texttemplate': '%{y:.3s}',\n",
              "              'type': 'bar',\n",
              "              'x': array(['Bangladesh'], dtype=object),\n",
              "              'xaxis': 'x',\n",
              "              'y': array([97577], dtype=int64),\n",
              "              'yaxis': 'y'},\n",
              "             {'alignmentgroup': 'True',\n",
              "              'hovertemplate': 'Country=%{x}<br>Active=%{y}<extra></extra>',\n",
              "              'legendgroup': 'Spain',\n",
              "              'marker': {'color': '#EF553B', 'pattern': {'shape': ''}},\n",
              "              'name': 'Spain',\n",
              "              'offsetgroup': 'Spain',\n",
              "              'orientation': 'v',\n",
              "              'showlegend': True,\n",
              "              'textposition': 'auto',\n",
              "              'texttemplate': '%{y:.3s}',\n",
              "              'type': 'bar',\n",
              "              'x': array(['Spain'], dtype=object),\n",
              "              'xaxis': 'x',\n",
              "              'y': array([93613], dtype=int64),\n",
              "              'yaxis': 'y'},\n",
              "             {'alignmentgroup': 'True',\n",
              "              'hovertemplate': 'Country=%{x}<br>Active=%{y}<extra></extra>',\n",
              "              'legendgroup': 'Argentina',\n",
              "              'marker': {'color': '#00cc96', 'pattern': {'shape': ''}},\n",
              "              'name': 'Argentina',\n",
              "              'offsetgroup': 'Argentina',\n",
              "              'orientation': 'v',\n",
              "              'showlegend': True,\n",
              "              'textposition': 'auto',\n",
              "              'texttemplate': '%{y:.3s}',\n",
              "              'type': 'bar',\n",
              "              'x': array(['Argentina'], dtype=object),\n",
              "              'xaxis': 'x',\n",
              "              'y': array([91782], dtype=int64),\n",
              "              'yaxis': 'y'},\n",
              "             {'alignmentgroup': 'True',\n",
              "              'hovertemplate': 'Country=%{x}<br>Active=%{y}<extra></extra>',\n",
              "              'legendgroup': 'Sweden',\n",
              "              'marker': {'color': '#ab63fa', 'pattern': {'shape': ''}},\n",
              "              'name': 'Sweden',\n",
              "              'offsetgroup': 'Sweden',\n",
              "              'orientation': 'v',\n",
              "              'showlegend': True,\n",
              "              'textposition': 'auto',\n",
              "              'texttemplate': '%{y:.3s}',\n",
              "              'type': 'bar',\n",
              "              'x': array(['Sweden'], dtype=object),\n",
              "              'xaxis': 'x',\n",
              "              'y': array([73695], dtype=int64),\n",
              "              'yaxis': 'y'},\n",
              "             {'alignmentgroup': 'True',\n",
              "              'hovertemplate': 'Country=%{x}<br>Active=%{y}<extra></extra>',\n",
              "              'legendgroup': 'Philippines',\n",
              "              'marker': {'color': '#FFA15A', 'pattern': {'shape': ''}},\n",
              "              'name': 'Philippines',\n",
              "              'offsetgroup': 'Philippines',\n",
              "              'orientation': 'v',\n",
              "              'showlegend': True,\n",
              "              'textposition': 'auto',\n",
              "              'texttemplate': '%{y:.3s}',\n",
              "              'type': 'bar',\n",
              "              'x': array(['Philippines'], dtype=object),\n",
              "              'xaxis': 'x',\n",
              "              'y': array([53649], dtype=int64),\n",
              "              'yaxis': 'y'},\n",
              "             {'alignmentgroup': 'True',\n",
              "              'hovertemplate': 'Country=%{x}<br>Active=%{y}<extra></extra>',\n",
              "              'legendgroup': 'Egypt',\n",
              "              'marker': {'color': '#19d3f3', 'pattern': {'shape': ''}},\n",
              "              'name': 'Egypt',\n",
              "              'offsetgroup': 'Egypt',\n",
              "              'orientation': 'v',\n",
              "              'showlegend': True,\n",
              "              'textposition': 'auto',\n",
              "              'texttemplate': '%{y:.3s}',\n",
              "              'type': 'bar',\n",
              "              'x': array(['Egypt'], dtype=object),\n",
              "              'xaxis': 'x',\n",
              "              'y': array([52992], dtype=int64),\n",
              "              'yaxis': 'y'},\n",
              "             {'alignmentgroup': 'True',\n",
              "              'hovertemplate': 'Country=%{x}<br>Active=%{y}<extra></extra>',\n",
              "              'legendgroup': 'Mexico',\n",
              "              'marker': {'color': '#FF6692', 'pattern': {'shape': ''}},\n",
              "              'name': 'Mexico',\n",
              "              'offsetgroup': 'Mexico',\n",
              "              'orientation': 'v',\n",
              "              'showlegend': True,\n",
              "              'textposition': 'auto',\n",
              "              'texttemplate': '%{y:.3s}',\n",
              "              'type': 'bar',\n",
              "              'x': array(['Mexico'], dtype=object),\n",
              "              'xaxis': 'x',\n",
              "              'y': array([47657], dtype=int64),\n",
              "              'yaxis': 'y'},\n",
              "             {'alignmentgroup': 'True',\n",
              "              'hovertemplate': 'Country=%{x}<br>Active=%{y}<extra></extra>',\n",
              "              'legendgroup': 'Netherlands',\n",
              "              'marker': {'color': '#B6E880', 'pattern': {'shape': ''}},\n",
              "              'name': 'Netherlands',\n",
              "              'offsetgroup': 'Netherlands',\n",
              "              'orientation': 'v',\n",
              "              'showlegend': True,\n",
              "              'textposition': 'auto',\n",
              "              'texttemplate': '%{y:.3s}',\n",
              "              'type': 'bar',\n",
              "              'x': array(['Netherlands'], dtype=object),\n",
              "              'xaxis': 'x',\n",
              "              'y': array([47064], dtype=int64),\n",
              "              'yaxis': 'y'},\n",
              "             {'alignmentgroup': 'True',\n",
              "              'hovertemplate': 'Country=%{x}<br>Active=%{y}<extra></extra>',\n",
              "              'legendgroup': 'Bolivia',\n",
              "              'marker': {'color': '#FF97FF', 'pattern': {'shape': ''}},\n",
              "              'name': 'Bolivia',\n",
              "              'offsetgroup': 'Bolivia',\n",
              "              'orientation': 'v',\n",
              "              'showlegend': True,\n",
              "              'textposition': 'auto',\n",
              "              'texttemplate': '%{y:.3s}',\n",
              "              'type': 'bar',\n",
              "              'x': array(['Bolivia'], dtype=object),\n",
              "              'xaxis': 'x',\n",
              "              'y': array([47056], dtype=int64),\n",
              "              'yaxis': 'y'},\n",
              "             {'alignmentgroup': 'True',\n",
              "              'hovertemplate': 'Country=%{x}<br>Active=%{y}<extra></extra>',\n",
              "              'legendgroup': 'Saudi Arabia',\n",
              "              'marker': {'color': '#FECB52', 'pattern': {'shape': ''}},\n",
              "              'name': 'Saudi Arabia',\n",
              "              'offsetgroup': 'Saudi Arabia',\n",
              "              'orientation': 'v',\n",
              "              'showlegend': True,\n",
              "              'textposition': 'auto',\n",
              "              'texttemplate': '%{y:.3s}',\n",
              "              'type': 'bar',\n",
              "              'x': array(['Saudi Arabia'], dtype=object),\n",
              "              'xaxis': 'x',\n",
              "              'y': array([43238], dtype=int64),\n",
              "              'yaxis': 'y'}],\n",
              "    'layout': {'barmode': 'relative',\n",
              "               'legend': {'title': {'text': 'Country'}, 'tracegroupgap': 0},\n",
              "               'template': '...',\n",
              "               'title': {'text': 'Top 20 Country Active Cases'},\n",
              "               'xaxis': {'anchor': 'y',\n",
              "                         'categoryarray': [US, Brazil, India, United Kingdom,\n",
              "                                           Russia, South Africa, Colombia, France,\n",
              "                                           Canada, Peru, Bangladesh, Spain,\n",
              "                                           Argentina, Sweden, Philippines, Egypt,\n",
              "                                           Mexico, Netherlands, Bolivia, Saudi\n",
              "                                           Arabia],\n",
              "                         'categoryorder': 'array',\n",
              "                         'domain': [0.0, 1.0],\n",
              "                         'title': {'text': 'Country'}},\n",
              "               'yaxis': {'anchor': 'x', 'domain': [0.0, 1.0], 'title': {'text': 'Active'}}}\n",
              "})"
            ]
          },
          "execution_count": 42,
          "metadata": {},
          "output_type": "execute_result"
        }
      ],
      "source": [
        "px.bar(country_Active,x='Country',y='Active',color='Country',text_auto='.3s',title='Top 20 Country Active Cases',template=\"plotly_dark\")"
      ]
    },
    {
      "cell_type": "markdown",
      "metadata": {
        "id": "0lIJJPDQmwYd"
      },
      "source": [
        "#### day Wise Data Analysis"
      ]
    },
    {
      "cell_type": "code",
      "execution_count": null,
      "metadata": {
        "colab": {
          "base_uri": "https://localhost:8080/",
          "height": 354
        },
        "id": "dy3JeLtvmwYd",
        "outputId": "48e48568-9fc7-4474-e93a-bc164a65c75a"
      },
      "outputs": [
        {
          "data": {
            "text/html": [
              "\n",
              "  <div id=\"df-2c71d32a-b007-4f20-ad96-ff9c9c3f5016\">\n",
              "    <div class=\"colab-df-container\">\n",
              "      <div>\n",
              "<style scoped>\n",
              "    .dataframe tbody tr th:only-of-type {\n",
              "        vertical-align: middle;\n",
              "    }\n",
              "\n",
              "    .dataframe tbody tr th {\n",
              "        vertical-align: top;\n",
              "    }\n",
              "\n",
              "    .dataframe thead th {\n",
              "        text-align: right;\n",
              "    }\n",
              "</style>\n",
              "<table border=\"1\" class=\"dataframe\">\n",
              "  <thead>\n",
              "    <tr style=\"text-align: right;\">\n",
              "      <th></th>\n",
              "      <th>Date</th>\n",
              "      <th>Confirmed</th>\n",
              "      <th>Deaths</th>\n",
              "      <th>Recovered</th>\n",
              "      <th>Active</th>\n",
              "      <th>New cases</th>\n",
              "      <th>New deaths</th>\n",
              "      <th>New recovered</th>\n",
              "      <th>Deaths / 100 Cases</th>\n",
              "      <th>Recovered / 100 Cases</th>\n",
              "      <th>Deaths / 100 Recovered</th>\n",
              "      <th>No. of countries</th>\n",
              "    </tr>\n",
              "  </thead>\n",
              "  <tbody>\n",
              "    <tr>\n",
              "      <th>0</th>\n",
              "      <td>2020-01-22</td>\n",
              "      <td>555</td>\n",
              "      <td>17</td>\n",
              "      <td>28</td>\n",
              "      <td>510</td>\n",
              "      <td>0</td>\n",
              "      <td>0</td>\n",
              "      <td>0</td>\n",
              "      <td>3.06</td>\n",
              "      <td>5.05</td>\n",
              "      <td>60.71</td>\n",
              "      <td>6</td>\n",
              "    </tr>\n",
              "    <tr>\n",
              "      <th>1</th>\n",
              "      <td>2020-01-23</td>\n",
              "      <td>654</td>\n",
              "      <td>18</td>\n",
              "      <td>30</td>\n",
              "      <td>606</td>\n",
              "      <td>99</td>\n",
              "      <td>1</td>\n",
              "      <td>2</td>\n",
              "      <td>2.75</td>\n",
              "      <td>4.59</td>\n",
              "      <td>60.00</td>\n",
              "      <td>8</td>\n",
              "    </tr>\n",
              "    <tr>\n",
              "      <th>2</th>\n",
              "      <td>2020-01-24</td>\n",
              "      <td>941</td>\n",
              "      <td>26</td>\n",
              "      <td>36</td>\n",
              "      <td>879</td>\n",
              "      <td>287</td>\n",
              "      <td>8</td>\n",
              "      <td>6</td>\n",
              "      <td>2.76</td>\n",
              "      <td>3.83</td>\n",
              "      <td>72.22</td>\n",
              "      <td>9</td>\n",
              "    </tr>\n",
              "    <tr>\n",
              "      <th>3</th>\n",
              "      <td>2020-01-25</td>\n",
              "      <td>1434</td>\n",
              "      <td>42</td>\n",
              "      <td>39</td>\n",
              "      <td>1353</td>\n",
              "      <td>493</td>\n",
              "      <td>16</td>\n",
              "      <td>3</td>\n",
              "      <td>2.93</td>\n",
              "      <td>2.72</td>\n",
              "      <td>107.69</td>\n",
              "      <td>11</td>\n",
              "    </tr>\n",
              "    <tr>\n",
              "      <th>4</th>\n",
              "      <td>2020-01-26</td>\n",
              "      <td>2118</td>\n",
              "      <td>56</td>\n",
              "      <td>52</td>\n",
              "      <td>2010</td>\n",
              "      <td>684</td>\n",
              "      <td>14</td>\n",
              "      <td>13</td>\n",
              "      <td>2.64</td>\n",
              "      <td>2.46</td>\n",
              "      <td>107.69</td>\n",
              "      <td>13</td>\n",
              "    </tr>\n",
              "  </tbody>\n",
              "</table>\n",
              "</div>\n",
              "      <button class=\"colab-df-convert\" onclick=\"convertToInteractive('df-2c71d32a-b007-4f20-ad96-ff9c9c3f5016')\"\n",
              "              title=\"Convert this dataframe to an interactive table.\"\n",
              "              style=\"display:none;\">\n",
              "        \n",
              "  <svg xmlns=\"http://www.w3.org/2000/svg\" height=\"24px\"viewBox=\"0 0 24 24\"\n",
              "       width=\"24px\">\n",
              "    <path d=\"M0 0h24v24H0V0z\" fill=\"none\"/>\n",
              "    <path d=\"M18.56 5.44l.94 2.06.94-2.06 2.06-.94-2.06-.94-.94-2.06-.94 2.06-2.06.94zm-11 1L8.5 8.5l.94-2.06 2.06-.94-2.06-.94L8.5 2.5l-.94 2.06-2.06.94zm10 10l.94 2.06.94-2.06 2.06-.94-2.06-.94-.94-2.06-.94 2.06-2.06.94z\"/><path d=\"M17.41 7.96l-1.37-1.37c-.4-.4-.92-.59-1.43-.59-.52 0-1.04.2-1.43.59L10.3 9.45l-7.72 7.72c-.78.78-.78 2.05 0 2.83L4 21.41c.39.39.9.59 1.41.59.51 0 1.02-.2 1.41-.59l7.78-7.78 2.81-2.81c.8-.78.8-2.07 0-2.86zM5.41 20L4 18.59l7.72-7.72 1.47 1.35L5.41 20z\"/>\n",
              "  </svg>\n",
              "      </button>\n",
              "      \n",
              "  <style>\n",
              "    .colab-df-container {\n",
              "      display:flex;\n",
              "      flex-wrap:wrap;\n",
              "      gap: 12px;\n",
              "    }\n",
              "\n",
              "    .colab-df-convert {\n",
              "      background-color: #E8F0FE;\n",
              "      border: none;\n",
              "      border-radius: 50%;\n",
              "      cursor: pointer;\n",
              "      display: none;\n",
              "      fill: #1967D2;\n",
              "      height: 32px;\n",
              "      padding: 0 0 0 0;\n",
              "      width: 32px;\n",
              "    }\n",
              "\n",
              "    .colab-df-convert:hover {\n",
              "      background-color: #E2EBFA;\n",
              "      box-shadow: 0px 1px 2px rgba(60, 64, 67, 0.3), 0px 1px 3px 1px rgba(60, 64, 67, 0.15);\n",
              "      fill: #174EA6;\n",
              "    }\n",
              "\n",
              "    [theme=dark] .colab-df-convert {\n",
              "      background-color: #3B4455;\n",
              "      fill: #D2E3FC;\n",
              "    }\n",
              "\n",
              "    [theme=dark] .colab-df-convert:hover {\n",
              "      background-color: #434B5C;\n",
              "      box-shadow: 0px 1px 3px 1px rgba(0, 0, 0, 0.15);\n",
              "      filter: drop-shadow(0px 1px 2px rgba(0, 0, 0, 0.3));\n",
              "      fill: #FFFFFF;\n",
              "    }\n",
              "  </style>\n",
              "\n",
              "      <script>\n",
              "        const buttonEl =\n",
              "          document.querySelector('#df-2c71d32a-b007-4f20-ad96-ff9c9c3f5016 button.colab-df-convert');\n",
              "        buttonEl.style.display =\n",
              "          google.colab.kernel.accessAllowed ? 'block' : 'none';\n",
              "\n",
              "        async function convertToInteractive(key) {\n",
              "          const element = document.querySelector('#df-2c71d32a-b007-4f20-ad96-ff9c9c3f5016');\n",
              "          const dataTable =\n",
              "            await google.colab.kernel.invokeFunction('convertToInteractive',\n",
              "                                                     [key], {});\n",
              "          if (!dataTable) return;\n",
              "\n",
              "          const docLinkHtml = 'Like what you see? Visit the ' +\n",
              "            '<a target=\"_blank\" href=https://colab.research.google.com/notebooks/data_table.ipynb>data table notebook</a>'\n",
              "            + ' to learn more about interactive tables.';\n",
              "          element.innerHTML = '';\n",
              "          dataTable['output_type'] = 'display_data';\n",
              "          await google.colab.output.renderOutput(dataTable, element);\n",
              "          const docLink = document.createElement('div');\n",
              "          docLink.innerHTML = docLinkHtml;\n",
              "          element.appendChild(docLink);\n",
              "        }\n",
              "      </script>\n",
              "    </div>\n",
              "  </div>\n",
              "  "
            ],
            "text/plain": [
              "        Date  Confirmed  Deaths  Recovered  Active  New cases  New deaths  \\\n",
              "0 2020-01-22        555      17         28     510          0           0   \n",
              "1 2020-01-23        654      18         30     606         99           1   \n",
              "2 2020-01-24        941      26         36     879        287           8   \n",
              "3 2020-01-25       1434      42         39    1353        493          16   \n",
              "4 2020-01-26       2118      56         52    2010        684          14   \n",
              "\n",
              "   New recovered  Deaths / 100 Cases  Recovered / 100 Cases  \\\n",
              "0              0                3.06                   5.05   \n",
              "1              2                2.75                   4.59   \n",
              "2              6                2.76                   3.83   \n",
              "3              3                2.93                   2.72   \n",
              "4             13                2.64                   2.46   \n",
              "\n",
              "   Deaths / 100 Recovered  No. of countries  \n",
              "0                   60.71                 6  \n",
              "1                   60.00                 8  \n",
              "2                   72.22                 9  \n",
              "3                  107.69                11  \n",
              "4                  107.69                13  "
            ]
          },
          "execution_count": 73,
          "metadata": {},
          "output_type": "execute_result"
        }
      ],
      "source": [
        "day_wise.head()"
      ]
    },
    {
      "cell_type": "code",
      "execution_count": 43,
      "metadata": {
        "colab": {
          "base_uri": "https://localhost:8080/",
          "height": 542
        },
        "id": "z_TFEvWAmwYd",
        "outputId": "c0be975e-eb2b-4299-ea4c-7bea8e8689b9"
      },
      "outputs": [
        {
          "ename": "ValueError",
          "evalue": "Mime type rendering requires nbformat>=4.2.0 but it is not installed",
          "output_type": "error",
          "traceback": [
            "\u001b[1;31m---------------------------------------------------------------------------\u001b[0m",
            "\u001b[1;31mValueError\u001b[0m                                Traceback (most recent call last)",
            "File \u001b[1;32m~\\AppData\\Roaming\\Python\\Python310\\site-packages\\IPython\\core\\formatters.py:922\u001b[0m, in \u001b[0;36mIPythonDisplayFormatter.__call__\u001b[1;34m(self, obj)\u001b[0m\n\u001b[0;32m    920\u001b[0m method \u001b[39m=\u001b[39m get_real_method(obj, \u001b[39mself\u001b[39m\u001b[39m.\u001b[39mprint_method)\n\u001b[0;32m    921\u001b[0m \u001b[39mif\u001b[39;00m method \u001b[39mis\u001b[39;00m \u001b[39mnot\u001b[39;00m \u001b[39mNone\u001b[39;00m:\n\u001b[1;32m--> 922\u001b[0m     method()\n\u001b[0;32m    923\u001b[0m     \u001b[39mreturn\u001b[39;00m \u001b[39mTrue\u001b[39;00m\n",
            "File \u001b[1;32m~\\AppData\\Roaming\\Python\\Python310\\site-packages\\plotly\\basedatatypes.py:834\u001b[0m, in \u001b[0;36mBaseFigure._ipython_display_\u001b[1;34m(self)\u001b[0m\n\u001b[0;32m    831\u001b[0m \u001b[39mimport\u001b[39;00m \u001b[39mplotly\u001b[39;00m\u001b[39m.\u001b[39;00m\u001b[39mio\u001b[39;00m \u001b[39mas\u001b[39;00m \u001b[39mpio\u001b[39;00m\n\u001b[0;32m    833\u001b[0m \u001b[39mif\u001b[39;00m pio\u001b[39m.\u001b[39mrenderers\u001b[39m.\u001b[39mrender_on_display \u001b[39mand\u001b[39;00m pio\u001b[39m.\u001b[39mrenderers\u001b[39m.\u001b[39mdefault:\n\u001b[1;32m--> 834\u001b[0m     pio\u001b[39m.\u001b[39;49mshow(\u001b[39mself\u001b[39;49m)\n\u001b[0;32m    835\u001b[0m \u001b[39melse\u001b[39;00m:\n\u001b[0;32m    836\u001b[0m     \u001b[39mprint\u001b[39m(\u001b[39mrepr\u001b[39m(\u001b[39mself\u001b[39m))\n",
            "File \u001b[1;32m~\\AppData\\Roaming\\Python\\Python310\\site-packages\\plotly\\io\\_renderers.py:396\u001b[0m, in \u001b[0;36mshow\u001b[1;34m(fig, renderer, validate, **kwargs)\u001b[0m\n\u001b[0;32m    391\u001b[0m         \u001b[39mraise\u001b[39;00m \u001b[39mValueError\u001b[39;00m(\n\u001b[0;32m    392\u001b[0m             \u001b[39m\"\u001b[39m\u001b[39mMime type rendering requires ipython but it is not installed\u001b[39m\u001b[39m\"\u001b[39m\n\u001b[0;32m    393\u001b[0m         )\n\u001b[0;32m    395\u001b[0m     \u001b[39mif\u001b[39;00m \u001b[39mnot\u001b[39;00m nbformat \u001b[39mor\u001b[39;00m Version(nbformat\u001b[39m.\u001b[39m__version__) \u001b[39m<\u001b[39m Version(\u001b[39m\"\u001b[39m\u001b[39m4.2.0\u001b[39m\u001b[39m\"\u001b[39m):\n\u001b[1;32m--> 396\u001b[0m         \u001b[39mraise\u001b[39;00m \u001b[39mValueError\u001b[39;00m(\n\u001b[0;32m    397\u001b[0m             \u001b[39m\"\u001b[39m\u001b[39mMime type rendering requires nbformat>=4.2.0 but it is not installed\u001b[39m\u001b[39m\"\u001b[39m\n\u001b[0;32m    398\u001b[0m         )\n\u001b[0;32m    400\u001b[0m     ipython_display\u001b[39m.\u001b[39mdisplay(bundle, raw\u001b[39m=\u001b[39m\u001b[39mTrue\u001b[39;00m)\n\u001b[0;32m    402\u001b[0m \u001b[39m# external renderers\u001b[39;00m\n",
            "\u001b[1;31mValueError\u001b[0m: Mime type rendering requires nbformat>=4.2.0 but it is not installed"
          ]
        },
        {
          "data": {
            "application/vnd.plotly.v1+json": {
              "config": {
                "plotlyServerURL": "https://plot.ly"
              },
              "data": [
                {
                  "hovertemplate": "variable=Confirmed<br>Date=%{x}<br>value=%{y}<extra></extra>",
                  "legendgroup": "Confirmed",
                  "line": {
                    "color": "#636efa",
                    "dash": "solid"
                  },
                  "marker": {
                    "symbol": "circle"
                  },
                  "mode": "lines",
                  "name": "Confirmed",
                  "orientation": "v",
                  "showlegend": true,
                  "type": "scatter",
                  "x": [
                    "2020-01-22T00:00:00",
                    "2020-01-23T00:00:00",
                    "2020-01-24T00:00:00",
                    "2020-01-25T00:00:00",
                    "2020-01-26T00:00:00",
                    "2020-01-27T00:00:00",
                    "2020-01-28T00:00:00",
                    "2020-01-29T00:00:00",
                    "2020-01-30T00:00:00",
                    "2020-01-31T00:00:00",
                    "2020-02-01T00:00:00",
                    "2020-02-02T00:00:00",
                    "2020-02-03T00:00:00",
                    "2020-02-04T00:00:00",
                    "2020-02-05T00:00:00",
                    "2020-02-06T00:00:00",
                    "2020-02-07T00:00:00",
                    "2020-02-08T00:00:00",
                    "2020-02-09T00:00:00",
                    "2020-02-10T00:00:00",
                    "2020-02-11T00:00:00",
                    "2020-02-12T00:00:00",
                    "2020-02-13T00:00:00",
                    "2020-02-14T00:00:00",
                    "2020-02-15T00:00:00",
                    "2020-02-16T00:00:00",
                    "2020-02-17T00:00:00",
                    "2020-02-18T00:00:00",
                    "2020-02-19T00:00:00",
                    "2020-02-20T00:00:00",
                    "2020-02-21T00:00:00",
                    "2020-02-22T00:00:00",
                    "2020-02-23T00:00:00",
                    "2020-02-24T00:00:00",
                    "2020-02-25T00:00:00",
                    "2020-02-26T00:00:00",
                    "2020-02-27T00:00:00",
                    "2020-02-28T00:00:00",
                    "2020-02-29T00:00:00",
                    "2020-03-01T00:00:00",
                    "2020-03-02T00:00:00",
                    "2020-03-03T00:00:00",
                    "2020-03-04T00:00:00",
                    "2020-03-05T00:00:00",
                    "2020-03-06T00:00:00",
                    "2020-03-07T00:00:00",
                    "2020-03-08T00:00:00",
                    "2020-03-09T00:00:00",
                    "2020-03-10T00:00:00",
                    "2020-03-11T00:00:00",
                    "2020-03-12T00:00:00",
                    "2020-03-13T00:00:00",
                    "2020-03-14T00:00:00",
                    "2020-03-15T00:00:00",
                    "2020-03-16T00:00:00",
                    "2020-03-17T00:00:00",
                    "2020-03-18T00:00:00",
                    "2020-03-19T00:00:00",
                    "2020-03-20T00:00:00",
                    "2020-03-21T00:00:00",
                    "2020-03-22T00:00:00",
                    "2020-03-23T00:00:00",
                    "2020-03-24T00:00:00",
                    "2020-03-25T00:00:00",
                    "2020-03-26T00:00:00",
                    "2020-03-27T00:00:00",
                    "2020-03-28T00:00:00",
                    "2020-03-29T00:00:00",
                    "2020-03-30T00:00:00",
                    "2020-03-31T00:00:00",
                    "2020-04-01T00:00:00",
                    "2020-04-02T00:00:00",
                    "2020-04-03T00:00:00",
                    "2020-04-04T00:00:00",
                    "2020-04-05T00:00:00",
                    "2020-04-06T00:00:00",
                    "2020-04-07T00:00:00",
                    "2020-04-08T00:00:00",
                    "2020-04-09T00:00:00",
                    "2020-04-10T00:00:00",
                    "2020-04-11T00:00:00",
                    "2020-04-12T00:00:00",
                    "2020-04-13T00:00:00",
                    "2020-04-14T00:00:00",
                    "2020-04-15T00:00:00",
                    "2020-04-16T00:00:00",
                    "2020-04-17T00:00:00",
                    "2020-04-18T00:00:00",
                    "2020-04-19T00:00:00",
                    "2020-04-20T00:00:00",
                    "2020-04-21T00:00:00",
                    "2020-04-22T00:00:00",
                    "2020-04-23T00:00:00",
                    "2020-04-24T00:00:00",
                    "2020-04-25T00:00:00",
                    "2020-04-26T00:00:00",
                    "2020-04-27T00:00:00",
                    "2020-04-28T00:00:00",
                    "2020-04-29T00:00:00",
                    "2020-04-30T00:00:00",
                    "2020-05-01T00:00:00",
                    "2020-05-02T00:00:00",
                    "2020-05-03T00:00:00",
                    "2020-05-04T00:00:00",
                    "2020-05-05T00:00:00",
                    "2020-05-06T00:00:00",
                    "2020-05-07T00:00:00",
                    "2020-05-08T00:00:00",
                    "2020-05-09T00:00:00",
                    "2020-05-10T00:00:00",
                    "2020-05-11T00:00:00",
                    "2020-05-12T00:00:00",
                    "2020-05-13T00:00:00",
                    "2020-05-14T00:00:00",
                    "2020-05-15T00:00:00",
                    "2020-05-16T00:00:00",
                    "2020-05-17T00:00:00",
                    "2020-05-18T00:00:00",
                    "2020-05-19T00:00:00",
                    "2020-05-20T00:00:00",
                    "2020-05-21T00:00:00",
                    "2020-05-22T00:00:00",
                    "2020-05-23T00:00:00",
                    "2020-05-24T00:00:00",
                    "2020-05-25T00:00:00",
                    "2020-05-26T00:00:00",
                    "2020-05-27T00:00:00",
                    "2020-05-28T00:00:00",
                    "2020-05-29T00:00:00",
                    "2020-05-30T00:00:00",
                    "2020-05-31T00:00:00",
                    "2020-06-01T00:00:00",
                    "2020-06-02T00:00:00",
                    "2020-06-03T00:00:00",
                    "2020-06-04T00:00:00",
                    "2020-06-05T00:00:00",
                    "2020-06-06T00:00:00",
                    "2020-06-07T00:00:00",
                    "2020-06-08T00:00:00",
                    "2020-06-09T00:00:00",
                    "2020-06-10T00:00:00",
                    "2020-06-11T00:00:00",
                    "2020-06-12T00:00:00",
                    "2020-06-13T00:00:00",
                    "2020-06-14T00:00:00",
                    "2020-06-15T00:00:00",
                    "2020-06-16T00:00:00",
                    "2020-06-17T00:00:00",
                    "2020-06-18T00:00:00",
                    "2020-06-19T00:00:00",
                    "2020-06-20T00:00:00",
                    "2020-06-21T00:00:00",
                    "2020-06-22T00:00:00",
                    "2020-06-23T00:00:00",
                    "2020-06-24T00:00:00",
                    "2020-06-25T00:00:00",
                    "2020-06-26T00:00:00",
                    "2020-06-27T00:00:00",
                    "2020-06-28T00:00:00",
                    "2020-06-29T00:00:00",
                    "2020-06-30T00:00:00",
                    "2020-07-01T00:00:00",
                    "2020-07-02T00:00:00",
                    "2020-07-03T00:00:00",
                    "2020-07-04T00:00:00",
                    "2020-07-05T00:00:00",
                    "2020-07-06T00:00:00",
                    "2020-07-07T00:00:00",
                    "2020-07-08T00:00:00",
                    "2020-07-09T00:00:00",
                    "2020-07-10T00:00:00",
                    "2020-07-11T00:00:00",
                    "2020-07-12T00:00:00",
                    "2020-07-13T00:00:00",
                    "2020-07-14T00:00:00",
                    "2020-07-15T00:00:00",
                    "2020-07-16T00:00:00",
                    "2020-07-17T00:00:00",
                    "2020-07-18T00:00:00",
                    "2020-07-19T00:00:00",
                    "2020-07-20T00:00:00",
                    "2020-07-21T00:00:00",
                    "2020-07-22T00:00:00",
                    "2020-07-23T00:00:00",
                    "2020-07-24T00:00:00",
                    "2020-07-25T00:00:00",
                    "2020-07-26T00:00:00",
                    "2020-07-27T00:00:00"
                  ],
                  "xaxis": "x",
                  "y": [
                    555,
                    654,
                    941,
                    1434,
                    2118,
                    2927,
                    5578,
                    6166,
                    8234,
                    9927,
                    12038,
                    16787,
                    19887,
                    23898,
                    27643,
                    30802,
                    34334,
                    37068,
                    40095,
                    42633,
                    44675,
                    46561,
                    60206,
                    66690,
                    68765,
                    70879,
                    72815,
                    74609,
                    75030,
                    75577,
                    76206,
                    77967,
                    78290,
                    78854,
                    79707,
                    80670,
                    82034,
                    83411,
                    85306,
                    87690,
                    89664,
                    92241,
                    94540,
                    97331,
                    101274,
                    105312,
                    109266,
                    113166,
                    118190,
                    125853,
                    131603,
                    146008,
                    157114,
                    168260,
                    182919,
                    198757,
                    218343,
                    246261,
                    275869,
                    308175,
                    341585,
                    383750,
                    424889,
                    475706,
                    538666,
                    603066,
                    670723,
                    730300,
                    794939,
                    871355,
                    947569,
                    1028968,
                    1112123,
                    1192586,
                    1264304,
                    1336976,
                    1413849,
                    1497624,
                    1584249,
                    1671907,
                    1748872,
                    1845653,
                    1915247,
                    1985174,
                    2066003,
                    2162715,
                    2250439,
                    2324396,
                    2404919,
                    2478258,
                    2553508,
                    2630314,
                    2719327,
                    2806267,
                    2891199,
                    2964146,
                    3032850,
                    3108149,
                    3185195,
                    3268876,
                    3355922,
                    3437608,
                    3515244,
                    3591321,
                    3671310,
                    3761332,
                    3850418,
                    3941935,
                    4027781,
                    4104027,
                    4180268,
                    4263867,
                    4348619,
                    4445724,
                    4542073,
                    4637485,
                    4715994,
                    4804278,
                    4900702,
                    5003730,
                    5110064,
                    5216964,
                    5322253,
                    5417579,
                    5504542,
                    5597064,
                    5699664,
                    5818978,
                    5940145,
                    6077978,
                    6185530,
                    6280725,
                    6401536,
                    6520924,
                    6647861,
                    6778724,
                    6914666,
                    7026925,
                    7129150,
                    7253492,
                    7387517,
                    7525631,
                    7654725,
                    7790735,
                    7924156,
                    8043794,
                    8185197,
                    8327050,
                    8466978,
                    8647784,
                    8805336,
                    8933875,
                    9071733,
                    9237071,
                    9408254,
                    9586141,
                    9777487,
                    9955597,
                    10117227,
                    10275799,
                    10449697,
                    10667386,
                    10875091,
                    11078585,
                    11272152,
                    11454847,
                    11622190,
                    11833034,
                    12044836,
                    12273063,
                    12505640,
                    12721968,
                    12914636,
                    13107415,
                    13328867,
                    13559984,
                    13812525,
                    14054563,
                    14292198,
                    14506845,
                    14713623,
                    14947078,
                    15227725,
                    15510481,
                    15791645,
                    16047190,
                    16251796,
                    16480485
                  ],
                  "yaxis": "y"
                },
                {
                  "hovertemplate": "variable=Deaths<br>Date=%{x}<br>value=%{y}<extra></extra>",
                  "legendgroup": "Deaths",
                  "line": {
                    "color": "#EF553B",
                    "dash": "solid"
                  },
                  "marker": {
                    "symbol": "circle"
                  },
                  "mode": "lines",
                  "name": "Deaths",
                  "orientation": "v",
                  "showlegend": true,
                  "type": "scatter",
                  "x": [
                    "2020-01-22T00:00:00",
                    "2020-01-23T00:00:00",
                    "2020-01-24T00:00:00",
                    "2020-01-25T00:00:00",
                    "2020-01-26T00:00:00",
                    "2020-01-27T00:00:00",
                    "2020-01-28T00:00:00",
                    "2020-01-29T00:00:00",
                    "2020-01-30T00:00:00",
                    "2020-01-31T00:00:00",
                    "2020-02-01T00:00:00",
                    "2020-02-02T00:00:00",
                    "2020-02-03T00:00:00",
                    "2020-02-04T00:00:00",
                    "2020-02-05T00:00:00",
                    "2020-02-06T00:00:00",
                    "2020-02-07T00:00:00",
                    "2020-02-08T00:00:00",
                    "2020-02-09T00:00:00",
                    "2020-02-10T00:00:00",
                    "2020-02-11T00:00:00",
                    "2020-02-12T00:00:00",
                    "2020-02-13T00:00:00",
                    "2020-02-14T00:00:00",
                    "2020-02-15T00:00:00",
                    "2020-02-16T00:00:00",
                    "2020-02-17T00:00:00",
                    "2020-02-18T00:00:00",
                    "2020-02-19T00:00:00",
                    "2020-02-20T00:00:00",
                    "2020-02-21T00:00:00",
                    "2020-02-22T00:00:00",
                    "2020-02-23T00:00:00",
                    "2020-02-24T00:00:00",
                    "2020-02-25T00:00:00",
                    "2020-02-26T00:00:00",
                    "2020-02-27T00:00:00",
                    "2020-02-28T00:00:00",
                    "2020-02-29T00:00:00",
                    "2020-03-01T00:00:00",
                    "2020-03-02T00:00:00",
                    "2020-03-03T00:00:00",
                    "2020-03-04T00:00:00",
                    "2020-03-05T00:00:00",
                    "2020-03-06T00:00:00",
                    "2020-03-07T00:00:00",
                    "2020-03-08T00:00:00",
                    "2020-03-09T00:00:00",
                    "2020-03-10T00:00:00",
                    "2020-03-11T00:00:00",
                    "2020-03-12T00:00:00",
                    "2020-03-13T00:00:00",
                    "2020-03-14T00:00:00",
                    "2020-03-15T00:00:00",
                    "2020-03-16T00:00:00",
                    "2020-03-17T00:00:00",
                    "2020-03-18T00:00:00",
                    "2020-03-19T00:00:00",
                    "2020-03-20T00:00:00",
                    "2020-03-21T00:00:00",
                    "2020-03-22T00:00:00",
                    "2020-03-23T00:00:00",
                    "2020-03-24T00:00:00",
                    "2020-03-25T00:00:00",
                    "2020-03-26T00:00:00",
                    "2020-03-27T00:00:00",
                    "2020-03-28T00:00:00",
                    "2020-03-29T00:00:00",
                    "2020-03-30T00:00:00",
                    "2020-03-31T00:00:00",
                    "2020-04-01T00:00:00",
                    "2020-04-02T00:00:00",
                    "2020-04-03T00:00:00",
                    "2020-04-04T00:00:00",
                    "2020-04-05T00:00:00",
                    "2020-04-06T00:00:00",
                    "2020-04-07T00:00:00",
                    "2020-04-08T00:00:00",
                    "2020-04-09T00:00:00",
                    "2020-04-10T00:00:00",
                    "2020-04-11T00:00:00",
                    "2020-04-12T00:00:00",
                    "2020-04-13T00:00:00",
                    "2020-04-14T00:00:00",
                    "2020-04-15T00:00:00",
                    "2020-04-16T00:00:00",
                    "2020-04-17T00:00:00",
                    "2020-04-18T00:00:00",
                    "2020-04-19T00:00:00",
                    "2020-04-20T00:00:00",
                    "2020-04-21T00:00:00",
                    "2020-04-22T00:00:00",
                    "2020-04-23T00:00:00",
                    "2020-04-24T00:00:00",
                    "2020-04-25T00:00:00",
                    "2020-04-26T00:00:00",
                    "2020-04-27T00:00:00",
                    "2020-04-28T00:00:00",
                    "2020-04-29T00:00:00",
                    "2020-04-30T00:00:00",
                    "2020-05-01T00:00:00",
                    "2020-05-02T00:00:00",
                    "2020-05-03T00:00:00",
                    "2020-05-04T00:00:00",
                    "2020-05-05T00:00:00",
                    "2020-05-06T00:00:00",
                    "2020-05-07T00:00:00",
                    "2020-05-08T00:00:00",
                    "2020-05-09T00:00:00",
                    "2020-05-10T00:00:00",
                    "2020-05-11T00:00:00",
                    "2020-05-12T00:00:00",
                    "2020-05-13T00:00:00",
                    "2020-05-14T00:00:00",
                    "2020-05-15T00:00:00",
                    "2020-05-16T00:00:00",
                    "2020-05-17T00:00:00",
                    "2020-05-18T00:00:00",
                    "2020-05-19T00:00:00",
                    "2020-05-20T00:00:00",
                    "2020-05-21T00:00:00",
                    "2020-05-22T00:00:00",
                    "2020-05-23T00:00:00",
                    "2020-05-24T00:00:00",
                    "2020-05-25T00:00:00",
                    "2020-05-26T00:00:00",
                    "2020-05-27T00:00:00",
                    "2020-05-28T00:00:00",
                    "2020-05-29T00:00:00",
                    "2020-05-30T00:00:00",
                    "2020-05-31T00:00:00",
                    "2020-06-01T00:00:00",
                    "2020-06-02T00:00:00",
                    "2020-06-03T00:00:00",
                    "2020-06-04T00:00:00",
                    "2020-06-05T00:00:00",
                    "2020-06-06T00:00:00",
                    "2020-06-07T00:00:00",
                    "2020-06-08T00:00:00",
                    "2020-06-09T00:00:00",
                    "2020-06-10T00:00:00",
                    "2020-06-11T00:00:00",
                    "2020-06-12T00:00:00",
                    "2020-06-13T00:00:00",
                    "2020-06-14T00:00:00",
                    "2020-06-15T00:00:00",
                    "2020-06-16T00:00:00",
                    "2020-06-17T00:00:00",
                    "2020-06-18T00:00:00",
                    "2020-06-19T00:00:00",
                    "2020-06-20T00:00:00",
                    "2020-06-21T00:00:00",
                    "2020-06-22T00:00:00",
                    "2020-06-23T00:00:00",
                    "2020-06-24T00:00:00",
                    "2020-06-25T00:00:00",
                    "2020-06-26T00:00:00",
                    "2020-06-27T00:00:00",
                    "2020-06-28T00:00:00",
                    "2020-06-29T00:00:00",
                    "2020-06-30T00:00:00",
                    "2020-07-01T00:00:00",
                    "2020-07-02T00:00:00",
                    "2020-07-03T00:00:00",
                    "2020-07-04T00:00:00",
                    "2020-07-05T00:00:00",
                    "2020-07-06T00:00:00",
                    "2020-07-07T00:00:00",
                    "2020-07-08T00:00:00",
                    "2020-07-09T00:00:00",
                    "2020-07-10T00:00:00",
                    "2020-07-11T00:00:00",
                    "2020-07-12T00:00:00",
                    "2020-07-13T00:00:00",
                    "2020-07-14T00:00:00",
                    "2020-07-15T00:00:00",
                    "2020-07-16T00:00:00",
                    "2020-07-17T00:00:00",
                    "2020-07-18T00:00:00",
                    "2020-07-19T00:00:00",
                    "2020-07-20T00:00:00",
                    "2020-07-21T00:00:00",
                    "2020-07-22T00:00:00",
                    "2020-07-23T00:00:00",
                    "2020-07-24T00:00:00",
                    "2020-07-25T00:00:00",
                    "2020-07-26T00:00:00",
                    "2020-07-27T00:00:00"
                  ],
                  "xaxis": "x",
                  "y": [
                    17,
                    18,
                    26,
                    42,
                    56,
                    82,
                    131,
                    133,
                    171,
                    213,
                    259,
                    362,
                    426,
                    492,
                    564,
                    634,
                    719,
                    806,
                    906,
                    1013,
                    1113,
                    1118,
                    1371,
                    1523,
                    1666,
                    1770,
                    1868,
                    2008,
                    2123,
                    2246,
                    2250,
                    2457,
                    2467,
                    2627,
                    2707,
                    2767,
                    2810,
                    2867,
                    2936,
                    2990,
                    3079,
                    3154,
                    3249,
                    3342,
                    3454,
                    3553,
                    3797,
                    3981,
                    4260,
                    4604,
                    4909,
                    5406,
                    5823,
                    6464,
                    7144,
                    7948,
                    8845,
                    9951,
                    11429,
                    13134,
                    14831,
                    16748,
                    19016,
                    21793,
                    24800,
                    28318,
                    31997,
                    35470,
                    39634,
                    44478,
                    50029,
                    56334,
                    62319,
                    68160,
                    73181,
                    79013,
                    86915,
                    93650,
                    101279,
                    108551,
                    114620,
                    120351,
                    126098,
                    132996,
                    141308,
                    148591,
                    157481,
                    163952,
                    168522,
                    173965,
                    181122,
                    187877,
                    194727,
                    201401,
                    206979,
                    210862,
                    215511,
                    221974,
                    228742,
                    234704,
                    239881,
                    245206,
                    248659,
                    252787,
                    258658,
                    265327,
                    270736,
                    276304,
                    280569,
                    284135,
                    287608,
                    293155,
                    298383,
                    303651,
                    308866,
                    313037,
                    316366,
                    319657,
                    324441,
                    329326,
                    334112,
                    339396,
                    343385,
                    346525,
                    347703,
                    351906,
                    357119,
                    361820,
                    366562,
                    370718,
                    373606,
                    376674,
                    381497,
                    387069,
                    392218,
                    396994,
                    400875,
                    403617,
                    407314,
                    412236,
                    417441,
                    422215,
                    426512,
                    430750,
                    434124,
                    437549,
                    444416,
                    449671,
                    454700,
                    460973,
                    465222,
                    469185,
                    472756,
                    478067,
                    483328,
                    489955,
                    494782,
                    499268,
                    502357,
                    506078,
                    511210,
                    516221,
                    521341,
                    526336,
                    530705,
                    534150,
                    537947,
                    544054,
                    549373,
                    554831,
                    560142,
                    565039,
                    568993,
                    572808,
                    578468,
                    583961,
                    589760,
                    596503,
                    602130,
                    606159,
                    610319,
                    616557,
                    623540,
                    633506,
                    639650,
                    644517,
                    648621,
                    654036
                  ],
                  "yaxis": "y"
                },
                {
                  "hovertemplate": "variable=Active<br>Date=%{x}<br>value=%{y}<extra></extra>",
                  "legendgroup": "Active",
                  "line": {
                    "color": "#00cc96",
                    "dash": "solid"
                  },
                  "marker": {
                    "symbol": "circle"
                  },
                  "mode": "lines",
                  "name": "Active",
                  "orientation": "v",
                  "showlegend": true,
                  "type": "scatter",
                  "x": [
                    "2020-01-22T00:00:00",
                    "2020-01-23T00:00:00",
                    "2020-01-24T00:00:00",
                    "2020-01-25T00:00:00",
                    "2020-01-26T00:00:00",
                    "2020-01-27T00:00:00",
                    "2020-01-28T00:00:00",
                    "2020-01-29T00:00:00",
                    "2020-01-30T00:00:00",
                    "2020-01-31T00:00:00",
                    "2020-02-01T00:00:00",
                    "2020-02-02T00:00:00",
                    "2020-02-03T00:00:00",
                    "2020-02-04T00:00:00",
                    "2020-02-05T00:00:00",
                    "2020-02-06T00:00:00",
                    "2020-02-07T00:00:00",
                    "2020-02-08T00:00:00",
                    "2020-02-09T00:00:00",
                    "2020-02-10T00:00:00",
                    "2020-02-11T00:00:00",
                    "2020-02-12T00:00:00",
                    "2020-02-13T00:00:00",
                    "2020-02-14T00:00:00",
                    "2020-02-15T00:00:00",
                    "2020-02-16T00:00:00",
                    "2020-02-17T00:00:00",
                    "2020-02-18T00:00:00",
                    "2020-02-19T00:00:00",
                    "2020-02-20T00:00:00",
                    "2020-02-21T00:00:00",
                    "2020-02-22T00:00:00",
                    "2020-02-23T00:00:00",
                    "2020-02-24T00:00:00",
                    "2020-02-25T00:00:00",
                    "2020-02-26T00:00:00",
                    "2020-02-27T00:00:00",
                    "2020-02-28T00:00:00",
                    "2020-02-29T00:00:00",
                    "2020-03-01T00:00:00",
                    "2020-03-02T00:00:00",
                    "2020-03-03T00:00:00",
                    "2020-03-04T00:00:00",
                    "2020-03-05T00:00:00",
                    "2020-03-06T00:00:00",
                    "2020-03-07T00:00:00",
                    "2020-03-08T00:00:00",
                    "2020-03-09T00:00:00",
                    "2020-03-10T00:00:00",
                    "2020-03-11T00:00:00",
                    "2020-03-12T00:00:00",
                    "2020-03-13T00:00:00",
                    "2020-03-14T00:00:00",
                    "2020-03-15T00:00:00",
                    "2020-03-16T00:00:00",
                    "2020-03-17T00:00:00",
                    "2020-03-18T00:00:00",
                    "2020-03-19T00:00:00",
                    "2020-03-20T00:00:00",
                    "2020-03-21T00:00:00",
                    "2020-03-22T00:00:00",
                    "2020-03-23T00:00:00",
                    "2020-03-24T00:00:00",
                    "2020-03-25T00:00:00",
                    "2020-03-26T00:00:00",
                    "2020-03-27T00:00:00",
                    "2020-03-28T00:00:00",
                    "2020-03-29T00:00:00",
                    "2020-03-30T00:00:00",
                    "2020-03-31T00:00:00",
                    "2020-04-01T00:00:00",
                    "2020-04-02T00:00:00",
                    "2020-04-03T00:00:00",
                    "2020-04-04T00:00:00",
                    "2020-04-05T00:00:00",
                    "2020-04-06T00:00:00",
                    "2020-04-07T00:00:00",
                    "2020-04-08T00:00:00",
                    "2020-04-09T00:00:00",
                    "2020-04-10T00:00:00",
                    "2020-04-11T00:00:00",
                    "2020-04-12T00:00:00",
                    "2020-04-13T00:00:00",
                    "2020-04-14T00:00:00",
                    "2020-04-15T00:00:00",
                    "2020-04-16T00:00:00",
                    "2020-04-17T00:00:00",
                    "2020-04-18T00:00:00",
                    "2020-04-19T00:00:00",
                    "2020-04-20T00:00:00",
                    "2020-04-21T00:00:00",
                    "2020-04-22T00:00:00",
                    "2020-04-23T00:00:00",
                    "2020-04-24T00:00:00",
                    "2020-04-25T00:00:00",
                    "2020-04-26T00:00:00",
                    "2020-04-27T00:00:00",
                    "2020-04-28T00:00:00",
                    "2020-04-29T00:00:00",
                    "2020-04-30T00:00:00",
                    "2020-05-01T00:00:00",
                    "2020-05-02T00:00:00",
                    "2020-05-03T00:00:00",
                    "2020-05-04T00:00:00",
                    "2020-05-05T00:00:00",
                    "2020-05-06T00:00:00",
                    "2020-05-07T00:00:00",
                    "2020-05-08T00:00:00",
                    "2020-05-09T00:00:00",
                    "2020-05-10T00:00:00",
                    "2020-05-11T00:00:00",
                    "2020-05-12T00:00:00",
                    "2020-05-13T00:00:00",
                    "2020-05-14T00:00:00",
                    "2020-05-15T00:00:00",
                    "2020-05-16T00:00:00",
                    "2020-05-17T00:00:00",
                    "2020-05-18T00:00:00",
                    "2020-05-19T00:00:00",
                    "2020-05-20T00:00:00",
                    "2020-05-21T00:00:00",
                    "2020-05-22T00:00:00",
                    "2020-05-23T00:00:00",
                    "2020-05-24T00:00:00",
                    "2020-05-25T00:00:00",
                    "2020-05-26T00:00:00",
                    "2020-05-27T00:00:00",
                    "2020-05-28T00:00:00",
                    "2020-05-29T00:00:00",
                    "2020-05-30T00:00:00",
                    "2020-05-31T00:00:00",
                    "2020-06-01T00:00:00",
                    "2020-06-02T00:00:00",
                    "2020-06-03T00:00:00",
                    "2020-06-04T00:00:00",
                    "2020-06-05T00:00:00",
                    "2020-06-06T00:00:00",
                    "2020-06-07T00:00:00",
                    "2020-06-08T00:00:00",
                    "2020-06-09T00:00:00",
                    "2020-06-10T00:00:00",
                    "2020-06-11T00:00:00",
                    "2020-06-12T00:00:00",
                    "2020-06-13T00:00:00",
                    "2020-06-14T00:00:00",
                    "2020-06-15T00:00:00",
                    "2020-06-16T00:00:00",
                    "2020-06-17T00:00:00",
                    "2020-06-18T00:00:00",
                    "2020-06-19T00:00:00",
                    "2020-06-20T00:00:00",
                    "2020-06-21T00:00:00",
                    "2020-06-22T00:00:00",
                    "2020-06-23T00:00:00",
                    "2020-06-24T00:00:00",
                    "2020-06-25T00:00:00",
                    "2020-06-26T00:00:00",
                    "2020-06-27T00:00:00",
                    "2020-06-28T00:00:00",
                    "2020-06-29T00:00:00",
                    "2020-06-30T00:00:00",
                    "2020-07-01T00:00:00",
                    "2020-07-02T00:00:00",
                    "2020-07-03T00:00:00",
                    "2020-07-04T00:00:00",
                    "2020-07-05T00:00:00",
                    "2020-07-06T00:00:00",
                    "2020-07-07T00:00:00",
                    "2020-07-08T00:00:00",
                    "2020-07-09T00:00:00",
                    "2020-07-10T00:00:00",
                    "2020-07-11T00:00:00",
                    "2020-07-12T00:00:00",
                    "2020-07-13T00:00:00",
                    "2020-07-14T00:00:00",
                    "2020-07-15T00:00:00",
                    "2020-07-16T00:00:00",
                    "2020-07-17T00:00:00",
                    "2020-07-18T00:00:00",
                    "2020-07-19T00:00:00",
                    "2020-07-20T00:00:00",
                    "2020-07-21T00:00:00",
                    "2020-07-22T00:00:00",
                    "2020-07-23T00:00:00",
                    "2020-07-24T00:00:00",
                    "2020-07-25T00:00:00",
                    "2020-07-26T00:00:00",
                    "2020-07-27T00:00:00"
                  ],
                  "xaxis": "x",
                  "y": [
                    510,
                    606,
                    879,
                    1353,
                    2010,
                    2784,
                    5340,
                    5908,
                    7922,
                    9495,
                    11498,
                    15966,
                    18857,
                    22585,
                    26008,
                    28750,
                    31712,
                    33792,
                    36132,
                    37906,
                    39145,
                    40594,
                    52905,
                    57554,
                    58197,
                    58790,
                    58996,
                    58908,
                    57513,
                    55962,
                    55990,
                    53661,
                    53519,
                    52180,
                    50348,
                    48826,
                    47305,
                    45238,
                    44056,
                    43492,
                    42500,
                    42406,
                    41672,
                    41752,
                    43550,
                    44999,
                    46377,
                    48294,
                    51128,
                    56136,
                    60260,
                    72243,
                    80562,
                    87657,
                    99583,
                    111865,
                    128071,
                    153246,
                    178931,
                    205266,
                    230764,
                    270546,
                    299876,
                    342468,
                    394062,
                    446240,
                    501926,
                    548569,
                    593598,
                    652803,
                    708106,
                    766582,
                    828744,
                    883354,
                    936646,
                    987151,
                    1033269,
                    1081957,
                    1136621,
                    1195879,
                    1241261,
                    1313438,
                    1350754,
                    1389164,
                    1425770,
                    1485109,
                    1538671,
                    1582655,
                    1627840,
                    1674431,
                    1708343,
                    1749230,
                    1802911,
                    1833537,
                    1885981,
                    1927315,
                    1964957,
                    2001495,
                    2030701,
                    2044556,
                    2089540,
                    2126040,
                    2169008,
                    2208008,
                    2246497,
                    2285111,
                    2330371,
                    2380782,
                    2409845,
                    2449784,
                    2476456,
                    2518521,
                    2543331,
                    2596361,
                    2640327,
                    2675902,
                    2710929,
                    2743712,
                    2784005,
                    2823963,
                    2875184,
                    2869027,
                    2916066,
                    2953499,
                    2976234,
                    3010040,
                    3044932,
                    3093412,
                    3133456,
                    3197279,
                    3226335,
                    3264452,
                    3276956,
                    3312425,
                    3364867,
                    3422693,
                    3483577,
                    3538590,
                    3486196,
                    3524135,
                    3574922,
                    3623295,
                    3669280,
                    3715937,
                    3776026,
                    3812839,
                    3849981,
                    3869178,
                    3923452,
                    4003513,
                    4041511,
                    4097815,
                    4140884,
                    4197308,
                    4247921,
                    4326728,
                    4406931,
                    4474521,
                    4544278,
                    4605227,
                    4657028,
                    4754082,
                    4672273,
                    4761307,
                    4755072,
                    4815151,
                    4855475,
                    4915467,
                    4964447,
                    5052995,
                    5141244,
                    5227218,
                    5304469,
                    5353468,
                    5427502,
                    5493703,
                    5588524,
                    5664300,
                    5745518,
                    5868451,
                    5912527,
                    5965535,
                    6062930,
                    6166006,
                    6212290,
                    6243930,
                    6309711,
                    6358362
                  ],
                  "yaxis": "y"
                },
                {
                  "hovertemplate": "variable=Recovered<br>Date=%{x}<br>value=%{y}<extra></extra>",
                  "legendgroup": "Recovered",
                  "line": {
                    "color": "#ab63fa",
                    "dash": "solid"
                  },
                  "marker": {
                    "symbol": "circle"
                  },
                  "mode": "lines",
                  "name": "Recovered",
                  "orientation": "v",
                  "showlegend": true,
                  "type": "scatter",
                  "x": [
                    "2020-01-22T00:00:00",
                    "2020-01-23T00:00:00",
                    "2020-01-24T00:00:00",
                    "2020-01-25T00:00:00",
                    "2020-01-26T00:00:00",
                    "2020-01-27T00:00:00",
                    "2020-01-28T00:00:00",
                    "2020-01-29T00:00:00",
                    "2020-01-30T00:00:00",
                    "2020-01-31T00:00:00",
                    "2020-02-01T00:00:00",
                    "2020-02-02T00:00:00",
                    "2020-02-03T00:00:00",
                    "2020-02-04T00:00:00",
                    "2020-02-05T00:00:00",
                    "2020-02-06T00:00:00",
                    "2020-02-07T00:00:00",
                    "2020-02-08T00:00:00",
                    "2020-02-09T00:00:00",
                    "2020-02-10T00:00:00",
                    "2020-02-11T00:00:00",
                    "2020-02-12T00:00:00",
                    "2020-02-13T00:00:00",
                    "2020-02-14T00:00:00",
                    "2020-02-15T00:00:00",
                    "2020-02-16T00:00:00",
                    "2020-02-17T00:00:00",
                    "2020-02-18T00:00:00",
                    "2020-02-19T00:00:00",
                    "2020-02-20T00:00:00",
                    "2020-02-21T00:00:00",
                    "2020-02-22T00:00:00",
                    "2020-02-23T00:00:00",
                    "2020-02-24T00:00:00",
                    "2020-02-25T00:00:00",
                    "2020-02-26T00:00:00",
                    "2020-02-27T00:00:00",
                    "2020-02-28T00:00:00",
                    "2020-02-29T00:00:00",
                    "2020-03-01T00:00:00",
                    "2020-03-02T00:00:00",
                    "2020-03-03T00:00:00",
                    "2020-03-04T00:00:00",
                    "2020-03-05T00:00:00",
                    "2020-03-06T00:00:00",
                    "2020-03-07T00:00:00",
                    "2020-03-08T00:00:00",
                    "2020-03-09T00:00:00",
                    "2020-03-10T00:00:00",
                    "2020-03-11T00:00:00",
                    "2020-03-12T00:00:00",
                    "2020-03-13T00:00:00",
                    "2020-03-14T00:00:00",
                    "2020-03-15T00:00:00",
                    "2020-03-16T00:00:00",
                    "2020-03-17T00:00:00",
                    "2020-03-18T00:00:00",
                    "2020-03-19T00:00:00",
                    "2020-03-20T00:00:00",
                    "2020-03-21T00:00:00",
                    "2020-03-22T00:00:00",
                    "2020-03-23T00:00:00",
                    "2020-03-24T00:00:00",
                    "2020-03-25T00:00:00",
                    "2020-03-26T00:00:00",
                    "2020-03-27T00:00:00",
                    "2020-03-28T00:00:00",
                    "2020-03-29T00:00:00",
                    "2020-03-30T00:00:00",
                    "2020-03-31T00:00:00",
                    "2020-04-01T00:00:00",
                    "2020-04-02T00:00:00",
                    "2020-04-03T00:00:00",
                    "2020-04-04T00:00:00",
                    "2020-04-05T00:00:00",
                    "2020-04-06T00:00:00",
                    "2020-04-07T00:00:00",
                    "2020-04-08T00:00:00",
                    "2020-04-09T00:00:00",
                    "2020-04-10T00:00:00",
                    "2020-04-11T00:00:00",
                    "2020-04-12T00:00:00",
                    "2020-04-13T00:00:00",
                    "2020-04-14T00:00:00",
                    "2020-04-15T00:00:00",
                    "2020-04-16T00:00:00",
                    "2020-04-17T00:00:00",
                    "2020-04-18T00:00:00",
                    "2020-04-19T00:00:00",
                    "2020-04-20T00:00:00",
                    "2020-04-21T00:00:00",
                    "2020-04-22T00:00:00",
                    "2020-04-23T00:00:00",
                    "2020-04-24T00:00:00",
                    "2020-04-25T00:00:00",
                    "2020-04-26T00:00:00",
                    "2020-04-27T00:00:00",
                    "2020-04-28T00:00:00",
                    "2020-04-29T00:00:00",
                    "2020-04-30T00:00:00",
                    "2020-05-01T00:00:00",
                    "2020-05-02T00:00:00",
                    "2020-05-03T00:00:00",
                    "2020-05-04T00:00:00",
                    "2020-05-05T00:00:00",
                    "2020-05-06T00:00:00",
                    "2020-05-07T00:00:00",
                    "2020-05-08T00:00:00",
                    "2020-05-09T00:00:00",
                    "2020-05-10T00:00:00",
                    "2020-05-11T00:00:00",
                    "2020-05-12T00:00:00",
                    "2020-05-13T00:00:00",
                    "2020-05-14T00:00:00",
                    "2020-05-15T00:00:00",
                    "2020-05-16T00:00:00",
                    "2020-05-17T00:00:00",
                    "2020-05-18T00:00:00",
                    "2020-05-19T00:00:00",
                    "2020-05-20T00:00:00",
                    "2020-05-21T00:00:00",
                    "2020-05-22T00:00:00",
                    "2020-05-23T00:00:00",
                    "2020-05-24T00:00:00",
                    "2020-05-25T00:00:00",
                    "2020-05-26T00:00:00",
                    "2020-05-27T00:00:00",
                    "2020-05-28T00:00:00",
                    "2020-05-29T00:00:00",
                    "2020-05-30T00:00:00",
                    "2020-05-31T00:00:00",
                    "2020-06-01T00:00:00",
                    "2020-06-02T00:00:00",
                    "2020-06-03T00:00:00",
                    "2020-06-04T00:00:00",
                    "2020-06-05T00:00:00",
                    "2020-06-06T00:00:00",
                    "2020-06-07T00:00:00",
                    "2020-06-08T00:00:00",
                    "2020-06-09T00:00:00",
                    "2020-06-10T00:00:00",
                    "2020-06-11T00:00:00",
                    "2020-06-12T00:00:00",
                    "2020-06-13T00:00:00",
                    "2020-06-14T00:00:00",
                    "2020-06-15T00:00:00",
                    "2020-06-16T00:00:00",
                    "2020-06-17T00:00:00",
                    "2020-06-18T00:00:00",
                    "2020-06-19T00:00:00",
                    "2020-06-20T00:00:00",
                    "2020-06-21T00:00:00",
                    "2020-06-22T00:00:00",
                    "2020-06-23T00:00:00",
                    "2020-06-24T00:00:00",
                    "2020-06-25T00:00:00",
                    "2020-06-26T00:00:00",
                    "2020-06-27T00:00:00",
                    "2020-06-28T00:00:00",
                    "2020-06-29T00:00:00",
                    "2020-06-30T00:00:00",
                    "2020-07-01T00:00:00",
                    "2020-07-02T00:00:00",
                    "2020-07-03T00:00:00",
                    "2020-07-04T00:00:00",
                    "2020-07-05T00:00:00",
                    "2020-07-06T00:00:00",
                    "2020-07-07T00:00:00",
                    "2020-07-08T00:00:00",
                    "2020-07-09T00:00:00",
                    "2020-07-10T00:00:00",
                    "2020-07-11T00:00:00",
                    "2020-07-12T00:00:00",
                    "2020-07-13T00:00:00",
                    "2020-07-14T00:00:00",
                    "2020-07-15T00:00:00",
                    "2020-07-16T00:00:00",
                    "2020-07-17T00:00:00",
                    "2020-07-18T00:00:00",
                    "2020-07-19T00:00:00",
                    "2020-07-20T00:00:00",
                    "2020-07-21T00:00:00",
                    "2020-07-22T00:00:00",
                    "2020-07-23T00:00:00",
                    "2020-07-24T00:00:00",
                    "2020-07-25T00:00:00",
                    "2020-07-26T00:00:00",
                    "2020-07-27T00:00:00"
                  ],
                  "xaxis": "x",
                  "y": [
                    28,
                    30,
                    36,
                    39,
                    52,
                    61,
                    107,
                    125,
                    141,
                    219,
                    281,
                    459,
                    604,
                    821,
                    1071,
                    1418,
                    1903,
                    2470,
                    3057,
                    3714,
                    4417,
                    4849,
                    5930,
                    7613,
                    8902,
                    10319,
                    11951,
                    13693,
                    15394,
                    17369,
                    17966,
                    21849,
                    22304,
                    24047,
                    26652,
                    29077,
                    31919,
                    35306,
                    38314,
                    41208,
                    44085,
                    46681,
                    49619,
                    52237,
                    54270,
                    56760,
                    59092,
                    60891,
                    62802,
                    65113,
                    66434,
                    68359,
                    70729,
                    74139,
                    76192,
                    78944,
                    81427,
                    83064,
                    85509,
                    89775,
                    95990,
                    96456,
                    105997,
                    111445,
                    119804,
                    128508,
                    136800,
                    146261,
                    161707,
                    174074,
                    189434,
                    206052,
                    221060,
                    241072,
                    254477,
                    270812,
                    293665,
                    322017,
                    346349,
                    367477,
                    392991,
                    411864,
                    438395,
                    463014,
                    498925,
                    529015,
                    554287,
                    577789,
                    608557,
                    629862,
                    664043,
                    693207,
                    721689,
                    771329,
                    798239,
                    825969,
                    852382,
                    884680,
                    925752,
                    989616,
                    1026501,
                    1066362,
                    1097577,
                    1130526,
                    1166155,
                    1210894,
                    1249311,
                    1284849,
                    1337367,
                    1370108,
                    1416204,
                    1452191,
                    1506905,
                    1545712,
                    1592880,
                    1648546,
                    1688699,
                    1740909,
                    1792256,
                    1850441,
                    1900768,
                    2008541,
                    2062802,
                    2117555,
                    2180605,
                    2235118,
                    2297613,
                    2363746,
                    2440127,
                    2509981,
                    2585589,
                    2639599,
                    2743083,
                    2821430,
                    2890776,
                    2959037,
                    3030214,
                    3084718,
                    3235640,
                    3317121,
                    3395154,
                    3480121,
                    3558933,
                    3644048,
                    3714006,
                    3793406,
                    3890800,
                    4008201,
                    4088826,
                    4183298,
                    4298603,
                    4366875,
                    4458093,
                    4561696,
                    4677005,
                    4769458,
                    4875774,
                    4981808,
                    5070592,
                    5164494,
                    5281459,
                    5397083,
                    5681477,
                    5790942,
                    5986375,
                    6105546,
                    6228768,
                    6373513,
                    6531016,
                    6665237,
                    6804254,
                    6929711,
                    7041174,
                    7181139,
                    7322897,
                    7482320,
                    7634241,
                    7793760,
                    7944550,
                    8032235,
                    8190777,
                    8364986,
                    8541255,
                    8710969,
                    8939705,
                    9158743,
                    9293464,
                    9468087
                  ],
                  "yaxis": "y"
                }
              ],
              "layout": {
                "legend": {
                  "title": {
                    "text": "variable"
                  },
                  "tracegroupgap": 0
                },
                "template": {
                  "data": {
                    "bar": [
                      {
                        "error_x": {
                          "color": "#f2f5fa"
                        },
                        "error_y": {
                          "color": "#f2f5fa"
                        },
                        "marker": {
                          "line": {
                            "color": "rgb(17,17,17)",
                            "width": 0.5
                          },
                          "pattern": {
                            "fillmode": "overlay",
                            "size": 10,
                            "solidity": 0.2
                          }
                        },
                        "type": "bar"
                      }
                    ],
                    "barpolar": [
                      {
                        "marker": {
                          "line": {
                            "color": "rgb(17,17,17)",
                            "width": 0.5
                          },
                          "pattern": {
                            "fillmode": "overlay",
                            "size": 10,
                            "solidity": 0.2
                          }
                        },
                        "type": "barpolar"
                      }
                    ],
                    "carpet": [
                      {
                        "aaxis": {
                          "endlinecolor": "#A2B1C6",
                          "gridcolor": "#506784",
                          "linecolor": "#506784",
                          "minorgridcolor": "#506784",
                          "startlinecolor": "#A2B1C6"
                        },
                        "baxis": {
                          "endlinecolor": "#A2B1C6",
                          "gridcolor": "#506784",
                          "linecolor": "#506784",
                          "minorgridcolor": "#506784",
                          "startlinecolor": "#A2B1C6"
                        },
                        "type": "carpet"
                      }
                    ],
                    "choropleth": [
                      {
                        "colorbar": {
                          "outlinewidth": 0,
                          "ticks": ""
                        },
                        "type": "choropleth"
                      }
                    ],
                    "contour": [
                      {
                        "colorbar": {
                          "outlinewidth": 0,
                          "ticks": ""
                        },
                        "colorscale": [
                          [
                            0,
                            "#0d0887"
                          ],
                          [
                            0.1111111111111111,
                            "#46039f"
                          ],
                          [
                            0.2222222222222222,
                            "#7201a8"
                          ],
                          [
                            0.3333333333333333,
                            "#9c179e"
                          ],
                          [
                            0.4444444444444444,
                            "#bd3786"
                          ],
                          [
                            0.5555555555555556,
                            "#d8576b"
                          ],
                          [
                            0.6666666666666666,
                            "#ed7953"
                          ],
                          [
                            0.7777777777777778,
                            "#fb9f3a"
                          ],
                          [
                            0.8888888888888888,
                            "#fdca26"
                          ],
                          [
                            1,
                            "#f0f921"
                          ]
                        ],
                        "type": "contour"
                      }
                    ],
                    "contourcarpet": [
                      {
                        "colorbar": {
                          "outlinewidth": 0,
                          "ticks": ""
                        },
                        "type": "contourcarpet"
                      }
                    ],
                    "heatmap": [
                      {
                        "colorbar": {
                          "outlinewidth": 0,
                          "ticks": ""
                        },
                        "colorscale": [
                          [
                            0,
                            "#0d0887"
                          ],
                          [
                            0.1111111111111111,
                            "#46039f"
                          ],
                          [
                            0.2222222222222222,
                            "#7201a8"
                          ],
                          [
                            0.3333333333333333,
                            "#9c179e"
                          ],
                          [
                            0.4444444444444444,
                            "#bd3786"
                          ],
                          [
                            0.5555555555555556,
                            "#d8576b"
                          ],
                          [
                            0.6666666666666666,
                            "#ed7953"
                          ],
                          [
                            0.7777777777777778,
                            "#fb9f3a"
                          ],
                          [
                            0.8888888888888888,
                            "#fdca26"
                          ],
                          [
                            1,
                            "#f0f921"
                          ]
                        ],
                        "type": "heatmap"
                      }
                    ],
                    "heatmapgl": [
                      {
                        "colorbar": {
                          "outlinewidth": 0,
                          "ticks": ""
                        },
                        "colorscale": [
                          [
                            0,
                            "#0d0887"
                          ],
                          [
                            0.1111111111111111,
                            "#46039f"
                          ],
                          [
                            0.2222222222222222,
                            "#7201a8"
                          ],
                          [
                            0.3333333333333333,
                            "#9c179e"
                          ],
                          [
                            0.4444444444444444,
                            "#bd3786"
                          ],
                          [
                            0.5555555555555556,
                            "#d8576b"
                          ],
                          [
                            0.6666666666666666,
                            "#ed7953"
                          ],
                          [
                            0.7777777777777778,
                            "#fb9f3a"
                          ],
                          [
                            0.8888888888888888,
                            "#fdca26"
                          ],
                          [
                            1,
                            "#f0f921"
                          ]
                        ],
                        "type": "heatmapgl"
                      }
                    ],
                    "histogram": [
                      {
                        "marker": {
                          "pattern": {
                            "fillmode": "overlay",
                            "size": 10,
                            "solidity": 0.2
                          }
                        },
                        "type": "histogram"
                      }
                    ],
                    "histogram2d": [
                      {
                        "colorbar": {
                          "outlinewidth": 0,
                          "ticks": ""
                        },
                        "colorscale": [
                          [
                            0,
                            "#0d0887"
                          ],
                          [
                            0.1111111111111111,
                            "#46039f"
                          ],
                          [
                            0.2222222222222222,
                            "#7201a8"
                          ],
                          [
                            0.3333333333333333,
                            "#9c179e"
                          ],
                          [
                            0.4444444444444444,
                            "#bd3786"
                          ],
                          [
                            0.5555555555555556,
                            "#d8576b"
                          ],
                          [
                            0.6666666666666666,
                            "#ed7953"
                          ],
                          [
                            0.7777777777777778,
                            "#fb9f3a"
                          ],
                          [
                            0.8888888888888888,
                            "#fdca26"
                          ],
                          [
                            1,
                            "#f0f921"
                          ]
                        ],
                        "type": "histogram2d"
                      }
                    ],
                    "histogram2dcontour": [
                      {
                        "colorbar": {
                          "outlinewidth": 0,
                          "ticks": ""
                        },
                        "colorscale": [
                          [
                            0,
                            "#0d0887"
                          ],
                          [
                            0.1111111111111111,
                            "#46039f"
                          ],
                          [
                            0.2222222222222222,
                            "#7201a8"
                          ],
                          [
                            0.3333333333333333,
                            "#9c179e"
                          ],
                          [
                            0.4444444444444444,
                            "#bd3786"
                          ],
                          [
                            0.5555555555555556,
                            "#d8576b"
                          ],
                          [
                            0.6666666666666666,
                            "#ed7953"
                          ],
                          [
                            0.7777777777777778,
                            "#fb9f3a"
                          ],
                          [
                            0.8888888888888888,
                            "#fdca26"
                          ],
                          [
                            1,
                            "#f0f921"
                          ]
                        ],
                        "type": "histogram2dcontour"
                      }
                    ],
                    "mesh3d": [
                      {
                        "colorbar": {
                          "outlinewidth": 0,
                          "ticks": ""
                        },
                        "type": "mesh3d"
                      }
                    ],
                    "parcoords": [
                      {
                        "line": {
                          "colorbar": {
                            "outlinewidth": 0,
                            "ticks": ""
                          }
                        },
                        "type": "parcoords"
                      }
                    ],
                    "pie": [
                      {
                        "automargin": true,
                        "type": "pie"
                      }
                    ],
                    "scatter": [
                      {
                        "marker": {
                          "line": {
                            "color": "#283442"
                          }
                        },
                        "type": "scatter"
                      }
                    ],
                    "scatter3d": [
                      {
                        "line": {
                          "colorbar": {
                            "outlinewidth": 0,
                            "ticks": ""
                          }
                        },
                        "marker": {
                          "colorbar": {
                            "outlinewidth": 0,
                            "ticks": ""
                          }
                        },
                        "type": "scatter3d"
                      }
                    ],
                    "scattercarpet": [
                      {
                        "marker": {
                          "colorbar": {
                            "outlinewidth": 0,
                            "ticks": ""
                          }
                        },
                        "type": "scattercarpet"
                      }
                    ],
                    "scattergeo": [
                      {
                        "marker": {
                          "colorbar": {
                            "outlinewidth": 0,
                            "ticks": ""
                          }
                        },
                        "type": "scattergeo"
                      }
                    ],
                    "scattergl": [
                      {
                        "marker": {
                          "line": {
                            "color": "#283442"
                          }
                        },
                        "type": "scattergl"
                      }
                    ],
                    "scattermapbox": [
                      {
                        "marker": {
                          "colorbar": {
                            "outlinewidth": 0,
                            "ticks": ""
                          }
                        },
                        "type": "scattermapbox"
                      }
                    ],
                    "scatterpolar": [
                      {
                        "marker": {
                          "colorbar": {
                            "outlinewidth": 0,
                            "ticks": ""
                          }
                        },
                        "type": "scatterpolar"
                      }
                    ],
                    "scatterpolargl": [
                      {
                        "marker": {
                          "colorbar": {
                            "outlinewidth": 0,
                            "ticks": ""
                          }
                        },
                        "type": "scatterpolargl"
                      }
                    ],
                    "scatterternary": [
                      {
                        "marker": {
                          "colorbar": {
                            "outlinewidth": 0,
                            "ticks": ""
                          }
                        },
                        "type": "scatterternary"
                      }
                    ],
                    "surface": [
                      {
                        "colorbar": {
                          "outlinewidth": 0,
                          "ticks": ""
                        },
                        "colorscale": [
                          [
                            0,
                            "#0d0887"
                          ],
                          [
                            0.1111111111111111,
                            "#46039f"
                          ],
                          [
                            0.2222222222222222,
                            "#7201a8"
                          ],
                          [
                            0.3333333333333333,
                            "#9c179e"
                          ],
                          [
                            0.4444444444444444,
                            "#bd3786"
                          ],
                          [
                            0.5555555555555556,
                            "#d8576b"
                          ],
                          [
                            0.6666666666666666,
                            "#ed7953"
                          ],
                          [
                            0.7777777777777778,
                            "#fb9f3a"
                          ],
                          [
                            0.8888888888888888,
                            "#fdca26"
                          ],
                          [
                            1,
                            "#f0f921"
                          ]
                        ],
                        "type": "surface"
                      }
                    ],
                    "table": [
                      {
                        "cells": {
                          "fill": {
                            "color": "#506784"
                          },
                          "line": {
                            "color": "rgb(17,17,17)"
                          }
                        },
                        "header": {
                          "fill": {
                            "color": "#2a3f5f"
                          },
                          "line": {
                            "color": "rgb(17,17,17)"
                          }
                        },
                        "type": "table"
                      }
                    ]
                  },
                  "layout": {
                    "annotationdefaults": {
                      "arrowcolor": "#f2f5fa",
                      "arrowhead": 0,
                      "arrowwidth": 1
                    },
                    "autotypenumbers": "strict",
                    "coloraxis": {
                      "colorbar": {
                        "outlinewidth": 0,
                        "ticks": ""
                      }
                    },
                    "colorscale": {
                      "diverging": [
                        [
                          0,
                          "#8e0152"
                        ],
                        [
                          0.1,
                          "#c51b7d"
                        ],
                        [
                          0.2,
                          "#de77ae"
                        ],
                        [
                          0.3,
                          "#f1b6da"
                        ],
                        [
                          0.4,
                          "#fde0ef"
                        ],
                        [
                          0.5,
                          "#f7f7f7"
                        ],
                        [
                          0.6,
                          "#e6f5d0"
                        ],
                        [
                          0.7,
                          "#b8e186"
                        ],
                        [
                          0.8,
                          "#7fbc41"
                        ],
                        [
                          0.9,
                          "#4d9221"
                        ],
                        [
                          1,
                          "#276419"
                        ]
                      ],
                      "sequential": [
                        [
                          0,
                          "#0d0887"
                        ],
                        [
                          0.1111111111111111,
                          "#46039f"
                        ],
                        [
                          0.2222222222222222,
                          "#7201a8"
                        ],
                        [
                          0.3333333333333333,
                          "#9c179e"
                        ],
                        [
                          0.4444444444444444,
                          "#bd3786"
                        ],
                        [
                          0.5555555555555556,
                          "#d8576b"
                        ],
                        [
                          0.6666666666666666,
                          "#ed7953"
                        ],
                        [
                          0.7777777777777778,
                          "#fb9f3a"
                        ],
                        [
                          0.8888888888888888,
                          "#fdca26"
                        ],
                        [
                          1,
                          "#f0f921"
                        ]
                      ],
                      "sequentialminus": [
                        [
                          0,
                          "#0d0887"
                        ],
                        [
                          0.1111111111111111,
                          "#46039f"
                        ],
                        [
                          0.2222222222222222,
                          "#7201a8"
                        ],
                        [
                          0.3333333333333333,
                          "#9c179e"
                        ],
                        [
                          0.4444444444444444,
                          "#bd3786"
                        ],
                        [
                          0.5555555555555556,
                          "#d8576b"
                        ],
                        [
                          0.6666666666666666,
                          "#ed7953"
                        ],
                        [
                          0.7777777777777778,
                          "#fb9f3a"
                        ],
                        [
                          0.8888888888888888,
                          "#fdca26"
                        ],
                        [
                          1,
                          "#f0f921"
                        ]
                      ]
                    },
                    "colorway": [
                      "#636efa",
                      "#EF553B",
                      "#00cc96",
                      "#ab63fa",
                      "#FFA15A",
                      "#19d3f3",
                      "#FF6692",
                      "#B6E880",
                      "#FF97FF",
                      "#FECB52"
                    ],
                    "font": {
                      "color": "#f2f5fa"
                    },
                    "geo": {
                      "bgcolor": "rgb(17,17,17)",
                      "lakecolor": "rgb(17,17,17)",
                      "landcolor": "rgb(17,17,17)",
                      "showlakes": true,
                      "showland": true,
                      "subunitcolor": "#506784"
                    },
                    "hoverlabel": {
                      "align": "left"
                    },
                    "hovermode": "closest",
                    "mapbox": {
                      "style": "dark"
                    },
                    "paper_bgcolor": "rgb(17,17,17)",
                    "plot_bgcolor": "rgb(17,17,17)",
                    "polar": {
                      "angularaxis": {
                        "gridcolor": "#506784",
                        "linecolor": "#506784",
                        "ticks": ""
                      },
                      "bgcolor": "rgb(17,17,17)",
                      "radialaxis": {
                        "gridcolor": "#506784",
                        "linecolor": "#506784",
                        "ticks": ""
                      }
                    },
                    "scene": {
                      "xaxis": {
                        "backgroundcolor": "rgb(17,17,17)",
                        "gridcolor": "#506784",
                        "gridwidth": 2,
                        "linecolor": "#506784",
                        "showbackground": true,
                        "ticks": "",
                        "zerolinecolor": "#C8D4E3"
                      },
                      "yaxis": {
                        "backgroundcolor": "rgb(17,17,17)",
                        "gridcolor": "#506784",
                        "gridwidth": 2,
                        "linecolor": "#506784",
                        "showbackground": true,
                        "ticks": "",
                        "zerolinecolor": "#C8D4E3"
                      },
                      "zaxis": {
                        "backgroundcolor": "rgb(17,17,17)",
                        "gridcolor": "#506784",
                        "gridwidth": 2,
                        "linecolor": "#506784",
                        "showbackground": true,
                        "ticks": "",
                        "zerolinecolor": "#C8D4E3"
                      }
                    },
                    "shapedefaults": {
                      "line": {
                        "color": "#f2f5fa"
                      }
                    },
                    "sliderdefaults": {
                      "bgcolor": "#C8D4E3",
                      "bordercolor": "rgb(17,17,17)",
                      "borderwidth": 1,
                      "tickwidth": 0
                    },
                    "ternary": {
                      "aaxis": {
                        "gridcolor": "#506784",
                        "linecolor": "#506784",
                        "ticks": ""
                      },
                      "baxis": {
                        "gridcolor": "#506784",
                        "linecolor": "#506784",
                        "ticks": ""
                      },
                      "bgcolor": "rgb(17,17,17)",
                      "caxis": {
                        "gridcolor": "#506784",
                        "linecolor": "#506784",
                        "ticks": ""
                      }
                    },
                    "title": {
                      "x": 0.05
                    },
                    "updatemenudefaults": {
                      "bgcolor": "#506784",
                      "borderwidth": 0
                    },
                    "xaxis": {
                      "automargin": true,
                      "gridcolor": "#283442",
                      "linecolor": "#506784",
                      "ticks": "",
                      "title": {
                        "standoff": 15
                      },
                      "zerolinecolor": "#283442",
                      "zerolinewidth": 2
                    },
                    "yaxis": {
                      "automargin": true,
                      "gridcolor": "#283442",
                      "linecolor": "#506784",
                      "ticks": "",
                      "title": {
                        "standoff": 15
                      },
                      "zerolinecolor": "#283442",
                      "zerolinewidth": 2
                    }
                  }
                },
                "title": {
                  "text": "NO. of Different Cases over Time"
                },
                "xaxis": {
                  "anchor": "y",
                  "domain": [
                    0,
                    1
                  ],
                  "title": {
                    "text": "Date"
                  }
                },
                "yaxis": {
                  "anchor": "x",
                  "domain": [
                    0,
                    1
                  ],
                  "title": {
                    "text": "value"
                  }
                }
              }
            },
            "text/html": [
              "<div>                        <script type=\"text/javascript\">window.PlotlyConfig = {MathJaxConfig: 'local'};</script>\n",
              "        <script charset=\"utf-8\" src=\"https://cdn.plot.ly/plotly-2.20.0.min.js\"></script>                <div id=\"7940d938-8d17-412d-b092-49f3b22ba787\" class=\"plotly-graph-div\" style=\"height:100%; width:100%;\"></div>            <script type=\"text/javascript\">                                    window.PLOTLYENV=window.PLOTLYENV || {};                                    if (document.getElementById(\"7940d938-8d17-412d-b092-49f3b22ba787\")) {                    Plotly.newPlot(                        \"7940d938-8d17-412d-b092-49f3b22ba787\",                        [{\"hovertemplate\":\"variable=Confirmed<br>Date=%{x}<br>value=%{y}<extra></extra>\",\"legendgroup\":\"Confirmed\",\"line\":{\"color\":\"#636efa\",\"dash\":\"solid\"},\"marker\":{\"symbol\":\"circle\"},\"mode\":\"lines\",\"name\":\"Confirmed\",\"orientation\":\"v\",\"showlegend\":true,\"x\":[\"2020-01-22T00:00:00\",\"2020-01-23T00:00:00\",\"2020-01-24T00:00:00\",\"2020-01-25T00:00:00\",\"2020-01-26T00:00:00\",\"2020-01-27T00:00:00\",\"2020-01-28T00:00:00\",\"2020-01-29T00:00:00\",\"2020-01-30T00:00:00\",\"2020-01-31T00:00:00\",\"2020-02-01T00:00:00\",\"2020-02-02T00:00:00\",\"2020-02-03T00:00:00\",\"2020-02-04T00:00:00\",\"2020-02-05T00:00:00\",\"2020-02-06T00:00:00\",\"2020-02-07T00:00:00\",\"2020-02-08T00:00:00\",\"2020-02-09T00:00:00\",\"2020-02-10T00:00:00\",\"2020-02-11T00:00:00\",\"2020-02-12T00:00:00\",\"2020-02-13T00:00:00\",\"2020-02-14T00:00:00\",\"2020-02-15T00:00:00\",\"2020-02-16T00:00:00\",\"2020-02-17T00:00:00\",\"2020-02-18T00:00:00\",\"2020-02-19T00:00:00\",\"2020-02-20T00:00:00\",\"2020-02-21T00:00:00\",\"2020-02-22T00:00:00\",\"2020-02-23T00:00:00\",\"2020-02-24T00:00:00\",\"2020-02-25T00:00:00\",\"2020-02-26T00:00:00\",\"2020-02-27T00:00:00\",\"2020-02-28T00:00:00\",\"2020-02-29T00:00:00\",\"2020-03-01T00:00:00\",\"2020-03-02T00:00:00\",\"2020-03-03T00:00:00\",\"2020-03-04T00:00:00\",\"2020-03-05T00:00:00\",\"2020-03-06T00:00:00\",\"2020-03-07T00:00:00\",\"2020-03-08T00:00:00\",\"2020-03-09T00:00:00\",\"2020-03-10T00:00:00\",\"2020-03-11T00:00:00\",\"2020-03-12T00:00:00\",\"2020-03-13T00:00:00\",\"2020-03-14T00:00:00\",\"2020-03-15T00:00:00\",\"2020-03-16T00:00:00\",\"2020-03-17T00:00:00\",\"2020-03-18T00:00:00\",\"2020-03-19T00:00:00\",\"2020-03-20T00:00:00\",\"2020-03-21T00:00:00\",\"2020-03-22T00:00:00\",\"2020-03-23T00:00:00\",\"2020-03-24T00:00:00\",\"2020-03-25T00:00:00\",\"2020-03-26T00:00:00\",\"2020-03-27T00:00:00\",\"2020-03-28T00:00:00\",\"2020-03-29T00:00:00\",\"2020-03-30T00:00:00\",\"2020-03-31T00:00:00\",\"2020-04-01T00:00:00\",\"2020-04-02T00:00:00\",\"2020-04-03T00:00:00\",\"2020-04-04T00:00:00\",\"2020-04-05T00:00:00\",\"2020-04-06T00:00:00\",\"2020-04-07T00:00:00\",\"2020-04-08T00:00:00\",\"2020-04-09T00:00:00\",\"2020-04-10T00:00:00\",\"2020-04-11T00:00:00\",\"2020-04-12T00:00:00\",\"2020-04-13T00:00:00\",\"2020-04-14T00:00:00\",\"2020-04-15T00:00:00\",\"2020-04-16T00:00:00\",\"2020-04-17T00:00:00\",\"2020-04-18T00:00:00\",\"2020-04-19T00:00:00\",\"2020-04-20T00:00:00\",\"2020-04-21T00:00:00\",\"2020-04-22T00:00:00\",\"2020-04-23T00:00:00\",\"2020-04-24T00:00:00\",\"2020-04-25T00:00:00\",\"2020-04-26T00:00:00\",\"2020-04-27T00:00:00\",\"2020-04-28T00:00:00\",\"2020-04-29T00:00:00\",\"2020-04-30T00:00:00\",\"2020-05-01T00:00:00\",\"2020-05-02T00:00:00\",\"2020-05-03T00:00:00\",\"2020-05-04T00:00:00\",\"2020-05-05T00:00:00\",\"2020-05-06T00:00:00\",\"2020-05-07T00:00:00\",\"2020-05-08T00:00:00\",\"2020-05-09T00:00:00\",\"2020-05-10T00:00:00\",\"2020-05-11T00:00:00\",\"2020-05-12T00:00:00\",\"2020-05-13T00:00:00\",\"2020-05-14T00:00:00\",\"2020-05-15T00:00:00\",\"2020-05-16T00:00:00\",\"2020-05-17T00:00:00\",\"2020-05-18T00:00:00\",\"2020-05-19T00:00:00\",\"2020-05-20T00:00:00\",\"2020-05-21T00:00:00\",\"2020-05-22T00:00:00\",\"2020-05-23T00:00:00\",\"2020-05-24T00:00:00\",\"2020-05-25T00:00:00\",\"2020-05-26T00:00:00\",\"2020-05-27T00:00:00\",\"2020-05-28T00:00:00\",\"2020-05-29T00:00:00\",\"2020-05-30T00:00:00\",\"2020-05-31T00:00:00\",\"2020-06-01T00:00:00\",\"2020-06-02T00:00:00\",\"2020-06-03T00:00:00\",\"2020-06-04T00:00:00\",\"2020-06-05T00:00:00\",\"2020-06-06T00:00:00\",\"2020-06-07T00:00:00\",\"2020-06-08T00:00:00\",\"2020-06-09T00:00:00\",\"2020-06-10T00:00:00\",\"2020-06-11T00:00:00\",\"2020-06-12T00:00:00\",\"2020-06-13T00:00:00\",\"2020-06-14T00:00:00\",\"2020-06-15T00:00:00\",\"2020-06-16T00:00:00\",\"2020-06-17T00:00:00\",\"2020-06-18T00:00:00\",\"2020-06-19T00:00:00\",\"2020-06-20T00:00:00\",\"2020-06-21T00:00:00\",\"2020-06-22T00:00:00\",\"2020-06-23T00:00:00\",\"2020-06-24T00:00:00\",\"2020-06-25T00:00:00\",\"2020-06-26T00:00:00\",\"2020-06-27T00:00:00\",\"2020-06-28T00:00:00\",\"2020-06-29T00:00:00\",\"2020-06-30T00:00:00\",\"2020-07-01T00:00:00\",\"2020-07-02T00:00:00\",\"2020-07-03T00:00:00\",\"2020-07-04T00:00:00\",\"2020-07-05T00:00:00\",\"2020-07-06T00:00:00\",\"2020-07-07T00:00:00\",\"2020-07-08T00:00:00\",\"2020-07-09T00:00:00\",\"2020-07-10T00:00:00\",\"2020-07-11T00:00:00\",\"2020-07-12T00:00:00\",\"2020-07-13T00:00:00\",\"2020-07-14T00:00:00\",\"2020-07-15T00:00:00\",\"2020-07-16T00:00:00\",\"2020-07-17T00:00:00\",\"2020-07-18T00:00:00\",\"2020-07-19T00:00:00\",\"2020-07-20T00:00:00\",\"2020-07-21T00:00:00\",\"2020-07-22T00:00:00\",\"2020-07-23T00:00:00\",\"2020-07-24T00:00:00\",\"2020-07-25T00:00:00\",\"2020-07-26T00:00:00\",\"2020-07-27T00:00:00\"],\"xaxis\":\"x\",\"y\":[555,654,941,1434,2118,2927,5578,6166,8234,9927,12038,16787,19887,23898,27643,30802,34334,37068,40095,42633,44675,46561,60206,66690,68765,70879,72815,74609,75030,75577,76206,77967,78290,78854,79707,80670,82034,83411,85306,87690,89664,92241,94540,97331,101274,105312,109266,113166,118190,125853,131603,146008,157114,168260,182919,198757,218343,246261,275869,308175,341585,383750,424889,475706,538666,603066,670723,730300,794939,871355,947569,1028968,1112123,1192586,1264304,1336976,1413849,1497624,1584249,1671907,1748872,1845653,1915247,1985174,2066003,2162715,2250439,2324396,2404919,2478258,2553508,2630314,2719327,2806267,2891199,2964146,3032850,3108149,3185195,3268876,3355922,3437608,3515244,3591321,3671310,3761332,3850418,3941935,4027781,4104027,4180268,4263867,4348619,4445724,4542073,4637485,4715994,4804278,4900702,5003730,5110064,5216964,5322253,5417579,5504542,5597064,5699664,5818978,5940145,6077978,6185530,6280725,6401536,6520924,6647861,6778724,6914666,7026925,7129150,7253492,7387517,7525631,7654725,7790735,7924156,8043794,8185197,8327050,8466978,8647784,8805336,8933875,9071733,9237071,9408254,9586141,9777487,9955597,10117227,10275799,10449697,10667386,10875091,11078585,11272152,11454847,11622190,11833034,12044836,12273063,12505640,12721968,12914636,13107415,13328867,13559984,13812525,14054563,14292198,14506845,14713623,14947078,15227725,15510481,15791645,16047190,16251796,16480485],\"yaxis\":\"y\",\"type\":\"scatter\"},{\"hovertemplate\":\"variable=Deaths<br>Date=%{x}<br>value=%{y}<extra></extra>\",\"legendgroup\":\"Deaths\",\"line\":{\"color\":\"#EF553B\",\"dash\":\"solid\"},\"marker\":{\"symbol\":\"circle\"},\"mode\":\"lines\",\"name\":\"Deaths\",\"orientation\":\"v\",\"showlegend\":true,\"x\":[\"2020-01-22T00:00:00\",\"2020-01-23T00:00:00\",\"2020-01-24T00:00:00\",\"2020-01-25T00:00:00\",\"2020-01-26T00:00:00\",\"2020-01-27T00:00:00\",\"2020-01-28T00:00:00\",\"2020-01-29T00:00:00\",\"2020-01-30T00:00:00\",\"2020-01-31T00:00:00\",\"2020-02-01T00:00:00\",\"2020-02-02T00:00:00\",\"2020-02-03T00:00:00\",\"2020-02-04T00:00:00\",\"2020-02-05T00:00:00\",\"2020-02-06T00:00:00\",\"2020-02-07T00:00:00\",\"2020-02-08T00:00:00\",\"2020-02-09T00:00:00\",\"2020-02-10T00:00:00\",\"2020-02-11T00:00:00\",\"2020-02-12T00:00:00\",\"2020-02-13T00:00:00\",\"2020-02-14T00:00:00\",\"2020-02-15T00:00:00\",\"2020-02-16T00:00:00\",\"2020-02-17T00:00:00\",\"2020-02-18T00:00:00\",\"2020-02-19T00:00:00\",\"2020-02-20T00:00:00\",\"2020-02-21T00:00:00\",\"2020-02-22T00:00:00\",\"2020-02-23T00:00:00\",\"2020-02-24T00:00:00\",\"2020-02-25T00:00:00\",\"2020-02-26T00:00:00\",\"2020-02-27T00:00:00\",\"2020-02-28T00:00:00\",\"2020-02-29T00:00:00\",\"2020-03-01T00:00:00\",\"2020-03-02T00:00:00\",\"2020-03-03T00:00:00\",\"2020-03-04T00:00:00\",\"2020-03-05T00:00:00\",\"2020-03-06T00:00:00\",\"2020-03-07T00:00:00\",\"2020-03-08T00:00:00\",\"2020-03-09T00:00:00\",\"2020-03-10T00:00:00\",\"2020-03-11T00:00:00\",\"2020-03-12T00:00:00\",\"2020-03-13T00:00:00\",\"2020-03-14T00:00:00\",\"2020-03-15T00:00:00\",\"2020-03-16T00:00:00\",\"2020-03-17T00:00:00\",\"2020-03-18T00:00:00\",\"2020-03-19T00:00:00\",\"2020-03-20T00:00:00\",\"2020-03-21T00:00:00\",\"2020-03-22T00:00:00\",\"2020-03-23T00:00:00\",\"2020-03-24T00:00:00\",\"2020-03-25T00:00:00\",\"2020-03-26T00:00:00\",\"2020-03-27T00:00:00\",\"2020-03-28T00:00:00\",\"2020-03-29T00:00:00\",\"2020-03-30T00:00:00\",\"2020-03-31T00:00:00\",\"2020-04-01T00:00:00\",\"2020-04-02T00:00:00\",\"2020-04-03T00:00:00\",\"2020-04-04T00:00:00\",\"2020-04-05T00:00:00\",\"2020-04-06T00:00:00\",\"2020-04-07T00:00:00\",\"2020-04-08T00:00:00\",\"2020-04-09T00:00:00\",\"2020-04-10T00:00:00\",\"2020-04-11T00:00:00\",\"2020-04-12T00:00:00\",\"2020-04-13T00:00:00\",\"2020-04-14T00:00:00\",\"2020-04-15T00:00:00\",\"2020-04-16T00:00:00\",\"2020-04-17T00:00:00\",\"2020-04-18T00:00:00\",\"2020-04-19T00:00:00\",\"2020-04-20T00:00:00\",\"2020-04-21T00:00:00\",\"2020-04-22T00:00:00\",\"2020-04-23T00:00:00\",\"2020-04-24T00:00:00\",\"2020-04-25T00:00:00\",\"2020-04-26T00:00:00\",\"2020-04-27T00:00:00\",\"2020-04-28T00:00:00\",\"2020-04-29T00:00:00\",\"2020-04-30T00:00:00\",\"2020-05-01T00:00:00\",\"2020-05-02T00:00:00\",\"2020-05-03T00:00:00\",\"2020-05-04T00:00:00\",\"2020-05-05T00:00:00\",\"2020-05-06T00:00:00\",\"2020-05-07T00:00:00\",\"2020-05-08T00:00:00\",\"2020-05-09T00:00:00\",\"2020-05-10T00:00:00\",\"2020-05-11T00:00:00\",\"2020-05-12T00:00:00\",\"2020-05-13T00:00:00\",\"2020-05-14T00:00:00\",\"2020-05-15T00:00:00\",\"2020-05-16T00:00:00\",\"2020-05-17T00:00:00\",\"2020-05-18T00:00:00\",\"2020-05-19T00:00:00\",\"2020-05-20T00:00:00\",\"2020-05-21T00:00:00\",\"2020-05-22T00:00:00\",\"2020-05-23T00:00:00\",\"2020-05-24T00:00:00\",\"2020-05-25T00:00:00\",\"2020-05-26T00:00:00\",\"2020-05-27T00:00:00\",\"2020-05-28T00:00:00\",\"2020-05-29T00:00:00\",\"2020-05-30T00:00:00\",\"2020-05-31T00:00:00\",\"2020-06-01T00:00:00\",\"2020-06-02T00:00:00\",\"2020-06-03T00:00:00\",\"2020-06-04T00:00:00\",\"2020-06-05T00:00:00\",\"2020-06-06T00:00:00\",\"2020-06-07T00:00:00\",\"2020-06-08T00:00:00\",\"2020-06-09T00:00:00\",\"2020-06-10T00:00:00\",\"2020-06-11T00:00:00\",\"2020-06-12T00:00:00\",\"2020-06-13T00:00:00\",\"2020-06-14T00:00:00\",\"2020-06-15T00:00:00\",\"2020-06-16T00:00:00\",\"2020-06-17T00:00:00\",\"2020-06-18T00:00:00\",\"2020-06-19T00:00:00\",\"2020-06-20T00:00:00\",\"2020-06-21T00:00:00\",\"2020-06-22T00:00:00\",\"2020-06-23T00:00:00\",\"2020-06-24T00:00:00\",\"2020-06-25T00:00:00\",\"2020-06-26T00:00:00\",\"2020-06-27T00:00:00\",\"2020-06-28T00:00:00\",\"2020-06-29T00:00:00\",\"2020-06-30T00:00:00\",\"2020-07-01T00:00:00\",\"2020-07-02T00:00:00\",\"2020-07-03T00:00:00\",\"2020-07-04T00:00:00\",\"2020-07-05T00:00:00\",\"2020-07-06T00:00:00\",\"2020-07-07T00:00:00\",\"2020-07-08T00:00:00\",\"2020-07-09T00:00:00\",\"2020-07-10T00:00:00\",\"2020-07-11T00:00:00\",\"2020-07-12T00:00:00\",\"2020-07-13T00:00:00\",\"2020-07-14T00:00:00\",\"2020-07-15T00:00:00\",\"2020-07-16T00:00:00\",\"2020-07-17T00:00:00\",\"2020-07-18T00:00:00\",\"2020-07-19T00:00:00\",\"2020-07-20T00:00:00\",\"2020-07-21T00:00:00\",\"2020-07-22T00:00:00\",\"2020-07-23T00:00:00\",\"2020-07-24T00:00:00\",\"2020-07-25T00:00:00\",\"2020-07-26T00:00:00\",\"2020-07-27T00:00:00\"],\"xaxis\":\"x\",\"y\":[17,18,26,42,56,82,131,133,171,213,259,362,426,492,564,634,719,806,906,1013,1113,1118,1371,1523,1666,1770,1868,2008,2123,2246,2250,2457,2467,2627,2707,2767,2810,2867,2936,2990,3079,3154,3249,3342,3454,3553,3797,3981,4260,4604,4909,5406,5823,6464,7144,7948,8845,9951,11429,13134,14831,16748,19016,21793,24800,28318,31997,35470,39634,44478,50029,56334,62319,68160,73181,79013,86915,93650,101279,108551,114620,120351,126098,132996,141308,148591,157481,163952,168522,173965,181122,187877,194727,201401,206979,210862,215511,221974,228742,234704,239881,245206,248659,252787,258658,265327,270736,276304,280569,284135,287608,293155,298383,303651,308866,313037,316366,319657,324441,329326,334112,339396,343385,346525,347703,351906,357119,361820,366562,370718,373606,376674,381497,387069,392218,396994,400875,403617,407314,412236,417441,422215,426512,430750,434124,437549,444416,449671,454700,460973,465222,469185,472756,478067,483328,489955,494782,499268,502357,506078,511210,516221,521341,526336,530705,534150,537947,544054,549373,554831,560142,565039,568993,572808,578468,583961,589760,596503,602130,606159,610319,616557,623540,633506,639650,644517,648621,654036],\"yaxis\":\"y\",\"type\":\"scatter\"},{\"hovertemplate\":\"variable=Active<br>Date=%{x}<br>value=%{y}<extra></extra>\",\"legendgroup\":\"Active\",\"line\":{\"color\":\"#00cc96\",\"dash\":\"solid\"},\"marker\":{\"symbol\":\"circle\"},\"mode\":\"lines\",\"name\":\"Active\",\"orientation\":\"v\",\"showlegend\":true,\"x\":[\"2020-01-22T00:00:00\",\"2020-01-23T00:00:00\",\"2020-01-24T00:00:00\",\"2020-01-25T00:00:00\",\"2020-01-26T00:00:00\",\"2020-01-27T00:00:00\",\"2020-01-28T00:00:00\",\"2020-01-29T00:00:00\",\"2020-01-30T00:00:00\",\"2020-01-31T00:00:00\",\"2020-02-01T00:00:00\",\"2020-02-02T00:00:00\",\"2020-02-03T00:00:00\",\"2020-02-04T00:00:00\",\"2020-02-05T00:00:00\",\"2020-02-06T00:00:00\",\"2020-02-07T00:00:00\",\"2020-02-08T00:00:00\",\"2020-02-09T00:00:00\",\"2020-02-10T00:00:00\",\"2020-02-11T00:00:00\",\"2020-02-12T00:00:00\",\"2020-02-13T00:00:00\",\"2020-02-14T00:00:00\",\"2020-02-15T00:00:00\",\"2020-02-16T00:00:00\",\"2020-02-17T00:00:00\",\"2020-02-18T00:00:00\",\"2020-02-19T00:00:00\",\"2020-02-20T00:00:00\",\"2020-02-21T00:00:00\",\"2020-02-22T00:00:00\",\"2020-02-23T00:00:00\",\"2020-02-24T00:00:00\",\"2020-02-25T00:00:00\",\"2020-02-26T00:00:00\",\"2020-02-27T00:00:00\",\"2020-02-28T00:00:00\",\"2020-02-29T00:00:00\",\"2020-03-01T00:00:00\",\"2020-03-02T00:00:00\",\"2020-03-03T00:00:00\",\"2020-03-04T00:00:00\",\"2020-03-05T00:00:00\",\"2020-03-06T00:00:00\",\"2020-03-07T00:00:00\",\"2020-03-08T00:00:00\",\"2020-03-09T00:00:00\",\"2020-03-10T00:00:00\",\"2020-03-11T00:00:00\",\"2020-03-12T00:00:00\",\"2020-03-13T00:00:00\",\"2020-03-14T00:00:00\",\"2020-03-15T00:00:00\",\"2020-03-16T00:00:00\",\"2020-03-17T00:00:00\",\"2020-03-18T00:00:00\",\"2020-03-19T00:00:00\",\"2020-03-20T00:00:00\",\"2020-03-21T00:00:00\",\"2020-03-22T00:00:00\",\"2020-03-23T00:00:00\",\"2020-03-24T00:00:00\",\"2020-03-25T00:00:00\",\"2020-03-26T00:00:00\",\"2020-03-27T00:00:00\",\"2020-03-28T00:00:00\",\"2020-03-29T00:00:00\",\"2020-03-30T00:00:00\",\"2020-03-31T00:00:00\",\"2020-04-01T00:00:00\",\"2020-04-02T00:00:00\",\"2020-04-03T00:00:00\",\"2020-04-04T00:00:00\",\"2020-04-05T00:00:00\",\"2020-04-06T00:00:00\",\"2020-04-07T00:00:00\",\"2020-04-08T00:00:00\",\"2020-04-09T00:00:00\",\"2020-04-10T00:00:00\",\"2020-04-11T00:00:00\",\"2020-04-12T00:00:00\",\"2020-04-13T00:00:00\",\"2020-04-14T00:00:00\",\"2020-04-15T00:00:00\",\"2020-04-16T00:00:00\",\"2020-04-17T00:00:00\",\"2020-04-18T00:00:00\",\"2020-04-19T00:00:00\",\"2020-04-20T00:00:00\",\"2020-04-21T00:00:00\",\"2020-04-22T00:00:00\",\"2020-04-23T00:00:00\",\"2020-04-24T00:00:00\",\"2020-04-25T00:00:00\",\"2020-04-26T00:00:00\",\"2020-04-27T00:00:00\",\"2020-04-28T00:00:00\",\"2020-04-29T00:00:00\",\"2020-04-30T00:00:00\",\"2020-05-01T00:00:00\",\"2020-05-02T00:00:00\",\"2020-05-03T00:00:00\",\"2020-05-04T00:00:00\",\"2020-05-05T00:00:00\",\"2020-05-06T00:00:00\",\"2020-05-07T00:00:00\",\"2020-05-08T00:00:00\",\"2020-05-09T00:00:00\",\"2020-05-10T00:00:00\",\"2020-05-11T00:00:00\",\"2020-05-12T00:00:00\",\"2020-05-13T00:00:00\",\"2020-05-14T00:00:00\",\"2020-05-15T00:00:00\",\"2020-05-16T00:00:00\",\"2020-05-17T00:00:00\",\"2020-05-18T00:00:00\",\"2020-05-19T00:00:00\",\"2020-05-20T00:00:00\",\"2020-05-21T00:00:00\",\"2020-05-22T00:00:00\",\"2020-05-23T00:00:00\",\"2020-05-24T00:00:00\",\"2020-05-25T00:00:00\",\"2020-05-26T00:00:00\",\"2020-05-27T00:00:00\",\"2020-05-28T00:00:00\",\"2020-05-29T00:00:00\",\"2020-05-30T00:00:00\",\"2020-05-31T00:00:00\",\"2020-06-01T00:00:00\",\"2020-06-02T00:00:00\",\"2020-06-03T00:00:00\",\"2020-06-04T00:00:00\",\"2020-06-05T00:00:00\",\"2020-06-06T00:00:00\",\"2020-06-07T00:00:00\",\"2020-06-08T00:00:00\",\"2020-06-09T00:00:00\",\"2020-06-10T00:00:00\",\"2020-06-11T00:00:00\",\"2020-06-12T00:00:00\",\"2020-06-13T00:00:00\",\"2020-06-14T00:00:00\",\"2020-06-15T00:00:00\",\"2020-06-16T00:00:00\",\"2020-06-17T00:00:00\",\"2020-06-18T00:00:00\",\"2020-06-19T00:00:00\",\"2020-06-20T00:00:00\",\"2020-06-21T00:00:00\",\"2020-06-22T00:00:00\",\"2020-06-23T00:00:00\",\"2020-06-24T00:00:00\",\"2020-06-25T00:00:00\",\"2020-06-26T00:00:00\",\"2020-06-27T00:00:00\",\"2020-06-28T00:00:00\",\"2020-06-29T00:00:00\",\"2020-06-30T00:00:00\",\"2020-07-01T00:00:00\",\"2020-07-02T00:00:00\",\"2020-07-03T00:00:00\",\"2020-07-04T00:00:00\",\"2020-07-05T00:00:00\",\"2020-07-06T00:00:00\",\"2020-07-07T00:00:00\",\"2020-07-08T00:00:00\",\"2020-07-09T00:00:00\",\"2020-07-10T00:00:00\",\"2020-07-11T00:00:00\",\"2020-07-12T00:00:00\",\"2020-07-13T00:00:00\",\"2020-07-14T00:00:00\",\"2020-07-15T00:00:00\",\"2020-07-16T00:00:00\",\"2020-07-17T00:00:00\",\"2020-07-18T00:00:00\",\"2020-07-19T00:00:00\",\"2020-07-20T00:00:00\",\"2020-07-21T00:00:00\",\"2020-07-22T00:00:00\",\"2020-07-23T00:00:00\",\"2020-07-24T00:00:00\",\"2020-07-25T00:00:00\",\"2020-07-26T00:00:00\",\"2020-07-27T00:00:00\"],\"xaxis\":\"x\",\"y\":[510,606,879,1353,2010,2784,5340,5908,7922,9495,11498,15966,18857,22585,26008,28750,31712,33792,36132,37906,39145,40594,52905,57554,58197,58790,58996,58908,57513,55962,55990,53661,53519,52180,50348,48826,47305,45238,44056,43492,42500,42406,41672,41752,43550,44999,46377,48294,51128,56136,60260,72243,80562,87657,99583,111865,128071,153246,178931,205266,230764,270546,299876,342468,394062,446240,501926,548569,593598,652803,708106,766582,828744,883354,936646,987151,1033269,1081957,1136621,1195879,1241261,1313438,1350754,1389164,1425770,1485109,1538671,1582655,1627840,1674431,1708343,1749230,1802911,1833537,1885981,1927315,1964957,2001495,2030701,2044556,2089540,2126040,2169008,2208008,2246497,2285111,2330371,2380782,2409845,2449784,2476456,2518521,2543331,2596361,2640327,2675902,2710929,2743712,2784005,2823963,2875184,2869027,2916066,2953499,2976234,3010040,3044932,3093412,3133456,3197279,3226335,3264452,3276956,3312425,3364867,3422693,3483577,3538590,3486196,3524135,3574922,3623295,3669280,3715937,3776026,3812839,3849981,3869178,3923452,4003513,4041511,4097815,4140884,4197308,4247921,4326728,4406931,4474521,4544278,4605227,4657028,4754082,4672273,4761307,4755072,4815151,4855475,4915467,4964447,5052995,5141244,5227218,5304469,5353468,5427502,5493703,5588524,5664300,5745518,5868451,5912527,5965535,6062930,6166006,6212290,6243930,6309711,6358362],\"yaxis\":\"y\",\"type\":\"scatter\"},{\"hovertemplate\":\"variable=Recovered<br>Date=%{x}<br>value=%{y}<extra></extra>\",\"legendgroup\":\"Recovered\",\"line\":{\"color\":\"#ab63fa\",\"dash\":\"solid\"},\"marker\":{\"symbol\":\"circle\"},\"mode\":\"lines\",\"name\":\"Recovered\",\"orientation\":\"v\",\"showlegend\":true,\"x\":[\"2020-01-22T00:00:00\",\"2020-01-23T00:00:00\",\"2020-01-24T00:00:00\",\"2020-01-25T00:00:00\",\"2020-01-26T00:00:00\",\"2020-01-27T00:00:00\",\"2020-01-28T00:00:00\",\"2020-01-29T00:00:00\",\"2020-01-30T00:00:00\",\"2020-01-31T00:00:00\",\"2020-02-01T00:00:00\",\"2020-02-02T00:00:00\",\"2020-02-03T00:00:00\",\"2020-02-04T00:00:00\",\"2020-02-05T00:00:00\",\"2020-02-06T00:00:00\",\"2020-02-07T00:00:00\",\"2020-02-08T00:00:00\",\"2020-02-09T00:00:00\",\"2020-02-10T00:00:00\",\"2020-02-11T00:00:00\",\"2020-02-12T00:00:00\",\"2020-02-13T00:00:00\",\"2020-02-14T00:00:00\",\"2020-02-15T00:00:00\",\"2020-02-16T00:00:00\",\"2020-02-17T00:00:00\",\"2020-02-18T00:00:00\",\"2020-02-19T00:00:00\",\"2020-02-20T00:00:00\",\"2020-02-21T00:00:00\",\"2020-02-22T00:00:00\",\"2020-02-23T00:00:00\",\"2020-02-24T00:00:00\",\"2020-02-25T00:00:00\",\"2020-02-26T00:00:00\",\"2020-02-27T00:00:00\",\"2020-02-28T00:00:00\",\"2020-02-29T00:00:00\",\"2020-03-01T00:00:00\",\"2020-03-02T00:00:00\",\"2020-03-03T00:00:00\",\"2020-03-04T00:00:00\",\"2020-03-05T00:00:00\",\"2020-03-06T00:00:00\",\"2020-03-07T00:00:00\",\"2020-03-08T00:00:00\",\"2020-03-09T00:00:00\",\"2020-03-10T00:00:00\",\"2020-03-11T00:00:00\",\"2020-03-12T00:00:00\",\"2020-03-13T00:00:00\",\"2020-03-14T00:00:00\",\"2020-03-15T00:00:00\",\"2020-03-16T00:00:00\",\"2020-03-17T00:00:00\",\"2020-03-18T00:00:00\",\"2020-03-19T00:00:00\",\"2020-03-20T00:00:00\",\"2020-03-21T00:00:00\",\"2020-03-22T00:00:00\",\"2020-03-23T00:00:00\",\"2020-03-24T00:00:00\",\"2020-03-25T00:00:00\",\"2020-03-26T00:00:00\",\"2020-03-27T00:00:00\",\"2020-03-28T00:00:00\",\"2020-03-29T00:00:00\",\"2020-03-30T00:00:00\",\"2020-03-31T00:00:00\",\"2020-04-01T00:00:00\",\"2020-04-02T00:00:00\",\"2020-04-03T00:00:00\",\"2020-04-04T00:00:00\",\"2020-04-05T00:00:00\",\"2020-04-06T00:00:00\",\"2020-04-07T00:00:00\",\"2020-04-08T00:00:00\",\"2020-04-09T00:00:00\",\"2020-04-10T00:00:00\",\"2020-04-11T00:00:00\",\"2020-04-12T00:00:00\",\"2020-04-13T00:00:00\",\"2020-04-14T00:00:00\",\"2020-04-15T00:00:00\",\"2020-04-16T00:00:00\",\"2020-04-17T00:00:00\",\"2020-04-18T00:00:00\",\"2020-04-19T00:00:00\",\"2020-04-20T00:00:00\",\"2020-04-21T00:00:00\",\"2020-04-22T00:00:00\",\"2020-04-23T00:00:00\",\"2020-04-24T00:00:00\",\"2020-04-25T00:00:00\",\"2020-04-26T00:00:00\",\"2020-04-27T00:00:00\",\"2020-04-28T00:00:00\",\"2020-04-29T00:00:00\",\"2020-04-30T00:00:00\",\"2020-05-01T00:00:00\",\"2020-05-02T00:00:00\",\"2020-05-03T00:00:00\",\"2020-05-04T00:00:00\",\"2020-05-05T00:00:00\",\"2020-05-06T00:00:00\",\"2020-05-07T00:00:00\",\"2020-05-08T00:00:00\",\"2020-05-09T00:00:00\",\"2020-05-10T00:00:00\",\"2020-05-11T00:00:00\",\"2020-05-12T00:00:00\",\"2020-05-13T00:00:00\",\"2020-05-14T00:00:00\",\"2020-05-15T00:00:00\",\"2020-05-16T00:00:00\",\"2020-05-17T00:00:00\",\"2020-05-18T00:00:00\",\"2020-05-19T00:00:00\",\"2020-05-20T00:00:00\",\"2020-05-21T00:00:00\",\"2020-05-22T00:00:00\",\"2020-05-23T00:00:00\",\"2020-05-24T00:00:00\",\"2020-05-25T00:00:00\",\"2020-05-26T00:00:00\",\"2020-05-27T00:00:00\",\"2020-05-28T00:00:00\",\"2020-05-29T00:00:00\",\"2020-05-30T00:00:00\",\"2020-05-31T00:00:00\",\"2020-06-01T00:00:00\",\"2020-06-02T00:00:00\",\"2020-06-03T00:00:00\",\"2020-06-04T00:00:00\",\"2020-06-05T00:00:00\",\"2020-06-06T00:00:00\",\"2020-06-07T00:00:00\",\"2020-06-08T00:00:00\",\"2020-06-09T00:00:00\",\"2020-06-10T00:00:00\",\"2020-06-11T00:00:00\",\"2020-06-12T00:00:00\",\"2020-06-13T00:00:00\",\"2020-06-14T00:00:00\",\"2020-06-15T00:00:00\",\"2020-06-16T00:00:00\",\"2020-06-17T00:00:00\",\"2020-06-18T00:00:00\",\"2020-06-19T00:00:00\",\"2020-06-20T00:00:00\",\"2020-06-21T00:00:00\",\"2020-06-22T00:00:00\",\"2020-06-23T00:00:00\",\"2020-06-24T00:00:00\",\"2020-06-25T00:00:00\",\"2020-06-26T00:00:00\",\"2020-06-27T00:00:00\",\"2020-06-28T00:00:00\",\"2020-06-29T00:00:00\",\"2020-06-30T00:00:00\",\"2020-07-01T00:00:00\",\"2020-07-02T00:00:00\",\"2020-07-03T00:00:00\",\"2020-07-04T00:00:00\",\"2020-07-05T00:00:00\",\"2020-07-06T00:00:00\",\"2020-07-07T00:00:00\",\"2020-07-08T00:00:00\",\"2020-07-09T00:00:00\",\"2020-07-10T00:00:00\",\"2020-07-11T00:00:00\",\"2020-07-12T00:00:00\",\"2020-07-13T00:00:00\",\"2020-07-14T00:00:00\",\"2020-07-15T00:00:00\",\"2020-07-16T00:00:00\",\"2020-07-17T00:00:00\",\"2020-07-18T00:00:00\",\"2020-07-19T00:00:00\",\"2020-07-20T00:00:00\",\"2020-07-21T00:00:00\",\"2020-07-22T00:00:00\",\"2020-07-23T00:00:00\",\"2020-07-24T00:00:00\",\"2020-07-25T00:00:00\",\"2020-07-26T00:00:00\",\"2020-07-27T00:00:00\"],\"xaxis\":\"x\",\"y\":[28,30,36,39,52,61,107,125,141,219,281,459,604,821,1071,1418,1903,2470,3057,3714,4417,4849,5930,7613,8902,10319,11951,13693,15394,17369,17966,21849,22304,24047,26652,29077,31919,35306,38314,41208,44085,46681,49619,52237,54270,56760,59092,60891,62802,65113,66434,68359,70729,74139,76192,78944,81427,83064,85509,89775,95990,96456,105997,111445,119804,128508,136800,146261,161707,174074,189434,206052,221060,241072,254477,270812,293665,322017,346349,367477,392991,411864,438395,463014,498925,529015,554287,577789,608557,629862,664043,693207,721689,771329,798239,825969,852382,884680,925752,989616,1026501,1066362,1097577,1130526,1166155,1210894,1249311,1284849,1337367,1370108,1416204,1452191,1506905,1545712,1592880,1648546,1688699,1740909,1792256,1850441,1900768,2008541,2062802,2117555,2180605,2235118,2297613,2363746,2440127,2509981,2585589,2639599,2743083,2821430,2890776,2959037,3030214,3084718,3235640,3317121,3395154,3480121,3558933,3644048,3714006,3793406,3890800,4008201,4088826,4183298,4298603,4366875,4458093,4561696,4677005,4769458,4875774,4981808,5070592,5164494,5281459,5397083,5681477,5790942,5986375,6105546,6228768,6373513,6531016,6665237,6804254,6929711,7041174,7181139,7322897,7482320,7634241,7793760,7944550,8032235,8190777,8364986,8541255,8710969,8939705,9158743,9293464,9468087],\"yaxis\":\"y\",\"type\":\"scatter\"}],                        {\"template\":{\"data\":{\"barpolar\":[{\"marker\":{\"line\":{\"color\":\"rgb(17,17,17)\",\"width\":0.5},\"pattern\":{\"fillmode\":\"overlay\",\"size\":10,\"solidity\":0.2}},\"type\":\"barpolar\"}],\"bar\":[{\"error_x\":{\"color\":\"#f2f5fa\"},\"error_y\":{\"color\":\"#f2f5fa\"},\"marker\":{\"line\":{\"color\":\"rgb(17,17,17)\",\"width\":0.5},\"pattern\":{\"fillmode\":\"overlay\",\"size\":10,\"solidity\":0.2}},\"type\":\"bar\"}],\"carpet\":[{\"aaxis\":{\"endlinecolor\":\"#A2B1C6\",\"gridcolor\":\"#506784\",\"linecolor\":\"#506784\",\"minorgridcolor\":\"#506784\",\"startlinecolor\":\"#A2B1C6\"},\"baxis\":{\"endlinecolor\":\"#A2B1C6\",\"gridcolor\":\"#506784\",\"linecolor\":\"#506784\",\"minorgridcolor\":\"#506784\",\"startlinecolor\":\"#A2B1C6\"},\"type\":\"carpet\"}],\"choropleth\":[{\"colorbar\":{\"outlinewidth\":0,\"ticks\":\"\"},\"type\":\"choropleth\"}],\"contourcarpet\":[{\"colorbar\":{\"outlinewidth\":0,\"ticks\":\"\"},\"type\":\"contourcarpet\"}],\"contour\":[{\"colorbar\":{\"outlinewidth\":0,\"ticks\":\"\"},\"colorscale\":[[0.0,\"#0d0887\"],[0.1111111111111111,\"#46039f\"],[0.2222222222222222,\"#7201a8\"],[0.3333333333333333,\"#9c179e\"],[0.4444444444444444,\"#bd3786\"],[0.5555555555555556,\"#d8576b\"],[0.6666666666666666,\"#ed7953\"],[0.7777777777777778,\"#fb9f3a\"],[0.8888888888888888,\"#fdca26\"],[1.0,\"#f0f921\"]],\"type\":\"contour\"}],\"heatmapgl\":[{\"colorbar\":{\"outlinewidth\":0,\"ticks\":\"\"},\"colorscale\":[[0.0,\"#0d0887\"],[0.1111111111111111,\"#46039f\"],[0.2222222222222222,\"#7201a8\"],[0.3333333333333333,\"#9c179e\"],[0.4444444444444444,\"#bd3786\"],[0.5555555555555556,\"#d8576b\"],[0.6666666666666666,\"#ed7953\"],[0.7777777777777778,\"#fb9f3a\"],[0.8888888888888888,\"#fdca26\"],[1.0,\"#f0f921\"]],\"type\":\"heatmapgl\"}],\"heatmap\":[{\"colorbar\":{\"outlinewidth\":0,\"ticks\":\"\"},\"colorscale\":[[0.0,\"#0d0887\"],[0.1111111111111111,\"#46039f\"],[0.2222222222222222,\"#7201a8\"],[0.3333333333333333,\"#9c179e\"],[0.4444444444444444,\"#bd3786\"],[0.5555555555555556,\"#d8576b\"],[0.6666666666666666,\"#ed7953\"],[0.7777777777777778,\"#fb9f3a\"],[0.8888888888888888,\"#fdca26\"],[1.0,\"#f0f921\"]],\"type\":\"heatmap\"}],\"histogram2dcontour\":[{\"colorbar\":{\"outlinewidth\":0,\"ticks\":\"\"},\"colorscale\":[[0.0,\"#0d0887\"],[0.1111111111111111,\"#46039f\"],[0.2222222222222222,\"#7201a8\"],[0.3333333333333333,\"#9c179e\"],[0.4444444444444444,\"#bd3786\"],[0.5555555555555556,\"#d8576b\"],[0.6666666666666666,\"#ed7953\"],[0.7777777777777778,\"#fb9f3a\"],[0.8888888888888888,\"#fdca26\"],[1.0,\"#f0f921\"]],\"type\":\"histogram2dcontour\"}],\"histogram2d\":[{\"colorbar\":{\"outlinewidth\":0,\"ticks\":\"\"},\"colorscale\":[[0.0,\"#0d0887\"],[0.1111111111111111,\"#46039f\"],[0.2222222222222222,\"#7201a8\"],[0.3333333333333333,\"#9c179e\"],[0.4444444444444444,\"#bd3786\"],[0.5555555555555556,\"#d8576b\"],[0.6666666666666666,\"#ed7953\"],[0.7777777777777778,\"#fb9f3a\"],[0.8888888888888888,\"#fdca26\"],[1.0,\"#f0f921\"]],\"type\":\"histogram2d\"}],\"histogram\":[{\"marker\":{\"pattern\":{\"fillmode\":\"overlay\",\"size\":10,\"solidity\":0.2}},\"type\":\"histogram\"}],\"mesh3d\":[{\"colorbar\":{\"outlinewidth\":0,\"ticks\":\"\"},\"type\":\"mesh3d\"}],\"parcoords\":[{\"line\":{\"colorbar\":{\"outlinewidth\":0,\"ticks\":\"\"}},\"type\":\"parcoords\"}],\"pie\":[{\"automargin\":true,\"type\":\"pie\"}],\"scatter3d\":[{\"line\":{\"colorbar\":{\"outlinewidth\":0,\"ticks\":\"\"}},\"marker\":{\"colorbar\":{\"outlinewidth\":0,\"ticks\":\"\"}},\"type\":\"scatter3d\"}],\"scattercarpet\":[{\"marker\":{\"colorbar\":{\"outlinewidth\":0,\"ticks\":\"\"}},\"type\":\"scattercarpet\"}],\"scattergeo\":[{\"marker\":{\"colorbar\":{\"outlinewidth\":0,\"ticks\":\"\"}},\"type\":\"scattergeo\"}],\"scattergl\":[{\"marker\":{\"line\":{\"color\":\"#283442\"}},\"type\":\"scattergl\"}],\"scattermapbox\":[{\"marker\":{\"colorbar\":{\"outlinewidth\":0,\"ticks\":\"\"}},\"type\":\"scattermapbox\"}],\"scatterpolargl\":[{\"marker\":{\"colorbar\":{\"outlinewidth\":0,\"ticks\":\"\"}},\"type\":\"scatterpolargl\"}],\"scatterpolar\":[{\"marker\":{\"colorbar\":{\"outlinewidth\":0,\"ticks\":\"\"}},\"type\":\"scatterpolar\"}],\"scatter\":[{\"marker\":{\"line\":{\"color\":\"#283442\"}},\"type\":\"scatter\"}],\"scatterternary\":[{\"marker\":{\"colorbar\":{\"outlinewidth\":0,\"ticks\":\"\"}},\"type\":\"scatterternary\"}],\"surface\":[{\"colorbar\":{\"outlinewidth\":0,\"ticks\":\"\"},\"colorscale\":[[0.0,\"#0d0887\"],[0.1111111111111111,\"#46039f\"],[0.2222222222222222,\"#7201a8\"],[0.3333333333333333,\"#9c179e\"],[0.4444444444444444,\"#bd3786\"],[0.5555555555555556,\"#d8576b\"],[0.6666666666666666,\"#ed7953\"],[0.7777777777777778,\"#fb9f3a\"],[0.8888888888888888,\"#fdca26\"],[1.0,\"#f0f921\"]],\"type\":\"surface\"}],\"table\":[{\"cells\":{\"fill\":{\"color\":\"#506784\"},\"line\":{\"color\":\"rgb(17,17,17)\"}},\"header\":{\"fill\":{\"color\":\"#2a3f5f\"},\"line\":{\"color\":\"rgb(17,17,17)\"}},\"type\":\"table\"}]},\"layout\":{\"annotationdefaults\":{\"arrowcolor\":\"#f2f5fa\",\"arrowhead\":0,\"arrowwidth\":1},\"autotypenumbers\":\"strict\",\"coloraxis\":{\"colorbar\":{\"outlinewidth\":0,\"ticks\":\"\"}},\"colorscale\":{\"diverging\":[[0,\"#8e0152\"],[0.1,\"#c51b7d\"],[0.2,\"#de77ae\"],[0.3,\"#f1b6da\"],[0.4,\"#fde0ef\"],[0.5,\"#f7f7f7\"],[0.6,\"#e6f5d0\"],[0.7,\"#b8e186\"],[0.8,\"#7fbc41\"],[0.9,\"#4d9221\"],[1,\"#276419\"]],\"sequential\":[[0.0,\"#0d0887\"],[0.1111111111111111,\"#46039f\"],[0.2222222222222222,\"#7201a8\"],[0.3333333333333333,\"#9c179e\"],[0.4444444444444444,\"#bd3786\"],[0.5555555555555556,\"#d8576b\"],[0.6666666666666666,\"#ed7953\"],[0.7777777777777778,\"#fb9f3a\"],[0.8888888888888888,\"#fdca26\"],[1.0,\"#f0f921\"]],\"sequentialminus\":[[0.0,\"#0d0887\"],[0.1111111111111111,\"#46039f\"],[0.2222222222222222,\"#7201a8\"],[0.3333333333333333,\"#9c179e\"],[0.4444444444444444,\"#bd3786\"],[0.5555555555555556,\"#d8576b\"],[0.6666666666666666,\"#ed7953\"],[0.7777777777777778,\"#fb9f3a\"],[0.8888888888888888,\"#fdca26\"],[1.0,\"#f0f921\"]]},\"colorway\":[\"#636efa\",\"#EF553B\",\"#00cc96\",\"#ab63fa\",\"#FFA15A\",\"#19d3f3\",\"#FF6692\",\"#B6E880\",\"#FF97FF\",\"#FECB52\"],\"font\":{\"color\":\"#f2f5fa\"},\"geo\":{\"bgcolor\":\"rgb(17,17,17)\",\"lakecolor\":\"rgb(17,17,17)\",\"landcolor\":\"rgb(17,17,17)\",\"showlakes\":true,\"showland\":true,\"subunitcolor\":\"#506784\"},\"hoverlabel\":{\"align\":\"left\"},\"hovermode\":\"closest\",\"mapbox\":{\"style\":\"dark\"},\"paper_bgcolor\":\"rgb(17,17,17)\",\"plot_bgcolor\":\"rgb(17,17,17)\",\"polar\":{\"angularaxis\":{\"gridcolor\":\"#506784\",\"linecolor\":\"#506784\",\"ticks\":\"\"},\"bgcolor\":\"rgb(17,17,17)\",\"radialaxis\":{\"gridcolor\":\"#506784\",\"linecolor\":\"#506784\",\"ticks\":\"\"}},\"scene\":{\"xaxis\":{\"backgroundcolor\":\"rgb(17,17,17)\",\"gridcolor\":\"#506784\",\"gridwidth\":2,\"linecolor\":\"#506784\",\"showbackground\":true,\"ticks\":\"\",\"zerolinecolor\":\"#C8D4E3\"},\"yaxis\":{\"backgroundcolor\":\"rgb(17,17,17)\",\"gridcolor\":\"#506784\",\"gridwidth\":2,\"linecolor\":\"#506784\",\"showbackground\":true,\"ticks\":\"\",\"zerolinecolor\":\"#C8D4E3\"},\"zaxis\":{\"backgroundcolor\":\"rgb(17,17,17)\",\"gridcolor\":\"#506784\",\"gridwidth\":2,\"linecolor\":\"#506784\",\"showbackground\":true,\"ticks\":\"\",\"zerolinecolor\":\"#C8D4E3\"}},\"shapedefaults\":{\"line\":{\"color\":\"#f2f5fa\"}},\"sliderdefaults\":{\"bgcolor\":\"#C8D4E3\",\"bordercolor\":\"rgb(17,17,17)\",\"borderwidth\":1,\"tickwidth\":0},\"ternary\":{\"aaxis\":{\"gridcolor\":\"#506784\",\"linecolor\":\"#506784\",\"ticks\":\"\"},\"baxis\":{\"gridcolor\":\"#506784\",\"linecolor\":\"#506784\",\"ticks\":\"\"},\"bgcolor\":\"rgb(17,17,17)\",\"caxis\":{\"gridcolor\":\"#506784\",\"linecolor\":\"#506784\",\"ticks\":\"\"}},\"title\":{\"x\":0.05},\"updatemenudefaults\":{\"bgcolor\":\"#506784\",\"borderwidth\":0},\"xaxis\":{\"automargin\":true,\"gridcolor\":\"#283442\",\"linecolor\":\"#506784\",\"ticks\":\"\",\"title\":{\"standoff\":15},\"zerolinecolor\":\"#283442\",\"zerolinewidth\":2},\"yaxis\":{\"automargin\":true,\"gridcolor\":\"#283442\",\"linecolor\":\"#506784\",\"ticks\":\"\",\"title\":{\"standoff\":15},\"zerolinecolor\":\"#283442\",\"zerolinewidth\":2}}},\"xaxis\":{\"anchor\":\"y\",\"domain\":[0.0,1.0],\"title\":{\"text\":\"Date\"}},\"yaxis\":{\"anchor\":\"x\",\"domain\":[0.0,1.0],\"title\":{\"text\":\"value\"}},\"legend\":{\"title\":{\"text\":\"variable\"},\"tracegroupgap\":0},\"title\":{\"text\":\"NO. of Different Cases over Time\"}},                        {\"responsive\": true}                    )                };                            </script>        </div>"
            ],
            "text/plain": [
              "Figure({\n",
              "    'data': [{'hovertemplate': 'variable=Confirmed<br>Date=%{x}<br>value=%{y}<extra></extra>',\n",
              "              'legendgroup': 'Confirmed',\n",
              "              'line': {'color': '#636efa', 'dash': 'solid'},\n",
              "              'marker': {'symbol': 'circle'},\n",
              "              'mode': 'lines',\n",
              "              'name': 'Confirmed',\n",
              "              'orientation': 'v',\n",
              "              'showlegend': True,\n",
              "              'type': 'scatter',\n",
              "              'x': array([datetime.datetime(2020, 1, 22, 0, 0),\n",
              "                          datetime.datetime(2020, 1, 23, 0, 0),\n",
              "                          datetime.datetime(2020, 1, 24, 0, 0),\n",
              "                          datetime.datetime(2020, 1, 25, 0, 0),\n",
              "                          datetime.datetime(2020, 1, 26, 0, 0),\n",
              "                          datetime.datetime(2020, 1, 27, 0, 0),\n",
              "                          datetime.datetime(2020, 1, 28, 0, 0),\n",
              "                          datetime.datetime(2020, 1, 29, 0, 0),\n",
              "                          datetime.datetime(2020, 1, 30, 0, 0),\n",
              "                          datetime.datetime(2020, 1, 31, 0, 0),\n",
              "                          datetime.datetime(2020, 2, 1, 0, 0),\n",
              "                          datetime.datetime(2020, 2, 2, 0, 0),\n",
              "                          datetime.datetime(2020, 2, 3, 0, 0),\n",
              "                          datetime.datetime(2020, 2, 4, 0, 0),\n",
              "                          datetime.datetime(2020, 2, 5, 0, 0),\n",
              "                          datetime.datetime(2020, 2, 6, 0, 0),\n",
              "                          datetime.datetime(2020, 2, 7, 0, 0),\n",
              "                          datetime.datetime(2020, 2, 8, 0, 0),\n",
              "                          datetime.datetime(2020, 2, 9, 0, 0),\n",
              "                          datetime.datetime(2020, 2, 10, 0, 0),\n",
              "                          datetime.datetime(2020, 2, 11, 0, 0),\n",
              "                          datetime.datetime(2020, 2, 12, 0, 0),\n",
              "                          datetime.datetime(2020, 2, 13, 0, 0),\n",
              "                          datetime.datetime(2020, 2, 14, 0, 0),\n",
              "                          datetime.datetime(2020, 2, 15, 0, 0),\n",
              "                          datetime.datetime(2020, 2, 16, 0, 0),\n",
              "                          datetime.datetime(2020, 2, 17, 0, 0),\n",
              "                          datetime.datetime(2020, 2, 18, 0, 0),\n",
              "                          datetime.datetime(2020, 2, 19, 0, 0),\n",
              "                          datetime.datetime(2020, 2, 20, 0, 0),\n",
              "                          datetime.datetime(2020, 2, 21, 0, 0),\n",
              "                          datetime.datetime(2020, 2, 22, 0, 0),\n",
              "                          datetime.datetime(2020, 2, 23, 0, 0),\n",
              "                          datetime.datetime(2020, 2, 24, 0, 0),\n",
              "                          datetime.datetime(2020, 2, 25, 0, 0),\n",
              "                          datetime.datetime(2020, 2, 26, 0, 0),\n",
              "                          datetime.datetime(2020, 2, 27, 0, 0),\n",
              "                          datetime.datetime(2020, 2, 28, 0, 0),\n",
              "                          datetime.datetime(2020, 2, 29, 0, 0),\n",
              "                          datetime.datetime(2020, 3, 1, 0, 0),\n",
              "                          datetime.datetime(2020, 3, 2, 0, 0),\n",
              "                          datetime.datetime(2020, 3, 3, 0, 0),\n",
              "                          datetime.datetime(2020, 3, 4, 0, 0),\n",
              "                          datetime.datetime(2020, 3, 5, 0, 0),\n",
              "                          datetime.datetime(2020, 3, 6, 0, 0),\n",
              "                          datetime.datetime(2020, 3, 7, 0, 0),\n",
              "                          datetime.datetime(2020, 3, 8, 0, 0),\n",
              "                          datetime.datetime(2020, 3, 9, 0, 0),\n",
              "                          datetime.datetime(2020, 3, 10, 0, 0),\n",
              "                          datetime.datetime(2020, 3, 11, 0, 0),\n",
              "                          datetime.datetime(2020, 3, 12, 0, 0),\n",
              "                          datetime.datetime(2020, 3, 13, 0, 0),\n",
              "                          datetime.datetime(2020, 3, 14, 0, 0),\n",
              "                          datetime.datetime(2020, 3, 15, 0, 0),\n",
              "                          datetime.datetime(2020, 3, 16, 0, 0),\n",
              "                          datetime.datetime(2020, 3, 17, 0, 0),\n",
              "                          datetime.datetime(2020, 3, 18, 0, 0),\n",
              "                          datetime.datetime(2020, 3, 19, 0, 0),\n",
              "                          datetime.datetime(2020, 3, 20, 0, 0),\n",
              "                          datetime.datetime(2020, 3, 21, 0, 0),\n",
              "                          datetime.datetime(2020, 3, 22, 0, 0),\n",
              "                          datetime.datetime(2020, 3, 23, 0, 0),\n",
              "                          datetime.datetime(2020, 3, 24, 0, 0),\n",
              "                          datetime.datetime(2020, 3, 25, 0, 0),\n",
              "                          datetime.datetime(2020, 3, 26, 0, 0),\n",
              "                          datetime.datetime(2020, 3, 27, 0, 0),\n",
              "                          datetime.datetime(2020, 3, 28, 0, 0),\n",
              "                          datetime.datetime(2020, 3, 29, 0, 0),\n",
              "                          datetime.datetime(2020, 3, 30, 0, 0),\n",
              "                          datetime.datetime(2020, 3, 31, 0, 0),\n",
              "                          datetime.datetime(2020, 4, 1, 0, 0),\n",
              "                          datetime.datetime(2020, 4, 2, 0, 0),\n",
              "                          datetime.datetime(2020, 4, 3, 0, 0),\n",
              "                          datetime.datetime(2020, 4, 4, 0, 0),\n",
              "                          datetime.datetime(2020, 4, 5, 0, 0),\n",
              "                          datetime.datetime(2020, 4, 6, 0, 0),\n",
              "                          datetime.datetime(2020, 4, 7, 0, 0),\n",
              "                          datetime.datetime(2020, 4, 8, 0, 0),\n",
              "                          datetime.datetime(2020, 4, 9, 0, 0),\n",
              "                          datetime.datetime(2020, 4, 10, 0, 0),\n",
              "                          datetime.datetime(2020, 4, 11, 0, 0),\n",
              "                          datetime.datetime(2020, 4, 12, 0, 0),\n",
              "                          datetime.datetime(2020, 4, 13, 0, 0),\n",
              "                          datetime.datetime(2020, 4, 14, 0, 0),\n",
              "                          datetime.datetime(2020, 4, 15, 0, 0),\n",
              "                          datetime.datetime(2020, 4, 16, 0, 0),\n",
              "                          datetime.datetime(2020, 4, 17, 0, 0),\n",
              "                          datetime.datetime(2020, 4, 18, 0, 0),\n",
              "                          datetime.datetime(2020, 4, 19, 0, 0),\n",
              "                          datetime.datetime(2020, 4, 20, 0, 0),\n",
              "                          datetime.datetime(2020, 4, 21, 0, 0),\n",
              "                          datetime.datetime(2020, 4, 22, 0, 0),\n",
              "                          datetime.datetime(2020, 4, 23, 0, 0),\n",
              "                          datetime.datetime(2020, 4, 24, 0, 0),\n",
              "                          datetime.datetime(2020, 4, 25, 0, 0),\n",
              "                          datetime.datetime(2020, 4, 26, 0, 0),\n",
              "                          datetime.datetime(2020, 4, 27, 0, 0),\n",
              "                          datetime.datetime(2020, 4, 28, 0, 0),\n",
              "                          datetime.datetime(2020, 4, 29, 0, 0),\n",
              "                          datetime.datetime(2020, 4, 30, 0, 0),\n",
              "                          datetime.datetime(2020, 5, 1, 0, 0),\n",
              "                          datetime.datetime(2020, 5, 2, 0, 0),\n",
              "                          datetime.datetime(2020, 5, 3, 0, 0),\n",
              "                          datetime.datetime(2020, 5, 4, 0, 0),\n",
              "                          datetime.datetime(2020, 5, 5, 0, 0),\n",
              "                          datetime.datetime(2020, 5, 6, 0, 0),\n",
              "                          datetime.datetime(2020, 5, 7, 0, 0),\n",
              "                          datetime.datetime(2020, 5, 8, 0, 0),\n",
              "                          datetime.datetime(2020, 5, 9, 0, 0),\n",
              "                          datetime.datetime(2020, 5, 10, 0, 0),\n",
              "                          datetime.datetime(2020, 5, 11, 0, 0),\n",
              "                          datetime.datetime(2020, 5, 12, 0, 0),\n",
              "                          datetime.datetime(2020, 5, 13, 0, 0),\n",
              "                          datetime.datetime(2020, 5, 14, 0, 0),\n",
              "                          datetime.datetime(2020, 5, 15, 0, 0),\n",
              "                          datetime.datetime(2020, 5, 16, 0, 0),\n",
              "                          datetime.datetime(2020, 5, 17, 0, 0),\n",
              "                          datetime.datetime(2020, 5, 18, 0, 0),\n",
              "                          datetime.datetime(2020, 5, 19, 0, 0),\n",
              "                          datetime.datetime(2020, 5, 20, 0, 0),\n",
              "                          datetime.datetime(2020, 5, 21, 0, 0),\n",
              "                          datetime.datetime(2020, 5, 22, 0, 0),\n",
              "                          datetime.datetime(2020, 5, 23, 0, 0),\n",
              "                          datetime.datetime(2020, 5, 24, 0, 0),\n",
              "                          datetime.datetime(2020, 5, 25, 0, 0),\n",
              "                          datetime.datetime(2020, 5, 26, 0, 0),\n",
              "                          datetime.datetime(2020, 5, 27, 0, 0),\n",
              "                          datetime.datetime(2020, 5, 28, 0, 0),\n",
              "                          datetime.datetime(2020, 5, 29, 0, 0),\n",
              "                          datetime.datetime(2020, 5, 30, 0, 0),\n",
              "                          datetime.datetime(2020, 5, 31, 0, 0),\n",
              "                          datetime.datetime(2020, 6, 1, 0, 0),\n",
              "                          datetime.datetime(2020, 6, 2, 0, 0),\n",
              "                          datetime.datetime(2020, 6, 3, 0, 0),\n",
              "                          datetime.datetime(2020, 6, 4, 0, 0),\n",
              "                          datetime.datetime(2020, 6, 5, 0, 0),\n",
              "                          datetime.datetime(2020, 6, 6, 0, 0),\n",
              "                          datetime.datetime(2020, 6, 7, 0, 0),\n",
              "                          datetime.datetime(2020, 6, 8, 0, 0),\n",
              "                          datetime.datetime(2020, 6, 9, 0, 0),\n",
              "                          datetime.datetime(2020, 6, 10, 0, 0),\n",
              "                          datetime.datetime(2020, 6, 11, 0, 0),\n",
              "                          datetime.datetime(2020, 6, 12, 0, 0),\n",
              "                          datetime.datetime(2020, 6, 13, 0, 0),\n",
              "                          datetime.datetime(2020, 6, 14, 0, 0),\n",
              "                          datetime.datetime(2020, 6, 15, 0, 0),\n",
              "                          datetime.datetime(2020, 6, 16, 0, 0),\n",
              "                          datetime.datetime(2020, 6, 17, 0, 0),\n",
              "                          datetime.datetime(2020, 6, 18, 0, 0),\n",
              "                          datetime.datetime(2020, 6, 19, 0, 0),\n",
              "                          datetime.datetime(2020, 6, 20, 0, 0),\n",
              "                          datetime.datetime(2020, 6, 21, 0, 0),\n",
              "                          datetime.datetime(2020, 6, 22, 0, 0),\n",
              "                          datetime.datetime(2020, 6, 23, 0, 0),\n",
              "                          datetime.datetime(2020, 6, 24, 0, 0),\n",
              "                          datetime.datetime(2020, 6, 25, 0, 0),\n",
              "                          datetime.datetime(2020, 6, 26, 0, 0),\n",
              "                          datetime.datetime(2020, 6, 27, 0, 0),\n",
              "                          datetime.datetime(2020, 6, 28, 0, 0),\n",
              "                          datetime.datetime(2020, 6, 29, 0, 0),\n",
              "                          datetime.datetime(2020, 6, 30, 0, 0),\n",
              "                          datetime.datetime(2020, 7, 1, 0, 0),\n",
              "                          datetime.datetime(2020, 7, 2, 0, 0),\n",
              "                          datetime.datetime(2020, 7, 3, 0, 0),\n",
              "                          datetime.datetime(2020, 7, 4, 0, 0),\n",
              "                          datetime.datetime(2020, 7, 5, 0, 0),\n",
              "                          datetime.datetime(2020, 7, 6, 0, 0),\n",
              "                          datetime.datetime(2020, 7, 7, 0, 0),\n",
              "                          datetime.datetime(2020, 7, 8, 0, 0),\n",
              "                          datetime.datetime(2020, 7, 9, 0, 0),\n",
              "                          datetime.datetime(2020, 7, 10, 0, 0),\n",
              "                          datetime.datetime(2020, 7, 11, 0, 0),\n",
              "                          datetime.datetime(2020, 7, 12, 0, 0),\n",
              "                          datetime.datetime(2020, 7, 13, 0, 0),\n",
              "                          datetime.datetime(2020, 7, 14, 0, 0),\n",
              "                          datetime.datetime(2020, 7, 15, 0, 0),\n",
              "                          datetime.datetime(2020, 7, 16, 0, 0),\n",
              "                          datetime.datetime(2020, 7, 17, 0, 0),\n",
              "                          datetime.datetime(2020, 7, 18, 0, 0),\n",
              "                          datetime.datetime(2020, 7, 19, 0, 0),\n",
              "                          datetime.datetime(2020, 7, 20, 0, 0),\n",
              "                          datetime.datetime(2020, 7, 21, 0, 0),\n",
              "                          datetime.datetime(2020, 7, 22, 0, 0),\n",
              "                          datetime.datetime(2020, 7, 23, 0, 0),\n",
              "                          datetime.datetime(2020, 7, 24, 0, 0),\n",
              "                          datetime.datetime(2020, 7, 25, 0, 0),\n",
              "                          datetime.datetime(2020, 7, 26, 0, 0),\n",
              "                          datetime.datetime(2020, 7, 27, 0, 0)], dtype=object),\n",
              "              'xaxis': 'x',\n",
              "              'y': array([     555,      654,      941,     1434,     2118,     2927,     5578,\n",
              "                              6166,     8234,     9927,    12038,    16787,    19887,    23898,\n",
              "                             27643,    30802,    34334,    37068,    40095,    42633,    44675,\n",
              "                             46561,    60206,    66690,    68765,    70879,    72815,    74609,\n",
              "                             75030,    75577,    76206,    77967,    78290,    78854,    79707,\n",
              "                             80670,    82034,    83411,    85306,    87690,    89664,    92241,\n",
              "                             94540,    97331,   101274,   105312,   109266,   113166,   118190,\n",
              "                            125853,   131603,   146008,   157114,   168260,   182919,   198757,\n",
              "                            218343,   246261,   275869,   308175,   341585,   383750,   424889,\n",
              "                            475706,   538666,   603066,   670723,   730300,   794939,   871355,\n",
              "                            947569,  1028968,  1112123,  1192586,  1264304,  1336976,  1413849,\n",
              "                           1497624,  1584249,  1671907,  1748872,  1845653,  1915247,  1985174,\n",
              "                           2066003,  2162715,  2250439,  2324396,  2404919,  2478258,  2553508,\n",
              "                           2630314,  2719327,  2806267,  2891199,  2964146,  3032850,  3108149,\n",
              "                           3185195,  3268876,  3355922,  3437608,  3515244,  3591321,  3671310,\n",
              "                           3761332,  3850418,  3941935,  4027781,  4104027,  4180268,  4263867,\n",
              "                           4348619,  4445724,  4542073,  4637485,  4715994,  4804278,  4900702,\n",
              "                           5003730,  5110064,  5216964,  5322253,  5417579,  5504542,  5597064,\n",
              "                           5699664,  5818978,  5940145,  6077978,  6185530,  6280725,  6401536,\n",
              "                           6520924,  6647861,  6778724,  6914666,  7026925,  7129150,  7253492,\n",
              "                           7387517,  7525631,  7654725,  7790735,  7924156,  8043794,  8185197,\n",
              "                           8327050,  8466978,  8647784,  8805336,  8933875,  9071733,  9237071,\n",
              "                           9408254,  9586141,  9777487,  9955597, 10117227, 10275799, 10449697,\n",
              "                          10667386, 10875091, 11078585, 11272152, 11454847, 11622190, 11833034,\n",
              "                          12044836, 12273063, 12505640, 12721968, 12914636, 13107415, 13328867,\n",
              "                          13559984, 13812525, 14054563, 14292198, 14506845, 14713623, 14947078,\n",
              "                          15227725, 15510481, 15791645, 16047190, 16251796, 16480485], dtype=int64),\n",
              "              'yaxis': 'y'},\n",
              "             {'hovertemplate': 'variable=Deaths<br>Date=%{x}<br>value=%{y}<extra></extra>',\n",
              "              'legendgroup': 'Deaths',\n",
              "              'line': {'color': '#EF553B', 'dash': 'solid'},\n",
              "              'marker': {'symbol': 'circle'},\n",
              "              'mode': 'lines',\n",
              "              'name': 'Deaths',\n",
              "              'orientation': 'v',\n",
              "              'showlegend': True,\n",
              "              'type': 'scatter',\n",
              "              'x': array([datetime.datetime(2020, 1, 22, 0, 0),\n",
              "                          datetime.datetime(2020, 1, 23, 0, 0),\n",
              "                          datetime.datetime(2020, 1, 24, 0, 0),\n",
              "                          datetime.datetime(2020, 1, 25, 0, 0),\n",
              "                          datetime.datetime(2020, 1, 26, 0, 0),\n",
              "                          datetime.datetime(2020, 1, 27, 0, 0),\n",
              "                          datetime.datetime(2020, 1, 28, 0, 0),\n",
              "                          datetime.datetime(2020, 1, 29, 0, 0),\n",
              "                          datetime.datetime(2020, 1, 30, 0, 0),\n",
              "                          datetime.datetime(2020, 1, 31, 0, 0),\n",
              "                          datetime.datetime(2020, 2, 1, 0, 0),\n",
              "                          datetime.datetime(2020, 2, 2, 0, 0),\n",
              "                          datetime.datetime(2020, 2, 3, 0, 0),\n",
              "                          datetime.datetime(2020, 2, 4, 0, 0),\n",
              "                          datetime.datetime(2020, 2, 5, 0, 0),\n",
              "                          datetime.datetime(2020, 2, 6, 0, 0),\n",
              "                          datetime.datetime(2020, 2, 7, 0, 0),\n",
              "                          datetime.datetime(2020, 2, 8, 0, 0),\n",
              "                          datetime.datetime(2020, 2, 9, 0, 0),\n",
              "                          datetime.datetime(2020, 2, 10, 0, 0),\n",
              "                          datetime.datetime(2020, 2, 11, 0, 0),\n",
              "                          datetime.datetime(2020, 2, 12, 0, 0),\n",
              "                          datetime.datetime(2020, 2, 13, 0, 0),\n",
              "                          datetime.datetime(2020, 2, 14, 0, 0),\n",
              "                          datetime.datetime(2020, 2, 15, 0, 0),\n",
              "                          datetime.datetime(2020, 2, 16, 0, 0),\n",
              "                          datetime.datetime(2020, 2, 17, 0, 0),\n",
              "                          datetime.datetime(2020, 2, 18, 0, 0),\n",
              "                          datetime.datetime(2020, 2, 19, 0, 0),\n",
              "                          datetime.datetime(2020, 2, 20, 0, 0),\n",
              "                          datetime.datetime(2020, 2, 21, 0, 0),\n",
              "                          datetime.datetime(2020, 2, 22, 0, 0),\n",
              "                          datetime.datetime(2020, 2, 23, 0, 0),\n",
              "                          datetime.datetime(2020, 2, 24, 0, 0),\n",
              "                          datetime.datetime(2020, 2, 25, 0, 0),\n",
              "                          datetime.datetime(2020, 2, 26, 0, 0),\n",
              "                          datetime.datetime(2020, 2, 27, 0, 0),\n",
              "                          datetime.datetime(2020, 2, 28, 0, 0),\n",
              "                          datetime.datetime(2020, 2, 29, 0, 0),\n",
              "                          datetime.datetime(2020, 3, 1, 0, 0),\n",
              "                          datetime.datetime(2020, 3, 2, 0, 0),\n",
              "                          datetime.datetime(2020, 3, 3, 0, 0),\n",
              "                          datetime.datetime(2020, 3, 4, 0, 0),\n",
              "                          datetime.datetime(2020, 3, 5, 0, 0),\n",
              "                          datetime.datetime(2020, 3, 6, 0, 0),\n",
              "                          datetime.datetime(2020, 3, 7, 0, 0),\n",
              "                          datetime.datetime(2020, 3, 8, 0, 0),\n",
              "                          datetime.datetime(2020, 3, 9, 0, 0),\n",
              "                          datetime.datetime(2020, 3, 10, 0, 0),\n",
              "                          datetime.datetime(2020, 3, 11, 0, 0),\n",
              "                          datetime.datetime(2020, 3, 12, 0, 0),\n",
              "                          datetime.datetime(2020, 3, 13, 0, 0),\n",
              "                          datetime.datetime(2020, 3, 14, 0, 0),\n",
              "                          datetime.datetime(2020, 3, 15, 0, 0),\n",
              "                          datetime.datetime(2020, 3, 16, 0, 0),\n",
              "                          datetime.datetime(2020, 3, 17, 0, 0),\n",
              "                          datetime.datetime(2020, 3, 18, 0, 0),\n",
              "                          datetime.datetime(2020, 3, 19, 0, 0),\n",
              "                          datetime.datetime(2020, 3, 20, 0, 0),\n",
              "                          datetime.datetime(2020, 3, 21, 0, 0),\n",
              "                          datetime.datetime(2020, 3, 22, 0, 0),\n",
              "                          datetime.datetime(2020, 3, 23, 0, 0),\n",
              "                          datetime.datetime(2020, 3, 24, 0, 0),\n",
              "                          datetime.datetime(2020, 3, 25, 0, 0),\n",
              "                          datetime.datetime(2020, 3, 26, 0, 0),\n",
              "                          datetime.datetime(2020, 3, 27, 0, 0),\n",
              "                          datetime.datetime(2020, 3, 28, 0, 0),\n",
              "                          datetime.datetime(2020, 3, 29, 0, 0),\n",
              "                          datetime.datetime(2020, 3, 30, 0, 0),\n",
              "                          datetime.datetime(2020, 3, 31, 0, 0),\n",
              "                          datetime.datetime(2020, 4, 1, 0, 0),\n",
              "                          datetime.datetime(2020, 4, 2, 0, 0),\n",
              "                          datetime.datetime(2020, 4, 3, 0, 0),\n",
              "                          datetime.datetime(2020, 4, 4, 0, 0),\n",
              "                          datetime.datetime(2020, 4, 5, 0, 0),\n",
              "                          datetime.datetime(2020, 4, 6, 0, 0),\n",
              "                          datetime.datetime(2020, 4, 7, 0, 0),\n",
              "                          datetime.datetime(2020, 4, 8, 0, 0),\n",
              "                          datetime.datetime(2020, 4, 9, 0, 0),\n",
              "                          datetime.datetime(2020, 4, 10, 0, 0),\n",
              "                          datetime.datetime(2020, 4, 11, 0, 0),\n",
              "                          datetime.datetime(2020, 4, 12, 0, 0),\n",
              "                          datetime.datetime(2020, 4, 13, 0, 0),\n",
              "                          datetime.datetime(2020, 4, 14, 0, 0),\n",
              "                          datetime.datetime(2020, 4, 15, 0, 0),\n",
              "                          datetime.datetime(2020, 4, 16, 0, 0),\n",
              "                          datetime.datetime(2020, 4, 17, 0, 0),\n",
              "                          datetime.datetime(2020, 4, 18, 0, 0),\n",
              "                          datetime.datetime(2020, 4, 19, 0, 0),\n",
              "                          datetime.datetime(2020, 4, 20, 0, 0),\n",
              "                          datetime.datetime(2020, 4, 21, 0, 0),\n",
              "                          datetime.datetime(2020, 4, 22, 0, 0),\n",
              "                          datetime.datetime(2020, 4, 23, 0, 0),\n",
              "                          datetime.datetime(2020, 4, 24, 0, 0),\n",
              "                          datetime.datetime(2020, 4, 25, 0, 0),\n",
              "                          datetime.datetime(2020, 4, 26, 0, 0),\n",
              "                          datetime.datetime(2020, 4, 27, 0, 0),\n",
              "                          datetime.datetime(2020, 4, 28, 0, 0),\n",
              "                          datetime.datetime(2020, 4, 29, 0, 0),\n",
              "                          datetime.datetime(2020, 4, 30, 0, 0),\n",
              "                          datetime.datetime(2020, 5, 1, 0, 0),\n",
              "                          datetime.datetime(2020, 5, 2, 0, 0),\n",
              "                          datetime.datetime(2020, 5, 3, 0, 0),\n",
              "                          datetime.datetime(2020, 5, 4, 0, 0),\n",
              "                          datetime.datetime(2020, 5, 5, 0, 0),\n",
              "                          datetime.datetime(2020, 5, 6, 0, 0),\n",
              "                          datetime.datetime(2020, 5, 7, 0, 0),\n",
              "                          datetime.datetime(2020, 5, 8, 0, 0),\n",
              "                          datetime.datetime(2020, 5, 9, 0, 0),\n",
              "                          datetime.datetime(2020, 5, 10, 0, 0),\n",
              "                          datetime.datetime(2020, 5, 11, 0, 0),\n",
              "                          datetime.datetime(2020, 5, 12, 0, 0),\n",
              "                          datetime.datetime(2020, 5, 13, 0, 0),\n",
              "                          datetime.datetime(2020, 5, 14, 0, 0),\n",
              "                          datetime.datetime(2020, 5, 15, 0, 0),\n",
              "                          datetime.datetime(2020, 5, 16, 0, 0),\n",
              "                          datetime.datetime(2020, 5, 17, 0, 0),\n",
              "                          datetime.datetime(2020, 5, 18, 0, 0),\n",
              "                          datetime.datetime(2020, 5, 19, 0, 0),\n",
              "                          datetime.datetime(2020, 5, 20, 0, 0),\n",
              "                          datetime.datetime(2020, 5, 21, 0, 0),\n",
              "                          datetime.datetime(2020, 5, 22, 0, 0),\n",
              "                          datetime.datetime(2020, 5, 23, 0, 0),\n",
              "                          datetime.datetime(2020, 5, 24, 0, 0),\n",
              "                          datetime.datetime(2020, 5, 25, 0, 0),\n",
              "                          datetime.datetime(2020, 5, 26, 0, 0),\n",
              "                          datetime.datetime(2020, 5, 27, 0, 0),\n",
              "                          datetime.datetime(2020, 5, 28, 0, 0),\n",
              "                          datetime.datetime(2020, 5, 29, 0, 0),\n",
              "                          datetime.datetime(2020, 5, 30, 0, 0),\n",
              "                          datetime.datetime(2020, 5, 31, 0, 0),\n",
              "                          datetime.datetime(2020, 6, 1, 0, 0),\n",
              "                          datetime.datetime(2020, 6, 2, 0, 0),\n",
              "                          datetime.datetime(2020, 6, 3, 0, 0),\n",
              "                          datetime.datetime(2020, 6, 4, 0, 0),\n",
              "                          datetime.datetime(2020, 6, 5, 0, 0),\n",
              "                          datetime.datetime(2020, 6, 6, 0, 0),\n",
              "                          datetime.datetime(2020, 6, 7, 0, 0),\n",
              "                          datetime.datetime(2020, 6, 8, 0, 0),\n",
              "                          datetime.datetime(2020, 6, 9, 0, 0),\n",
              "                          datetime.datetime(2020, 6, 10, 0, 0),\n",
              "                          datetime.datetime(2020, 6, 11, 0, 0),\n",
              "                          datetime.datetime(2020, 6, 12, 0, 0),\n",
              "                          datetime.datetime(2020, 6, 13, 0, 0),\n",
              "                          datetime.datetime(2020, 6, 14, 0, 0),\n",
              "                          datetime.datetime(2020, 6, 15, 0, 0),\n",
              "                          datetime.datetime(2020, 6, 16, 0, 0),\n",
              "                          datetime.datetime(2020, 6, 17, 0, 0),\n",
              "                          datetime.datetime(2020, 6, 18, 0, 0),\n",
              "                          datetime.datetime(2020, 6, 19, 0, 0),\n",
              "                          datetime.datetime(2020, 6, 20, 0, 0),\n",
              "                          datetime.datetime(2020, 6, 21, 0, 0),\n",
              "                          datetime.datetime(2020, 6, 22, 0, 0),\n",
              "                          datetime.datetime(2020, 6, 23, 0, 0),\n",
              "                          datetime.datetime(2020, 6, 24, 0, 0),\n",
              "                          datetime.datetime(2020, 6, 25, 0, 0),\n",
              "                          datetime.datetime(2020, 6, 26, 0, 0),\n",
              "                          datetime.datetime(2020, 6, 27, 0, 0),\n",
              "                          datetime.datetime(2020, 6, 28, 0, 0),\n",
              "                          datetime.datetime(2020, 6, 29, 0, 0),\n",
              "                          datetime.datetime(2020, 6, 30, 0, 0),\n",
              "                          datetime.datetime(2020, 7, 1, 0, 0),\n",
              "                          datetime.datetime(2020, 7, 2, 0, 0),\n",
              "                          datetime.datetime(2020, 7, 3, 0, 0),\n",
              "                          datetime.datetime(2020, 7, 4, 0, 0),\n",
              "                          datetime.datetime(2020, 7, 5, 0, 0),\n",
              "                          datetime.datetime(2020, 7, 6, 0, 0),\n",
              "                          datetime.datetime(2020, 7, 7, 0, 0),\n",
              "                          datetime.datetime(2020, 7, 8, 0, 0),\n",
              "                          datetime.datetime(2020, 7, 9, 0, 0),\n",
              "                          datetime.datetime(2020, 7, 10, 0, 0),\n",
              "                          datetime.datetime(2020, 7, 11, 0, 0),\n",
              "                          datetime.datetime(2020, 7, 12, 0, 0),\n",
              "                          datetime.datetime(2020, 7, 13, 0, 0),\n",
              "                          datetime.datetime(2020, 7, 14, 0, 0),\n",
              "                          datetime.datetime(2020, 7, 15, 0, 0),\n",
              "                          datetime.datetime(2020, 7, 16, 0, 0),\n",
              "                          datetime.datetime(2020, 7, 17, 0, 0),\n",
              "                          datetime.datetime(2020, 7, 18, 0, 0),\n",
              "                          datetime.datetime(2020, 7, 19, 0, 0),\n",
              "                          datetime.datetime(2020, 7, 20, 0, 0),\n",
              "                          datetime.datetime(2020, 7, 21, 0, 0),\n",
              "                          datetime.datetime(2020, 7, 22, 0, 0),\n",
              "                          datetime.datetime(2020, 7, 23, 0, 0),\n",
              "                          datetime.datetime(2020, 7, 24, 0, 0),\n",
              "                          datetime.datetime(2020, 7, 25, 0, 0),\n",
              "                          datetime.datetime(2020, 7, 26, 0, 0),\n",
              "                          datetime.datetime(2020, 7, 27, 0, 0)], dtype=object),\n",
              "              'xaxis': 'x',\n",
              "              'y': array([    17,     18,     26,     42,     56,     82,    131,    133,    171,\n",
              "                             213,    259,    362,    426,    492,    564,    634,    719,    806,\n",
              "                             906,   1013,   1113,   1118,   1371,   1523,   1666,   1770,   1868,\n",
              "                            2008,   2123,   2246,   2250,   2457,   2467,   2627,   2707,   2767,\n",
              "                            2810,   2867,   2936,   2990,   3079,   3154,   3249,   3342,   3454,\n",
              "                            3553,   3797,   3981,   4260,   4604,   4909,   5406,   5823,   6464,\n",
              "                            7144,   7948,   8845,   9951,  11429,  13134,  14831,  16748,  19016,\n",
              "                           21793,  24800,  28318,  31997,  35470,  39634,  44478,  50029,  56334,\n",
              "                           62319,  68160,  73181,  79013,  86915,  93650, 101279, 108551, 114620,\n",
              "                          120351, 126098, 132996, 141308, 148591, 157481, 163952, 168522, 173965,\n",
              "                          181122, 187877, 194727, 201401, 206979, 210862, 215511, 221974, 228742,\n",
              "                          234704, 239881, 245206, 248659, 252787, 258658, 265327, 270736, 276304,\n",
              "                          280569, 284135, 287608, 293155, 298383, 303651, 308866, 313037, 316366,\n",
              "                          319657, 324441, 329326, 334112, 339396, 343385, 346525, 347703, 351906,\n",
              "                          357119, 361820, 366562, 370718, 373606, 376674, 381497, 387069, 392218,\n",
              "                          396994, 400875, 403617, 407314, 412236, 417441, 422215, 426512, 430750,\n",
              "                          434124, 437549, 444416, 449671, 454700, 460973, 465222, 469185, 472756,\n",
              "                          478067, 483328, 489955, 494782, 499268, 502357, 506078, 511210, 516221,\n",
              "                          521341, 526336, 530705, 534150, 537947, 544054, 549373, 554831, 560142,\n",
              "                          565039, 568993, 572808, 578468, 583961, 589760, 596503, 602130, 606159,\n",
              "                          610319, 616557, 623540, 633506, 639650, 644517, 648621, 654036],\n",
              "                         dtype=int64),\n",
              "              'yaxis': 'y'},\n",
              "             {'hovertemplate': 'variable=Active<br>Date=%{x}<br>value=%{y}<extra></extra>',\n",
              "              'legendgroup': 'Active',\n",
              "              'line': {'color': '#00cc96', 'dash': 'solid'},\n",
              "              'marker': {'symbol': 'circle'},\n",
              "              'mode': 'lines',\n",
              "              'name': 'Active',\n",
              "              'orientation': 'v',\n",
              "              'showlegend': True,\n",
              "              'type': 'scatter',\n",
              "              'x': array([datetime.datetime(2020, 1, 22, 0, 0),\n",
              "                          datetime.datetime(2020, 1, 23, 0, 0),\n",
              "                          datetime.datetime(2020, 1, 24, 0, 0),\n",
              "                          datetime.datetime(2020, 1, 25, 0, 0),\n",
              "                          datetime.datetime(2020, 1, 26, 0, 0),\n",
              "                          datetime.datetime(2020, 1, 27, 0, 0),\n",
              "                          datetime.datetime(2020, 1, 28, 0, 0),\n",
              "                          datetime.datetime(2020, 1, 29, 0, 0),\n",
              "                          datetime.datetime(2020, 1, 30, 0, 0),\n",
              "                          datetime.datetime(2020, 1, 31, 0, 0),\n",
              "                          datetime.datetime(2020, 2, 1, 0, 0),\n",
              "                          datetime.datetime(2020, 2, 2, 0, 0),\n",
              "                          datetime.datetime(2020, 2, 3, 0, 0),\n",
              "                          datetime.datetime(2020, 2, 4, 0, 0),\n",
              "                          datetime.datetime(2020, 2, 5, 0, 0),\n",
              "                          datetime.datetime(2020, 2, 6, 0, 0),\n",
              "                          datetime.datetime(2020, 2, 7, 0, 0),\n",
              "                          datetime.datetime(2020, 2, 8, 0, 0),\n",
              "                          datetime.datetime(2020, 2, 9, 0, 0),\n",
              "                          datetime.datetime(2020, 2, 10, 0, 0),\n",
              "                          datetime.datetime(2020, 2, 11, 0, 0),\n",
              "                          datetime.datetime(2020, 2, 12, 0, 0),\n",
              "                          datetime.datetime(2020, 2, 13, 0, 0),\n",
              "                          datetime.datetime(2020, 2, 14, 0, 0),\n",
              "                          datetime.datetime(2020, 2, 15, 0, 0),\n",
              "                          datetime.datetime(2020, 2, 16, 0, 0),\n",
              "                          datetime.datetime(2020, 2, 17, 0, 0),\n",
              "                          datetime.datetime(2020, 2, 18, 0, 0),\n",
              "                          datetime.datetime(2020, 2, 19, 0, 0),\n",
              "                          datetime.datetime(2020, 2, 20, 0, 0),\n",
              "                          datetime.datetime(2020, 2, 21, 0, 0),\n",
              "                          datetime.datetime(2020, 2, 22, 0, 0),\n",
              "                          datetime.datetime(2020, 2, 23, 0, 0),\n",
              "                          datetime.datetime(2020, 2, 24, 0, 0),\n",
              "                          datetime.datetime(2020, 2, 25, 0, 0),\n",
              "                          datetime.datetime(2020, 2, 26, 0, 0),\n",
              "                          datetime.datetime(2020, 2, 27, 0, 0),\n",
              "                          datetime.datetime(2020, 2, 28, 0, 0),\n",
              "                          datetime.datetime(2020, 2, 29, 0, 0),\n",
              "                          datetime.datetime(2020, 3, 1, 0, 0),\n",
              "                          datetime.datetime(2020, 3, 2, 0, 0),\n",
              "                          datetime.datetime(2020, 3, 3, 0, 0),\n",
              "                          datetime.datetime(2020, 3, 4, 0, 0),\n",
              "                          datetime.datetime(2020, 3, 5, 0, 0),\n",
              "                          datetime.datetime(2020, 3, 6, 0, 0),\n",
              "                          datetime.datetime(2020, 3, 7, 0, 0),\n",
              "                          datetime.datetime(2020, 3, 8, 0, 0),\n",
              "                          datetime.datetime(2020, 3, 9, 0, 0),\n",
              "                          datetime.datetime(2020, 3, 10, 0, 0),\n",
              "                          datetime.datetime(2020, 3, 11, 0, 0),\n",
              "                          datetime.datetime(2020, 3, 12, 0, 0),\n",
              "                          datetime.datetime(2020, 3, 13, 0, 0),\n",
              "                          datetime.datetime(2020, 3, 14, 0, 0),\n",
              "                          datetime.datetime(2020, 3, 15, 0, 0),\n",
              "                          datetime.datetime(2020, 3, 16, 0, 0),\n",
              "                          datetime.datetime(2020, 3, 17, 0, 0),\n",
              "                          datetime.datetime(2020, 3, 18, 0, 0),\n",
              "                          datetime.datetime(2020, 3, 19, 0, 0),\n",
              "                          datetime.datetime(2020, 3, 20, 0, 0),\n",
              "                          datetime.datetime(2020, 3, 21, 0, 0),\n",
              "                          datetime.datetime(2020, 3, 22, 0, 0),\n",
              "                          datetime.datetime(2020, 3, 23, 0, 0),\n",
              "                          datetime.datetime(2020, 3, 24, 0, 0),\n",
              "                          datetime.datetime(2020, 3, 25, 0, 0),\n",
              "                          datetime.datetime(2020, 3, 26, 0, 0),\n",
              "                          datetime.datetime(2020, 3, 27, 0, 0),\n",
              "                          datetime.datetime(2020, 3, 28, 0, 0),\n",
              "                          datetime.datetime(2020, 3, 29, 0, 0),\n",
              "                          datetime.datetime(2020, 3, 30, 0, 0),\n",
              "                          datetime.datetime(2020, 3, 31, 0, 0),\n",
              "                          datetime.datetime(2020, 4, 1, 0, 0),\n",
              "                          datetime.datetime(2020, 4, 2, 0, 0),\n",
              "                          datetime.datetime(2020, 4, 3, 0, 0),\n",
              "                          datetime.datetime(2020, 4, 4, 0, 0),\n",
              "                          datetime.datetime(2020, 4, 5, 0, 0),\n",
              "                          datetime.datetime(2020, 4, 6, 0, 0),\n",
              "                          datetime.datetime(2020, 4, 7, 0, 0),\n",
              "                          datetime.datetime(2020, 4, 8, 0, 0),\n",
              "                          datetime.datetime(2020, 4, 9, 0, 0),\n",
              "                          datetime.datetime(2020, 4, 10, 0, 0),\n",
              "                          datetime.datetime(2020, 4, 11, 0, 0),\n",
              "                          datetime.datetime(2020, 4, 12, 0, 0),\n",
              "                          datetime.datetime(2020, 4, 13, 0, 0),\n",
              "                          datetime.datetime(2020, 4, 14, 0, 0),\n",
              "                          datetime.datetime(2020, 4, 15, 0, 0),\n",
              "                          datetime.datetime(2020, 4, 16, 0, 0),\n",
              "                          datetime.datetime(2020, 4, 17, 0, 0),\n",
              "                          datetime.datetime(2020, 4, 18, 0, 0),\n",
              "                          datetime.datetime(2020, 4, 19, 0, 0),\n",
              "                          datetime.datetime(2020, 4, 20, 0, 0),\n",
              "                          datetime.datetime(2020, 4, 21, 0, 0),\n",
              "                          datetime.datetime(2020, 4, 22, 0, 0),\n",
              "                          datetime.datetime(2020, 4, 23, 0, 0),\n",
              "                          datetime.datetime(2020, 4, 24, 0, 0),\n",
              "                          datetime.datetime(2020, 4, 25, 0, 0),\n",
              "                          datetime.datetime(2020, 4, 26, 0, 0),\n",
              "                          datetime.datetime(2020, 4, 27, 0, 0),\n",
              "                          datetime.datetime(2020, 4, 28, 0, 0),\n",
              "                          datetime.datetime(2020, 4, 29, 0, 0),\n",
              "                          datetime.datetime(2020, 4, 30, 0, 0),\n",
              "                          datetime.datetime(2020, 5, 1, 0, 0),\n",
              "                          datetime.datetime(2020, 5, 2, 0, 0),\n",
              "                          datetime.datetime(2020, 5, 3, 0, 0),\n",
              "                          datetime.datetime(2020, 5, 4, 0, 0),\n",
              "                          datetime.datetime(2020, 5, 5, 0, 0),\n",
              "                          datetime.datetime(2020, 5, 6, 0, 0),\n",
              "                          datetime.datetime(2020, 5, 7, 0, 0),\n",
              "                          datetime.datetime(2020, 5, 8, 0, 0),\n",
              "                          datetime.datetime(2020, 5, 9, 0, 0),\n",
              "                          datetime.datetime(2020, 5, 10, 0, 0),\n",
              "                          datetime.datetime(2020, 5, 11, 0, 0),\n",
              "                          datetime.datetime(2020, 5, 12, 0, 0),\n",
              "                          datetime.datetime(2020, 5, 13, 0, 0),\n",
              "                          datetime.datetime(2020, 5, 14, 0, 0),\n",
              "                          datetime.datetime(2020, 5, 15, 0, 0),\n",
              "                          datetime.datetime(2020, 5, 16, 0, 0),\n",
              "                          datetime.datetime(2020, 5, 17, 0, 0),\n",
              "                          datetime.datetime(2020, 5, 18, 0, 0),\n",
              "                          datetime.datetime(2020, 5, 19, 0, 0),\n",
              "                          datetime.datetime(2020, 5, 20, 0, 0),\n",
              "                          datetime.datetime(2020, 5, 21, 0, 0),\n",
              "                          datetime.datetime(2020, 5, 22, 0, 0),\n",
              "                          datetime.datetime(2020, 5, 23, 0, 0),\n",
              "                          datetime.datetime(2020, 5, 24, 0, 0),\n",
              "                          datetime.datetime(2020, 5, 25, 0, 0),\n",
              "                          datetime.datetime(2020, 5, 26, 0, 0),\n",
              "                          datetime.datetime(2020, 5, 27, 0, 0),\n",
              "                          datetime.datetime(2020, 5, 28, 0, 0),\n",
              "                          datetime.datetime(2020, 5, 29, 0, 0),\n",
              "                          datetime.datetime(2020, 5, 30, 0, 0),\n",
              "                          datetime.datetime(2020, 5, 31, 0, 0),\n",
              "                          datetime.datetime(2020, 6, 1, 0, 0),\n",
              "                          datetime.datetime(2020, 6, 2, 0, 0),\n",
              "                          datetime.datetime(2020, 6, 3, 0, 0),\n",
              "                          datetime.datetime(2020, 6, 4, 0, 0),\n",
              "                          datetime.datetime(2020, 6, 5, 0, 0),\n",
              "                          datetime.datetime(2020, 6, 6, 0, 0),\n",
              "                          datetime.datetime(2020, 6, 7, 0, 0),\n",
              "                          datetime.datetime(2020, 6, 8, 0, 0),\n",
              "                          datetime.datetime(2020, 6, 9, 0, 0),\n",
              "                          datetime.datetime(2020, 6, 10, 0, 0),\n",
              "                          datetime.datetime(2020, 6, 11, 0, 0),\n",
              "                          datetime.datetime(2020, 6, 12, 0, 0),\n",
              "                          datetime.datetime(2020, 6, 13, 0, 0),\n",
              "                          datetime.datetime(2020, 6, 14, 0, 0),\n",
              "                          datetime.datetime(2020, 6, 15, 0, 0),\n",
              "                          datetime.datetime(2020, 6, 16, 0, 0),\n",
              "                          datetime.datetime(2020, 6, 17, 0, 0),\n",
              "                          datetime.datetime(2020, 6, 18, 0, 0),\n",
              "                          datetime.datetime(2020, 6, 19, 0, 0),\n",
              "                          datetime.datetime(2020, 6, 20, 0, 0),\n",
              "                          datetime.datetime(2020, 6, 21, 0, 0),\n",
              "                          datetime.datetime(2020, 6, 22, 0, 0),\n",
              "                          datetime.datetime(2020, 6, 23, 0, 0),\n",
              "                          datetime.datetime(2020, 6, 24, 0, 0),\n",
              "                          datetime.datetime(2020, 6, 25, 0, 0),\n",
              "                          datetime.datetime(2020, 6, 26, 0, 0),\n",
              "                          datetime.datetime(2020, 6, 27, 0, 0),\n",
              "                          datetime.datetime(2020, 6, 28, 0, 0),\n",
              "                          datetime.datetime(2020, 6, 29, 0, 0),\n",
              "                          datetime.datetime(2020, 6, 30, 0, 0),\n",
              "                          datetime.datetime(2020, 7, 1, 0, 0),\n",
              "                          datetime.datetime(2020, 7, 2, 0, 0),\n",
              "                          datetime.datetime(2020, 7, 3, 0, 0),\n",
              "                          datetime.datetime(2020, 7, 4, 0, 0),\n",
              "                          datetime.datetime(2020, 7, 5, 0, 0),\n",
              "                          datetime.datetime(2020, 7, 6, 0, 0),\n",
              "                          datetime.datetime(2020, 7, 7, 0, 0),\n",
              "                          datetime.datetime(2020, 7, 8, 0, 0),\n",
              "                          datetime.datetime(2020, 7, 9, 0, 0),\n",
              "                          datetime.datetime(2020, 7, 10, 0, 0),\n",
              "                          datetime.datetime(2020, 7, 11, 0, 0),\n",
              "                          datetime.datetime(2020, 7, 12, 0, 0),\n",
              "                          datetime.datetime(2020, 7, 13, 0, 0),\n",
              "                          datetime.datetime(2020, 7, 14, 0, 0),\n",
              "                          datetime.datetime(2020, 7, 15, 0, 0),\n",
              "                          datetime.datetime(2020, 7, 16, 0, 0),\n",
              "                          datetime.datetime(2020, 7, 17, 0, 0),\n",
              "                          datetime.datetime(2020, 7, 18, 0, 0),\n",
              "                          datetime.datetime(2020, 7, 19, 0, 0),\n",
              "                          datetime.datetime(2020, 7, 20, 0, 0),\n",
              "                          datetime.datetime(2020, 7, 21, 0, 0),\n",
              "                          datetime.datetime(2020, 7, 22, 0, 0),\n",
              "                          datetime.datetime(2020, 7, 23, 0, 0),\n",
              "                          datetime.datetime(2020, 7, 24, 0, 0),\n",
              "                          datetime.datetime(2020, 7, 25, 0, 0),\n",
              "                          datetime.datetime(2020, 7, 26, 0, 0),\n",
              "                          datetime.datetime(2020, 7, 27, 0, 0)], dtype=object),\n",
              "              'xaxis': 'x',\n",
              "              'y': array([    510,     606,     879,    1353,    2010,    2784,    5340,    5908,\n",
              "                             7922,    9495,   11498,   15966,   18857,   22585,   26008,   28750,\n",
              "                            31712,   33792,   36132,   37906,   39145,   40594,   52905,   57554,\n",
              "                            58197,   58790,   58996,   58908,   57513,   55962,   55990,   53661,\n",
              "                            53519,   52180,   50348,   48826,   47305,   45238,   44056,   43492,\n",
              "                            42500,   42406,   41672,   41752,   43550,   44999,   46377,   48294,\n",
              "                            51128,   56136,   60260,   72243,   80562,   87657,   99583,  111865,\n",
              "                           128071,  153246,  178931,  205266,  230764,  270546,  299876,  342468,\n",
              "                           394062,  446240,  501926,  548569,  593598,  652803,  708106,  766582,\n",
              "                           828744,  883354,  936646,  987151, 1033269, 1081957, 1136621, 1195879,\n",
              "                          1241261, 1313438, 1350754, 1389164, 1425770, 1485109, 1538671, 1582655,\n",
              "                          1627840, 1674431, 1708343, 1749230, 1802911, 1833537, 1885981, 1927315,\n",
              "                          1964957, 2001495, 2030701, 2044556, 2089540, 2126040, 2169008, 2208008,\n",
              "                          2246497, 2285111, 2330371, 2380782, 2409845, 2449784, 2476456, 2518521,\n",
              "                          2543331, 2596361, 2640327, 2675902, 2710929, 2743712, 2784005, 2823963,\n",
              "                          2875184, 2869027, 2916066, 2953499, 2976234, 3010040, 3044932, 3093412,\n",
              "                          3133456, 3197279, 3226335, 3264452, 3276956, 3312425, 3364867, 3422693,\n",
              "                          3483577, 3538590, 3486196, 3524135, 3574922, 3623295, 3669280, 3715937,\n",
              "                          3776026, 3812839, 3849981, 3869178, 3923452, 4003513, 4041511, 4097815,\n",
              "                          4140884, 4197308, 4247921, 4326728, 4406931, 4474521, 4544278, 4605227,\n",
              "                          4657028, 4754082, 4672273, 4761307, 4755072, 4815151, 4855475, 4915467,\n",
              "                          4964447, 5052995, 5141244, 5227218, 5304469, 5353468, 5427502, 5493703,\n",
              "                          5588524, 5664300, 5745518, 5868451, 5912527, 5965535, 6062930, 6166006,\n",
              "                          6212290, 6243930, 6309711, 6358362], dtype=int64),\n",
              "              'yaxis': 'y'},\n",
              "             {'hovertemplate': 'variable=Recovered<br>Date=%{x}<br>value=%{y}<extra></extra>',\n",
              "              'legendgroup': 'Recovered',\n",
              "              'line': {'color': '#ab63fa', 'dash': 'solid'},\n",
              "              'marker': {'symbol': 'circle'},\n",
              "              'mode': 'lines',\n",
              "              'name': 'Recovered',\n",
              "              'orientation': 'v',\n",
              "              'showlegend': True,\n",
              "              'type': 'scatter',\n",
              "              'x': array([datetime.datetime(2020, 1, 22, 0, 0),\n",
              "                          datetime.datetime(2020, 1, 23, 0, 0),\n",
              "                          datetime.datetime(2020, 1, 24, 0, 0),\n",
              "                          datetime.datetime(2020, 1, 25, 0, 0),\n",
              "                          datetime.datetime(2020, 1, 26, 0, 0),\n",
              "                          datetime.datetime(2020, 1, 27, 0, 0),\n",
              "                          datetime.datetime(2020, 1, 28, 0, 0),\n",
              "                          datetime.datetime(2020, 1, 29, 0, 0),\n",
              "                          datetime.datetime(2020, 1, 30, 0, 0),\n",
              "                          datetime.datetime(2020, 1, 31, 0, 0),\n",
              "                          datetime.datetime(2020, 2, 1, 0, 0),\n",
              "                          datetime.datetime(2020, 2, 2, 0, 0),\n",
              "                          datetime.datetime(2020, 2, 3, 0, 0),\n",
              "                          datetime.datetime(2020, 2, 4, 0, 0),\n",
              "                          datetime.datetime(2020, 2, 5, 0, 0),\n",
              "                          datetime.datetime(2020, 2, 6, 0, 0),\n",
              "                          datetime.datetime(2020, 2, 7, 0, 0),\n",
              "                          datetime.datetime(2020, 2, 8, 0, 0),\n",
              "                          datetime.datetime(2020, 2, 9, 0, 0),\n",
              "                          datetime.datetime(2020, 2, 10, 0, 0),\n",
              "                          datetime.datetime(2020, 2, 11, 0, 0),\n",
              "                          datetime.datetime(2020, 2, 12, 0, 0),\n",
              "                          datetime.datetime(2020, 2, 13, 0, 0),\n",
              "                          datetime.datetime(2020, 2, 14, 0, 0),\n",
              "                          datetime.datetime(2020, 2, 15, 0, 0),\n",
              "                          datetime.datetime(2020, 2, 16, 0, 0),\n",
              "                          datetime.datetime(2020, 2, 17, 0, 0),\n",
              "                          datetime.datetime(2020, 2, 18, 0, 0),\n",
              "                          datetime.datetime(2020, 2, 19, 0, 0),\n",
              "                          datetime.datetime(2020, 2, 20, 0, 0),\n",
              "                          datetime.datetime(2020, 2, 21, 0, 0),\n",
              "                          datetime.datetime(2020, 2, 22, 0, 0),\n",
              "                          datetime.datetime(2020, 2, 23, 0, 0),\n",
              "                          datetime.datetime(2020, 2, 24, 0, 0),\n",
              "                          datetime.datetime(2020, 2, 25, 0, 0),\n",
              "                          datetime.datetime(2020, 2, 26, 0, 0),\n",
              "                          datetime.datetime(2020, 2, 27, 0, 0),\n",
              "                          datetime.datetime(2020, 2, 28, 0, 0),\n",
              "                          datetime.datetime(2020, 2, 29, 0, 0),\n",
              "                          datetime.datetime(2020, 3, 1, 0, 0),\n",
              "                          datetime.datetime(2020, 3, 2, 0, 0),\n",
              "                          datetime.datetime(2020, 3, 3, 0, 0),\n",
              "                          datetime.datetime(2020, 3, 4, 0, 0),\n",
              "                          datetime.datetime(2020, 3, 5, 0, 0),\n",
              "                          datetime.datetime(2020, 3, 6, 0, 0),\n",
              "                          datetime.datetime(2020, 3, 7, 0, 0),\n",
              "                          datetime.datetime(2020, 3, 8, 0, 0),\n",
              "                          datetime.datetime(2020, 3, 9, 0, 0),\n",
              "                          datetime.datetime(2020, 3, 10, 0, 0),\n",
              "                          datetime.datetime(2020, 3, 11, 0, 0),\n",
              "                          datetime.datetime(2020, 3, 12, 0, 0),\n",
              "                          datetime.datetime(2020, 3, 13, 0, 0),\n",
              "                          datetime.datetime(2020, 3, 14, 0, 0),\n",
              "                          datetime.datetime(2020, 3, 15, 0, 0),\n",
              "                          datetime.datetime(2020, 3, 16, 0, 0),\n",
              "                          datetime.datetime(2020, 3, 17, 0, 0),\n",
              "                          datetime.datetime(2020, 3, 18, 0, 0),\n",
              "                          datetime.datetime(2020, 3, 19, 0, 0),\n",
              "                          datetime.datetime(2020, 3, 20, 0, 0),\n",
              "                          datetime.datetime(2020, 3, 21, 0, 0),\n",
              "                          datetime.datetime(2020, 3, 22, 0, 0),\n",
              "                          datetime.datetime(2020, 3, 23, 0, 0),\n",
              "                          datetime.datetime(2020, 3, 24, 0, 0),\n",
              "                          datetime.datetime(2020, 3, 25, 0, 0),\n",
              "                          datetime.datetime(2020, 3, 26, 0, 0),\n",
              "                          datetime.datetime(2020, 3, 27, 0, 0),\n",
              "                          datetime.datetime(2020, 3, 28, 0, 0),\n",
              "                          datetime.datetime(2020, 3, 29, 0, 0),\n",
              "                          datetime.datetime(2020, 3, 30, 0, 0),\n",
              "                          datetime.datetime(2020, 3, 31, 0, 0),\n",
              "                          datetime.datetime(2020, 4, 1, 0, 0),\n",
              "                          datetime.datetime(2020, 4, 2, 0, 0),\n",
              "                          datetime.datetime(2020, 4, 3, 0, 0),\n",
              "                          datetime.datetime(2020, 4, 4, 0, 0),\n",
              "                          datetime.datetime(2020, 4, 5, 0, 0),\n",
              "                          datetime.datetime(2020, 4, 6, 0, 0),\n",
              "                          datetime.datetime(2020, 4, 7, 0, 0),\n",
              "                          datetime.datetime(2020, 4, 8, 0, 0),\n",
              "                          datetime.datetime(2020, 4, 9, 0, 0),\n",
              "                          datetime.datetime(2020, 4, 10, 0, 0),\n",
              "                          datetime.datetime(2020, 4, 11, 0, 0),\n",
              "                          datetime.datetime(2020, 4, 12, 0, 0),\n",
              "                          datetime.datetime(2020, 4, 13, 0, 0),\n",
              "                          datetime.datetime(2020, 4, 14, 0, 0),\n",
              "                          datetime.datetime(2020, 4, 15, 0, 0),\n",
              "                          datetime.datetime(2020, 4, 16, 0, 0),\n",
              "                          datetime.datetime(2020, 4, 17, 0, 0),\n",
              "                          datetime.datetime(2020, 4, 18, 0, 0),\n",
              "                          datetime.datetime(2020, 4, 19, 0, 0),\n",
              "                          datetime.datetime(2020, 4, 20, 0, 0),\n",
              "                          datetime.datetime(2020, 4, 21, 0, 0),\n",
              "                          datetime.datetime(2020, 4, 22, 0, 0),\n",
              "                          datetime.datetime(2020, 4, 23, 0, 0),\n",
              "                          datetime.datetime(2020, 4, 24, 0, 0),\n",
              "                          datetime.datetime(2020, 4, 25, 0, 0),\n",
              "                          datetime.datetime(2020, 4, 26, 0, 0),\n",
              "                          datetime.datetime(2020, 4, 27, 0, 0),\n",
              "                          datetime.datetime(2020, 4, 28, 0, 0),\n",
              "                          datetime.datetime(2020, 4, 29, 0, 0),\n",
              "                          datetime.datetime(2020, 4, 30, 0, 0),\n",
              "                          datetime.datetime(2020, 5, 1, 0, 0),\n",
              "                          datetime.datetime(2020, 5, 2, 0, 0),\n",
              "                          datetime.datetime(2020, 5, 3, 0, 0),\n",
              "                          datetime.datetime(2020, 5, 4, 0, 0),\n",
              "                          datetime.datetime(2020, 5, 5, 0, 0),\n",
              "                          datetime.datetime(2020, 5, 6, 0, 0),\n",
              "                          datetime.datetime(2020, 5, 7, 0, 0),\n",
              "                          datetime.datetime(2020, 5, 8, 0, 0),\n",
              "                          datetime.datetime(2020, 5, 9, 0, 0),\n",
              "                          datetime.datetime(2020, 5, 10, 0, 0),\n",
              "                          datetime.datetime(2020, 5, 11, 0, 0),\n",
              "                          datetime.datetime(2020, 5, 12, 0, 0),\n",
              "                          datetime.datetime(2020, 5, 13, 0, 0),\n",
              "                          datetime.datetime(2020, 5, 14, 0, 0),\n",
              "                          datetime.datetime(2020, 5, 15, 0, 0),\n",
              "                          datetime.datetime(2020, 5, 16, 0, 0),\n",
              "                          datetime.datetime(2020, 5, 17, 0, 0),\n",
              "                          datetime.datetime(2020, 5, 18, 0, 0),\n",
              "                          datetime.datetime(2020, 5, 19, 0, 0),\n",
              "                          datetime.datetime(2020, 5, 20, 0, 0),\n",
              "                          datetime.datetime(2020, 5, 21, 0, 0),\n",
              "                          datetime.datetime(2020, 5, 22, 0, 0),\n",
              "                          datetime.datetime(2020, 5, 23, 0, 0),\n",
              "                          datetime.datetime(2020, 5, 24, 0, 0),\n",
              "                          datetime.datetime(2020, 5, 25, 0, 0),\n",
              "                          datetime.datetime(2020, 5, 26, 0, 0),\n",
              "                          datetime.datetime(2020, 5, 27, 0, 0),\n",
              "                          datetime.datetime(2020, 5, 28, 0, 0),\n",
              "                          datetime.datetime(2020, 5, 29, 0, 0),\n",
              "                          datetime.datetime(2020, 5, 30, 0, 0),\n",
              "                          datetime.datetime(2020, 5, 31, 0, 0),\n",
              "                          datetime.datetime(2020, 6, 1, 0, 0),\n",
              "                          datetime.datetime(2020, 6, 2, 0, 0),\n",
              "                          datetime.datetime(2020, 6, 3, 0, 0),\n",
              "                          datetime.datetime(2020, 6, 4, 0, 0),\n",
              "                          datetime.datetime(2020, 6, 5, 0, 0),\n",
              "                          datetime.datetime(2020, 6, 6, 0, 0),\n",
              "                          datetime.datetime(2020, 6, 7, 0, 0),\n",
              "                          datetime.datetime(2020, 6, 8, 0, 0),\n",
              "                          datetime.datetime(2020, 6, 9, 0, 0),\n",
              "                          datetime.datetime(2020, 6, 10, 0, 0),\n",
              "                          datetime.datetime(2020, 6, 11, 0, 0),\n",
              "                          datetime.datetime(2020, 6, 12, 0, 0),\n",
              "                          datetime.datetime(2020, 6, 13, 0, 0),\n",
              "                          datetime.datetime(2020, 6, 14, 0, 0),\n",
              "                          datetime.datetime(2020, 6, 15, 0, 0),\n",
              "                          datetime.datetime(2020, 6, 16, 0, 0),\n",
              "                          datetime.datetime(2020, 6, 17, 0, 0),\n",
              "                          datetime.datetime(2020, 6, 18, 0, 0),\n",
              "                          datetime.datetime(2020, 6, 19, 0, 0),\n",
              "                          datetime.datetime(2020, 6, 20, 0, 0),\n",
              "                          datetime.datetime(2020, 6, 21, 0, 0),\n",
              "                          datetime.datetime(2020, 6, 22, 0, 0),\n",
              "                          datetime.datetime(2020, 6, 23, 0, 0),\n",
              "                          datetime.datetime(2020, 6, 24, 0, 0),\n",
              "                          datetime.datetime(2020, 6, 25, 0, 0),\n",
              "                          datetime.datetime(2020, 6, 26, 0, 0),\n",
              "                          datetime.datetime(2020, 6, 27, 0, 0),\n",
              "                          datetime.datetime(2020, 6, 28, 0, 0),\n",
              "                          datetime.datetime(2020, 6, 29, 0, 0),\n",
              "                          datetime.datetime(2020, 6, 30, 0, 0),\n",
              "                          datetime.datetime(2020, 7, 1, 0, 0),\n",
              "                          datetime.datetime(2020, 7, 2, 0, 0),\n",
              "                          datetime.datetime(2020, 7, 3, 0, 0),\n",
              "                          datetime.datetime(2020, 7, 4, 0, 0),\n",
              "                          datetime.datetime(2020, 7, 5, 0, 0),\n",
              "                          datetime.datetime(2020, 7, 6, 0, 0),\n",
              "                          datetime.datetime(2020, 7, 7, 0, 0),\n",
              "                          datetime.datetime(2020, 7, 8, 0, 0),\n",
              "                          datetime.datetime(2020, 7, 9, 0, 0),\n",
              "                          datetime.datetime(2020, 7, 10, 0, 0),\n",
              "                          datetime.datetime(2020, 7, 11, 0, 0),\n",
              "                          datetime.datetime(2020, 7, 12, 0, 0),\n",
              "                          datetime.datetime(2020, 7, 13, 0, 0),\n",
              "                          datetime.datetime(2020, 7, 14, 0, 0),\n",
              "                          datetime.datetime(2020, 7, 15, 0, 0),\n",
              "                          datetime.datetime(2020, 7, 16, 0, 0),\n",
              "                          datetime.datetime(2020, 7, 17, 0, 0),\n",
              "                          datetime.datetime(2020, 7, 18, 0, 0),\n",
              "                          datetime.datetime(2020, 7, 19, 0, 0),\n",
              "                          datetime.datetime(2020, 7, 20, 0, 0),\n",
              "                          datetime.datetime(2020, 7, 21, 0, 0),\n",
              "                          datetime.datetime(2020, 7, 22, 0, 0),\n",
              "                          datetime.datetime(2020, 7, 23, 0, 0),\n",
              "                          datetime.datetime(2020, 7, 24, 0, 0),\n",
              "                          datetime.datetime(2020, 7, 25, 0, 0),\n",
              "                          datetime.datetime(2020, 7, 26, 0, 0),\n",
              "                          datetime.datetime(2020, 7, 27, 0, 0)], dtype=object),\n",
              "              'xaxis': 'x',\n",
              "              'y': array([     28,      30,      36,      39,      52,      61,     107,     125,\n",
              "                              141,     219,     281,     459,     604,     821,    1071,    1418,\n",
              "                             1903,    2470,    3057,    3714,    4417,    4849,    5930,    7613,\n",
              "                             8902,   10319,   11951,   13693,   15394,   17369,   17966,   21849,\n",
              "                            22304,   24047,   26652,   29077,   31919,   35306,   38314,   41208,\n",
              "                            44085,   46681,   49619,   52237,   54270,   56760,   59092,   60891,\n",
              "                            62802,   65113,   66434,   68359,   70729,   74139,   76192,   78944,\n",
              "                            81427,   83064,   85509,   89775,   95990,   96456,  105997,  111445,\n",
              "                           119804,  128508,  136800,  146261,  161707,  174074,  189434,  206052,\n",
              "                           221060,  241072,  254477,  270812,  293665,  322017,  346349,  367477,\n",
              "                           392991,  411864,  438395,  463014,  498925,  529015,  554287,  577789,\n",
              "                           608557,  629862,  664043,  693207,  721689,  771329,  798239,  825969,\n",
              "                           852382,  884680,  925752,  989616, 1026501, 1066362, 1097577, 1130526,\n",
              "                          1166155, 1210894, 1249311, 1284849, 1337367, 1370108, 1416204, 1452191,\n",
              "                          1506905, 1545712, 1592880, 1648546, 1688699, 1740909, 1792256, 1850441,\n",
              "                          1900768, 2008541, 2062802, 2117555, 2180605, 2235118, 2297613, 2363746,\n",
              "                          2440127, 2509981, 2585589, 2639599, 2743083, 2821430, 2890776, 2959037,\n",
              "                          3030214, 3084718, 3235640, 3317121, 3395154, 3480121, 3558933, 3644048,\n",
              "                          3714006, 3793406, 3890800, 4008201, 4088826, 4183298, 4298603, 4366875,\n",
              "                          4458093, 4561696, 4677005, 4769458, 4875774, 4981808, 5070592, 5164494,\n",
              "                          5281459, 5397083, 5681477, 5790942, 5986375, 6105546, 6228768, 6373513,\n",
              "                          6531016, 6665237, 6804254, 6929711, 7041174, 7181139, 7322897, 7482320,\n",
              "                          7634241, 7793760, 7944550, 8032235, 8190777, 8364986, 8541255, 8710969,\n",
              "                          8939705, 9158743, 9293464, 9468087], dtype=int64),\n",
              "              'yaxis': 'y'}],\n",
              "    'layout': {'legend': {'title': {'text': 'variable'}, 'tracegroupgap': 0},\n",
              "               'template': '...',\n",
              "               'title': {'text': 'NO. of Different Cases over Time'},\n",
              "               'xaxis': {'anchor': 'y', 'domain': [0.0, 1.0], 'title': {'text': 'Date'}},\n",
              "               'yaxis': {'anchor': 'x', 'domain': [0.0, 1.0], 'title': {'text': 'value'}}}\n",
              "})"
            ]
          },
          "execution_count": 43,
          "metadata": {},
          "output_type": "execute_result"
        }
      ],
      "source": [
        "px.line(day_wise,x='Date',y=cases,title='NO. of Different Cases over Time',template=\"plotly_dark\")"
      ]
    },
    {
      "cell_type": "code",
      "execution_count": 44,
      "metadata": {
        "colab": {
          "base_uri": "https://localhost:8080/",
          "height": 542
        },
        "id": "YiiGPiPDmwYd",
        "outputId": "7cd08a03-faa7-450a-b89c-9f4817f59bb3"
      },
      "outputs": [
        {
          "ename": "ValueError",
          "evalue": "Mime type rendering requires nbformat>=4.2.0 but it is not installed",
          "output_type": "error",
          "traceback": [
            "\u001b[1;31m---------------------------------------------------------------------------\u001b[0m",
            "\u001b[1;31mValueError\u001b[0m                                Traceback (most recent call last)",
            "File \u001b[1;32m~\\AppData\\Roaming\\Python\\Python310\\site-packages\\IPython\\core\\formatters.py:922\u001b[0m, in \u001b[0;36mIPythonDisplayFormatter.__call__\u001b[1;34m(self, obj)\u001b[0m\n\u001b[0;32m    920\u001b[0m method \u001b[39m=\u001b[39m get_real_method(obj, \u001b[39mself\u001b[39m\u001b[39m.\u001b[39mprint_method)\n\u001b[0;32m    921\u001b[0m \u001b[39mif\u001b[39;00m method \u001b[39mis\u001b[39;00m \u001b[39mnot\u001b[39;00m \u001b[39mNone\u001b[39;00m:\n\u001b[1;32m--> 922\u001b[0m     method()\n\u001b[0;32m    923\u001b[0m     \u001b[39mreturn\u001b[39;00m \u001b[39mTrue\u001b[39;00m\n",
            "File \u001b[1;32m~\\AppData\\Roaming\\Python\\Python310\\site-packages\\plotly\\basedatatypes.py:834\u001b[0m, in \u001b[0;36mBaseFigure._ipython_display_\u001b[1;34m(self)\u001b[0m\n\u001b[0;32m    831\u001b[0m \u001b[39mimport\u001b[39;00m \u001b[39mplotly\u001b[39;00m\u001b[39m.\u001b[39;00m\u001b[39mio\u001b[39;00m \u001b[39mas\u001b[39;00m \u001b[39mpio\u001b[39;00m\n\u001b[0;32m    833\u001b[0m \u001b[39mif\u001b[39;00m pio\u001b[39m.\u001b[39mrenderers\u001b[39m.\u001b[39mrender_on_display \u001b[39mand\u001b[39;00m pio\u001b[39m.\u001b[39mrenderers\u001b[39m.\u001b[39mdefault:\n\u001b[1;32m--> 834\u001b[0m     pio\u001b[39m.\u001b[39;49mshow(\u001b[39mself\u001b[39;49m)\n\u001b[0;32m    835\u001b[0m \u001b[39melse\u001b[39;00m:\n\u001b[0;32m    836\u001b[0m     \u001b[39mprint\u001b[39m(\u001b[39mrepr\u001b[39m(\u001b[39mself\u001b[39m))\n",
            "File \u001b[1;32m~\\AppData\\Roaming\\Python\\Python310\\site-packages\\plotly\\io\\_renderers.py:396\u001b[0m, in \u001b[0;36mshow\u001b[1;34m(fig, renderer, validate, **kwargs)\u001b[0m\n\u001b[0;32m    391\u001b[0m         \u001b[39mraise\u001b[39;00m \u001b[39mValueError\u001b[39;00m(\n\u001b[0;32m    392\u001b[0m             \u001b[39m\"\u001b[39m\u001b[39mMime type rendering requires ipython but it is not installed\u001b[39m\u001b[39m\"\u001b[39m\n\u001b[0;32m    393\u001b[0m         )\n\u001b[0;32m    395\u001b[0m     \u001b[39mif\u001b[39;00m \u001b[39mnot\u001b[39;00m nbformat \u001b[39mor\u001b[39;00m Version(nbformat\u001b[39m.\u001b[39m__version__) \u001b[39m<\u001b[39m Version(\u001b[39m\"\u001b[39m\u001b[39m4.2.0\u001b[39m\u001b[39m\"\u001b[39m):\n\u001b[1;32m--> 396\u001b[0m         \u001b[39mraise\u001b[39;00m \u001b[39mValueError\u001b[39;00m(\n\u001b[0;32m    397\u001b[0m             \u001b[39m\"\u001b[39m\u001b[39mMime type rendering requires nbformat>=4.2.0 but it is not installed\u001b[39m\u001b[39m\"\u001b[39m\n\u001b[0;32m    398\u001b[0m         )\n\u001b[0;32m    400\u001b[0m     ipython_display\u001b[39m.\u001b[39mdisplay(bundle, raw\u001b[39m=\u001b[39m\u001b[39mTrue\u001b[39;00m)\n\u001b[0;32m    402\u001b[0m \u001b[39m# external renderers\u001b[39;00m\n",
            "\u001b[1;31mValueError\u001b[0m: Mime type rendering requires nbformat>=4.2.0 but it is not installed"
          ]
        },
        {
          "data": {
            "application/vnd.plotly.v1+json": {
              "config": {
                "plotlyServerURL": "https://plot.ly"
              },
              "data": [
                {
                  "hovertemplate": "Date=%{x}<br>Deaths=%{y}<extra></extra>",
                  "legendgroup": "",
                  "line": {
                    "color": "#636efa",
                    "dash": "solid"
                  },
                  "marker": {
                    "symbol": "circle"
                  },
                  "mode": "lines",
                  "name": "",
                  "orientation": "v",
                  "showlegend": false,
                  "type": "scatter",
                  "x": [
                    "2020-01-22T00:00:00",
                    "2020-01-23T00:00:00",
                    "2020-01-24T00:00:00",
                    "2020-01-25T00:00:00",
                    "2020-01-26T00:00:00",
                    "2020-01-27T00:00:00",
                    "2020-01-28T00:00:00",
                    "2020-01-29T00:00:00",
                    "2020-01-30T00:00:00",
                    "2020-01-31T00:00:00",
                    "2020-02-01T00:00:00",
                    "2020-02-02T00:00:00",
                    "2020-02-03T00:00:00",
                    "2020-02-04T00:00:00",
                    "2020-02-05T00:00:00",
                    "2020-02-06T00:00:00",
                    "2020-02-07T00:00:00",
                    "2020-02-08T00:00:00",
                    "2020-02-09T00:00:00",
                    "2020-02-10T00:00:00",
                    "2020-02-11T00:00:00",
                    "2020-02-12T00:00:00",
                    "2020-02-13T00:00:00",
                    "2020-02-14T00:00:00",
                    "2020-02-15T00:00:00",
                    "2020-02-16T00:00:00",
                    "2020-02-17T00:00:00",
                    "2020-02-18T00:00:00",
                    "2020-02-19T00:00:00",
                    "2020-02-20T00:00:00",
                    "2020-02-21T00:00:00",
                    "2020-02-22T00:00:00",
                    "2020-02-23T00:00:00",
                    "2020-02-24T00:00:00",
                    "2020-02-25T00:00:00",
                    "2020-02-26T00:00:00",
                    "2020-02-27T00:00:00",
                    "2020-02-28T00:00:00",
                    "2020-02-29T00:00:00",
                    "2020-03-01T00:00:00",
                    "2020-03-02T00:00:00",
                    "2020-03-03T00:00:00",
                    "2020-03-04T00:00:00",
                    "2020-03-05T00:00:00",
                    "2020-03-06T00:00:00",
                    "2020-03-07T00:00:00",
                    "2020-03-08T00:00:00",
                    "2020-03-09T00:00:00",
                    "2020-03-10T00:00:00",
                    "2020-03-11T00:00:00",
                    "2020-03-12T00:00:00",
                    "2020-03-13T00:00:00",
                    "2020-03-14T00:00:00",
                    "2020-03-15T00:00:00",
                    "2020-03-16T00:00:00",
                    "2020-03-17T00:00:00",
                    "2020-03-18T00:00:00",
                    "2020-03-19T00:00:00",
                    "2020-03-20T00:00:00",
                    "2020-03-21T00:00:00",
                    "2020-03-22T00:00:00",
                    "2020-03-23T00:00:00",
                    "2020-03-24T00:00:00",
                    "2020-03-25T00:00:00",
                    "2020-03-26T00:00:00",
                    "2020-03-27T00:00:00",
                    "2020-03-28T00:00:00",
                    "2020-03-29T00:00:00",
                    "2020-03-30T00:00:00",
                    "2020-03-31T00:00:00",
                    "2020-04-01T00:00:00",
                    "2020-04-02T00:00:00",
                    "2020-04-03T00:00:00",
                    "2020-04-04T00:00:00",
                    "2020-04-05T00:00:00",
                    "2020-04-06T00:00:00",
                    "2020-04-07T00:00:00",
                    "2020-04-08T00:00:00",
                    "2020-04-09T00:00:00",
                    "2020-04-10T00:00:00",
                    "2020-04-11T00:00:00",
                    "2020-04-12T00:00:00",
                    "2020-04-13T00:00:00",
                    "2020-04-14T00:00:00",
                    "2020-04-15T00:00:00",
                    "2020-04-16T00:00:00",
                    "2020-04-17T00:00:00",
                    "2020-04-18T00:00:00",
                    "2020-04-19T00:00:00",
                    "2020-04-20T00:00:00",
                    "2020-04-21T00:00:00",
                    "2020-04-22T00:00:00",
                    "2020-04-23T00:00:00",
                    "2020-04-24T00:00:00",
                    "2020-04-25T00:00:00",
                    "2020-04-26T00:00:00",
                    "2020-04-27T00:00:00",
                    "2020-04-28T00:00:00",
                    "2020-04-29T00:00:00",
                    "2020-04-30T00:00:00",
                    "2020-05-01T00:00:00",
                    "2020-05-02T00:00:00",
                    "2020-05-03T00:00:00",
                    "2020-05-04T00:00:00",
                    "2020-05-05T00:00:00",
                    "2020-05-06T00:00:00",
                    "2020-05-07T00:00:00",
                    "2020-05-08T00:00:00",
                    "2020-05-09T00:00:00",
                    "2020-05-10T00:00:00",
                    "2020-05-11T00:00:00",
                    "2020-05-12T00:00:00",
                    "2020-05-13T00:00:00",
                    "2020-05-14T00:00:00",
                    "2020-05-15T00:00:00",
                    "2020-05-16T00:00:00",
                    "2020-05-17T00:00:00",
                    "2020-05-18T00:00:00",
                    "2020-05-19T00:00:00",
                    "2020-05-20T00:00:00",
                    "2020-05-21T00:00:00",
                    "2020-05-22T00:00:00",
                    "2020-05-23T00:00:00",
                    "2020-05-24T00:00:00",
                    "2020-05-25T00:00:00",
                    "2020-05-26T00:00:00",
                    "2020-05-27T00:00:00",
                    "2020-05-28T00:00:00",
                    "2020-05-29T00:00:00",
                    "2020-05-30T00:00:00",
                    "2020-05-31T00:00:00",
                    "2020-06-01T00:00:00",
                    "2020-06-02T00:00:00",
                    "2020-06-03T00:00:00",
                    "2020-06-04T00:00:00",
                    "2020-06-05T00:00:00",
                    "2020-06-06T00:00:00",
                    "2020-06-07T00:00:00",
                    "2020-06-08T00:00:00",
                    "2020-06-09T00:00:00",
                    "2020-06-10T00:00:00",
                    "2020-06-11T00:00:00",
                    "2020-06-12T00:00:00",
                    "2020-06-13T00:00:00",
                    "2020-06-14T00:00:00",
                    "2020-06-15T00:00:00",
                    "2020-06-16T00:00:00",
                    "2020-06-17T00:00:00",
                    "2020-06-18T00:00:00",
                    "2020-06-19T00:00:00",
                    "2020-06-20T00:00:00",
                    "2020-06-21T00:00:00",
                    "2020-06-22T00:00:00",
                    "2020-06-23T00:00:00",
                    "2020-06-24T00:00:00",
                    "2020-06-25T00:00:00",
                    "2020-06-26T00:00:00",
                    "2020-06-27T00:00:00",
                    "2020-06-28T00:00:00",
                    "2020-06-29T00:00:00",
                    "2020-06-30T00:00:00",
                    "2020-07-01T00:00:00",
                    "2020-07-02T00:00:00",
                    "2020-07-03T00:00:00",
                    "2020-07-04T00:00:00",
                    "2020-07-05T00:00:00",
                    "2020-07-06T00:00:00",
                    "2020-07-07T00:00:00",
                    "2020-07-08T00:00:00",
                    "2020-07-09T00:00:00",
                    "2020-07-10T00:00:00",
                    "2020-07-11T00:00:00",
                    "2020-07-12T00:00:00",
                    "2020-07-13T00:00:00",
                    "2020-07-14T00:00:00",
                    "2020-07-15T00:00:00",
                    "2020-07-16T00:00:00",
                    "2020-07-17T00:00:00",
                    "2020-07-18T00:00:00",
                    "2020-07-19T00:00:00",
                    "2020-07-20T00:00:00",
                    "2020-07-21T00:00:00",
                    "2020-07-22T00:00:00",
                    "2020-07-23T00:00:00",
                    "2020-07-24T00:00:00",
                    "2020-07-25T00:00:00",
                    "2020-07-26T00:00:00",
                    "2020-07-27T00:00:00"
                  ],
                  "xaxis": "x",
                  "y": [
                    17,
                    18,
                    26,
                    42,
                    56,
                    82,
                    131,
                    133,
                    171,
                    213,
                    259,
                    362,
                    426,
                    492,
                    564,
                    634,
                    719,
                    806,
                    906,
                    1013,
                    1113,
                    1118,
                    1371,
                    1523,
                    1666,
                    1770,
                    1868,
                    2008,
                    2123,
                    2246,
                    2250,
                    2457,
                    2467,
                    2627,
                    2707,
                    2767,
                    2810,
                    2867,
                    2936,
                    2990,
                    3079,
                    3154,
                    3249,
                    3342,
                    3454,
                    3553,
                    3797,
                    3981,
                    4260,
                    4604,
                    4909,
                    5406,
                    5823,
                    6464,
                    7144,
                    7948,
                    8845,
                    9951,
                    11429,
                    13134,
                    14831,
                    16748,
                    19016,
                    21793,
                    24800,
                    28318,
                    31997,
                    35470,
                    39634,
                    44478,
                    50029,
                    56334,
                    62319,
                    68160,
                    73181,
                    79013,
                    86915,
                    93650,
                    101279,
                    108551,
                    114620,
                    120351,
                    126098,
                    132996,
                    141308,
                    148591,
                    157481,
                    163952,
                    168522,
                    173965,
                    181122,
                    187877,
                    194727,
                    201401,
                    206979,
                    210862,
                    215511,
                    221974,
                    228742,
                    234704,
                    239881,
                    245206,
                    248659,
                    252787,
                    258658,
                    265327,
                    270736,
                    276304,
                    280569,
                    284135,
                    287608,
                    293155,
                    298383,
                    303651,
                    308866,
                    313037,
                    316366,
                    319657,
                    324441,
                    329326,
                    334112,
                    339396,
                    343385,
                    346525,
                    347703,
                    351906,
                    357119,
                    361820,
                    366562,
                    370718,
                    373606,
                    376674,
                    381497,
                    387069,
                    392218,
                    396994,
                    400875,
                    403617,
                    407314,
                    412236,
                    417441,
                    422215,
                    426512,
                    430750,
                    434124,
                    437549,
                    444416,
                    449671,
                    454700,
                    460973,
                    465222,
                    469185,
                    472756,
                    478067,
                    483328,
                    489955,
                    494782,
                    499268,
                    502357,
                    506078,
                    511210,
                    516221,
                    521341,
                    526336,
                    530705,
                    534150,
                    537947,
                    544054,
                    549373,
                    554831,
                    560142,
                    565039,
                    568993,
                    572808,
                    578468,
                    583961,
                    589760,
                    596503,
                    602130,
                    606159,
                    610319,
                    616557,
                    623540,
                    633506,
                    639650,
                    644517,
                    648621,
                    654036
                  ],
                  "yaxis": "y"
                }
              ],
              "layout": {
                "legend": {
                  "tracegroupgap": 0
                },
                "template": {
                  "data": {
                    "bar": [
                      {
                        "error_x": {
                          "color": "#f2f5fa"
                        },
                        "error_y": {
                          "color": "#f2f5fa"
                        },
                        "marker": {
                          "line": {
                            "color": "rgb(17,17,17)",
                            "width": 0.5
                          },
                          "pattern": {
                            "fillmode": "overlay",
                            "size": 10,
                            "solidity": 0.2
                          }
                        },
                        "type": "bar"
                      }
                    ],
                    "barpolar": [
                      {
                        "marker": {
                          "line": {
                            "color": "rgb(17,17,17)",
                            "width": 0.5
                          },
                          "pattern": {
                            "fillmode": "overlay",
                            "size": 10,
                            "solidity": 0.2
                          }
                        },
                        "type": "barpolar"
                      }
                    ],
                    "carpet": [
                      {
                        "aaxis": {
                          "endlinecolor": "#A2B1C6",
                          "gridcolor": "#506784",
                          "linecolor": "#506784",
                          "minorgridcolor": "#506784",
                          "startlinecolor": "#A2B1C6"
                        },
                        "baxis": {
                          "endlinecolor": "#A2B1C6",
                          "gridcolor": "#506784",
                          "linecolor": "#506784",
                          "minorgridcolor": "#506784",
                          "startlinecolor": "#A2B1C6"
                        },
                        "type": "carpet"
                      }
                    ],
                    "choropleth": [
                      {
                        "colorbar": {
                          "outlinewidth": 0,
                          "ticks": ""
                        },
                        "type": "choropleth"
                      }
                    ],
                    "contour": [
                      {
                        "colorbar": {
                          "outlinewidth": 0,
                          "ticks": ""
                        },
                        "colorscale": [
                          [
                            0,
                            "#0d0887"
                          ],
                          [
                            0.1111111111111111,
                            "#46039f"
                          ],
                          [
                            0.2222222222222222,
                            "#7201a8"
                          ],
                          [
                            0.3333333333333333,
                            "#9c179e"
                          ],
                          [
                            0.4444444444444444,
                            "#bd3786"
                          ],
                          [
                            0.5555555555555556,
                            "#d8576b"
                          ],
                          [
                            0.6666666666666666,
                            "#ed7953"
                          ],
                          [
                            0.7777777777777778,
                            "#fb9f3a"
                          ],
                          [
                            0.8888888888888888,
                            "#fdca26"
                          ],
                          [
                            1,
                            "#f0f921"
                          ]
                        ],
                        "type": "contour"
                      }
                    ],
                    "contourcarpet": [
                      {
                        "colorbar": {
                          "outlinewidth": 0,
                          "ticks": ""
                        },
                        "type": "contourcarpet"
                      }
                    ],
                    "heatmap": [
                      {
                        "colorbar": {
                          "outlinewidth": 0,
                          "ticks": ""
                        },
                        "colorscale": [
                          [
                            0,
                            "#0d0887"
                          ],
                          [
                            0.1111111111111111,
                            "#46039f"
                          ],
                          [
                            0.2222222222222222,
                            "#7201a8"
                          ],
                          [
                            0.3333333333333333,
                            "#9c179e"
                          ],
                          [
                            0.4444444444444444,
                            "#bd3786"
                          ],
                          [
                            0.5555555555555556,
                            "#d8576b"
                          ],
                          [
                            0.6666666666666666,
                            "#ed7953"
                          ],
                          [
                            0.7777777777777778,
                            "#fb9f3a"
                          ],
                          [
                            0.8888888888888888,
                            "#fdca26"
                          ],
                          [
                            1,
                            "#f0f921"
                          ]
                        ],
                        "type": "heatmap"
                      }
                    ],
                    "heatmapgl": [
                      {
                        "colorbar": {
                          "outlinewidth": 0,
                          "ticks": ""
                        },
                        "colorscale": [
                          [
                            0,
                            "#0d0887"
                          ],
                          [
                            0.1111111111111111,
                            "#46039f"
                          ],
                          [
                            0.2222222222222222,
                            "#7201a8"
                          ],
                          [
                            0.3333333333333333,
                            "#9c179e"
                          ],
                          [
                            0.4444444444444444,
                            "#bd3786"
                          ],
                          [
                            0.5555555555555556,
                            "#d8576b"
                          ],
                          [
                            0.6666666666666666,
                            "#ed7953"
                          ],
                          [
                            0.7777777777777778,
                            "#fb9f3a"
                          ],
                          [
                            0.8888888888888888,
                            "#fdca26"
                          ],
                          [
                            1,
                            "#f0f921"
                          ]
                        ],
                        "type": "heatmapgl"
                      }
                    ],
                    "histogram": [
                      {
                        "marker": {
                          "pattern": {
                            "fillmode": "overlay",
                            "size": 10,
                            "solidity": 0.2
                          }
                        },
                        "type": "histogram"
                      }
                    ],
                    "histogram2d": [
                      {
                        "colorbar": {
                          "outlinewidth": 0,
                          "ticks": ""
                        },
                        "colorscale": [
                          [
                            0,
                            "#0d0887"
                          ],
                          [
                            0.1111111111111111,
                            "#46039f"
                          ],
                          [
                            0.2222222222222222,
                            "#7201a8"
                          ],
                          [
                            0.3333333333333333,
                            "#9c179e"
                          ],
                          [
                            0.4444444444444444,
                            "#bd3786"
                          ],
                          [
                            0.5555555555555556,
                            "#d8576b"
                          ],
                          [
                            0.6666666666666666,
                            "#ed7953"
                          ],
                          [
                            0.7777777777777778,
                            "#fb9f3a"
                          ],
                          [
                            0.8888888888888888,
                            "#fdca26"
                          ],
                          [
                            1,
                            "#f0f921"
                          ]
                        ],
                        "type": "histogram2d"
                      }
                    ],
                    "histogram2dcontour": [
                      {
                        "colorbar": {
                          "outlinewidth": 0,
                          "ticks": ""
                        },
                        "colorscale": [
                          [
                            0,
                            "#0d0887"
                          ],
                          [
                            0.1111111111111111,
                            "#46039f"
                          ],
                          [
                            0.2222222222222222,
                            "#7201a8"
                          ],
                          [
                            0.3333333333333333,
                            "#9c179e"
                          ],
                          [
                            0.4444444444444444,
                            "#bd3786"
                          ],
                          [
                            0.5555555555555556,
                            "#d8576b"
                          ],
                          [
                            0.6666666666666666,
                            "#ed7953"
                          ],
                          [
                            0.7777777777777778,
                            "#fb9f3a"
                          ],
                          [
                            0.8888888888888888,
                            "#fdca26"
                          ],
                          [
                            1,
                            "#f0f921"
                          ]
                        ],
                        "type": "histogram2dcontour"
                      }
                    ],
                    "mesh3d": [
                      {
                        "colorbar": {
                          "outlinewidth": 0,
                          "ticks": ""
                        },
                        "type": "mesh3d"
                      }
                    ],
                    "parcoords": [
                      {
                        "line": {
                          "colorbar": {
                            "outlinewidth": 0,
                            "ticks": ""
                          }
                        },
                        "type": "parcoords"
                      }
                    ],
                    "pie": [
                      {
                        "automargin": true,
                        "type": "pie"
                      }
                    ],
                    "scatter": [
                      {
                        "marker": {
                          "line": {
                            "color": "#283442"
                          }
                        },
                        "type": "scatter"
                      }
                    ],
                    "scatter3d": [
                      {
                        "line": {
                          "colorbar": {
                            "outlinewidth": 0,
                            "ticks": ""
                          }
                        },
                        "marker": {
                          "colorbar": {
                            "outlinewidth": 0,
                            "ticks": ""
                          }
                        },
                        "type": "scatter3d"
                      }
                    ],
                    "scattercarpet": [
                      {
                        "marker": {
                          "colorbar": {
                            "outlinewidth": 0,
                            "ticks": ""
                          }
                        },
                        "type": "scattercarpet"
                      }
                    ],
                    "scattergeo": [
                      {
                        "marker": {
                          "colorbar": {
                            "outlinewidth": 0,
                            "ticks": ""
                          }
                        },
                        "type": "scattergeo"
                      }
                    ],
                    "scattergl": [
                      {
                        "marker": {
                          "line": {
                            "color": "#283442"
                          }
                        },
                        "type": "scattergl"
                      }
                    ],
                    "scattermapbox": [
                      {
                        "marker": {
                          "colorbar": {
                            "outlinewidth": 0,
                            "ticks": ""
                          }
                        },
                        "type": "scattermapbox"
                      }
                    ],
                    "scatterpolar": [
                      {
                        "marker": {
                          "colorbar": {
                            "outlinewidth": 0,
                            "ticks": ""
                          }
                        },
                        "type": "scatterpolar"
                      }
                    ],
                    "scatterpolargl": [
                      {
                        "marker": {
                          "colorbar": {
                            "outlinewidth": 0,
                            "ticks": ""
                          }
                        },
                        "type": "scatterpolargl"
                      }
                    ],
                    "scatterternary": [
                      {
                        "marker": {
                          "colorbar": {
                            "outlinewidth": 0,
                            "ticks": ""
                          }
                        },
                        "type": "scatterternary"
                      }
                    ],
                    "surface": [
                      {
                        "colorbar": {
                          "outlinewidth": 0,
                          "ticks": ""
                        },
                        "colorscale": [
                          [
                            0,
                            "#0d0887"
                          ],
                          [
                            0.1111111111111111,
                            "#46039f"
                          ],
                          [
                            0.2222222222222222,
                            "#7201a8"
                          ],
                          [
                            0.3333333333333333,
                            "#9c179e"
                          ],
                          [
                            0.4444444444444444,
                            "#bd3786"
                          ],
                          [
                            0.5555555555555556,
                            "#d8576b"
                          ],
                          [
                            0.6666666666666666,
                            "#ed7953"
                          ],
                          [
                            0.7777777777777778,
                            "#fb9f3a"
                          ],
                          [
                            0.8888888888888888,
                            "#fdca26"
                          ],
                          [
                            1,
                            "#f0f921"
                          ]
                        ],
                        "type": "surface"
                      }
                    ],
                    "table": [
                      {
                        "cells": {
                          "fill": {
                            "color": "#506784"
                          },
                          "line": {
                            "color": "rgb(17,17,17)"
                          }
                        },
                        "header": {
                          "fill": {
                            "color": "#2a3f5f"
                          },
                          "line": {
                            "color": "rgb(17,17,17)"
                          }
                        },
                        "type": "table"
                      }
                    ]
                  },
                  "layout": {
                    "annotationdefaults": {
                      "arrowcolor": "#f2f5fa",
                      "arrowhead": 0,
                      "arrowwidth": 1
                    },
                    "autotypenumbers": "strict",
                    "coloraxis": {
                      "colorbar": {
                        "outlinewidth": 0,
                        "ticks": ""
                      }
                    },
                    "colorscale": {
                      "diverging": [
                        [
                          0,
                          "#8e0152"
                        ],
                        [
                          0.1,
                          "#c51b7d"
                        ],
                        [
                          0.2,
                          "#de77ae"
                        ],
                        [
                          0.3,
                          "#f1b6da"
                        ],
                        [
                          0.4,
                          "#fde0ef"
                        ],
                        [
                          0.5,
                          "#f7f7f7"
                        ],
                        [
                          0.6,
                          "#e6f5d0"
                        ],
                        [
                          0.7,
                          "#b8e186"
                        ],
                        [
                          0.8,
                          "#7fbc41"
                        ],
                        [
                          0.9,
                          "#4d9221"
                        ],
                        [
                          1,
                          "#276419"
                        ]
                      ],
                      "sequential": [
                        [
                          0,
                          "#0d0887"
                        ],
                        [
                          0.1111111111111111,
                          "#46039f"
                        ],
                        [
                          0.2222222222222222,
                          "#7201a8"
                        ],
                        [
                          0.3333333333333333,
                          "#9c179e"
                        ],
                        [
                          0.4444444444444444,
                          "#bd3786"
                        ],
                        [
                          0.5555555555555556,
                          "#d8576b"
                        ],
                        [
                          0.6666666666666666,
                          "#ed7953"
                        ],
                        [
                          0.7777777777777778,
                          "#fb9f3a"
                        ],
                        [
                          0.8888888888888888,
                          "#fdca26"
                        ],
                        [
                          1,
                          "#f0f921"
                        ]
                      ],
                      "sequentialminus": [
                        [
                          0,
                          "#0d0887"
                        ],
                        [
                          0.1111111111111111,
                          "#46039f"
                        ],
                        [
                          0.2222222222222222,
                          "#7201a8"
                        ],
                        [
                          0.3333333333333333,
                          "#9c179e"
                        ],
                        [
                          0.4444444444444444,
                          "#bd3786"
                        ],
                        [
                          0.5555555555555556,
                          "#d8576b"
                        ],
                        [
                          0.6666666666666666,
                          "#ed7953"
                        ],
                        [
                          0.7777777777777778,
                          "#fb9f3a"
                        ],
                        [
                          0.8888888888888888,
                          "#fdca26"
                        ],
                        [
                          1,
                          "#f0f921"
                        ]
                      ]
                    },
                    "colorway": [
                      "#636efa",
                      "#EF553B",
                      "#00cc96",
                      "#ab63fa",
                      "#FFA15A",
                      "#19d3f3",
                      "#FF6692",
                      "#B6E880",
                      "#FF97FF",
                      "#FECB52"
                    ],
                    "font": {
                      "color": "#f2f5fa"
                    },
                    "geo": {
                      "bgcolor": "rgb(17,17,17)",
                      "lakecolor": "rgb(17,17,17)",
                      "landcolor": "rgb(17,17,17)",
                      "showlakes": true,
                      "showland": true,
                      "subunitcolor": "#506784"
                    },
                    "hoverlabel": {
                      "align": "left"
                    },
                    "hovermode": "closest",
                    "mapbox": {
                      "style": "dark"
                    },
                    "paper_bgcolor": "rgb(17,17,17)",
                    "plot_bgcolor": "rgb(17,17,17)",
                    "polar": {
                      "angularaxis": {
                        "gridcolor": "#506784",
                        "linecolor": "#506784",
                        "ticks": ""
                      },
                      "bgcolor": "rgb(17,17,17)",
                      "radialaxis": {
                        "gridcolor": "#506784",
                        "linecolor": "#506784",
                        "ticks": ""
                      }
                    },
                    "scene": {
                      "xaxis": {
                        "backgroundcolor": "rgb(17,17,17)",
                        "gridcolor": "#506784",
                        "gridwidth": 2,
                        "linecolor": "#506784",
                        "showbackground": true,
                        "ticks": "",
                        "zerolinecolor": "#C8D4E3"
                      },
                      "yaxis": {
                        "backgroundcolor": "rgb(17,17,17)",
                        "gridcolor": "#506784",
                        "gridwidth": 2,
                        "linecolor": "#506784",
                        "showbackground": true,
                        "ticks": "",
                        "zerolinecolor": "#C8D4E3"
                      },
                      "zaxis": {
                        "backgroundcolor": "rgb(17,17,17)",
                        "gridcolor": "#506784",
                        "gridwidth": 2,
                        "linecolor": "#506784",
                        "showbackground": true,
                        "ticks": "",
                        "zerolinecolor": "#C8D4E3"
                      }
                    },
                    "shapedefaults": {
                      "line": {
                        "color": "#f2f5fa"
                      }
                    },
                    "sliderdefaults": {
                      "bgcolor": "#C8D4E3",
                      "bordercolor": "rgb(17,17,17)",
                      "borderwidth": 1,
                      "tickwidth": 0
                    },
                    "ternary": {
                      "aaxis": {
                        "gridcolor": "#506784",
                        "linecolor": "#506784",
                        "ticks": ""
                      },
                      "baxis": {
                        "gridcolor": "#506784",
                        "linecolor": "#506784",
                        "ticks": ""
                      },
                      "bgcolor": "rgb(17,17,17)",
                      "caxis": {
                        "gridcolor": "#506784",
                        "linecolor": "#506784",
                        "ticks": ""
                      }
                    },
                    "title": {
                      "x": 0.05
                    },
                    "updatemenudefaults": {
                      "bgcolor": "#506784",
                      "borderwidth": 0
                    },
                    "xaxis": {
                      "automargin": true,
                      "gridcolor": "#283442",
                      "linecolor": "#506784",
                      "ticks": "",
                      "title": {
                        "standoff": 15
                      },
                      "zerolinecolor": "#283442",
                      "zerolinewidth": 2
                    },
                    "yaxis": {
                      "automargin": true,
                      "gridcolor": "#283442",
                      "linecolor": "#506784",
                      "ticks": "",
                      "title": {
                        "standoff": 15
                      },
                      "zerolinecolor": "#283442",
                      "zerolinewidth": 2
                    }
                  }
                },
                "title": {
                  "text": "NO. of Deaths over Time"
                },
                "xaxis": {
                  "anchor": "y",
                  "domain": [
                    0,
                    1
                  ],
                  "title": {
                    "text": "Date"
                  }
                },
                "yaxis": {
                  "anchor": "x",
                  "domain": [
                    0,
                    1
                  ],
                  "title": {
                    "text": "Deaths"
                  }
                }
              }
            },
            "text/html": [
              "<div>                        <script type=\"text/javascript\">window.PlotlyConfig = {MathJaxConfig: 'local'};</script>\n",
              "        <script charset=\"utf-8\" src=\"https://cdn.plot.ly/plotly-2.20.0.min.js\"></script>                <div id=\"4ea0e48d-4278-4f84-8594-15d7b16bee0e\" class=\"plotly-graph-div\" style=\"height:100%; width:100%;\"></div>            <script type=\"text/javascript\">                                    window.PLOTLYENV=window.PLOTLYENV || {};                                    if (document.getElementById(\"4ea0e48d-4278-4f84-8594-15d7b16bee0e\")) {                    Plotly.newPlot(                        \"4ea0e48d-4278-4f84-8594-15d7b16bee0e\",                        [{\"hovertemplate\":\"Date=%{x}<br>Deaths=%{y}<extra></extra>\",\"legendgroup\":\"\",\"line\":{\"color\":\"#636efa\",\"dash\":\"solid\"},\"marker\":{\"symbol\":\"circle\"},\"mode\":\"lines\",\"name\":\"\",\"orientation\":\"v\",\"showlegend\":false,\"x\":[\"2020-01-22T00:00:00\",\"2020-01-23T00:00:00\",\"2020-01-24T00:00:00\",\"2020-01-25T00:00:00\",\"2020-01-26T00:00:00\",\"2020-01-27T00:00:00\",\"2020-01-28T00:00:00\",\"2020-01-29T00:00:00\",\"2020-01-30T00:00:00\",\"2020-01-31T00:00:00\",\"2020-02-01T00:00:00\",\"2020-02-02T00:00:00\",\"2020-02-03T00:00:00\",\"2020-02-04T00:00:00\",\"2020-02-05T00:00:00\",\"2020-02-06T00:00:00\",\"2020-02-07T00:00:00\",\"2020-02-08T00:00:00\",\"2020-02-09T00:00:00\",\"2020-02-10T00:00:00\",\"2020-02-11T00:00:00\",\"2020-02-12T00:00:00\",\"2020-02-13T00:00:00\",\"2020-02-14T00:00:00\",\"2020-02-15T00:00:00\",\"2020-02-16T00:00:00\",\"2020-02-17T00:00:00\",\"2020-02-18T00:00:00\",\"2020-02-19T00:00:00\",\"2020-02-20T00:00:00\",\"2020-02-21T00:00:00\",\"2020-02-22T00:00:00\",\"2020-02-23T00:00:00\",\"2020-02-24T00:00:00\",\"2020-02-25T00:00:00\",\"2020-02-26T00:00:00\",\"2020-02-27T00:00:00\",\"2020-02-28T00:00:00\",\"2020-02-29T00:00:00\",\"2020-03-01T00:00:00\",\"2020-03-02T00:00:00\",\"2020-03-03T00:00:00\",\"2020-03-04T00:00:00\",\"2020-03-05T00:00:00\",\"2020-03-06T00:00:00\",\"2020-03-07T00:00:00\",\"2020-03-08T00:00:00\",\"2020-03-09T00:00:00\",\"2020-03-10T00:00:00\",\"2020-03-11T00:00:00\",\"2020-03-12T00:00:00\",\"2020-03-13T00:00:00\",\"2020-03-14T00:00:00\",\"2020-03-15T00:00:00\",\"2020-03-16T00:00:00\",\"2020-03-17T00:00:00\",\"2020-03-18T00:00:00\",\"2020-03-19T00:00:00\",\"2020-03-20T00:00:00\",\"2020-03-21T00:00:00\",\"2020-03-22T00:00:00\",\"2020-03-23T00:00:00\",\"2020-03-24T00:00:00\",\"2020-03-25T00:00:00\",\"2020-03-26T00:00:00\",\"2020-03-27T00:00:00\",\"2020-03-28T00:00:00\",\"2020-03-29T00:00:00\",\"2020-03-30T00:00:00\",\"2020-03-31T00:00:00\",\"2020-04-01T00:00:00\",\"2020-04-02T00:00:00\",\"2020-04-03T00:00:00\",\"2020-04-04T00:00:00\",\"2020-04-05T00:00:00\",\"2020-04-06T00:00:00\",\"2020-04-07T00:00:00\",\"2020-04-08T00:00:00\",\"2020-04-09T00:00:00\",\"2020-04-10T00:00:00\",\"2020-04-11T00:00:00\",\"2020-04-12T00:00:00\",\"2020-04-13T00:00:00\",\"2020-04-14T00:00:00\",\"2020-04-15T00:00:00\",\"2020-04-16T00:00:00\",\"2020-04-17T00:00:00\",\"2020-04-18T00:00:00\",\"2020-04-19T00:00:00\",\"2020-04-20T00:00:00\",\"2020-04-21T00:00:00\",\"2020-04-22T00:00:00\",\"2020-04-23T00:00:00\",\"2020-04-24T00:00:00\",\"2020-04-25T00:00:00\",\"2020-04-26T00:00:00\",\"2020-04-27T00:00:00\",\"2020-04-28T00:00:00\",\"2020-04-29T00:00:00\",\"2020-04-30T00:00:00\",\"2020-05-01T00:00:00\",\"2020-05-02T00:00:00\",\"2020-05-03T00:00:00\",\"2020-05-04T00:00:00\",\"2020-05-05T00:00:00\",\"2020-05-06T00:00:00\",\"2020-05-07T00:00:00\",\"2020-05-08T00:00:00\",\"2020-05-09T00:00:00\",\"2020-05-10T00:00:00\",\"2020-05-11T00:00:00\",\"2020-05-12T00:00:00\",\"2020-05-13T00:00:00\",\"2020-05-14T00:00:00\",\"2020-05-15T00:00:00\",\"2020-05-16T00:00:00\",\"2020-05-17T00:00:00\",\"2020-05-18T00:00:00\",\"2020-05-19T00:00:00\",\"2020-05-20T00:00:00\",\"2020-05-21T00:00:00\",\"2020-05-22T00:00:00\",\"2020-05-23T00:00:00\",\"2020-05-24T00:00:00\",\"2020-05-25T00:00:00\",\"2020-05-26T00:00:00\",\"2020-05-27T00:00:00\",\"2020-05-28T00:00:00\",\"2020-05-29T00:00:00\",\"2020-05-30T00:00:00\",\"2020-05-31T00:00:00\",\"2020-06-01T00:00:00\",\"2020-06-02T00:00:00\",\"2020-06-03T00:00:00\",\"2020-06-04T00:00:00\",\"2020-06-05T00:00:00\",\"2020-06-06T00:00:00\",\"2020-06-07T00:00:00\",\"2020-06-08T00:00:00\",\"2020-06-09T00:00:00\",\"2020-06-10T00:00:00\",\"2020-06-11T00:00:00\",\"2020-06-12T00:00:00\",\"2020-06-13T00:00:00\",\"2020-06-14T00:00:00\",\"2020-06-15T00:00:00\",\"2020-06-16T00:00:00\",\"2020-06-17T00:00:00\",\"2020-06-18T00:00:00\",\"2020-06-19T00:00:00\",\"2020-06-20T00:00:00\",\"2020-06-21T00:00:00\",\"2020-06-22T00:00:00\",\"2020-06-23T00:00:00\",\"2020-06-24T00:00:00\",\"2020-06-25T00:00:00\",\"2020-06-26T00:00:00\",\"2020-06-27T00:00:00\",\"2020-06-28T00:00:00\",\"2020-06-29T00:00:00\",\"2020-06-30T00:00:00\",\"2020-07-01T00:00:00\",\"2020-07-02T00:00:00\",\"2020-07-03T00:00:00\",\"2020-07-04T00:00:00\",\"2020-07-05T00:00:00\",\"2020-07-06T00:00:00\",\"2020-07-07T00:00:00\",\"2020-07-08T00:00:00\",\"2020-07-09T00:00:00\",\"2020-07-10T00:00:00\",\"2020-07-11T00:00:00\",\"2020-07-12T00:00:00\",\"2020-07-13T00:00:00\",\"2020-07-14T00:00:00\",\"2020-07-15T00:00:00\",\"2020-07-16T00:00:00\",\"2020-07-17T00:00:00\",\"2020-07-18T00:00:00\",\"2020-07-19T00:00:00\",\"2020-07-20T00:00:00\",\"2020-07-21T00:00:00\",\"2020-07-22T00:00:00\",\"2020-07-23T00:00:00\",\"2020-07-24T00:00:00\",\"2020-07-25T00:00:00\",\"2020-07-26T00:00:00\",\"2020-07-27T00:00:00\"],\"xaxis\":\"x\",\"y\":[17,18,26,42,56,82,131,133,171,213,259,362,426,492,564,634,719,806,906,1013,1113,1118,1371,1523,1666,1770,1868,2008,2123,2246,2250,2457,2467,2627,2707,2767,2810,2867,2936,2990,3079,3154,3249,3342,3454,3553,3797,3981,4260,4604,4909,5406,5823,6464,7144,7948,8845,9951,11429,13134,14831,16748,19016,21793,24800,28318,31997,35470,39634,44478,50029,56334,62319,68160,73181,79013,86915,93650,101279,108551,114620,120351,126098,132996,141308,148591,157481,163952,168522,173965,181122,187877,194727,201401,206979,210862,215511,221974,228742,234704,239881,245206,248659,252787,258658,265327,270736,276304,280569,284135,287608,293155,298383,303651,308866,313037,316366,319657,324441,329326,334112,339396,343385,346525,347703,351906,357119,361820,366562,370718,373606,376674,381497,387069,392218,396994,400875,403617,407314,412236,417441,422215,426512,430750,434124,437549,444416,449671,454700,460973,465222,469185,472756,478067,483328,489955,494782,499268,502357,506078,511210,516221,521341,526336,530705,534150,537947,544054,549373,554831,560142,565039,568993,572808,578468,583961,589760,596503,602130,606159,610319,616557,623540,633506,639650,644517,648621,654036],\"yaxis\":\"y\",\"type\":\"scatter\"}],                        {\"template\":{\"data\":{\"barpolar\":[{\"marker\":{\"line\":{\"color\":\"rgb(17,17,17)\",\"width\":0.5},\"pattern\":{\"fillmode\":\"overlay\",\"size\":10,\"solidity\":0.2}},\"type\":\"barpolar\"}],\"bar\":[{\"error_x\":{\"color\":\"#f2f5fa\"},\"error_y\":{\"color\":\"#f2f5fa\"},\"marker\":{\"line\":{\"color\":\"rgb(17,17,17)\",\"width\":0.5},\"pattern\":{\"fillmode\":\"overlay\",\"size\":10,\"solidity\":0.2}},\"type\":\"bar\"}],\"carpet\":[{\"aaxis\":{\"endlinecolor\":\"#A2B1C6\",\"gridcolor\":\"#506784\",\"linecolor\":\"#506784\",\"minorgridcolor\":\"#506784\",\"startlinecolor\":\"#A2B1C6\"},\"baxis\":{\"endlinecolor\":\"#A2B1C6\",\"gridcolor\":\"#506784\",\"linecolor\":\"#506784\",\"minorgridcolor\":\"#506784\",\"startlinecolor\":\"#A2B1C6\"},\"type\":\"carpet\"}],\"choropleth\":[{\"colorbar\":{\"outlinewidth\":0,\"ticks\":\"\"},\"type\":\"choropleth\"}],\"contourcarpet\":[{\"colorbar\":{\"outlinewidth\":0,\"ticks\":\"\"},\"type\":\"contourcarpet\"}],\"contour\":[{\"colorbar\":{\"outlinewidth\":0,\"ticks\":\"\"},\"colorscale\":[[0.0,\"#0d0887\"],[0.1111111111111111,\"#46039f\"],[0.2222222222222222,\"#7201a8\"],[0.3333333333333333,\"#9c179e\"],[0.4444444444444444,\"#bd3786\"],[0.5555555555555556,\"#d8576b\"],[0.6666666666666666,\"#ed7953\"],[0.7777777777777778,\"#fb9f3a\"],[0.8888888888888888,\"#fdca26\"],[1.0,\"#f0f921\"]],\"type\":\"contour\"}],\"heatmapgl\":[{\"colorbar\":{\"outlinewidth\":0,\"ticks\":\"\"},\"colorscale\":[[0.0,\"#0d0887\"],[0.1111111111111111,\"#46039f\"],[0.2222222222222222,\"#7201a8\"],[0.3333333333333333,\"#9c179e\"],[0.4444444444444444,\"#bd3786\"],[0.5555555555555556,\"#d8576b\"],[0.6666666666666666,\"#ed7953\"],[0.7777777777777778,\"#fb9f3a\"],[0.8888888888888888,\"#fdca26\"],[1.0,\"#f0f921\"]],\"type\":\"heatmapgl\"}],\"heatmap\":[{\"colorbar\":{\"outlinewidth\":0,\"ticks\":\"\"},\"colorscale\":[[0.0,\"#0d0887\"],[0.1111111111111111,\"#46039f\"],[0.2222222222222222,\"#7201a8\"],[0.3333333333333333,\"#9c179e\"],[0.4444444444444444,\"#bd3786\"],[0.5555555555555556,\"#d8576b\"],[0.6666666666666666,\"#ed7953\"],[0.7777777777777778,\"#fb9f3a\"],[0.8888888888888888,\"#fdca26\"],[1.0,\"#f0f921\"]],\"type\":\"heatmap\"}],\"histogram2dcontour\":[{\"colorbar\":{\"outlinewidth\":0,\"ticks\":\"\"},\"colorscale\":[[0.0,\"#0d0887\"],[0.1111111111111111,\"#46039f\"],[0.2222222222222222,\"#7201a8\"],[0.3333333333333333,\"#9c179e\"],[0.4444444444444444,\"#bd3786\"],[0.5555555555555556,\"#d8576b\"],[0.6666666666666666,\"#ed7953\"],[0.7777777777777778,\"#fb9f3a\"],[0.8888888888888888,\"#fdca26\"],[1.0,\"#f0f921\"]],\"type\":\"histogram2dcontour\"}],\"histogram2d\":[{\"colorbar\":{\"outlinewidth\":0,\"ticks\":\"\"},\"colorscale\":[[0.0,\"#0d0887\"],[0.1111111111111111,\"#46039f\"],[0.2222222222222222,\"#7201a8\"],[0.3333333333333333,\"#9c179e\"],[0.4444444444444444,\"#bd3786\"],[0.5555555555555556,\"#d8576b\"],[0.6666666666666666,\"#ed7953\"],[0.7777777777777778,\"#fb9f3a\"],[0.8888888888888888,\"#fdca26\"],[1.0,\"#f0f921\"]],\"type\":\"histogram2d\"}],\"histogram\":[{\"marker\":{\"pattern\":{\"fillmode\":\"overlay\",\"size\":10,\"solidity\":0.2}},\"type\":\"histogram\"}],\"mesh3d\":[{\"colorbar\":{\"outlinewidth\":0,\"ticks\":\"\"},\"type\":\"mesh3d\"}],\"parcoords\":[{\"line\":{\"colorbar\":{\"outlinewidth\":0,\"ticks\":\"\"}},\"type\":\"parcoords\"}],\"pie\":[{\"automargin\":true,\"type\":\"pie\"}],\"scatter3d\":[{\"line\":{\"colorbar\":{\"outlinewidth\":0,\"ticks\":\"\"}},\"marker\":{\"colorbar\":{\"outlinewidth\":0,\"ticks\":\"\"}},\"type\":\"scatter3d\"}],\"scattercarpet\":[{\"marker\":{\"colorbar\":{\"outlinewidth\":0,\"ticks\":\"\"}},\"type\":\"scattercarpet\"}],\"scattergeo\":[{\"marker\":{\"colorbar\":{\"outlinewidth\":0,\"ticks\":\"\"}},\"type\":\"scattergeo\"}],\"scattergl\":[{\"marker\":{\"line\":{\"color\":\"#283442\"}},\"type\":\"scattergl\"}],\"scattermapbox\":[{\"marker\":{\"colorbar\":{\"outlinewidth\":0,\"ticks\":\"\"}},\"type\":\"scattermapbox\"}],\"scatterpolargl\":[{\"marker\":{\"colorbar\":{\"outlinewidth\":0,\"ticks\":\"\"}},\"type\":\"scatterpolargl\"}],\"scatterpolar\":[{\"marker\":{\"colorbar\":{\"outlinewidth\":0,\"ticks\":\"\"}},\"type\":\"scatterpolar\"}],\"scatter\":[{\"marker\":{\"line\":{\"color\":\"#283442\"}},\"type\":\"scatter\"}],\"scatterternary\":[{\"marker\":{\"colorbar\":{\"outlinewidth\":0,\"ticks\":\"\"}},\"type\":\"scatterternary\"}],\"surface\":[{\"colorbar\":{\"outlinewidth\":0,\"ticks\":\"\"},\"colorscale\":[[0.0,\"#0d0887\"],[0.1111111111111111,\"#46039f\"],[0.2222222222222222,\"#7201a8\"],[0.3333333333333333,\"#9c179e\"],[0.4444444444444444,\"#bd3786\"],[0.5555555555555556,\"#d8576b\"],[0.6666666666666666,\"#ed7953\"],[0.7777777777777778,\"#fb9f3a\"],[0.8888888888888888,\"#fdca26\"],[1.0,\"#f0f921\"]],\"type\":\"surface\"}],\"table\":[{\"cells\":{\"fill\":{\"color\":\"#506784\"},\"line\":{\"color\":\"rgb(17,17,17)\"}},\"header\":{\"fill\":{\"color\":\"#2a3f5f\"},\"line\":{\"color\":\"rgb(17,17,17)\"}},\"type\":\"table\"}]},\"layout\":{\"annotationdefaults\":{\"arrowcolor\":\"#f2f5fa\",\"arrowhead\":0,\"arrowwidth\":1},\"autotypenumbers\":\"strict\",\"coloraxis\":{\"colorbar\":{\"outlinewidth\":0,\"ticks\":\"\"}},\"colorscale\":{\"diverging\":[[0,\"#8e0152\"],[0.1,\"#c51b7d\"],[0.2,\"#de77ae\"],[0.3,\"#f1b6da\"],[0.4,\"#fde0ef\"],[0.5,\"#f7f7f7\"],[0.6,\"#e6f5d0\"],[0.7,\"#b8e186\"],[0.8,\"#7fbc41\"],[0.9,\"#4d9221\"],[1,\"#276419\"]],\"sequential\":[[0.0,\"#0d0887\"],[0.1111111111111111,\"#46039f\"],[0.2222222222222222,\"#7201a8\"],[0.3333333333333333,\"#9c179e\"],[0.4444444444444444,\"#bd3786\"],[0.5555555555555556,\"#d8576b\"],[0.6666666666666666,\"#ed7953\"],[0.7777777777777778,\"#fb9f3a\"],[0.8888888888888888,\"#fdca26\"],[1.0,\"#f0f921\"]],\"sequentialminus\":[[0.0,\"#0d0887\"],[0.1111111111111111,\"#46039f\"],[0.2222222222222222,\"#7201a8\"],[0.3333333333333333,\"#9c179e\"],[0.4444444444444444,\"#bd3786\"],[0.5555555555555556,\"#d8576b\"],[0.6666666666666666,\"#ed7953\"],[0.7777777777777778,\"#fb9f3a\"],[0.8888888888888888,\"#fdca26\"],[1.0,\"#f0f921\"]]},\"colorway\":[\"#636efa\",\"#EF553B\",\"#00cc96\",\"#ab63fa\",\"#FFA15A\",\"#19d3f3\",\"#FF6692\",\"#B6E880\",\"#FF97FF\",\"#FECB52\"],\"font\":{\"color\":\"#f2f5fa\"},\"geo\":{\"bgcolor\":\"rgb(17,17,17)\",\"lakecolor\":\"rgb(17,17,17)\",\"landcolor\":\"rgb(17,17,17)\",\"showlakes\":true,\"showland\":true,\"subunitcolor\":\"#506784\"},\"hoverlabel\":{\"align\":\"left\"},\"hovermode\":\"closest\",\"mapbox\":{\"style\":\"dark\"},\"paper_bgcolor\":\"rgb(17,17,17)\",\"plot_bgcolor\":\"rgb(17,17,17)\",\"polar\":{\"angularaxis\":{\"gridcolor\":\"#506784\",\"linecolor\":\"#506784\",\"ticks\":\"\"},\"bgcolor\":\"rgb(17,17,17)\",\"radialaxis\":{\"gridcolor\":\"#506784\",\"linecolor\":\"#506784\",\"ticks\":\"\"}},\"scene\":{\"xaxis\":{\"backgroundcolor\":\"rgb(17,17,17)\",\"gridcolor\":\"#506784\",\"gridwidth\":2,\"linecolor\":\"#506784\",\"showbackground\":true,\"ticks\":\"\",\"zerolinecolor\":\"#C8D4E3\"},\"yaxis\":{\"backgroundcolor\":\"rgb(17,17,17)\",\"gridcolor\":\"#506784\",\"gridwidth\":2,\"linecolor\":\"#506784\",\"showbackground\":true,\"ticks\":\"\",\"zerolinecolor\":\"#C8D4E3\"},\"zaxis\":{\"backgroundcolor\":\"rgb(17,17,17)\",\"gridcolor\":\"#506784\",\"gridwidth\":2,\"linecolor\":\"#506784\",\"showbackground\":true,\"ticks\":\"\",\"zerolinecolor\":\"#C8D4E3\"}},\"shapedefaults\":{\"line\":{\"color\":\"#f2f5fa\"}},\"sliderdefaults\":{\"bgcolor\":\"#C8D4E3\",\"bordercolor\":\"rgb(17,17,17)\",\"borderwidth\":1,\"tickwidth\":0},\"ternary\":{\"aaxis\":{\"gridcolor\":\"#506784\",\"linecolor\":\"#506784\",\"ticks\":\"\"},\"baxis\":{\"gridcolor\":\"#506784\",\"linecolor\":\"#506784\",\"ticks\":\"\"},\"bgcolor\":\"rgb(17,17,17)\",\"caxis\":{\"gridcolor\":\"#506784\",\"linecolor\":\"#506784\",\"ticks\":\"\"}},\"title\":{\"x\":0.05},\"updatemenudefaults\":{\"bgcolor\":\"#506784\",\"borderwidth\":0},\"xaxis\":{\"automargin\":true,\"gridcolor\":\"#283442\",\"linecolor\":\"#506784\",\"ticks\":\"\",\"title\":{\"standoff\":15},\"zerolinecolor\":\"#283442\",\"zerolinewidth\":2},\"yaxis\":{\"automargin\":true,\"gridcolor\":\"#283442\",\"linecolor\":\"#506784\",\"ticks\":\"\",\"title\":{\"standoff\":15},\"zerolinecolor\":\"#283442\",\"zerolinewidth\":2}}},\"xaxis\":{\"anchor\":\"y\",\"domain\":[0.0,1.0],\"title\":{\"text\":\"Date\"}},\"yaxis\":{\"anchor\":\"x\",\"domain\":[0.0,1.0],\"title\":{\"text\":\"Deaths\"}},\"legend\":{\"tracegroupgap\":0},\"title\":{\"text\":\"NO. of Deaths over Time\"}},                        {\"responsive\": true}                    )                };                            </script>        </div>"
            ],
            "text/plain": [
              "Figure({\n",
              "    'data': [{'hovertemplate': 'Date=%{x}<br>Deaths=%{y}<extra></extra>',\n",
              "              'legendgroup': '',\n",
              "              'line': {'color': '#636efa', 'dash': 'solid'},\n",
              "              'marker': {'symbol': 'circle'},\n",
              "              'mode': 'lines',\n",
              "              'name': '',\n",
              "              'orientation': 'v',\n",
              "              'showlegend': False,\n",
              "              'type': 'scatter',\n",
              "              'x': array([datetime.datetime(2020, 1, 22, 0, 0),\n",
              "                          datetime.datetime(2020, 1, 23, 0, 0),\n",
              "                          datetime.datetime(2020, 1, 24, 0, 0),\n",
              "                          datetime.datetime(2020, 1, 25, 0, 0),\n",
              "                          datetime.datetime(2020, 1, 26, 0, 0),\n",
              "                          datetime.datetime(2020, 1, 27, 0, 0),\n",
              "                          datetime.datetime(2020, 1, 28, 0, 0),\n",
              "                          datetime.datetime(2020, 1, 29, 0, 0),\n",
              "                          datetime.datetime(2020, 1, 30, 0, 0),\n",
              "                          datetime.datetime(2020, 1, 31, 0, 0),\n",
              "                          datetime.datetime(2020, 2, 1, 0, 0),\n",
              "                          datetime.datetime(2020, 2, 2, 0, 0),\n",
              "                          datetime.datetime(2020, 2, 3, 0, 0),\n",
              "                          datetime.datetime(2020, 2, 4, 0, 0),\n",
              "                          datetime.datetime(2020, 2, 5, 0, 0),\n",
              "                          datetime.datetime(2020, 2, 6, 0, 0),\n",
              "                          datetime.datetime(2020, 2, 7, 0, 0),\n",
              "                          datetime.datetime(2020, 2, 8, 0, 0),\n",
              "                          datetime.datetime(2020, 2, 9, 0, 0),\n",
              "                          datetime.datetime(2020, 2, 10, 0, 0),\n",
              "                          datetime.datetime(2020, 2, 11, 0, 0),\n",
              "                          datetime.datetime(2020, 2, 12, 0, 0),\n",
              "                          datetime.datetime(2020, 2, 13, 0, 0),\n",
              "                          datetime.datetime(2020, 2, 14, 0, 0),\n",
              "                          datetime.datetime(2020, 2, 15, 0, 0),\n",
              "                          datetime.datetime(2020, 2, 16, 0, 0),\n",
              "                          datetime.datetime(2020, 2, 17, 0, 0),\n",
              "                          datetime.datetime(2020, 2, 18, 0, 0),\n",
              "                          datetime.datetime(2020, 2, 19, 0, 0),\n",
              "                          datetime.datetime(2020, 2, 20, 0, 0),\n",
              "                          datetime.datetime(2020, 2, 21, 0, 0),\n",
              "                          datetime.datetime(2020, 2, 22, 0, 0),\n",
              "                          datetime.datetime(2020, 2, 23, 0, 0),\n",
              "                          datetime.datetime(2020, 2, 24, 0, 0),\n",
              "                          datetime.datetime(2020, 2, 25, 0, 0),\n",
              "                          datetime.datetime(2020, 2, 26, 0, 0),\n",
              "                          datetime.datetime(2020, 2, 27, 0, 0),\n",
              "                          datetime.datetime(2020, 2, 28, 0, 0),\n",
              "                          datetime.datetime(2020, 2, 29, 0, 0),\n",
              "                          datetime.datetime(2020, 3, 1, 0, 0),\n",
              "                          datetime.datetime(2020, 3, 2, 0, 0),\n",
              "                          datetime.datetime(2020, 3, 3, 0, 0),\n",
              "                          datetime.datetime(2020, 3, 4, 0, 0),\n",
              "                          datetime.datetime(2020, 3, 5, 0, 0),\n",
              "                          datetime.datetime(2020, 3, 6, 0, 0),\n",
              "                          datetime.datetime(2020, 3, 7, 0, 0),\n",
              "                          datetime.datetime(2020, 3, 8, 0, 0),\n",
              "                          datetime.datetime(2020, 3, 9, 0, 0),\n",
              "                          datetime.datetime(2020, 3, 10, 0, 0),\n",
              "                          datetime.datetime(2020, 3, 11, 0, 0),\n",
              "                          datetime.datetime(2020, 3, 12, 0, 0),\n",
              "                          datetime.datetime(2020, 3, 13, 0, 0),\n",
              "                          datetime.datetime(2020, 3, 14, 0, 0),\n",
              "                          datetime.datetime(2020, 3, 15, 0, 0),\n",
              "                          datetime.datetime(2020, 3, 16, 0, 0),\n",
              "                          datetime.datetime(2020, 3, 17, 0, 0),\n",
              "                          datetime.datetime(2020, 3, 18, 0, 0),\n",
              "                          datetime.datetime(2020, 3, 19, 0, 0),\n",
              "                          datetime.datetime(2020, 3, 20, 0, 0),\n",
              "                          datetime.datetime(2020, 3, 21, 0, 0),\n",
              "                          datetime.datetime(2020, 3, 22, 0, 0),\n",
              "                          datetime.datetime(2020, 3, 23, 0, 0),\n",
              "                          datetime.datetime(2020, 3, 24, 0, 0),\n",
              "                          datetime.datetime(2020, 3, 25, 0, 0),\n",
              "                          datetime.datetime(2020, 3, 26, 0, 0),\n",
              "                          datetime.datetime(2020, 3, 27, 0, 0),\n",
              "                          datetime.datetime(2020, 3, 28, 0, 0),\n",
              "                          datetime.datetime(2020, 3, 29, 0, 0),\n",
              "                          datetime.datetime(2020, 3, 30, 0, 0),\n",
              "                          datetime.datetime(2020, 3, 31, 0, 0),\n",
              "                          datetime.datetime(2020, 4, 1, 0, 0),\n",
              "                          datetime.datetime(2020, 4, 2, 0, 0),\n",
              "                          datetime.datetime(2020, 4, 3, 0, 0),\n",
              "                          datetime.datetime(2020, 4, 4, 0, 0),\n",
              "                          datetime.datetime(2020, 4, 5, 0, 0),\n",
              "                          datetime.datetime(2020, 4, 6, 0, 0),\n",
              "                          datetime.datetime(2020, 4, 7, 0, 0),\n",
              "                          datetime.datetime(2020, 4, 8, 0, 0),\n",
              "                          datetime.datetime(2020, 4, 9, 0, 0),\n",
              "                          datetime.datetime(2020, 4, 10, 0, 0),\n",
              "                          datetime.datetime(2020, 4, 11, 0, 0),\n",
              "                          datetime.datetime(2020, 4, 12, 0, 0),\n",
              "                          datetime.datetime(2020, 4, 13, 0, 0),\n",
              "                          datetime.datetime(2020, 4, 14, 0, 0),\n",
              "                          datetime.datetime(2020, 4, 15, 0, 0),\n",
              "                          datetime.datetime(2020, 4, 16, 0, 0),\n",
              "                          datetime.datetime(2020, 4, 17, 0, 0),\n",
              "                          datetime.datetime(2020, 4, 18, 0, 0),\n",
              "                          datetime.datetime(2020, 4, 19, 0, 0),\n",
              "                          datetime.datetime(2020, 4, 20, 0, 0),\n",
              "                          datetime.datetime(2020, 4, 21, 0, 0),\n",
              "                          datetime.datetime(2020, 4, 22, 0, 0),\n",
              "                          datetime.datetime(2020, 4, 23, 0, 0),\n",
              "                          datetime.datetime(2020, 4, 24, 0, 0),\n",
              "                          datetime.datetime(2020, 4, 25, 0, 0),\n",
              "                          datetime.datetime(2020, 4, 26, 0, 0),\n",
              "                          datetime.datetime(2020, 4, 27, 0, 0),\n",
              "                          datetime.datetime(2020, 4, 28, 0, 0),\n",
              "                          datetime.datetime(2020, 4, 29, 0, 0),\n",
              "                          datetime.datetime(2020, 4, 30, 0, 0),\n",
              "                          datetime.datetime(2020, 5, 1, 0, 0),\n",
              "                          datetime.datetime(2020, 5, 2, 0, 0),\n",
              "                          datetime.datetime(2020, 5, 3, 0, 0),\n",
              "                          datetime.datetime(2020, 5, 4, 0, 0),\n",
              "                          datetime.datetime(2020, 5, 5, 0, 0),\n",
              "                          datetime.datetime(2020, 5, 6, 0, 0),\n",
              "                          datetime.datetime(2020, 5, 7, 0, 0),\n",
              "                          datetime.datetime(2020, 5, 8, 0, 0),\n",
              "                          datetime.datetime(2020, 5, 9, 0, 0),\n",
              "                          datetime.datetime(2020, 5, 10, 0, 0),\n",
              "                          datetime.datetime(2020, 5, 11, 0, 0),\n",
              "                          datetime.datetime(2020, 5, 12, 0, 0),\n",
              "                          datetime.datetime(2020, 5, 13, 0, 0),\n",
              "                          datetime.datetime(2020, 5, 14, 0, 0),\n",
              "                          datetime.datetime(2020, 5, 15, 0, 0),\n",
              "                          datetime.datetime(2020, 5, 16, 0, 0),\n",
              "                          datetime.datetime(2020, 5, 17, 0, 0),\n",
              "                          datetime.datetime(2020, 5, 18, 0, 0),\n",
              "                          datetime.datetime(2020, 5, 19, 0, 0),\n",
              "                          datetime.datetime(2020, 5, 20, 0, 0),\n",
              "                          datetime.datetime(2020, 5, 21, 0, 0),\n",
              "                          datetime.datetime(2020, 5, 22, 0, 0),\n",
              "                          datetime.datetime(2020, 5, 23, 0, 0),\n",
              "                          datetime.datetime(2020, 5, 24, 0, 0),\n",
              "                          datetime.datetime(2020, 5, 25, 0, 0),\n",
              "                          datetime.datetime(2020, 5, 26, 0, 0),\n",
              "                          datetime.datetime(2020, 5, 27, 0, 0),\n",
              "                          datetime.datetime(2020, 5, 28, 0, 0),\n",
              "                          datetime.datetime(2020, 5, 29, 0, 0),\n",
              "                          datetime.datetime(2020, 5, 30, 0, 0),\n",
              "                          datetime.datetime(2020, 5, 31, 0, 0),\n",
              "                          datetime.datetime(2020, 6, 1, 0, 0),\n",
              "                          datetime.datetime(2020, 6, 2, 0, 0),\n",
              "                          datetime.datetime(2020, 6, 3, 0, 0),\n",
              "                          datetime.datetime(2020, 6, 4, 0, 0),\n",
              "                          datetime.datetime(2020, 6, 5, 0, 0),\n",
              "                          datetime.datetime(2020, 6, 6, 0, 0),\n",
              "                          datetime.datetime(2020, 6, 7, 0, 0),\n",
              "                          datetime.datetime(2020, 6, 8, 0, 0),\n",
              "                          datetime.datetime(2020, 6, 9, 0, 0),\n",
              "                          datetime.datetime(2020, 6, 10, 0, 0),\n",
              "                          datetime.datetime(2020, 6, 11, 0, 0),\n",
              "                          datetime.datetime(2020, 6, 12, 0, 0),\n",
              "                          datetime.datetime(2020, 6, 13, 0, 0),\n",
              "                          datetime.datetime(2020, 6, 14, 0, 0),\n",
              "                          datetime.datetime(2020, 6, 15, 0, 0),\n",
              "                          datetime.datetime(2020, 6, 16, 0, 0),\n",
              "                          datetime.datetime(2020, 6, 17, 0, 0),\n",
              "                          datetime.datetime(2020, 6, 18, 0, 0),\n",
              "                          datetime.datetime(2020, 6, 19, 0, 0),\n",
              "                          datetime.datetime(2020, 6, 20, 0, 0),\n",
              "                          datetime.datetime(2020, 6, 21, 0, 0),\n",
              "                          datetime.datetime(2020, 6, 22, 0, 0),\n",
              "                          datetime.datetime(2020, 6, 23, 0, 0),\n",
              "                          datetime.datetime(2020, 6, 24, 0, 0),\n",
              "                          datetime.datetime(2020, 6, 25, 0, 0),\n",
              "                          datetime.datetime(2020, 6, 26, 0, 0),\n",
              "                          datetime.datetime(2020, 6, 27, 0, 0),\n",
              "                          datetime.datetime(2020, 6, 28, 0, 0),\n",
              "                          datetime.datetime(2020, 6, 29, 0, 0),\n",
              "                          datetime.datetime(2020, 6, 30, 0, 0),\n",
              "                          datetime.datetime(2020, 7, 1, 0, 0),\n",
              "                          datetime.datetime(2020, 7, 2, 0, 0),\n",
              "                          datetime.datetime(2020, 7, 3, 0, 0),\n",
              "                          datetime.datetime(2020, 7, 4, 0, 0),\n",
              "                          datetime.datetime(2020, 7, 5, 0, 0),\n",
              "                          datetime.datetime(2020, 7, 6, 0, 0),\n",
              "                          datetime.datetime(2020, 7, 7, 0, 0),\n",
              "                          datetime.datetime(2020, 7, 8, 0, 0),\n",
              "                          datetime.datetime(2020, 7, 9, 0, 0),\n",
              "                          datetime.datetime(2020, 7, 10, 0, 0),\n",
              "                          datetime.datetime(2020, 7, 11, 0, 0),\n",
              "                          datetime.datetime(2020, 7, 12, 0, 0),\n",
              "                          datetime.datetime(2020, 7, 13, 0, 0),\n",
              "                          datetime.datetime(2020, 7, 14, 0, 0),\n",
              "                          datetime.datetime(2020, 7, 15, 0, 0),\n",
              "                          datetime.datetime(2020, 7, 16, 0, 0),\n",
              "                          datetime.datetime(2020, 7, 17, 0, 0),\n",
              "                          datetime.datetime(2020, 7, 18, 0, 0),\n",
              "                          datetime.datetime(2020, 7, 19, 0, 0),\n",
              "                          datetime.datetime(2020, 7, 20, 0, 0),\n",
              "                          datetime.datetime(2020, 7, 21, 0, 0),\n",
              "                          datetime.datetime(2020, 7, 22, 0, 0),\n",
              "                          datetime.datetime(2020, 7, 23, 0, 0),\n",
              "                          datetime.datetime(2020, 7, 24, 0, 0),\n",
              "                          datetime.datetime(2020, 7, 25, 0, 0),\n",
              "                          datetime.datetime(2020, 7, 26, 0, 0),\n",
              "                          datetime.datetime(2020, 7, 27, 0, 0)], dtype=object),\n",
              "              'xaxis': 'x',\n",
              "              'y': array([    17,     18,     26,     42,     56,     82,    131,    133,    171,\n",
              "                             213,    259,    362,    426,    492,    564,    634,    719,    806,\n",
              "                             906,   1013,   1113,   1118,   1371,   1523,   1666,   1770,   1868,\n",
              "                            2008,   2123,   2246,   2250,   2457,   2467,   2627,   2707,   2767,\n",
              "                            2810,   2867,   2936,   2990,   3079,   3154,   3249,   3342,   3454,\n",
              "                            3553,   3797,   3981,   4260,   4604,   4909,   5406,   5823,   6464,\n",
              "                            7144,   7948,   8845,   9951,  11429,  13134,  14831,  16748,  19016,\n",
              "                           21793,  24800,  28318,  31997,  35470,  39634,  44478,  50029,  56334,\n",
              "                           62319,  68160,  73181,  79013,  86915,  93650, 101279, 108551, 114620,\n",
              "                          120351, 126098, 132996, 141308, 148591, 157481, 163952, 168522, 173965,\n",
              "                          181122, 187877, 194727, 201401, 206979, 210862, 215511, 221974, 228742,\n",
              "                          234704, 239881, 245206, 248659, 252787, 258658, 265327, 270736, 276304,\n",
              "                          280569, 284135, 287608, 293155, 298383, 303651, 308866, 313037, 316366,\n",
              "                          319657, 324441, 329326, 334112, 339396, 343385, 346525, 347703, 351906,\n",
              "                          357119, 361820, 366562, 370718, 373606, 376674, 381497, 387069, 392218,\n",
              "                          396994, 400875, 403617, 407314, 412236, 417441, 422215, 426512, 430750,\n",
              "                          434124, 437549, 444416, 449671, 454700, 460973, 465222, 469185, 472756,\n",
              "                          478067, 483328, 489955, 494782, 499268, 502357, 506078, 511210, 516221,\n",
              "                          521341, 526336, 530705, 534150, 537947, 544054, 549373, 554831, 560142,\n",
              "                          565039, 568993, 572808, 578468, 583961, 589760, 596503, 602130, 606159,\n",
              "                          610319, 616557, 623540, 633506, 639650, 644517, 648621, 654036],\n",
              "                         dtype=int64),\n",
              "              'yaxis': 'y'}],\n",
              "    'layout': {'legend': {'tracegroupgap': 0},\n",
              "               'template': '...',\n",
              "               'title': {'text': 'NO. of Deaths over Time'},\n",
              "               'xaxis': {'anchor': 'y', 'domain': [0.0, 1.0], 'title': {'text': 'Date'}},\n",
              "               'yaxis': {'anchor': 'x', 'domain': [0.0, 1.0], 'title': {'text': 'Deaths'}}}\n",
              "})"
            ]
          },
          "execution_count": 44,
          "metadata": {},
          "output_type": "execute_result"
        }
      ],
      "source": [
        "px.line(day_wise,x='Date',y='Deaths',title='NO. of Deaths over Time',template=\"plotly_dark\")"
      ]
    },
    {
      "cell_type": "code",
      "execution_count": 45,
      "metadata": {
        "colab": {
          "base_uri": "https://localhost:8080/",
          "height": 542
        },
        "id": "AbijUYMKmwYd",
        "outputId": "d456967c-37fd-4133-d90e-ec5a0490b014"
      },
      "outputs": [
        {
          "ename": "ValueError",
          "evalue": "Mime type rendering requires nbformat>=4.2.0 but it is not installed",
          "output_type": "error",
          "traceback": [
            "\u001b[1;31m---------------------------------------------------------------------------\u001b[0m",
            "\u001b[1;31mValueError\u001b[0m                                Traceback (most recent call last)",
            "File \u001b[1;32m~\\AppData\\Roaming\\Python\\Python310\\site-packages\\IPython\\core\\formatters.py:922\u001b[0m, in \u001b[0;36mIPythonDisplayFormatter.__call__\u001b[1;34m(self, obj)\u001b[0m\n\u001b[0;32m    920\u001b[0m method \u001b[39m=\u001b[39m get_real_method(obj, \u001b[39mself\u001b[39m\u001b[39m.\u001b[39mprint_method)\n\u001b[0;32m    921\u001b[0m \u001b[39mif\u001b[39;00m method \u001b[39mis\u001b[39;00m \u001b[39mnot\u001b[39;00m \u001b[39mNone\u001b[39;00m:\n\u001b[1;32m--> 922\u001b[0m     method()\n\u001b[0;32m    923\u001b[0m     \u001b[39mreturn\u001b[39;00m \u001b[39mTrue\u001b[39;00m\n",
            "File \u001b[1;32m~\\AppData\\Roaming\\Python\\Python310\\site-packages\\plotly\\basedatatypes.py:834\u001b[0m, in \u001b[0;36mBaseFigure._ipython_display_\u001b[1;34m(self)\u001b[0m\n\u001b[0;32m    831\u001b[0m \u001b[39mimport\u001b[39;00m \u001b[39mplotly\u001b[39;00m\u001b[39m.\u001b[39;00m\u001b[39mio\u001b[39;00m \u001b[39mas\u001b[39;00m \u001b[39mpio\u001b[39;00m\n\u001b[0;32m    833\u001b[0m \u001b[39mif\u001b[39;00m pio\u001b[39m.\u001b[39mrenderers\u001b[39m.\u001b[39mrender_on_display \u001b[39mand\u001b[39;00m pio\u001b[39m.\u001b[39mrenderers\u001b[39m.\u001b[39mdefault:\n\u001b[1;32m--> 834\u001b[0m     pio\u001b[39m.\u001b[39;49mshow(\u001b[39mself\u001b[39;49m)\n\u001b[0;32m    835\u001b[0m \u001b[39melse\u001b[39;00m:\n\u001b[0;32m    836\u001b[0m     \u001b[39mprint\u001b[39m(\u001b[39mrepr\u001b[39m(\u001b[39mself\u001b[39m))\n",
            "File \u001b[1;32m~\\AppData\\Roaming\\Python\\Python310\\site-packages\\plotly\\io\\_renderers.py:396\u001b[0m, in \u001b[0;36mshow\u001b[1;34m(fig, renderer, validate, **kwargs)\u001b[0m\n\u001b[0;32m    391\u001b[0m         \u001b[39mraise\u001b[39;00m \u001b[39mValueError\u001b[39;00m(\n\u001b[0;32m    392\u001b[0m             \u001b[39m\"\u001b[39m\u001b[39mMime type rendering requires ipython but it is not installed\u001b[39m\u001b[39m\"\u001b[39m\n\u001b[0;32m    393\u001b[0m         )\n\u001b[0;32m    395\u001b[0m     \u001b[39mif\u001b[39;00m \u001b[39mnot\u001b[39;00m nbformat \u001b[39mor\u001b[39;00m Version(nbformat\u001b[39m.\u001b[39m__version__) \u001b[39m<\u001b[39m Version(\u001b[39m\"\u001b[39m\u001b[39m4.2.0\u001b[39m\u001b[39m\"\u001b[39m):\n\u001b[1;32m--> 396\u001b[0m         \u001b[39mraise\u001b[39;00m \u001b[39mValueError\u001b[39;00m(\n\u001b[0;32m    397\u001b[0m             \u001b[39m\"\u001b[39m\u001b[39mMime type rendering requires nbformat>=4.2.0 but it is not installed\u001b[39m\u001b[39m\"\u001b[39m\n\u001b[0;32m    398\u001b[0m         )\n\u001b[0;32m    400\u001b[0m     ipython_display\u001b[39m.\u001b[39mdisplay(bundle, raw\u001b[39m=\u001b[39m\u001b[39mTrue\u001b[39;00m)\n\u001b[0;32m    402\u001b[0m \u001b[39m# external renderers\u001b[39;00m\n",
            "\u001b[1;31mValueError\u001b[0m: Mime type rendering requires nbformat>=4.2.0 but it is not installed"
          ]
        },
        {
          "data": {
            "application/vnd.plotly.v1+json": {
              "config": {
                "plotlyServerURL": "https://plot.ly"
              },
              "data": [
                {
                  "alignmentgroup": "True",
                  "bingroup": "x",
                  "histfunc": "sum",
                  "hovertemplate": "Date=%{x}<br>sum of Deaths=%{y}<extra></extra>",
                  "legendgroup": "",
                  "marker": {
                    "color": "#636efa",
                    "pattern": {
                      "shape": ""
                    }
                  },
                  "name": "",
                  "offsetgroup": "",
                  "orientation": "v",
                  "showlegend": false,
                  "type": "histogram",
                  "x": [
                    "2020-01-22T00:00:00",
                    "2020-01-23T00:00:00",
                    "2020-01-24T00:00:00",
                    "2020-01-25T00:00:00",
                    "2020-01-26T00:00:00",
                    "2020-01-27T00:00:00",
                    "2020-01-28T00:00:00",
                    "2020-01-29T00:00:00",
                    "2020-01-30T00:00:00",
                    "2020-01-31T00:00:00",
                    "2020-02-01T00:00:00",
                    "2020-02-02T00:00:00",
                    "2020-02-03T00:00:00",
                    "2020-02-04T00:00:00",
                    "2020-02-05T00:00:00",
                    "2020-02-06T00:00:00",
                    "2020-02-07T00:00:00",
                    "2020-02-08T00:00:00",
                    "2020-02-09T00:00:00",
                    "2020-02-10T00:00:00",
                    "2020-02-11T00:00:00",
                    "2020-02-12T00:00:00",
                    "2020-02-13T00:00:00",
                    "2020-02-14T00:00:00",
                    "2020-02-15T00:00:00",
                    "2020-02-16T00:00:00",
                    "2020-02-17T00:00:00",
                    "2020-02-18T00:00:00",
                    "2020-02-19T00:00:00",
                    "2020-02-20T00:00:00",
                    "2020-02-21T00:00:00",
                    "2020-02-22T00:00:00",
                    "2020-02-23T00:00:00",
                    "2020-02-24T00:00:00",
                    "2020-02-25T00:00:00",
                    "2020-02-26T00:00:00",
                    "2020-02-27T00:00:00",
                    "2020-02-28T00:00:00",
                    "2020-02-29T00:00:00",
                    "2020-03-01T00:00:00",
                    "2020-03-02T00:00:00",
                    "2020-03-03T00:00:00",
                    "2020-03-04T00:00:00",
                    "2020-03-05T00:00:00",
                    "2020-03-06T00:00:00",
                    "2020-03-07T00:00:00",
                    "2020-03-08T00:00:00",
                    "2020-03-09T00:00:00",
                    "2020-03-10T00:00:00",
                    "2020-03-11T00:00:00",
                    "2020-03-12T00:00:00",
                    "2020-03-13T00:00:00",
                    "2020-03-14T00:00:00",
                    "2020-03-15T00:00:00",
                    "2020-03-16T00:00:00",
                    "2020-03-17T00:00:00",
                    "2020-03-18T00:00:00",
                    "2020-03-19T00:00:00",
                    "2020-03-20T00:00:00",
                    "2020-03-21T00:00:00",
                    "2020-03-22T00:00:00",
                    "2020-03-23T00:00:00",
                    "2020-03-24T00:00:00",
                    "2020-03-25T00:00:00",
                    "2020-03-26T00:00:00",
                    "2020-03-27T00:00:00",
                    "2020-03-28T00:00:00",
                    "2020-03-29T00:00:00",
                    "2020-03-30T00:00:00",
                    "2020-03-31T00:00:00",
                    "2020-04-01T00:00:00",
                    "2020-04-02T00:00:00",
                    "2020-04-03T00:00:00",
                    "2020-04-04T00:00:00",
                    "2020-04-05T00:00:00",
                    "2020-04-06T00:00:00",
                    "2020-04-07T00:00:00",
                    "2020-04-08T00:00:00",
                    "2020-04-09T00:00:00",
                    "2020-04-10T00:00:00",
                    "2020-04-11T00:00:00",
                    "2020-04-12T00:00:00",
                    "2020-04-13T00:00:00",
                    "2020-04-14T00:00:00",
                    "2020-04-15T00:00:00",
                    "2020-04-16T00:00:00",
                    "2020-04-17T00:00:00",
                    "2020-04-18T00:00:00",
                    "2020-04-19T00:00:00",
                    "2020-04-20T00:00:00",
                    "2020-04-21T00:00:00",
                    "2020-04-22T00:00:00",
                    "2020-04-23T00:00:00",
                    "2020-04-24T00:00:00",
                    "2020-04-25T00:00:00",
                    "2020-04-26T00:00:00",
                    "2020-04-27T00:00:00",
                    "2020-04-28T00:00:00",
                    "2020-04-29T00:00:00",
                    "2020-04-30T00:00:00",
                    "2020-05-01T00:00:00",
                    "2020-05-02T00:00:00",
                    "2020-05-03T00:00:00",
                    "2020-05-04T00:00:00",
                    "2020-05-05T00:00:00",
                    "2020-05-06T00:00:00",
                    "2020-05-07T00:00:00",
                    "2020-05-08T00:00:00",
                    "2020-05-09T00:00:00",
                    "2020-05-10T00:00:00",
                    "2020-05-11T00:00:00",
                    "2020-05-12T00:00:00",
                    "2020-05-13T00:00:00",
                    "2020-05-14T00:00:00",
                    "2020-05-15T00:00:00",
                    "2020-05-16T00:00:00",
                    "2020-05-17T00:00:00",
                    "2020-05-18T00:00:00",
                    "2020-05-19T00:00:00",
                    "2020-05-20T00:00:00",
                    "2020-05-21T00:00:00",
                    "2020-05-22T00:00:00",
                    "2020-05-23T00:00:00",
                    "2020-05-24T00:00:00",
                    "2020-05-25T00:00:00",
                    "2020-05-26T00:00:00",
                    "2020-05-27T00:00:00",
                    "2020-05-28T00:00:00",
                    "2020-05-29T00:00:00",
                    "2020-05-30T00:00:00",
                    "2020-05-31T00:00:00",
                    "2020-06-01T00:00:00",
                    "2020-06-02T00:00:00",
                    "2020-06-03T00:00:00",
                    "2020-06-04T00:00:00",
                    "2020-06-05T00:00:00",
                    "2020-06-06T00:00:00",
                    "2020-06-07T00:00:00",
                    "2020-06-08T00:00:00",
                    "2020-06-09T00:00:00",
                    "2020-06-10T00:00:00",
                    "2020-06-11T00:00:00",
                    "2020-06-12T00:00:00",
                    "2020-06-13T00:00:00",
                    "2020-06-14T00:00:00",
                    "2020-06-15T00:00:00",
                    "2020-06-16T00:00:00",
                    "2020-06-17T00:00:00",
                    "2020-06-18T00:00:00",
                    "2020-06-19T00:00:00",
                    "2020-06-20T00:00:00",
                    "2020-06-21T00:00:00",
                    "2020-06-22T00:00:00",
                    "2020-06-23T00:00:00",
                    "2020-06-24T00:00:00",
                    "2020-06-25T00:00:00",
                    "2020-06-26T00:00:00",
                    "2020-06-27T00:00:00",
                    "2020-06-28T00:00:00",
                    "2020-06-29T00:00:00",
                    "2020-06-30T00:00:00",
                    "2020-07-01T00:00:00",
                    "2020-07-02T00:00:00",
                    "2020-07-03T00:00:00",
                    "2020-07-04T00:00:00",
                    "2020-07-05T00:00:00",
                    "2020-07-06T00:00:00",
                    "2020-07-07T00:00:00",
                    "2020-07-08T00:00:00",
                    "2020-07-09T00:00:00",
                    "2020-07-10T00:00:00",
                    "2020-07-11T00:00:00",
                    "2020-07-12T00:00:00",
                    "2020-07-13T00:00:00",
                    "2020-07-14T00:00:00",
                    "2020-07-15T00:00:00",
                    "2020-07-16T00:00:00",
                    "2020-07-17T00:00:00",
                    "2020-07-18T00:00:00",
                    "2020-07-19T00:00:00",
                    "2020-07-20T00:00:00",
                    "2020-07-21T00:00:00",
                    "2020-07-22T00:00:00",
                    "2020-07-23T00:00:00",
                    "2020-07-24T00:00:00",
                    "2020-07-25T00:00:00",
                    "2020-07-26T00:00:00",
                    "2020-07-27T00:00:00"
                  ],
                  "xaxis": "x",
                  "y": [
                    17,
                    18,
                    26,
                    42,
                    56,
                    82,
                    131,
                    133,
                    171,
                    213,
                    259,
                    362,
                    426,
                    492,
                    564,
                    634,
                    719,
                    806,
                    906,
                    1013,
                    1113,
                    1118,
                    1371,
                    1523,
                    1666,
                    1770,
                    1868,
                    2008,
                    2123,
                    2246,
                    2250,
                    2457,
                    2467,
                    2627,
                    2707,
                    2767,
                    2810,
                    2867,
                    2936,
                    2990,
                    3079,
                    3154,
                    3249,
                    3342,
                    3454,
                    3553,
                    3797,
                    3981,
                    4260,
                    4604,
                    4909,
                    5406,
                    5823,
                    6464,
                    7144,
                    7948,
                    8845,
                    9951,
                    11429,
                    13134,
                    14831,
                    16748,
                    19016,
                    21793,
                    24800,
                    28318,
                    31997,
                    35470,
                    39634,
                    44478,
                    50029,
                    56334,
                    62319,
                    68160,
                    73181,
                    79013,
                    86915,
                    93650,
                    101279,
                    108551,
                    114620,
                    120351,
                    126098,
                    132996,
                    141308,
                    148591,
                    157481,
                    163952,
                    168522,
                    173965,
                    181122,
                    187877,
                    194727,
                    201401,
                    206979,
                    210862,
                    215511,
                    221974,
                    228742,
                    234704,
                    239881,
                    245206,
                    248659,
                    252787,
                    258658,
                    265327,
                    270736,
                    276304,
                    280569,
                    284135,
                    287608,
                    293155,
                    298383,
                    303651,
                    308866,
                    313037,
                    316366,
                    319657,
                    324441,
                    329326,
                    334112,
                    339396,
                    343385,
                    346525,
                    347703,
                    351906,
                    357119,
                    361820,
                    366562,
                    370718,
                    373606,
                    376674,
                    381497,
                    387069,
                    392218,
                    396994,
                    400875,
                    403617,
                    407314,
                    412236,
                    417441,
                    422215,
                    426512,
                    430750,
                    434124,
                    437549,
                    444416,
                    449671,
                    454700,
                    460973,
                    465222,
                    469185,
                    472756,
                    478067,
                    483328,
                    489955,
                    494782,
                    499268,
                    502357,
                    506078,
                    511210,
                    516221,
                    521341,
                    526336,
                    530705,
                    534150,
                    537947,
                    544054,
                    549373,
                    554831,
                    560142,
                    565039,
                    568993,
                    572808,
                    578468,
                    583961,
                    589760,
                    596503,
                    602130,
                    606159,
                    610319,
                    616557,
                    623540,
                    633506,
                    639650,
                    644517,
                    648621,
                    654036
                  ],
                  "yaxis": "y"
                }
              ],
              "layout": {
                "barmode": "relative",
                "legend": {
                  "tracegroupgap": 0
                },
                "template": {
                  "data": {
                    "bar": [
                      {
                        "error_x": {
                          "color": "#f2f5fa"
                        },
                        "error_y": {
                          "color": "#f2f5fa"
                        },
                        "marker": {
                          "line": {
                            "color": "rgb(17,17,17)",
                            "width": 0.5
                          },
                          "pattern": {
                            "fillmode": "overlay",
                            "size": 10,
                            "solidity": 0.2
                          }
                        },
                        "type": "bar"
                      }
                    ],
                    "barpolar": [
                      {
                        "marker": {
                          "line": {
                            "color": "rgb(17,17,17)",
                            "width": 0.5
                          },
                          "pattern": {
                            "fillmode": "overlay",
                            "size": 10,
                            "solidity": 0.2
                          }
                        },
                        "type": "barpolar"
                      }
                    ],
                    "carpet": [
                      {
                        "aaxis": {
                          "endlinecolor": "#A2B1C6",
                          "gridcolor": "#506784",
                          "linecolor": "#506784",
                          "minorgridcolor": "#506784",
                          "startlinecolor": "#A2B1C6"
                        },
                        "baxis": {
                          "endlinecolor": "#A2B1C6",
                          "gridcolor": "#506784",
                          "linecolor": "#506784",
                          "minorgridcolor": "#506784",
                          "startlinecolor": "#A2B1C6"
                        },
                        "type": "carpet"
                      }
                    ],
                    "choropleth": [
                      {
                        "colorbar": {
                          "outlinewidth": 0,
                          "ticks": ""
                        },
                        "type": "choropleth"
                      }
                    ],
                    "contour": [
                      {
                        "colorbar": {
                          "outlinewidth": 0,
                          "ticks": ""
                        },
                        "colorscale": [
                          [
                            0,
                            "#0d0887"
                          ],
                          [
                            0.1111111111111111,
                            "#46039f"
                          ],
                          [
                            0.2222222222222222,
                            "#7201a8"
                          ],
                          [
                            0.3333333333333333,
                            "#9c179e"
                          ],
                          [
                            0.4444444444444444,
                            "#bd3786"
                          ],
                          [
                            0.5555555555555556,
                            "#d8576b"
                          ],
                          [
                            0.6666666666666666,
                            "#ed7953"
                          ],
                          [
                            0.7777777777777778,
                            "#fb9f3a"
                          ],
                          [
                            0.8888888888888888,
                            "#fdca26"
                          ],
                          [
                            1,
                            "#f0f921"
                          ]
                        ],
                        "type": "contour"
                      }
                    ],
                    "contourcarpet": [
                      {
                        "colorbar": {
                          "outlinewidth": 0,
                          "ticks": ""
                        },
                        "type": "contourcarpet"
                      }
                    ],
                    "heatmap": [
                      {
                        "colorbar": {
                          "outlinewidth": 0,
                          "ticks": ""
                        },
                        "colorscale": [
                          [
                            0,
                            "#0d0887"
                          ],
                          [
                            0.1111111111111111,
                            "#46039f"
                          ],
                          [
                            0.2222222222222222,
                            "#7201a8"
                          ],
                          [
                            0.3333333333333333,
                            "#9c179e"
                          ],
                          [
                            0.4444444444444444,
                            "#bd3786"
                          ],
                          [
                            0.5555555555555556,
                            "#d8576b"
                          ],
                          [
                            0.6666666666666666,
                            "#ed7953"
                          ],
                          [
                            0.7777777777777778,
                            "#fb9f3a"
                          ],
                          [
                            0.8888888888888888,
                            "#fdca26"
                          ],
                          [
                            1,
                            "#f0f921"
                          ]
                        ],
                        "type": "heatmap"
                      }
                    ],
                    "heatmapgl": [
                      {
                        "colorbar": {
                          "outlinewidth": 0,
                          "ticks": ""
                        },
                        "colorscale": [
                          [
                            0,
                            "#0d0887"
                          ],
                          [
                            0.1111111111111111,
                            "#46039f"
                          ],
                          [
                            0.2222222222222222,
                            "#7201a8"
                          ],
                          [
                            0.3333333333333333,
                            "#9c179e"
                          ],
                          [
                            0.4444444444444444,
                            "#bd3786"
                          ],
                          [
                            0.5555555555555556,
                            "#d8576b"
                          ],
                          [
                            0.6666666666666666,
                            "#ed7953"
                          ],
                          [
                            0.7777777777777778,
                            "#fb9f3a"
                          ],
                          [
                            0.8888888888888888,
                            "#fdca26"
                          ],
                          [
                            1,
                            "#f0f921"
                          ]
                        ],
                        "type": "heatmapgl"
                      }
                    ],
                    "histogram": [
                      {
                        "marker": {
                          "pattern": {
                            "fillmode": "overlay",
                            "size": 10,
                            "solidity": 0.2
                          }
                        },
                        "type": "histogram"
                      }
                    ],
                    "histogram2d": [
                      {
                        "colorbar": {
                          "outlinewidth": 0,
                          "ticks": ""
                        },
                        "colorscale": [
                          [
                            0,
                            "#0d0887"
                          ],
                          [
                            0.1111111111111111,
                            "#46039f"
                          ],
                          [
                            0.2222222222222222,
                            "#7201a8"
                          ],
                          [
                            0.3333333333333333,
                            "#9c179e"
                          ],
                          [
                            0.4444444444444444,
                            "#bd3786"
                          ],
                          [
                            0.5555555555555556,
                            "#d8576b"
                          ],
                          [
                            0.6666666666666666,
                            "#ed7953"
                          ],
                          [
                            0.7777777777777778,
                            "#fb9f3a"
                          ],
                          [
                            0.8888888888888888,
                            "#fdca26"
                          ],
                          [
                            1,
                            "#f0f921"
                          ]
                        ],
                        "type": "histogram2d"
                      }
                    ],
                    "histogram2dcontour": [
                      {
                        "colorbar": {
                          "outlinewidth": 0,
                          "ticks": ""
                        },
                        "colorscale": [
                          [
                            0,
                            "#0d0887"
                          ],
                          [
                            0.1111111111111111,
                            "#46039f"
                          ],
                          [
                            0.2222222222222222,
                            "#7201a8"
                          ],
                          [
                            0.3333333333333333,
                            "#9c179e"
                          ],
                          [
                            0.4444444444444444,
                            "#bd3786"
                          ],
                          [
                            0.5555555555555556,
                            "#d8576b"
                          ],
                          [
                            0.6666666666666666,
                            "#ed7953"
                          ],
                          [
                            0.7777777777777778,
                            "#fb9f3a"
                          ],
                          [
                            0.8888888888888888,
                            "#fdca26"
                          ],
                          [
                            1,
                            "#f0f921"
                          ]
                        ],
                        "type": "histogram2dcontour"
                      }
                    ],
                    "mesh3d": [
                      {
                        "colorbar": {
                          "outlinewidth": 0,
                          "ticks": ""
                        },
                        "type": "mesh3d"
                      }
                    ],
                    "parcoords": [
                      {
                        "line": {
                          "colorbar": {
                            "outlinewidth": 0,
                            "ticks": ""
                          }
                        },
                        "type": "parcoords"
                      }
                    ],
                    "pie": [
                      {
                        "automargin": true,
                        "type": "pie"
                      }
                    ],
                    "scatter": [
                      {
                        "marker": {
                          "line": {
                            "color": "#283442"
                          }
                        },
                        "type": "scatter"
                      }
                    ],
                    "scatter3d": [
                      {
                        "line": {
                          "colorbar": {
                            "outlinewidth": 0,
                            "ticks": ""
                          }
                        },
                        "marker": {
                          "colorbar": {
                            "outlinewidth": 0,
                            "ticks": ""
                          }
                        },
                        "type": "scatter3d"
                      }
                    ],
                    "scattercarpet": [
                      {
                        "marker": {
                          "colorbar": {
                            "outlinewidth": 0,
                            "ticks": ""
                          }
                        },
                        "type": "scattercarpet"
                      }
                    ],
                    "scattergeo": [
                      {
                        "marker": {
                          "colorbar": {
                            "outlinewidth": 0,
                            "ticks": ""
                          }
                        },
                        "type": "scattergeo"
                      }
                    ],
                    "scattergl": [
                      {
                        "marker": {
                          "line": {
                            "color": "#283442"
                          }
                        },
                        "type": "scattergl"
                      }
                    ],
                    "scattermapbox": [
                      {
                        "marker": {
                          "colorbar": {
                            "outlinewidth": 0,
                            "ticks": ""
                          }
                        },
                        "type": "scattermapbox"
                      }
                    ],
                    "scatterpolar": [
                      {
                        "marker": {
                          "colorbar": {
                            "outlinewidth": 0,
                            "ticks": ""
                          }
                        },
                        "type": "scatterpolar"
                      }
                    ],
                    "scatterpolargl": [
                      {
                        "marker": {
                          "colorbar": {
                            "outlinewidth": 0,
                            "ticks": ""
                          }
                        },
                        "type": "scatterpolargl"
                      }
                    ],
                    "scatterternary": [
                      {
                        "marker": {
                          "colorbar": {
                            "outlinewidth": 0,
                            "ticks": ""
                          }
                        },
                        "type": "scatterternary"
                      }
                    ],
                    "surface": [
                      {
                        "colorbar": {
                          "outlinewidth": 0,
                          "ticks": ""
                        },
                        "colorscale": [
                          [
                            0,
                            "#0d0887"
                          ],
                          [
                            0.1111111111111111,
                            "#46039f"
                          ],
                          [
                            0.2222222222222222,
                            "#7201a8"
                          ],
                          [
                            0.3333333333333333,
                            "#9c179e"
                          ],
                          [
                            0.4444444444444444,
                            "#bd3786"
                          ],
                          [
                            0.5555555555555556,
                            "#d8576b"
                          ],
                          [
                            0.6666666666666666,
                            "#ed7953"
                          ],
                          [
                            0.7777777777777778,
                            "#fb9f3a"
                          ],
                          [
                            0.8888888888888888,
                            "#fdca26"
                          ],
                          [
                            1,
                            "#f0f921"
                          ]
                        ],
                        "type": "surface"
                      }
                    ],
                    "table": [
                      {
                        "cells": {
                          "fill": {
                            "color": "#506784"
                          },
                          "line": {
                            "color": "rgb(17,17,17)"
                          }
                        },
                        "header": {
                          "fill": {
                            "color": "#2a3f5f"
                          },
                          "line": {
                            "color": "rgb(17,17,17)"
                          }
                        },
                        "type": "table"
                      }
                    ]
                  },
                  "layout": {
                    "annotationdefaults": {
                      "arrowcolor": "#f2f5fa",
                      "arrowhead": 0,
                      "arrowwidth": 1
                    },
                    "autotypenumbers": "strict",
                    "coloraxis": {
                      "colorbar": {
                        "outlinewidth": 0,
                        "ticks": ""
                      }
                    },
                    "colorscale": {
                      "diverging": [
                        [
                          0,
                          "#8e0152"
                        ],
                        [
                          0.1,
                          "#c51b7d"
                        ],
                        [
                          0.2,
                          "#de77ae"
                        ],
                        [
                          0.3,
                          "#f1b6da"
                        ],
                        [
                          0.4,
                          "#fde0ef"
                        ],
                        [
                          0.5,
                          "#f7f7f7"
                        ],
                        [
                          0.6,
                          "#e6f5d0"
                        ],
                        [
                          0.7,
                          "#b8e186"
                        ],
                        [
                          0.8,
                          "#7fbc41"
                        ],
                        [
                          0.9,
                          "#4d9221"
                        ],
                        [
                          1,
                          "#276419"
                        ]
                      ],
                      "sequential": [
                        [
                          0,
                          "#0d0887"
                        ],
                        [
                          0.1111111111111111,
                          "#46039f"
                        ],
                        [
                          0.2222222222222222,
                          "#7201a8"
                        ],
                        [
                          0.3333333333333333,
                          "#9c179e"
                        ],
                        [
                          0.4444444444444444,
                          "#bd3786"
                        ],
                        [
                          0.5555555555555556,
                          "#d8576b"
                        ],
                        [
                          0.6666666666666666,
                          "#ed7953"
                        ],
                        [
                          0.7777777777777778,
                          "#fb9f3a"
                        ],
                        [
                          0.8888888888888888,
                          "#fdca26"
                        ],
                        [
                          1,
                          "#f0f921"
                        ]
                      ],
                      "sequentialminus": [
                        [
                          0,
                          "#0d0887"
                        ],
                        [
                          0.1111111111111111,
                          "#46039f"
                        ],
                        [
                          0.2222222222222222,
                          "#7201a8"
                        ],
                        [
                          0.3333333333333333,
                          "#9c179e"
                        ],
                        [
                          0.4444444444444444,
                          "#bd3786"
                        ],
                        [
                          0.5555555555555556,
                          "#d8576b"
                        ],
                        [
                          0.6666666666666666,
                          "#ed7953"
                        ],
                        [
                          0.7777777777777778,
                          "#fb9f3a"
                        ],
                        [
                          0.8888888888888888,
                          "#fdca26"
                        ],
                        [
                          1,
                          "#f0f921"
                        ]
                      ]
                    },
                    "colorway": [
                      "#636efa",
                      "#EF553B",
                      "#00cc96",
                      "#ab63fa",
                      "#FFA15A",
                      "#19d3f3",
                      "#FF6692",
                      "#B6E880",
                      "#FF97FF",
                      "#FECB52"
                    ],
                    "font": {
                      "color": "#f2f5fa"
                    },
                    "geo": {
                      "bgcolor": "rgb(17,17,17)",
                      "lakecolor": "rgb(17,17,17)",
                      "landcolor": "rgb(17,17,17)",
                      "showlakes": true,
                      "showland": true,
                      "subunitcolor": "#506784"
                    },
                    "hoverlabel": {
                      "align": "left"
                    },
                    "hovermode": "closest",
                    "mapbox": {
                      "style": "dark"
                    },
                    "paper_bgcolor": "rgb(17,17,17)",
                    "plot_bgcolor": "rgb(17,17,17)",
                    "polar": {
                      "angularaxis": {
                        "gridcolor": "#506784",
                        "linecolor": "#506784",
                        "ticks": ""
                      },
                      "bgcolor": "rgb(17,17,17)",
                      "radialaxis": {
                        "gridcolor": "#506784",
                        "linecolor": "#506784",
                        "ticks": ""
                      }
                    },
                    "scene": {
                      "xaxis": {
                        "backgroundcolor": "rgb(17,17,17)",
                        "gridcolor": "#506784",
                        "gridwidth": 2,
                        "linecolor": "#506784",
                        "showbackground": true,
                        "ticks": "",
                        "zerolinecolor": "#C8D4E3"
                      },
                      "yaxis": {
                        "backgroundcolor": "rgb(17,17,17)",
                        "gridcolor": "#506784",
                        "gridwidth": 2,
                        "linecolor": "#506784",
                        "showbackground": true,
                        "ticks": "",
                        "zerolinecolor": "#C8D4E3"
                      },
                      "zaxis": {
                        "backgroundcolor": "rgb(17,17,17)",
                        "gridcolor": "#506784",
                        "gridwidth": 2,
                        "linecolor": "#506784",
                        "showbackground": true,
                        "ticks": "",
                        "zerolinecolor": "#C8D4E3"
                      }
                    },
                    "shapedefaults": {
                      "line": {
                        "color": "#f2f5fa"
                      }
                    },
                    "sliderdefaults": {
                      "bgcolor": "#C8D4E3",
                      "bordercolor": "rgb(17,17,17)",
                      "borderwidth": 1,
                      "tickwidth": 0
                    },
                    "ternary": {
                      "aaxis": {
                        "gridcolor": "#506784",
                        "linecolor": "#506784",
                        "ticks": ""
                      },
                      "baxis": {
                        "gridcolor": "#506784",
                        "linecolor": "#506784",
                        "ticks": ""
                      },
                      "bgcolor": "rgb(17,17,17)",
                      "caxis": {
                        "gridcolor": "#506784",
                        "linecolor": "#506784",
                        "ticks": ""
                      }
                    },
                    "title": {
                      "x": 0.05
                    },
                    "updatemenudefaults": {
                      "bgcolor": "#506784",
                      "borderwidth": 0
                    },
                    "xaxis": {
                      "automargin": true,
                      "gridcolor": "#283442",
                      "linecolor": "#506784",
                      "ticks": "",
                      "title": {
                        "standoff": 15
                      },
                      "zerolinecolor": "#283442",
                      "zerolinewidth": 2
                    },
                    "yaxis": {
                      "automargin": true,
                      "gridcolor": "#283442",
                      "linecolor": "#506784",
                      "ticks": "",
                      "title": {
                        "standoff": 15
                      },
                      "zerolinecolor": "#283442",
                      "zerolinewidth": 2
                    }
                  }
                },
                "title": {
                  "text": "NO. of Deaths over Time"
                },
                "xaxis": {
                  "anchor": "y",
                  "domain": [
                    0,
                    1
                  ],
                  "title": {
                    "text": "Date"
                  }
                },
                "yaxis": {
                  "anchor": "x",
                  "domain": [
                    0,
                    1
                  ],
                  "title": {
                    "text": "sum of Deaths"
                  }
                }
              }
            },
            "text/html": [
              "<div>                        <script type=\"text/javascript\">window.PlotlyConfig = {MathJaxConfig: 'local'};</script>\n",
              "        <script charset=\"utf-8\" src=\"https://cdn.plot.ly/plotly-2.20.0.min.js\"></script>                <div id=\"0916b86d-087f-4b30-90c4-194e73d0460a\" class=\"plotly-graph-div\" style=\"height:100%; width:100%;\"></div>            <script type=\"text/javascript\">                                    window.PLOTLYENV=window.PLOTLYENV || {};                                    if (document.getElementById(\"0916b86d-087f-4b30-90c4-194e73d0460a\")) {                    Plotly.newPlot(                        \"0916b86d-087f-4b30-90c4-194e73d0460a\",                        [{\"alignmentgroup\":\"True\",\"bingroup\":\"x\",\"histfunc\":\"sum\",\"hovertemplate\":\"Date=%{x}<br>sum of Deaths=%{y}<extra></extra>\",\"legendgroup\":\"\",\"marker\":{\"color\":\"#636efa\",\"pattern\":{\"shape\":\"\"}},\"name\":\"\",\"offsetgroup\":\"\",\"orientation\":\"v\",\"showlegend\":false,\"x\":[\"2020-01-22T00:00:00\",\"2020-01-23T00:00:00\",\"2020-01-24T00:00:00\",\"2020-01-25T00:00:00\",\"2020-01-26T00:00:00\",\"2020-01-27T00:00:00\",\"2020-01-28T00:00:00\",\"2020-01-29T00:00:00\",\"2020-01-30T00:00:00\",\"2020-01-31T00:00:00\",\"2020-02-01T00:00:00\",\"2020-02-02T00:00:00\",\"2020-02-03T00:00:00\",\"2020-02-04T00:00:00\",\"2020-02-05T00:00:00\",\"2020-02-06T00:00:00\",\"2020-02-07T00:00:00\",\"2020-02-08T00:00:00\",\"2020-02-09T00:00:00\",\"2020-02-10T00:00:00\",\"2020-02-11T00:00:00\",\"2020-02-12T00:00:00\",\"2020-02-13T00:00:00\",\"2020-02-14T00:00:00\",\"2020-02-15T00:00:00\",\"2020-02-16T00:00:00\",\"2020-02-17T00:00:00\",\"2020-02-18T00:00:00\",\"2020-02-19T00:00:00\",\"2020-02-20T00:00:00\",\"2020-02-21T00:00:00\",\"2020-02-22T00:00:00\",\"2020-02-23T00:00:00\",\"2020-02-24T00:00:00\",\"2020-02-25T00:00:00\",\"2020-02-26T00:00:00\",\"2020-02-27T00:00:00\",\"2020-02-28T00:00:00\",\"2020-02-29T00:00:00\",\"2020-03-01T00:00:00\",\"2020-03-02T00:00:00\",\"2020-03-03T00:00:00\",\"2020-03-04T00:00:00\",\"2020-03-05T00:00:00\",\"2020-03-06T00:00:00\",\"2020-03-07T00:00:00\",\"2020-03-08T00:00:00\",\"2020-03-09T00:00:00\",\"2020-03-10T00:00:00\",\"2020-03-11T00:00:00\",\"2020-03-12T00:00:00\",\"2020-03-13T00:00:00\",\"2020-03-14T00:00:00\",\"2020-03-15T00:00:00\",\"2020-03-16T00:00:00\",\"2020-03-17T00:00:00\",\"2020-03-18T00:00:00\",\"2020-03-19T00:00:00\",\"2020-03-20T00:00:00\",\"2020-03-21T00:00:00\",\"2020-03-22T00:00:00\",\"2020-03-23T00:00:00\",\"2020-03-24T00:00:00\",\"2020-03-25T00:00:00\",\"2020-03-26T00:00:00\",\"2020-03-27T00:00:00\",\"2020-03-28T00:00:00\",\"2020-03-29T00:00:00\",\"2020-03-30T00:00:00\",\"2020-03-31T00:00:00\",\"2020-04-01T00:00:00\",\"2020-04-02T00:00:00\",\"2020-04-03T00:00:00\",\"2020-04-04T00:00:00\",\"2020-04-05T00:00:00\",\"2020-04-06T00:00:00\",\"2020-04-07T00:00:00\",\"2020-04-08T00:00:00\",\"2020-04-09T00:00:00\",\"2020-04-10T00:00:00\",\"2020-04-11T00:00:00\",\"2020-04-12T00:00:00\",\"2020-04-13T00:00:00\",\"2020-04-14T00:00:00\",\"2020-04-15T00:00:00\",\"2020-04-16T00:00:00\",\"2020-04-17T00:00:00\",\"2020-04-18T00:00:00\",\"2020-04-19T00:00:00\",\"2020-04-20T00:00:00\",\"2020-04-21T00:00:00\",\"2020-04-22T00:00:00\",\"2020-04-23T00:00:00\",\"2020-04-24T00:00:00\",\"2020-04-25T00:00:00\",\"2020-04-26T00:00:00\",\"2020-04-27T00:00:00\",\"2020-04-28T00:00:00\",\"2020-04-29T00:00:00\",\"2020-04-30T00:00:00\",\"2020-05-01T00:00:00\",\"2020-05-02T00:00:00\",\"2020-05-03T00:00:00\",\"2020-05-04T00:00:00\",\"2020-05-05T00:00:00\",\"2020-05-06T00:00:00\",\"2020-05-07T00:00:00\",\"2020-05-08T00:00:00\",\"2020-05-09T00:00:00\",\"2020-05-10T00:00:00\",\"2020-05-11T00:00:00\",\"2020-05-12T00:00:00\",\"2020-05-13T00:00:00\",\"2020-05-14T00:00:00\",\"2020-05-15T00:00:00\",\"2020-05-16T00:00:00\",\"2020-05-17T00:00:00\",\"2020-05-18T00:00:00\",\"2020-05-19T00:00:00\",\"2020-05-20T00:00:00\",\"2020-05-21T00:00:00\",\"2020-05-22T00:00:00\",\"2020-05-23T00:00:00\",\"2020-05-24T00:00:00\",\"2020-05-25T00:00:00\",\"2020-05-26T00:00:00\",\"2020-05-27T00:00:00\",\"2020-05-28T00:00:00\",\"2020-05-29T00:00:00\",\"2020-05-30T00:00:00\",\"2020-05-31T00:00:00\",\"2020-06-01T00:00:00\",\"2020-06-02T00:00:00\",\"2020-06-03T00:00:00\",\"2020-06-04T00:00:00\",\"2020-06-05T00:00:00\",\"2020-06-06T00:00:00\",\"2020-06-07T00:00:00\",\"2020-06-08T00:00:00\",\"2020-06-09T00:00:00\",\"2020-06-10T00:00:00\",\"2020-06-11T00:00:00\",\"2020-06-12T00:00:00\",\"2020-06-13T00:00:00\",\"2020-06-14T00:00:00\",\"2020-06-15T00:00:00\",\"2020-06-16T00:00:00\",\"2020-06-17T00:00:00\",\"2020-06-18T00:00:00\",\"2020-06-19T00:00:00\",\"2020-06-20T00:00:00\",\"2020-06-21T00:00:00\",\"2020-06-22T00:00:00\",\"2020-06-23T00:00:00\",\"2020-06-24T00:00:00\",\"2020-06-25T00:00:00\",\"2020-06-26T00:00:00\",\"2020-06-27T00:00:00\",\"2020-06-28T00:00:00\",\"2020-06-29T00:00:00\",\"2020-06-30T00:00:00\",\"2020-07-01T00:00:00\",\"2020-07-02T00:00:00\",\"2020-07-03T00:00:00\",\"2020-07-04T00:00:00\",\"2020-07-05T00:00:00\",\"2020-07-06T00:00:00\",\"2020-07-07T00:00:00\",\"2020-07-08T00:00:00\",\"2020-07-09T00:00:00\",\"2020-07-10T00:00:00\",\"2020-07-11T00:00:00\",\"2020-07-12T00:00:00\",\"2020-07-13T00:00:00\",\"2020-07-14T00:00:00\",\"2020-07-15T00:00:00\",\"2020-07-16T00:00:00\",\"2020-07-17T00:00:00\",\"2020-07-18T00:00:00\",\"2020-07-19T00:00:00\",\"2020-07-20T00:00:00\",\"2020-07-21T00:00:00\",\"2020-07-22T00:00:00\",\"2020-07-23T00:00:00\",\"2020-07-24T00:00:00\",\"2020-07-25T00:00:00\",\"2020-07-26T00:00:00\",\"2020-07-27T00:00:00\"],\"xaxis\":\"x\",\"y\":[17,18,26,42,56,82,131,133,171,213,259,362,426,492,564,634,719,806,906,1013,1113,1118,1371,1523,1666,1770,1868,2008,2123,2246,2250,2457,2467,2627,2707,2767,2810,2867,2936,2990,3079,3154,3249,3342,3454,3553,3797,3981,4260,4604,4909,5406,5823,6464,7144,7948,8845,9951,11429,13134,14831,16748,19016,21793,24800,28318,31997,35470,39634,44478,50029,56334,62319,68160,73181,79013,86915,93650,101279,108551,114620,120351,126098,132996,141308,148591,157481,163952,168522,173965,181122,187877,194727,201401,206979,210862,215511,221974,228742,234704,239881,245206,248659,252787,258658,265327,270736,276304,280569,284135,287608,293155,298383,303651,308866,313037,316366,319657,324441,329326,334112,339396,343385,346525,347703,351906,357119,361820,366562,370718,373606,376674,381497,387069,392218,396994,400875,403617,407314,412236,417441,422215,426512,430750,434124,437549,444416,449671,454700,460973,465222,469185,472756,478067,483328,489955,494782,499268,502357,506078,511210,516221,521341,526336,530705,534150,537947,544054,549373,554831,560142,565039,568993,572808,578468,583961,589760,596503,602130,606159,610319,616557,623540,633506,639650,644517,648621,654036],\"yaxis\":\"y\",\"type\":\"histogram\"}],                        {\"template\":{\"data\":{\"barpolar\":[{\"marker\":{\"line\":{\"color\":\"rgb(17,17,17)\",\"width\":0.5},\"pattern\":{\"fillmode\":\"overlay\",\"size\":10,\"solidity\":0.2}},\"type\":\"barpolar\"}],\"bar\":[{\"error_x\":{\"color\":\"#f2f5fa\"},\"error_y\":{\"color\":\"#f2f5fa\"},\"marker\":{\"line\":{\"color\":\"rgb(17,17,17)\",\"width\":0.5},\"pattern\":{\"fillmode\":\"overlay\",\"size\":10,\"solidity\":0.2}},\"type\":\"bar\"}],\"carpet\":[{\"aaxis\":{\"endlinecolor\":\"#A2B1C6\",\"gridcolor\":\"#506784\",\"linecolor\":\"#506784\",\"minorgridcolor\":\"#506784\",\"startlinecolor\":\"#A2B1C6\"},\"baxis\":{\"endlinecolor\":\"#A2B1C6\",\"gridcolor\":\"#506784\",\"linecolor\":\"#506784\",\"minorgridcolor\":\"#506784\",\"startlinecolor\":\"#A2B1C6\"},\"type\":\"carpet\"}],\"choropleth\":[{\"colorbar\":{\"outlinewidth\":0,\"ticks\":\"\"},\"type\":\"choropleth\"}],\"contourcarpet\":[{\"colorbar\":{\"outlinewidth\":0,\"ticks\":\"\"},\"type\":\"contourcarpet\"}],\"contour\":[{\"colorbar\":{\"outlinewidth\":0,\"ticks\":\"\"},\"colorscale\":[[0.0,\"#0d0887\"],[0.1111111111111111,\"#46039f\"],[0.2222222222222222,\"#7201a8\"],[0.3333333333333333,\"#9c179e\"],[0.4444444444444444,\"#bd3786\"],[0.5555555555555556,\"#d8576b\"],[0.6666666666666666,\"#ed7953\"],[0.7777777777777778,\"#fb9f3a\"],[0.8888888888888888,\"#fdca26\"],[1.0,\"#f0f921\"]],\"type\":\"contour\"}],\"heatmapgl\":[{\"colorbar\":{\"outlinewidth\":0,\"ticks\":\"\"},\"colorscale\":[[0.0,\"#0d0887\"],[0.1111111111111111,\"#46039f\"],[0.2222222222222222,\"#7201a8\"],[0.3333333333333333,\"#9c179e\"],[0.4444444444444444,\"#bd3786\"],[0.5555555555555556,\"#d8576b\"],[0.6666666666666666,\"#ed7953\"],[0.7777777777777778,\"#fb9f3a\"],[0.8888888888888888,\"#fdca26\"],[1.0,\"#f0f921\"]],\"type\":\"heatmapgl\"}],\"heatmap\":[{\"colorbar\":{\"outlinewidth\":0,\"ticks\":\"\"},\"colorscale\":[[0.0,\"#0d0887\"],[0.1111111111111111,\"#46039f\"],[0.2222222222222222,\"#7201a8\"],[0.3333333333333333,\"#9c179e\"],[0.4444444444444444,\"#bd3786\"],[0.5555555555555556,\"#d8576b\"],[0.6666666666666666,\"#ed7953\"],[0.7777777777777778,\"#fb9f3a\"],[0.8888888888888888,\"#fdca26\"],[1.0,\"#f0f921\"]],\"type\":\"heatmap\"}],\"histogram2dcontour\":[{\"colorbar\":{\"outlinewidth\":0,\"ticks\":\"\"},\"colorscale\":[[0.0,\"#0d0887\"],[0.1111111111111111,\"#46039f\"],[0.2222222222222222,\"#7201a8\"],[0.3333333333333333,\"#9c179e\"],[0.4444444444444444,\"#bd3786\"],[0.5555555555555556,\"#d8576b\"],[0.6666666666666666,\"#ed7953\"],[0.7777777777777778,\"#fb9f3a\"],[0.8888888888888888,\"#fdca26\"],[1.0,\"#f0f921\"]],\"type\":\"histogram2dcontour\"}],\"histogram2d\":[{\"colorbar\":{\"outlinewidth\":0,\"ticks\":\"\"},\"colorscale\":[[0.0,\"#0d0887\"],[0.1111111111111111,\"#46039f\"],[0.2222222222222222,\"#7201a8\"],[0.3333333333333333,\"#9c179e\"],[0.4444444444444444,\"#bd3786\"],[0.5555555555555556,\"#d8576b\"],[0.6666666666666666,\"#ed7953\"],[0.7777777777777778,\"#fb9f3a\"],[0.8888888888888888,\"#fdca26\"],[1.0,\"#f0f921\"]],\"type\":\"histogram2d\"}],\"histogram\":[{\"marker\":{\"pattern\":{\"fillmode\":\"overlay\",\"size\":10,\"solidity\":0.2}},\"type\":\"histogram\"}],\"mesh3d\":[{\"colorbar\":{\"outlinewidth\":0,\"ticks\":\"\"},\"type\":\"mesh3d\"}],\"parcoords\":[{\"line\":{\"colorbar\":{\"outlinewidth\":0,\"ticks\":\"\"}},\"type\":\"parcoords\"}],\"pie\":[{\"automargin\":true,\"type\":\"pie\"}],\"scatter3d\":[{\"line\":{\"colorbar\":{\"outlinewidth\":0,\"ticks\":\"\"}},\"marker\":{\"colorbar\":{\"outlinewidth\":0,\"ticks\":\"\"}},\"type\":\"scatter3d\"}],\"scattercarpet\":[{\"marker\":{\"colorbar\":{\"outlinewidth\":0,\"ticks\":\"\"}},\"type\":\"scattercarpet\"}],\"scattergeo\":[{\"marker\":{\"colorbar\":{\"outlinewidth\":0,\"ticks\":\"\"}},\"type\":\"scattergeo\"}],\"scattergl\":[{\"marker\":{\"line\":{\"color\":\"#283442\"}},\"type\":\"scattergl\"}],\"scattermapbox\":[{\"marker\":{\"colorbar\":{\"outlinewidth\":0,\"ticks\":\"\"}},\"type\":\"scattermapbox\"}],\"scatterpolargl\":[{\"marker\":{\"colorbar\":{\"outlinewidth\":0,\"ticks\":\"\"}},\"type\":\"scatterpolargl\"}],\"scatterpolar\":[{\"marker\":{\"colorbar\":{\"outlinewidth\":0,\"ticks\":\"\"}},\"type\":\"scatterpolar\"}],\"scatter\":[{\"marker\":{\"line\":{\"color\":\"#283442\"}},\"type\":\"scatter\"}],\"scatterternary\":[{\"marker\":{\"colorbar\":{\"outlinewidth\":0,\"ticks\":\"\"}},\"type\":\"scatterternary\"}],\"surface\":[{\"colorbar\":{\"outlinewidth\":0,\"ticks\":\"\"},\"colorscale\":[[0.0,\"#0d0887\"],[0.1111111111111111,\"#46039f\"],[0.2222222222222222,\"#7201a8\"],[0.3333333333333333,\"#9c179e\"],[0.4444444444444444,\"#bd3786\"],[0.5555555555555556,\"#d8576b\"],[0.6666666666666666,\"#ed7953\"],[0.7777777777777778,\"#fb9f3a\"],[0.8888888888888888,\"#fdca26\"],[1.0,\"#f0f921\"]],\"type\":\"surface\"}],\"table\":[{\"cells\":{\"fill\":{\"color\":\"#506784\"},\"line\":{\"color\":\"rgb(17,17,17)\"}},\"header\":{\"fill\":{\"color\":\"#2a3f5f\"},\"line\":{\"color\":\"rgb(17,17,17)\"}},\"type\":\"table\"}]},\"layout\":{\"annotationdefaults\":{\"arrowcolor\":\"#f2f5fa\",\"arrowhead\":0,\"arrowwidth\":1},\"autotypenumbers\":\"strict\",\"coloraxis\":{\"colorbar\":{\"outlinewidth\":0,\"ticks\":\"\"}},\"colorscale\":{\"diverging\":[[0,\"#8e0152\"],[0.1,\"#c51b7d\"],[0.2,\"#de77ae\"],[0.3,\"#f1b6da\"],[0.4,\"#fde0ef\"],[0.5,\"#f7f7f7\"],[0.6,\"#e6f5d0\"],[0.7,\"#b8e186\"],[0.8,\"#7fbc41\"],[0.9,\"#4d9221\"],[1,\"#276419\"]],\"sequential\":[[0.0,\"#0d0887\"],[0.1111111111111111,\"#46039f\"],[0.2222222222222222,\"#7201a8\"],[0.3333333333333333,\"#9c179e\"],[0.4444444444444444,\"#bd3786\"],[0.5555555555555556,\"#d8576b\"],[0.6666666666666666,\"#ed7953\"],[0.7777777777777778,\"#fb9f3a\"],[0.8888888888888888,\"#fdca26\"],[1.0,\"#f0f921\"]],\"sequentialminus\":[[0.0,\"#0d0887\"],[0.1111111111111111,\"#46039f\"],[0.2222222222222222,\"#7201a8\"],[0.3333333333333333,\"#9c179e\"],[0.4444444444444444,\"#bd3786\"],[0.5555555555555556,\"#d8576b\"],[0.6666666666666666,\"#ed7953\"],[0.7777777777777778,\"#fb9f3a\"],[0.8888888888888888,\"#fdca26\"],[1.0,\"#f0f921\"]]},\"colorway\":[\"#636efa\",\"#EF553B\",\"#00cc96\",\"#ab63fa\",\"#FFA15A\",\"#19d3f3\",\"#FF6692\",\"#B6E880\",\"#FF97FF\",\"#FECB52\"],\"font\":{\"color\":\"#f2f5fa\"},\"geo\":{\"bgcolor\":\"rgb(17,17,17)\",\"lakecolor\":\"rgb(17,17,17)\",\"landcolor\":\"rgb(17,17,17)\",\"showlakes\":true,\"showland\":true,\"subunitcolor\":\"#506784\"},\"hoverlabel\":{\"align\":\"left\"},\"hovermode\":\"closest\",\"mapbox\":{\"style\":\"dark\"},\"paper_bgcolor\":\"rgb(17,17,17)\",\"plot_bgcolor\":\"rgb(17,17,17)\",\"polar\":{\"angularaxis\":{\"gridcolor\":\"#506784\",\"linecolor\":\"#506784\",\"ticks\":\"\"},\"bgcolor\":\"rgb(17,17,17)\",\"radialaxis\":{\"gridcolor\":\"#506784\",\"linecolor\":\"#506784\",\"ticks\":\"\"}},\"scene\":{\"xaxis\":{\"backgroundcolor\":\"rgb(17,17,17)\",\"gridcolor\":\"#506784\",\"gridwidth\":2,\"linecolor\":\"#506784\",\"showbackground\":true,\"ticks\":\"\",\"zerolinecolor\":\"#C8D4E3\"},\"yaxis\":{\"backgroundcolor\":\"rgb(17,17,17)\",\"gridcolor\":\"#506784\",\"gridwidth\":2,\"linecolor\":\"#506784\",\"showbackground\":true,\"ticks\":\"\",\"zerolinecolor\":\"#C8D4E3\"},\"zaxis\":{\"backgroundcolor\":\"rgb(17,17,17)\",\"gridcolor\":\"#506784\",\"gridwidth\":2,\"linecolor\":\"#506784\",\"showbackground\":true,\"ticks\":\"\",\"zerolinecolor\":\"#C8D4E3\"}},\"shapedefaults\":{\"line\":{\"color\":\"#f2f5fa\"}},\"sliderdefaults\":{\"bgcolor\":\"#C8D4E3\",\"bordercolor\":\"rgb(17,17,17)\",\"borderwidth\":1,\"tickwidth\":0},\"ternary\":{\"aaxis\":{\"gridcolor\":\"#506784\",\"linecolor\":\"#506784\",\"ticks\":\"\"},\"baxis\":{\"gridcolor\":\"#506784\",\"linecolor\":\"#506784\",\"ticks\":\"\"},\"bgcolor\":\"rgb(17,17,17)\",\"caxis\":{\"gridcolor\":\"#506784\",\"linecolor\":\"#506784\",\"ticks\":\"\"}},\"title\":{\"x\":0.05},\"updatemenudefaults\":{\"bgcolor\":\"#506784\",\"borderwidth\":0},\"xaxis\":{\"automargin\":true,\"gridcolor\":\"#283442\",\"linecolor\":\"#506784\",\"ticks\":\"\",\"title\":{\"standoff\":15},\"zerolinecolor\":\"#283442\",\"zerolinewidth\":2},\"yaxis\":{\"automargin\":true,\"gridcolor\":\"#283442\",\"linecolor\":\"#506784\",\"ticks\":\"\",\"title\":{\"standoff\":15},\"zerolinecolor\":\"#283442\",\"zerolinewidth\":2}}},\"xaxis\":{\"anchor\":\"y\",\"domain\":[0.0,1.0],\"title\":{\"text\":\"Date\"}},\"yaxis\":{\"anchor\":\"x\",\"domain\":[0.0,1.0],\"title\":{\"text\":\"sum of Deaths\"}},\"legend\":{\"tracegroupgap\":0},\"title\":{\"text\":\"NO. of Deaths over Time\"},\"barmode\":\"relative\"},                        {\"responsive\": true}                    )                };                            </script>        </div>"
            ],
            "text/plain": [
              "Figure({\n",
              "    'data': [{'alignmentgroup': 'True',\n",
              "              'bingroup': 'x',\n",
              "              'histfunc': 'sum',\n",
              "              'hovertemplate': 'Date=%{x}<br>sum of Deaths=%{y}<extra></extra>',\n",
              "              'legendgroup': '',\n",
              "              'marker': {'color': '#636efa', 'pattern': {'shape': ''}},\n",
              "              'name': '',\n",
              "              'offsetgroup': '',\n",
              "              'orientation': 'v',\n",
              "              'showlegend': False,\n",
              "              'type': 'histogram',\n",
              "              'x': array([datetime.datetime(2020, 1, 22, 0, 0),\n",
              "                          datetime.datetime(2020, 1, 23, 0, 0),\n",
              "                          datetime.datetime(2020, 1, 24, 0, 0),\n",
              "                          datetime.datetime(2020, 1, 25, 0, 0),\n",
              "                          datetime.datetime(2020, 1, 26, 0, 0),\n",
              "                          datetime.datetime(2020, 1, 27, 0, 0),\n",
              "                          datetime.datetime(2020, 1, 28, 0, 0),\n",
              "                          datetime.datetime(2020, 1, 29, 0, 0),\n",
              "                          datetime.datetime(2020, 1, 30, 0, 0),\n",
              "                          datetime.datetime(2020, 1, 31, 0, 0),\n",
              "                          datetime.datetime(2020, 2, 1, 0, 0),\n",
              "                          datetime.datetime(2020, 2, 2, 0, 0),\n",
              "                          datetime.datetime(2020, 2, 3, 0, 0),\n",
              "                          datetime.datetime(2020, 2, 4, 0, 0),\n",
              "                          datetime.datetime(2020, 2, 5, 0, 0),\n",
              "                          datetime.datetime(2020, 2, 6, 0, 0),\n",
              "                          datetime.datetime(2020, 2, 7, 0, 0),\n",
              "                          datetime.datetime(2020, 2, 8, 0, 0),\n",
              "                          datetime.datetime(2020, 2, 9, 0, 0),\n",
              "                          datetime.datetime(2020, 2, 10, 0, 0),\n",
              "                          datetime.datetime(2020, 2, 11, 0, 0),\n",
              "                          datetime.datetime(2020, 2, 12, 0, 0),\n",
              "                          datetime.datetime(2020, 2, 13, 0, 0),\n",
              "                          datetime.datetime(2020, 2, 14, 0, 0),\n",
              "                          datetime.datetime(2020, 2, 15, 0, 0),\n",
              "                          datetime.datetime(2020, 2, 16, 0, 0),\n",
              "                          datetime.datetime(2020, 2, 17, 0, 0),\n",
              "                          datetime.datetime(2020, 2, 18, 0, 0),\n",
              "                          datetime.datetime(2020, 2, 19, 0, 0),\n",
              "                          datetime.datetime(2020, 2, 20, 0, 0),\n",
              "                          datetime.datetime(2020, 2, 21, 0, 0),\n",
              "                          datetime.datetime(2020, 2, 22, 0, 0),\n",
              "                          datetime.datetime(2020, 2, 23, 0, 0),\n",
              "                          datetime.datetime(2020, 2, 24, 0, 0),\n",
              "                          datetime.datetime(2020, 2, 25, 0, 0),\n",
              "                          datetime.datetime(2020, 2, 26, 0, 0),\n",
              "                          datetime.datetime(2020, 2, 27, 0, 0),\n",
              "                          datetime.datetime(2020, 2, 28, 0, 0),\n",
              "                          datetime.datetime(2020, 2, 29, 0, 0),\n",
              "                          datetime.datetime(2020, 3, 1, 0, 0),\n",
              "                          datetime.datetime(2020, 3, 2, 0, 0),\n",
              "                          datetime.datetime(2020, 3, 3, 0, 0),\n",
              "                          datetime.datetime(2020, 3, 4, 0, 0),\n",
              "                          datetime.datetime(2020, 3, 5, 0, 0),\n",
              "                          datetime.datetime(2020, 3, 6, 0, 0),\n",
              "                          datetime.datetime(2020, 3, 7, 0, 0),\n",
              "                          datetime.datetime(2020, 3, 8, 0, 0),\n",
              "                          datetime.datetime(2020, 3, 9, 0, 0),\n",
              "                          datetime.datetime(2020, 3, 10, 0, 0),\n",
              "                          datetime.datetime(2020, 3, 11, 0, 0),\n",
              "                          datetime.datetime(2020, 3, 12, 0, 0),\n",
              "                          datetime.datetime(2020, 3, 13, 0, 0),\n",
              "                          datetime.datetime(2020, 3, 14, 0, 0),\n",
              "                          datetime.datetime(2020, 3, 15, 0, 0),\n",
              "                          datetime.datetime(2020, 3, 16, 0, 0),\n",
              "                          datetime.datetime(2020, 3, 17, 0, 0),\n",
              "                          datetime.datetime(2020, 3, 18, 0, 0),\n",
              "                          datetime.datetime(2020, 3, 19, 0, 0),\n",
              "                          datetime.datetime(2020, 3, 20, 0, 0),\n",
              "                          datetime.datetime(2020, 3, 21, 0, 0),\n",
              "                          datetime.datetime(2020, 3, 22, 0, 0),\n",
              "                          datetime.datetime(2020, 3, 23, 0, 0),\n",
              "                          datetime.datetime(2020, 3, 24, 0, 0),\n",
              "                          datetime.datetime(2020, 3, 25, 0, 0),\n",
              "                          datetime.datetime(2020, 3, 26, 0, 0),\n",
              "                          datetime.datetime(2020, 3, 27, 0, 0),\n",
              "                          datetime.datetime(2020, 3, 28, 0, 0),\n",
              "                          datetime.datetime(2020, 3, 29, 0, 0),\n",
              "                          datetime.datetime(2020, 3, 30, 0, 0),\n",
              "                          datetime.datetime(2020, 3, 31, 0, 0),\n",
              "                          datetime.datetime(2020, 4, 1, 0, 0),\n",
              "                          datetime.datetime(2020, 4, 2, 0, 0),\n",
              "                          datetime.datetime(2020, 4, 3, 0, 0),\n",
              "                          datetime.datetime(2020, 4, 4, 0, 0),\n",
              "                          datetime.datetime(2020, 4, 5, 0, 0),\n",
              "                          datetime.datetime(2020, 4, 6, 0, 0),\n",
              "                          datetime.datetime(2020, 4, 7, 0, 0),\n",
              "                          datetime.datetime(2020, 4, 8, 0, 0),\n",
              "                          datetime.datetime(2020, 4, 9, 0, 0),\n",
              "                          datetime.datetime(2020, 4, 10, 0, 0),\n",
              "                          datetime.datetime(2020, 4, 11, 0, 0),\n",
              "                          datetime.datetime(2020, 4, 12, 0, 0),\n",
              "                          datetime.datetime(2020, 4, 13, 0, 0),\n",
              "                          datetime.datetime(2020, 4, 14, 0, 0),\n",
              "                          datetime.datetime(2020, 4, 15, 0, 0),\n",
              "                          datetime.datetime(2020, 4, 16, 0, 0),\n",
              "                          datetime.datetime(2020, 4, 17, 0, 0),\n",
              "                          datetime.datetime(2020, 4, 18, 0, 0),\n",
              "                          datetime.datetime(2020, 4, 19, 0, 0),\n",
              "                          datetime.datetime(2020, 4, 20, 0, 0),\n",
              "                          datetime.datetime(2020, 4, 21, 0, 0),\n",
              "                          datetime.datetime(2020, 4, 22, 0, 0),\n",
              "                          datetime.datetime(2020, 4, 23, 0, 0),\n",
              "                          datetime.datetime(2020, 4, 24, 0, 0),\n",
              "                          datetime.datetime(2020, 4, 25, 0, 0),\n",
              "                          datetime.datetime(2020, 4, 26, 0, 0),\n",
              "                          datetime.datetime(2020, 4, 27, 0, 0),\n",
              "                          datetime.datetime(2020, 4, 28, 0, 0),\n",
              "                          datetime.datetime(2020, 4, 29, 0, 0),\n",
              "                          datetime.datetime(2020, 4, 30, 0, 0),\n",
              "                          datetime.datetime(2020, 5, 1, 0, 0),\n",
              "                          datetime.datetime(2020, 5, 2, 0, 0),\n",
              "                          datetime.datetime(2020, 5, 3, 0, 0),\n",
              "                          datetime.datetime(2020, 5, 4, 0, 0),\n",
              "                          datetime.datetime(2020, 5, 5, 0, 0),\n",
              "                          datetime.datetime(2020, 5, 6, 0, 0),\n",
              "                          datetime.datetime(2020, 5, 7, 0, 0),\n",
              "                          datetime.datetime(2020, 5, 8, 0, 0),\n",
              "                          datetime.datetime(2020, 5, 9, 0, 0),\n",
              "                          datetime.datetime(2020, 5, 10, 0, 0),\n",
              "                          datetime.datetime(2020, 5, 11, 0, 0),\n",
              "                          datetime.datetime(2020, 5, 12, 0, 0),\n",
              "                          datetime.datetime(2020, 5, 13, 0, 0),\n",
              "                          datetime.datetime(2020, 5, 14, 0, 0),\n",
              "                          datetime.datetime(2020, 5, 15, 0, 0),\n",
              "                          datetime.datetime(2020, 5, 16, 0, 0),\n",
              "                          datetime.datetime(2020, 5, 17, 0, 0),\n",
              "                          datetime.datetime(2020, 5, 18, 0, 0),\n",
              "                          datetime.datetime(2020, 5, 19, 0, 0),\n",
              "                          datetime.datetime(2020, 5, 20, 0, 0),\n",
              "                          datetime.datetime(2020, 5, 21, 0, 0),\n",
              "                          datetime.datetime(2020, 5, 22, 0, 0),\n",
              "                          datetime.datetime(2020, 5, 23, 0, 0),\n",
              "                          datetime.datetime(2020, 5, 24, 0, 0),\n",
              "                          datetime.datetime(2020, 5, 25, 0, 0),\n",
              "                          datetime.datetime(2020, 5, 26, 0, 0),\n",
              "                          datetime.datetime(2020, 5, 27, 0, 0),\n",
              "                          datetime.datetime(2020, 5, 28, 0, 0),\n",
              "                          datetime.datetime(2020, 5, 29, 0, 0),\n",
              "                          datetime.datetime(2020, 5, 30, 0, 0),\n",
              "                          datetime.datetime(2020, 5, 31, 0, 0),\n",
              "                          datetime.datetime(2020, 6, 1, 0, 0),\n",
              "                          datetime.datetime(2020, 6, 2, 0, 0),\n",
              "                          datetime.datetime(2020, 6, 3, 0, 0),\n",
              "                          datetime.datetime(2020, 6, 4, 0, 0),\n",
              "                          datetime.datetime(2020, 6, 5, 0, 0),\n",
              "                          datetime.datetime(2020, 6, 6, 0, 0),\n",
              "                          datetime.datetime(2020, 6, 7, 0, 0),\n",
              "                          datetime.datetime(2020, 6, 8, 0, 0),\n",
              "                          datetime.datetime(2020, 6, 9, 0, 0),\n",
              "                          datetime.datetime(2020, 6, 10, 0, 0),\n",
              "                          datetime.datetime(2020, 6, 11, 0, 0),\n",
              "                          datetime.datetime(2020, 6, 12, 0, 0),\n",
              "                          datetime.datetime(2020, 6, 13, 0, 0),\n",
              "                          datetime.datetime(2020, 6, 14, 0, 0),\n",
              "                          datetime.datetime(2020, 6, 15, 0, 0),\n",
              "                          datetime.datetime(2020, 6, 16, 0, 0),\n",
              "                          datetime.datetime(2020, 6, 17, 0, 0),\n",
              "                          datetime.datetime(2020, 6, 18, 0, 0),\n",
              "                          datetime.datetime(2020, 6, 19, 0, 0),\n",
              "                          datetime.datetime(2020, 6, 20, 0, 0),\n",
              "                          datetime.datetime(2020, 6, 21, 0, 0),\n",
              "                          datetime.datetime(2020, 6, 22, 0, 0),\n",
              "                          datetime.datetime(2020, 6, 23, 0, 0),\n",
              "                          datetime.datetime(2020, 6, 24, 0, 0),\n",
              "                          datetime.datetime(2020, 6, 25, 0, 0),\n",
              "                          datetime.datetime(2020, 6, 26, 0, 0),\n",
              "                          datetime.datetime(2020, 6, 27, 0, 0),\n",
              "                          datetime.datetime(2020, 6, 28, 0, 0),\n",
              "                          datetime.datetime(2020, 6, 29, 0, 0),\n",
              "                          datetime.datetime(2020, 6, 30, 0, 0),\n",
              "                          datetime.datetime(2020, 7, 1, 0, 0),\n",
              "                          datetime.datetime(2020, 7, 2, 0, 0),\n",
              "                          datetime.datetime(2020, 7, 3, 0, 0),\n",
              "                          datetime.datetime(2020, 7, 4, 0, 0),\n",
              "                          datetime.datetime(2020, 7, 5, 0, 0),\n",
              "                          datetime.datetime(2020, 7, 6, 0, 0),\n",
              "                          datetime.datetime(2020, 7, 7, 0, 0),\n",
              "                          datetime.datetime(2020, 7, 8, 0, 0),\n",
              "                          datetime.datetime(2020, 7, 9, 0, 0),\n",
              "                          datetime.datetime(2020, 7, 10, 0, 0),\n",
              "                          datetime.datetime(2020, 7, 11, 0, 0),\n",
              "                          datetime.datetime(2020, 7, 12, 0, 0),\n",
              "                          datetime.datetime(2020, 7, 13, 0, 0),\n",
              "                          datetime.datetime(2020, 7, 14, 0, 0),\n",
              "                          datetime.datetime(2020, 7, 15, 0, 0),\n",
              "                          datetime.datetime(2020, 7, 16, 0, 0),\n",
              "                          datetime.datetime(2020, 7, 17, 0, 0),\n",
              "                          datetime.datetime(2020, 7, 18, 0, 0),\n",
              "                          datetime.datetime(2020, 7, 19, 0, 0),\n",
              "                          datetime.datetime(2020, 7, 20, 0, 0),\n",
              "                          datetime.datetime(2020, 7, 21, 0, 0),\n",
              "                          datetime.datetime(2020, 7, 22, 0, 0),\n",
              "                          datetime.datetime(2020, 7, 23, 0, 0),\n",
              "                          datetime.datetime(2020, 7, 24, 0, 0),\n",
              "                          datetime.datetime(2020, 7, 25, 0, 0),\n",
              "                          datetime.datetime(2020, 7, 26, 0, 0),\n",
              "                          datetime.datetime(2020, 7, 27, 0, 0)], dtype=object),\n",
              "              'xaxis': 'x',\n",
              "              'y': array([    17,     18,     26,     42,     56,     82,    131,    133,    171,\n",
              "                             213,    259,    362,    426,    492,    564,    634,    719,    806,\n",
              "                             906,   1013,   1113,   1118,   1371,   1523,   1666,   1770,   1868,\n",
              "                            2008,   2123,   2246,   2250,   2457,   2467,   2627,   2707,   2767,\n",
              "                            2810,   2867,   2936,   2990,   3079,   3154,   3249,   3342,   3454,\n",
              "                            3553,   3797,   3981,   4260,   4604,   4909,   5406,   5823,   6464,\n",
              "                            7144,   7948,   8845,   9951,  11429,  13134,  14831,  16748,  19016,\n",
              "                           21793,  24800,  28318,  31997,  35470,  39634,  44478,  50029,  56334,\n",
              "                           62319,  68160,  73181,  79013,  86915,  93650, 101279, 108551, 114620,\n",
              "                          120351, 126098, 132996, 141308, 148591, 157481, 163952, 168522, 173965,\n",
              "                          181122, 187877, 194727, 201401, 206979, 210862, 215511, 221974, 228742,\n",
              "                          234704, 239881, 245206, 248659, 252787, 258658, 265327, 270736, 276304,\n",
              "                          280569, 284135, 287608, 293155, 298383, 303651, 308866, 313037, 316366,\n",
              "                          319657, 324441, 329326, 334112, 339396, 343385, 346525, 347703, 351906,\n",
              "                          357119, 361820, 366562, 370718, 373606, 376674, 381497, 387069, 392218,\n",
              "                          396994, 400875, 403617, 407314, 412236, 417441, 422215, 426512, 430750,\n",
              "                          434124, 437549, 444416, 449671, 454700, 460973, 465222, 469185, 472756,\n",
              "                          478067, 483328, 489955, 494782, 499268, 502357, 506078, 511210, 516221,\n",
              "                          521341, 526336, 530705, 534150, 537947, 544054, 549373, 554831, 560142,\n",
              "                          565039, 568993, 572808, 578468, 583961, 589760, 596503, 602130, 606159,\n",
              "                          610319, 616557, 623540, 633506, 639650, 644517, 648621, 654036],\n",
              "                         dtype=int64),\n",
              "              'yaxis': 'y'}],\n",
              "    'layout': {'barmode': 'relative',\n",
              "               'legend': {'tracegroupgap': 0},\n",
              "               'template': '...',\n",
              "               'title': {'text': 'NO. of Deaths over Time'},\n",
              "               'xaxis': {'anchor': 'y', 'domain': [0.0, 1.0], 'title': {'text': 'Date'}},\n",
              "               'yaxis': {'anchor': 'x', 'domain': [0.0, 1.0], 'title': {'text': 'sum of Deaths'}}}\n",
              "})"
            ]
          },
          "execution_count": 45,
          "metadata": {},
          "output_type": "execute_result"
        }
      ],
      "source": [
        "px.histogram(day_wise,x='Date',y='Deaths',title='NO. of Deaths over Time',template=\"plotly_dark\")"
      ]
    },
    {
      "cell_type": "markdown",
      "metadata": {
        "id": "rPYlTXB1mwYd"
      },
      "source": [
        "#### Combined Data Analysis"
      ]
    },
    {
      "cell_type": "code",
      "execution_count": null,
      "metadata": {
        "colab": {
          "base_uri": "https://localhost:8080/",
          "height": 357
        },
        "id": "AJ6A8tkDmwYd",
        "outputId": "bcc6b675-8d1b-4622-c4a9-ecc71ec4ff41"
      },
      "outputs": [
        {
          "data": {
            "text/html": [
              "\n",
              "  <div id=\"df-e272efbb-3cbe-49f8-b080-02869dfc9844\">\n",
              "    <div class=\"colab-df-container\">\n",
              "      <div>\n",
              "<style scoped>\n",
              "    .dataframe tbody tr th:only-of-type {\n",
              "        vertical-align: middle;\n",
              "    }\n",
              "\n",
              "    .dataframe tbody tr th {\n",
              "        vertical-align: top;\n",
              "    }\n",
              "\n",
              "    .dataframe thead th {\n",
              "        text-align: right;\n",
              "    }\n",
              "</style>\n",
              "<table border=\"1\" class=\"dataframe\">\n",
              "  <thead>\n",
              "    <tr style=\"text-align: right;\">\n",
              "      <th></th>\n",
              "      <th>Country/Region</th>\n",
              "      <th>Continent</th>\n",
              "      <th>Population</th>\n",
              "      <th>TotalCases</th>\n",
              "      <th>TotalDeaths</th>\n",
              "      <th>TotalRecovered</th>\n",
              "      <th>ActiveCases</th>\n",
              "      <th>Serious,Critical</th>\n",
              "      <th>Tot Cases/1M pop</th>\n",
              "      <th>Deaths/1M pop</th>\n",
              "      <th>TotalTests</th>\n",
              "      <th>Tests/1M pop</th>\n",
              "      <th>WHO Region</th>\n",
              "    </tr>\n",
              "  </thead>\n",
              "  <tbody>\n",
              "    <tr>\n",
              "      <th>0</th>\n",
              "      <td>USA</td>\n",
              "      <td>North America</td>\n",
              "      <td>3.311981e+08</td>\n",
              "      <td>5032179</td>\n",
              "      <td>162804.0</td>\n",
              "      <td>2576668.0</td>\n",
              "      <td>2292707.0</td>\n",
              "      <td>18296.0</td>\n",
              "      <td>15194.0</td>\n",
              "      <td>492.0</td>\n",
              "      <td>63139605.0</td>\n",
              "      <td>190640.0</td>\n",
              "      <td>Americas</td>\n",
              "    </tr>\n",
              "    <tr>\n",
              "      <th>1</th>\n",
              "      <td>Brazil</td>\n",
              "      <td>South America</td>\n",
              "      <td>2.127107e+08</td>\n",
              "      <td>2917562</td>\n",
              "      <td>98644.0</td>\n",
              "      <td>2047660.0</td>\n",
              "      <td>771258.0</td>\n",
              "      <td>8318.0</td>\n",
              "      <td>13716.0</td>\n",
              "      <td>464.0</td>\n",
              "      <td>13206188.0</td>\n",
              "      <td>62085.0</td>\n",
              "      <td>Americas</td>\n",
              "    </tr>\n",
              "    <tr>\n",
              "      <th>2</th>\n",
              "      <td>India</td>\n",
              "      <td>Asia</td>\n",
              "      <td>1.381345e+09</td>\n",
              "      <td>2025409</td>\n",
              "      <td>41638.0</td>\n",
              "      <td>1377384.0</td>\n",
              "      <td>606387.0</td>\n",
              "      <td>8944.0</td>\n",
              "      <td>1466.0</td>\n",
              "      <td>30.0</td>\n",
              "      <td>22149351.0</td>\n",
              "      <td>16035.0</td>\n",
              "      <td>South-EastAsia</td>\n",
              "    </tr>\n",
              "    <tr>\n",
              "      <th>3</th>\n",
              "      <td>Russia</td>\n",
              "      <td>Europe</td>\n",
              "      <td>1.459409e+08</td>\n",
              "      <td>871894</td>\n",
              "      <td>14606.0</td>\n",
              "      <td>676357.0</td>\n",
              "      <td>180931.0</td>\n",
              "      <td>2300.0</td>\n",
              "      <td>5974.0</td>\n",
              "      <td>100.0</td>\n",
              "      <td>29716907.0</td>\n",
              "      <td>203623.0</td>\n",
              "      <td>Europe</td>\n",
              "    </tr>\n",
              "    <tr>\n",
              "      <th>4</th>\n",
              "      <td>South Africa</td>\n",
              "      <td>Africa</td>\n",
              "      <td>5.938157e+07</td>\n",
              "      <td>538184</td>\n",
              "      <td>9604.0</td>\n",
              "      <td>387316.0</td>\n",
              "      <td>141264.0</td>\n",
              "      <td>539.0</td>\n",
              "      <td>9063.0</td>\n",
              "      <td>162.0</td>\n",
              "      <td>3149807.0</td>\n",
              "      <td>53044.0</td>\n",
              "      <td>Africa</td>\n",
              "    </tr>\n",
              "  </tbody>\n",
              "</table>\n",
              "</div>\n",
              "      <button class=\"colab-df-convert\" onclick=\"convertToInteractive('df-e272efbb-3cbe-49f8-b080-02869dfc9844')\"\n",
              "              title=\"Convert this dataframe to an interactive table.\"\n",
              "              style=\"display:none;\">\n",
              "        \n",
              "  <svg xmlns=\"http://www.w3.org/2000/svg\" height=\"24px\"viewBox=\"0 0 24 24\"\n",
              "       width=\"24px\">\n",
              "    <path d=\"M0 0h24v24H0V0z\" fill=\"none\"/>\n",
              "    <path d=\"M18.56 5.44l.94 2.06.94-2.06 2.06-.94-2.06-.94-.94-2.06-.94 2.06-2.06.94zm-11 1L8.5 8.5l.94-2.06 2.06-.94-2.06-.94L8.5 2.5l-.94 2.06-2.06.94zm10 10l.94 2.06.94-2.06 2.06-.94-2.06-.94-.94-2.06-.94 2.06-2.06.94z\"/><path d=\"M17.41 7.96l-1.37-1.37c-.4-.4-.92-.59-1.43-.59-.52 0-1.04.2-1.43.59L10.3 9.45l-7.72 7.72c-.78.78-.78 2.05 0 2.83L4 21.41c.39.39.9.59 1.41.59.51 0 1.02-.2 1.41-.59l7.78-7.78 2.81-2.81c.8-.78.8-2.07 0-2.86zM5.41 20L4 18.59l7.72-7.72 1.47 1.35L5.41 20z\"/>\n",
              "  </svg>\n",
              "      </button>\n",
              "      \n",
              "  <style>\n",
              "    .colab-df-container {\n",
              "      display:flex;\n",
              "      flex-wrap:wrap;\n",
              "      gap: 12px;\n",
              "    }\n",
              "\n",
              "    .colab-df-convert {\n",
              "      background-color: #E8F0FE;\n",
              "      border: none;\n",
              "      border-radius: 50%;\n",
              "      cursor: pointer;\n",
              "      display: none;\n",
              "      fill: #1967D2;\n",
              "      height: 32px;\n",
              "      padding: 0 0 0 0;\n",
              "      width: 32px;\n",
              "    }\n",
              "\n",
              "    .colab-df-convert:hover {\n",
              "      background-color: #E2EBFA;\n",
              "      box-shadow: 0px 1px 2px rgba(60, 64, 67, 0.3), 0px 1px 3px 1px rgba(60, 64, 67, 0.15);\n",
              "      fill: #174EA6;\n",
              "    }\n",
              "\n",
              "    [theme=dark] .colab-df-convert {\n",
              "      background-color: #3B4455;\n",
              "      fill: #D2E3FC;\n",
              "    }\n",
              "\n",
              "    [theme=dark] .colab-df-convert:hover {\n",
              "      background-color: #434B5C;\n",
              "      box-shadow: 0px 1px 3px 1px rgba(0, 0, 0, 0.15);\n",
              "      filter: drop-shadow(0px 1px 2px rgba(0, 0, 0, 0.3));\n",
              "      fill: #FFFFFF;\n",
              "    }\n",
              "  </style>\n",
              "\n",
              "      <script>\n",
              "        const buttonEl =\n",
              "          document.querySelector('#df-e272efbb-3cbe-49f8-b080-02869dfc9844 button.colab-df-convert');\n",
              "        buttonEl.style.display =\n",
              "          google.colab.kernel.accessAllowed ? 'block' : 'none';\n",
              "\n",
              "        async function convertToInteractive(key) {\n",
              "          const element = document.querySelector('#df-e272efbb-3cbe-49f8-b080-02869dfc9844');\n",
              "          const dataTable =\n",
              "            await google.colab.kernel.invokeFunction('convertToInteractive',\n",
              "                                                     [key], {});\n",
              "          if (!dataTable) return;\n",
              "\n",
              "          const docLinkHtml = 'Like what you see? Visit the ' +\n",
              "            '<a target=\"_blank\" href=https://colab.research.google.com/notebooks/data_table.ipynb>data table notebook</a>'\n",
              "            + ' to learn more about interactive tables.';\n",
              "          element.innerHTML = '';\n",
              "          dataTable['output_type'] = 'display_data';\n",
              "          await google.colab.output.renderOutput(dataTable, element);\n",
              "          const docLink = document.createElement('div');\n",
              "          docLink.innerHTML = docLinkHtml;\n",
              "          element.appendChild(docLink);\n",
              "        }\n",
              "      </script>\n",
              "    </div>\n",
              "  </div>\n",
              "  "
            ],
            "text/plain": [
              "  Country/Region      Continent    Population  TotalCases  TotalDeaths  \\\n",
              "0            USA  North America  3.311981e+08     5032179     162804.0   \n",
              "1         Brazil  South America  2.127107e+08     2917562      98644.0   \n",
              "2          India           Asia  1.381345e+09     2025409      41638.0   \n",
              "3         Russia         Europe  1.459409e+08      871894      14606.0   \n",
              "4   South Africa         Africa  5.938157e+07      538184       9604.0   \n",
              "\n",
              "   TotalRecovered  ActiveCases  Serious,Critical  Tot Cases/1M pop  \\\n",
              "0       2576668.0    2292707.0           18296.0           15194.0   \n",
              "1       2047660.0     771258.0            8318.0           13716.0   \n",
              "2       1377384.0     606387.0            8944.0            1466.0   \n",
              "3        676357.0     180931.0            2300.0            5974.0   \n",
              "4        387316.0     141264.0             539.0            9063.0   \n",
              "\n",
              "   Deaths/1M pop  TotalTests  Tests/1M pop      WHO Region  \n",
              "0          492.0  63139605.0      190640.0        Americas  \n",
              "1          464.0  13206188.0       62085.0        Americas  \n",
              "2           30.0  22149351.0       16035.0  South-EastAsia  \n",
              "3          100.0  29716907.0      203623.0          Europe  \n",
              "4          162.0   3149807.0       53044.0          Africa  "
            ]
          },
          "execution_count": 77,
          "metadata": {},
          "output_type": "execute_result"
        }
      ],
      "source": [
        "worldometer_data.head()"
      ]
    },
    {
      "cell_type": "code",
      "execution_count": null,
      "metadata": {
        "colab": {
          "base_uri": "https://localhost:8080/",
          "height": 206
        },
        "id": "-troGCkrmwYe",
        "outputId": "441b5cb7-430b-48a1-d021-cc3fab2af034"
      },
      "outputs": [
        {
          "data": {
            "text/html": [
              "\n",
              "  <div id=\"df-449cbf40-8bbe-4edf-baca-7b6cfb89699b\">\n",
              "    <div class=\"colab-df-container\">\n",
              "      <div>\n",
              "<style scoped>\n",
              "    .dataframe tbody tr th:only-of-type {\n",
              "        vertical-align: middle;\n",
              "    }\n",
              "\n",
              "    .dataframe tbody tr th {\n",
              "        vertical-align: top;\n",
              "    }\n",
              "\n",
              "    .dataframe thead th {\n",
              "        text-align: right;\n",
              "    }\n",
              "</style>\n",
              "<table border=\"1\" class=\"dataframe\">\n",
              "  <thead>\n",
              "    <tr style=\"text-align: right;\">\n",
              "      <th></th>\n",
              "      <th>Country/Region</th>\n",
              "      <th>Population</th>\n",
              "      <th>TotalCases</th>\n",
              "      <th>TotalDeaths</th>\n",
              "      <th>TotalRecovered</th>\n",
              "      <th>ActiveCases</th>\n",
              "    </tr>\n",
              "  </thead>\n",
              "  <tbody>\n",
              "    <tr>\n",
              "      <th>0</th>\n",
              "      <td>USA</td>\n",
              "      <td>3.311981e+08</td>\n",
              "      <td>5032179</td>\n",
              "      <td>162804.0</td>\n",
              "      <td>2576668.0</td>\n",
              "      <td>2292707.0</td>\n",
              "    </tr>\n",
              "    <tr>\n",
              "      <th>1</th>\n",
              "      <td>Brazil</td>\n",
              "      <td>2.127107e+08</td>\n",
              "      <td>2917562</td>\n",
              "      <td>98644.0</td>\n",
              "      <td>2047660.0</td>\n",
              "      <td>771258.0</td>\n",
              "    </tr>\n",
              "    <tr>\n",
              "      <th>2</th>\n",
              "      <td>India</td>\n",
              "      <td>1.381345e+09</td>\n",
              "      <td>2025409</td>\n",
              "      <td>41638.0</td>\n",
              "      <td>1377384.0</td>\n",
              "      <td>606387.0</td>\n",
              "    </tr>\n",
              "    <tr>\n",
              "      <th>3</th>\n",
              "      <td>Russia</td>\n",
              "      <td>1.459409e+08</td>\n",
              "      <td>871894</td>\n",
              "      <td>14606.0</td>\n",
              "      <td>676357.0</td>\n",
              "      <td>180931.0</td>\n",
              "    </tr>\n",
              "    <tr>\n",
              "      <th>4</th>\n",
              "      <td>South Africa</td>\n",
              "      <td>5.938157e+07</td>\n",
              "      <td>538184</td>\n",
              "      <td>9604.0</td>\n",
              "      <td>387316.0</td>\n",
              "      <td>141264.0</td>\n",
              "    </tr>\n",
              "  </tbody>\n",
              "</table>\n",
              "</div>\n",
              "      <button class=\"colab-df-convert\" onclick=\"convertToInteractive('df-449cbf40-8bbe-4edf-baca-7b6cfb89699b')\"\n",
              "              title=\"Convert this dataframe to an interactive table.\"\n",
              "              style=\"display:none;\">\n",
              "        \n",
              "  <svg xmlns=\"http://www.w3.org/2000/svg\" height=\"24px\"viewBox=\"0 0 24 24\"\n",
              "       width=\"24px\">\n",
              "    <path d=\"M0 0h24v24H0V0z\" fill=\"none\"/>\n",
              "    <path d=\"M18.56 5.44l.94 2.06.94-2.06 2.06-.94-2.06-.94-.94-2.06-.94 2.06-2.06.94zm-11 1L8.5 8.5l.94-2.06 2.06-.94-2.06-.94L8.5 2.5l-.94 2.06-2.06.94zm10 10l.94 2.06.94-2.06 2.06-.94-2.06-.94-.94-2.06-.94 2.06-2.06.94z\"/><path d=\"M17.41 7.96l-1.37-1.37c-.4-.4-.92-.59-1.43-.59-.52 0-1.04.2-1.43.59L10.3 9.45l-7.72 7.72c-.78.78-.78 2.05 0 2.83L4 21.41c.39.39.9.59 1.41.59.51 0 1.02-.2 1.41-.59l7.78-7.78 2.81-2.81c.8-.78.8-2.07 0-2.86zM5.41 20L4 18.59l7.72-7.72 1.47 1.35L5.41 20z\"/>\n",
              "  </svg>\n",
              "      </button>\n",
              "      \n",
              "  <style>\n",
              "    .colab-df-container {\n",
              "      display:flex;\n",
              "      flex-wrap:wrap;\n",
              "      gap: 12px;\n",
              "    }\n",
              "\n",
              "    .colab-df-convert {\n",
              "      background-color: #E8F0FE;\n",
              "      border: none;\n",
              "      border-radius: 50%;\n",
              "      cursor: pointer;\n",
              "      display: none;\n",
              "      fill: #1967D2;\n",
              "      height: 32px;\n",
              "      padding: 0 0 0 0;\n",
              "      width: 32px;\n",
              "    }\n",
              "\n",
              "    .colab-df-convert:hover {\n",
              "      background-color: #E2EBFA;\n",
              "      box-shadow: 0px 1px 2px rgba(60, 64, 67, 0.3), 0px 1px 3px 1px rgba(60, 64, 67, 0.15);\n",
              "      fill: #174EA6;\n",
              "    }\n",
              "\n",
              "    [theme=dark] .colab-df-convert {\n",
              "      background-color: #3B4455;\n",
              "      fill: #D2E3FC;\n",
              "    }\n",
              "\n",
              "    [theme=dark] .colab-df-convert:hover {\n",
              "      background-color: #434B5C;\n",
              "      box-shadow: 0px 1px 3px 1px rgba(0, 0, 0, 0.15);\n",
              "      filter: drop-shadow(0px 1px 2px rgba(0, 0, 0, 0.3));\n",
              "      fill: #FFFFFF;\n",
              "    }\n",
              "  </style>\n",
              "\n",
              "      <script>\n",
              "        const buttonEl =\n",
              "          document.querySelector('#df-449cbf40-8bbe-4edf-baca-7b6cfb89699b button.colab-df-convert');\n",
              "        buttonEl.style.display =\n",
              "          google.colab.kernel.accessAllowed ? 'block' : 'none';\n",
              "\n",
              "        async function convertToInteractive(key) {\n",
              "          const element = document.querySelector('#df-449cbf40-8bbe-4edf-baca-7b6cfb89699b');\n",
              "          const dataTable =\n",
              "            await google.colab.kernel.invokeFunction('convertToInteractive',\n",
              "                                                     [key], {});\n",
              "          if (!dataTable) return;\n",
              "\n",
              "          const docLinkHtml = 'Like what you see? Visit the ' +\n",
              "            '<a target=\"_blank\" href=https://colab.research.google.com/notebooks/data_table.ipynb>data table notebook</a>'\n",
              "            + ' to learn more about interactive tables.';\n",
              "          element.innerHTML = '';\n",
              "          dataTable['output_type'] = 'display_data';\n",
              "          await google.colab.output.renderOutput(dataTable, element);\n",
              "          const docLink = document.createElement('div');\n",
              "          docLink.innerHTML = docLinkHtml;\n",
              "          element.appendChild(docLink);\n",
              "        }\n",
              "      </script>\n",
              "    </div>\n",
              "  </div>\n",
              "  "
            ],
            "text/plain": [
              "  Country/Region    Population  TotalCases  TotalDeaths  TotalRecovered  \\\n",
              "0            USA  3.311981e+08     5032179     162804.0       2576668.0   \n",
              "1         Brazil  2.127107e+08     2917562      98644.0       2047660.0   \n",
              "2          India  1.381345e+09     2025409      41638.0       1377384.0   \n",
              "3         Russia  1.459409e+08      871894      14606.0        676357.0   \n",
              "4   South Africa  5.938157e+07      538184       9604.0        387316.0   \n",
              "\n",
              "   ActiveCases  \n",
              "0    2292707.0  \n",
              "1     771258.0  \n",
              "2     606387.0  \n",
              "3     180931.0  \n",
              "4     141264.0  "
            ]
          },
          "execution_count": 78,
          "metadata": {},
          "output_type": "execute_result"
        }
      ],
      "source": [
        "world_data = worldometer_data.loc[:,['Country/Region','Population','TotalCases','TotalDeaths','TotalRecovered','ActiveCases']]\n",
        "world_data.head()"
      ]
    },
    {
      "cell_type": "code",
      "execution_count": null,
      "metadata": {
        "id": "gIVfnIQHmwYe"
      },
      "outputs": [],
      "source": [
        "world_data.rename(columns={'Country/Region':'Country'},inplace=True)"
      ]
    },
    {
      "cell_type": "code",
      "execution_count": null,
      "metadata": {
        "id": "NRxxi7IwmwYe"
      },
      "outputs": [],
      "source": [
        "world_data['Cases/pop'] = world_data['TotalCases']/world_data['Population'] *100\n",
        "world_data['Deaths/confirmed'] = world_data['TotalDeaths']/world_data['TotalCases']  *100\n",
        "world_data['Recovered/confirmed'] = world_data['TotalRecovered']/world_data['TotalCases'] *100 \n",
        "world_data['Active/confirmed'] = world_data['ActiveCases']/world_data['TotalCases']  *100\n"
      ]
    },
    {
      "cell_type": "code",
      "execution_count": null,
      "metadata": {
        "colab": {
          "base_uri": "https://localhost:8080/",
          "height": 287
        },
        "id": "C3gcEJIimwYe",
        "outputId": "84f72ff0-db9a-4cc5-d03a-f9c4b5ad1954"
      },
      "outputs": [
        {
          "data": {
            "text/html": [
              "\n",
              "  <div id=\"df-7367c281-88e3-4221-ab3c-d2bd4e44754e\">\n",
              "    <div class=\"colab-df-container\">\n",
              "      <div>\n",
              "<style scoped>\n",
              "    .dataframe tbody tr th:only-of-type {\n",
              "        vertical-align: middle;\n",
              "    }\n",
              "\n",
              "    .dataframe tbody tr th {\n",
              "        vertical-align: top;\n",
              "    }\n",
              "\n",
              "    .dataframe thead th {\n",
              "        text-align: right;\n",
              "    }\n",
              "</style>\n",
              "<table border=\"1\" class=\"dataframe\">\n",
              "  <thead>\n",
              "    <tr style=\"text-align: right;\">\n",
              "      <th></th>\n",
              "      <th>Country</th>\n",
              "      <th>Population</th>\n",
              "      <th>TotalCases</th>\n",
              "      <th>TotalDeaths</th>\n",
              "      <th>TotalRecovered</th>\n",
              "      <th>ActiveCases</th>\n",
              "      <th>Cases/pop</th>\n",
              "      <th>Deaths/confirmed</th>\n",
              "      <th>Recovered/confirmed</th>\n",
              "      <th>Active/confirmed</th>\n",
              "    </tr>\n",
              "  </thead>\n",
              "  <tbody>\n",
              "    <tr>\n",
              "      <th>0</th>\n",
              "      <td>USA</td>\n",
              "      <td>3.311981e+08</td>\n",
              "      <td>5032179</td>\n",
              "      <td>162804.0</td>\n",
              "      <td>2576668.0</td>\n",
              "      <td>2292707.0</td>\n",
              "      <td>1.519386</td>\n",
              "      <td>3.235259</td>\n",
              "      <td>51.203822</td>\n",
              "      <td>45.560919</td>\n",
              "    </tr>\n",
              "    <tr>\n",
              "      <th>1</th>\n",
              "      <td>Brazil</td>\n",
              "      <td>2.127107e+08</td>\n",
              "      <td>2917562</td>\n",
              "      <td>98644.0</td>\n",
              "      <td>2047660.0</td>\n",
              "      <td>771258.0</td>\n",
              "      <td>1.371610</td>\n",
              "      <td>3.381042</td>\n",
              "      <td>70.183941</td>\n",
              "      <td>26.435017</td>\n",
              "    </tr>\n",
              "    <tr>\n",
              "      <th>2</th>\n",
              "      <td>India</td>\n",
              "      <td>1.381345e+09</td>\n",
              "      <td>2025409</td>\n",
              "      <td>41638.0</td>\n",
              "      <td>1377384.0</td>\n",
              "      <td>606387.0</td>\n",
              "      <td>0.146626</td>\n",
              "      <td>2.055782</td>\n",
              "      <td>68.005228</td>\n",
              "      <td>29.938990</td>\n",
              "    </tr>\n",
              "    <tr>\n",
              "      <th>3</th>\n",
              "      <td>Russia</td>\n",
              "      <td>1.459409e+08</td>\n",
              "      <td>871894</td>\n",
              "      <td>14606.0</td>\n",
              "      <td>676357.0</td>\n",
              "      <td>180931.0</td>\n",
              "      <td>0.597429</td>\n",
              "      <td>1.675204</td>\n",
              "      <td>77.573306</td>\n",
              "      <td>20.751490</td>\n",
              "    </tr>\n",
              "    <tr>\n",
              "      <th>4</th>\n",
              "      <td>South Africa</td>\n",
              "      <td>5.938157e+07</td>\n",
              "      <td>538184</td>\n",
              "      <td>9604.0</td>\n",
              "      <td>387316.0</td>\n",
              "      <td>141264.0</td>\n",
              "      <td>0.906315</td>\n",
              "      <td>1.784520</td>\n",
              "      <td>71.967208</td>\n",
              "      <td>26.248272</td>\n",
              "    </tr>\n",
              "  </tbody>\n",
              "</table>\n",
              "</div>\n",
              "      <button class=\"colab-df-convert\" onclick=\"convertToInteractive('df-7367c281-88e3-4221-ab3c-d2bd4e44754e')\"\n",
              "              title=\"Convert this dataframe to an interactive table.\"\n",
              "              style=\"display:none;\">\n",
              "        \n",
              "  <svg xmlns=\"http://www.w3.org/2000/svg\" height=\"24px\"viewBox=\"0 0 24 24\"\n",
              "       width=\"24px\">\n",
              "    <path d=\"M0 0h24v24H0V0z\" fill=\"none\"/>\n",
              "    <path d=\"M18.56 5.44l.94 2.06.94-2.06 2.06-.94-2.06-.94-.94-2.06-.94 2.06-2.06.94zm-11 1L8.5 8.5l.94-2.06 2.06-.94-2.06-.94L8.5 2.5l-.94 2.06-2.06.94zm10 10l.94 2.06.94-2.06 2.06-.94-2.06-.94-.94-2.06-.94 2.06-2.06.94z\"/><path d=\"M17.41 7.96l-1.37-1.37c-.4-.4-.92-.59-1.43-.59-.52 0-1.04.2-1.43.59L10.3 9.45l-7.72 7.72c-.78.78-.78 2.05 0 2.83L4 21.41c.39.39.9.59 1.41.59.51 0 1.02-.2 1.41-.59l7.78-7.78 2.81-2.81c.8-.78.8-2.07 0-2.86zM5.41 20L4 18.59l7.72-7.72 1.47 1.35L5.41 20z\"/>\n",
              "  </svg>\n",
              "      </button>\n",
              "      \n",
              "  <style>\n",
              "    .colab-df-container {\n",
              "      display:flex;\n",
              "      flex-wrap:wrap;\n",
              "      gap: 12px;\n",
              "    }\n",
              "\n",
              "    .colab-df-convert {\n",
              "      background-color: #E8F0FE;\n",
              "      border: none;\n",
              "      border-radius: 50%;\n",
              "      cursor: pointer;\n",
              "      display: none;\n",
              "      fill: #1967D2;\n",
              "      height: 32px;\n",
              "      padding: 0 0 0 0;\n",
              "      width: 32px;\n",
              "    }\n",
              "\n",
              "    .colab-df-convert:hover {\n",
              "      background-color: #E2EBFA;\n",
              "      box-shadow: 0px 1px 2px rgba(60, 64, 67, 0.3), 0px 1px 3px 1px rgba(60, 64, 67, 0.15);\n",
              "      fill: #174EA6;\n",
              "    }\n",
              "\n",
              "    [theme=dark] .colab-df-convert {\n",
              "      background-color: #3B4455;\n",
              "      fill: #D2E3FC;\n",
              "    }\n",
              "\n",
              "    [theme=dark] .colab-df-convert:hover {\n",
              "      background-color: #434B5C;\n",
              "      box-shadow: 0px 1px 3px 1px rgba(0, 0, 0, 0.15);\n",
              "      filter: drop-shadow(0px 1px 2px rgba(0, 0, 0, 0.3));\n",
              "      fill: #FFFFFF;\n",
              "    }\n",
              "  </style>\n",
              "\n",
              "      <script>\n",
              "        const buttonEl =\n",
              "          document.querySelector('#df-7367c281-88e3-4221-ab3c-d2bd4e44754e button.colab-df-convert');\n",
              "        buttonEl.style.display =\n",
              "          google.colab.kernel.accessAllowed ? 'block' : 'none';\n",
              "\n",
              "        async function convertToInteractive(key) {\n",
              "          const element = document.querySelector('#df-7367c281-88e3-4221-ab3c-d2bd4e44754e');\n",
              "          const dataTable =\n",
              "            await google.colab.kernel.invokeFunction('convertToInteractive',\n",
              "                                                     [key], {});\n",
              "          if (!dataTable) return;\n",
              "\n",
              "          const docLinkHtml = 'Like what you see? Visit the ' +\n",
              "            '<a target=\"_blank\" href=https://colab.research.google.com/notebooks/data_table.ipynb>data table notebook</a>'\n",
              "            + ' to learn more about interactive tables.';\n",
              "          element.innerHTML = '';\n",
              "          dataTable['output_type'] = 'display_data';\n",
              "          await google.colab.output.renderOutput(dataTable, element);\n",
              "          const docLink = document.createElement('div');\n",
              "          docLink.innerHTML = docLinkHtml;\n",
              "          element.appendChild(docLink);\n",
              "        }\n",
              "      </script>\n",
              "    </div>\n",
              "  </div>\n",
              "  "
            ],
            "text/plain": [
              "        Country    Population  TotalCases  TotalDeaths  TotalRecovered  \\\n",
              "0           USA  3.311981e+08     5032179     162804.0       2576668.0   \n",
              "1        Brazil  2.127107e+08     2917562      98644.0       2047660.0   \n",
              "2         India  1.381345e+09     2025409      41638.0       1377384.0   \n",
              "3        Russia  1.459409e+08      871894      14606.0        676357.0   \n",
              "4  South Africa  5.938157e+07      538184       9604.0        387316.0   \n",
              "\n",
              "   ActiveCases  Cases/pop  Deaths/confirmed  Recovered/confirmed  \\\n",
              "0    2292707.0   1.519386          3.235259            51.203822   \n",
              "1     771258.0   1.371610          3.381042            70.183941   \n",
              "2     606387.0   0.146626          2.055782            68.005228   \n",
              "3     180931.0   0.597429          1.675204            77.573306   \n",
              "4     141264.0   0.906315          1.784520            71.967208   \n",
              "\n",
              "   Active/confirmed  \n",
              "0         45.560919  \n",
              "1         26.435017  \n",
              "2         29.938990  \n",
              "3         20.751490  \n",
              "4         26.248272  "
            ]
          },
          "execution_count": 81,
          "metadata": {},
          "output_type": "execute_result"
        }
      ],
      "source": [
        "world_data.head()"
      ]
    },
    {
      "cell_type": "code",
      "execution_count": null,
      "metadata": {
        "id": "Oh8KsCQMmwYe"
      },
      "outputs": [],
      "source": [
        "Cases_pop = world_data.loc[:,['Country','Cases/pop']].sort_values(by='Cases/pop',ascending=False,ignore_index=True).head(20)\n",
        "Deaths_confirmed = world_data.loc[:,['Country','Deaths/confirmed']].sort_values(by='Deaths/confirmed',ascending=False,ignore_index=True).head(20)\n",
        "Recovered_confirmed\t= world_data.loc[:,['Country','Recovered/confirmed']].sort_values(by='Recovered/confirmed',ascending=False,ignore_index=True).head(20)\n",
        "Active_confirmed = world_data.loc[:,['Country','Active/confirmed']].sort_values(by='Active/confirmed',ascending=False,ignore_index=True).head(20)"
      ]
    },
    {
      "cell_type": "code",
      "execution_count": 46,
      "metadata": {
        "colab": {
          "base_uri": "https://localhost:8080/",
          "height": 542
        },
        "id": "MJP-tdBdmwYe",
        "outputId": "78cc6279-8028-472b-ff05-0a9aa35604d6"
      },
      "outputs": [
        {
          "ename": "NameError",
          "evalue": "name 'Cases_pop' is not defined",
          "output_type": "error",
          "traceback": [
            "\u001b[1;31m---------------------------------------------------------------------------\u001b[0m",
            "\u001b[1;31mNameError\u001b[0m                                 Traceback (most recent call last)",
            "Cell \u001b[1;32mIn[46], line 1\u001b[0m\n\u001b[1;32m----> 1\u001b[0m px\u001b[39m.\u001b[39mbar(Cases_pop,x\u001b[39m=\u001b[39m\u001b[39m'\u001b[39m\u001b[39mCountry\u001b[39m\u001b[39m'\u001b[39m,y\u001b[39m=\u001b[39m\u001b[39m'\u001b[39m\u001b[39mCases/pop\u001b[39m\u001b[39m'\u001b[39m,color\u001b[39m=\u001b[39m\u001b[39m'\u001b[39m\u001b[39mCountry\u001b[39m\u001b[39m'\u001b[39m,title\u001b[39m=\u001b[39m\u001b[39m'\u001b[39m\u001b[39mTop 20 Country confirmed cases over Population Percentage\u001b[39m\u001b[39m'\u001b[39m,template\u001b[39m=\u001b[39m\u001b[39m\"\u001b[39m\u001b[39mplotly_dark\u001b[39m\u001b[39m\"\u001b[39m,text_auto\u001b[39m=\u001b[39m\u001b[39m'\u001b[39m\u001b[39m.3f\u001b[39m\u001b[39m'\u001b[39m)\n",
            "\u001b[1;31mNameError\u001b[0m: name 'Cases_pop' is not defined"
          ]
        }
      ],
      "source": [
        "px.bar(Cases_pop,x='Country',y='Cases/pop',color='Country',title='Top 20 Country confirmed cases over Population Percentage',template=\"plotly_dark\",text_auto='.3f')"
      ]
    },
    {
      "cell_type": "code",
      "execution_count": 47,
      "metadata": {
        "colab": {
          "base_uri": "https://localhost:8080/",
          "height": 542
        },
        "id": "S7k7KznBmwYf",
        "outputId": "211ed99d-eb6f-442e-d904-9634ef7f3fc7"
      },
      "outputs": [
        {
          "ename": "NameError",
          "evalue": "name 'Recovered_confirmed' is not defined",
          "output_type": "error",
          "traceback": [
            "\u001b[1;31m---------------------------------------------------------------------------\u001b[0m",
            "\u001b[1;31mNameError\u001b[0m                                 Traceback (most recent call last)",
            "Cell \u001b[1;32mIn[47], line 1\u001b[0m\n\u001b[1;32m----> 1\u001b[0m px\u001b[39m.\u001b[39mbar(Recovered_confirmed,x\u001b[39m=\u001b[39m\u001b[39m'\u001b[39m\u001b[39mCountry\u001b[39m\u001b[39m'\u001b[39m,y\u001b[39m=\u001b[39m\u001b[39m'\u001b[39m\u001b[39mRecovered/confirmed\u001b[39m\u001b[39m'\u001b[39m,color\u001b[39m=\u001b[39m\u001b[39m'\u001b[39m\u001b[39mCountry\u001b[39m\u001b[39m'\u001b[39m,title\u001b[39m=\u001b[39m\u001b[39m'\u001b[39m\u001b[39mTop 20 Country Recovered over Confirmed Percentage\u001b[39m\u001b[39m'\u001b[39m,template\u001b[39m=\u001b[39m\u001b[39m\"\u001b[39m\u001b[39mplotly_dark\u001b[39m\u001b[39m\"\u001b[39m,text_auto\u001b[39m=\u001b[39m\u001b[39m'\u001b[39m\u001b[39m.3f\u001b[39m\u001b[39m'\u001b[39m)\n",
            "\u001b[1;31mNameError\u001b[0m: name 'Recovered_confirmed' is not defined"
          ]
        }
      ],
      "source": [
        "px.bar(Recovered_confirmed,x='Country',y='Recovered/confirmed',color='Country',title='Top 20 Country Recovered over Confirmed Percentage',template=\"plotly_dark\",text_auto='.3f')"
      ]
    },
    {
      "cell_type": "code",
      "execution_count": 48,
      "metadata": {
        "colab": {
          "base_uri": "https://localhost:8080/",
          "height": 542
        },
        "id": "r3rNh7YXmwYf",
        "outputId": "561eb32e-3537-419f-92cb-d9b40d8fdfdd"
      },
      "outputs": [
        {
          "ename": "NameError",
          "evalue": "name 'Active_confirmed' is not defined",
          "output_type": "error",
          "traceback": [
            "\u001b[1;31m---------------------------------------------------------------------------\u001b[0m",
            "\u001b[1;31mNameError\u001b[0m                                 Traceback (most recent call last)",
            "Cell \u001b[1;32mIn[48], line 1\u001b[0m\n\u001b[1;32m----> 1\u001b[0m px\u001b[39m.\u001b[39mbar(Active_confirmed,x\u001b[39m=\u001b[39m\u001b[39m'\u001b[39m\u001b[39mCountry\u001b[39m\u001b[39m'\u001b[39m,y\u001b[39m=\u001b[39m\u001b[39m'\u001b[39m\u001b[39mActive/confirmed\u001b[39m\u001b[39m'\u001b[39m,color\u001b[39m=\u001b[39m\u001b[39m'\u001b[39m\u001b[39mCountry\u001b[39m\u001b[39m'\u001b[39m,title\u001b[39m=\u001b[39m\u001b[39m'\u001b[39m\u001b[39mTop 20 Country Active over Confirmed Percentage\u001b[39m\u001b[39m'\u001b[39m,template\u001b[39m=\u001b[39m\u001b[39m\"\u001b[39m\u001b[39mplotly_dark\u001b[39m\u001b[39m\"\u001b[39m,text_auto\u001b[39m=\u001b[39m\u001b[39m'\u001b[39m\u001b[39m.3f\u001b[39m\u001b[39m'\u001b[39m)\n",
            "\u001b[1;31mNameError\u001b[0m: name 'Active_confirmed' is not defined"
          ]
        }
      ],
      "source": [
        "px.bar(Active_confirmed,x='Country',y='Active/confirmed',color='Country',title='Top 20 Country Active over Confirmed Percentage',template=\"plotly_dark\",text_auto='.3f')"
      ]
    },
    {
      "cell_type": "code",
      "execution_count": 49,
      "metadata": {
        "colab": {
          "base_uri": "https://localhost:8080/",
          "height": 542
        },
        "id": "ud7h1T0WmwYf",
        "outputId": "bcf3ceac-f6bf-4f18-dac6-54dea7337090"
      },
      "outputs": [
        {
          "ename": "NameError",
          "evalue": "name 'Deaths_confirmed' is not defined",
          "output_type": "error",
          "traceback": [
            "\u001b[1;31m---------------------------------------------------------------------------\u001b[0m",
            "\u001b[1;31mNameError\u001b[0m                                 Traceback (most recent call last)",
            "Cell \u001b[1;32mIn[49], line 1\u001b[0m\n\u001b[1;32m----> 1\u001b[0m px\u001b[39m.\u001b[39mbar(Deaths_confirmed,x\u001b[39m=\u001b[39m\u001b[39m'\u001b[39m\u001b[39mCountry\u001b[39m\u001b[39m'\u001b[39m,y\u001b[39m=\u001b[39m\u001b[39m'\u001b[39m\u001b[39mDeaths/confirmed\u001b[39m\u001b[39m'\u001b[39m,color\u001b[39m=\u001b[39m\u001b[39m'\u001b[39m\u001b[39mCountry\u001b[39m\u001b[39m'\u001b[39m,title\u001b[39m=\u001b[39m\u001b[39m'\u001b[39m\u001b[39mTop 20 Country Active over Confirmed Percentage\u001b[39m\u001b[39m'\u001b[39m,template\u001b[39m=\u001b[39m\u001b[39m\"\u001b[39m\u001b[39mplotly_dark\u001b[39m\u001b[39m\"\u001b[39m,text_auto\u001b[39m=\u001b[39m\u001b[39m'\u001b[39m\u001b[39m.3f\u001b[39m\u001b[39m'\u001b[39m)\n",
            "\u001b[1;31mNameError\u001b[0m: name 'Deaths_confirmed' is not defined"
          ]
        }
      ],
      "source": [
        "px.bar(Deaths_confirmed,x='Country',y='Deaths/confirmed',color='Country',title='Top 20 Country Active over Confirmed Percentage',template=\"plotly_dark\",text_auto='.3f')"
      ]
    },
    {
      "cell_type": "code",
      "execution_count": null,
      "metadata": {
        "id": "PkXHeLaumwYf"
      },
      "outputs": [],
      "source": []
    }
  ],
  "metadata": {
    "colab": {
      "provenance": []
    },
    "kernelspec": {
      "display_name": "Python 3",
      "language": "python",
      "name": "python3"
    },
    "language_info": {
      "codemirror_mode": {
        "name": "ipython",
        "version": 3
      },
      "file_extension": ".py",
      "mimetype": "text/x-python",
      "name": "python",
      "nbconvert_exporter": "python",
      "pygments_lexer": "ipython3",
      "version": "3.10.8"
    },
    "orig_nbformat": 4
  },
  "nbformat": 4,
  "nbformat_minor": 0
}
